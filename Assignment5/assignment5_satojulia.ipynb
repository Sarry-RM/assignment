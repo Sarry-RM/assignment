{
 "cells": [
  {
   "cell_type": "markdown",
   "id": "2c9ec1c9",
   "metadata": {},
   "source": [
    "## 課題1\n",
    "\n",
    "以下の「スイカ割りゲーム」プログラムをクラスの形に整理しなさい。\n"
   ]
  },
  {
   "cell_type": "code",
   "execution_count": 56,
   "id": "a4f408a2",
   "metadata": {},
   "outputs": [],
   "source": [
    "import random\n",
    "import math\n",
    "\n",
    "\n",
    "class WatermelonHunt:\n",
    "    def __init__(self, board_size):\n",
    "        self.board_size = board_size\n",
    "\n",
    "    def generate_position(self):\n",
    "        # スイカとプレイヤーの初期位置をランダムに生成\n",
    "        return (random.randrange(0, self.board_size), random.randrange(0, self.board_size))\n",
    "\n",
    "    def determine_move(player_pos, target_pos):\n",
    "        # スイカに向かってプレイヤーを移動させる方向を決定\n",
    "        current_x, current_y = player_pos\n",
    "        target_x, target_y = target_pos\n",
    "\n",
    "        move_x = 1 if current_x < target_x else -1 if current_x > target_x else 0\n",
    "        move_y = 1 if current_y < target_y else -1 if current_y > target_y else 0\n",
    "\n",
    "        return (move_x, move_y)\n",
    "\n",
    "    def move_player(player_pos, move_x, move_y):\n",
    "        # プレイヤーの位置を更新\n",
    "        new_x = player_pos[0] + move_x\n",
    "        new_y = player_pos[1] + move_y\n",
    "        return (new_x, new_y)\n",
    "\n",
    "    def play_game(self):\n",
    "        suika_pos = generate_position(self.board_size)\n",
    "        player_pos = generate_position(self.board_size)\n",
    "        while suika_pos != player_pos:\n",
    "            move_x, move_y = determine_move(player_pos, suika_pos)\n",
    "            player_pos = move_player(player_pos, move_x, move_y)\n",
    "            print(\"プレイヤーが移動しました:\", player_pos)\n",
    "\n",
    "        print(\"スイカを見つけました！\")\n"
   ]
  },
  {
   "cell_type": "code",
   "execution_count": 55,
   "id": "b7567aea",
   "metadata": {},
   "outputs": [
    {
     "name": "stdout",
     "output_type": "stream",
     "text": [
      "プレイヤーが移動しました: (7, 2)\n",
      "プレイヤーが移動しました: (6, 2)\n",
      "プレイヤーが移動しました: (5, 2)\n",
      "プレイヤーが移動しました: (4, 2)\n",
      "プレイヤーが移動しました: (3, 2)\n",
      "プレイヤーが移動しました: (2, 2)\n",
      "スイカを見つけました！\n"
     ]
    }
   ],
   "source": [
    "game = WatermelonHunt(board_size=10)\n",
    "game.play_game()"
   ]
  },
  {
   "cell_type": "code",
   "execution_count": null,
   "id": "fc0b1573",
   "metadata": {},
   "outputs": [],
   "source": []
  }
 ],
 "metadata": {
  "kernelspec": {
   "display_name": "chss",
   "language": "python",
   "name": "python3"
  },
  "language_info": {
   "codemirror_mode": {
    "name": "ipython",
    "version": 3
   },
   "file_extension": ".py",
   "mimetype": "text/x-python",
   "name": "python",
   "nbconvert_exporter": "python",
   "pygments_lexer": "ipython3",
   "version": "3.10.16"
  }
 },
 "nbformat": 4,
 "nbformat_minor": 5
}
