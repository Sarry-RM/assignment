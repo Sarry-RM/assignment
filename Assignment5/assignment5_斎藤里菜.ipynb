{
  "cells": [
    {
      "cell_type": "markdown",
      "id": "2c9ec1c9",
      "metadata": {
        "id": "2c9ec1c9"
      },
      "source": [
        "## 課題1\n",
        "\n",
        "以下の「スイカ割りゲーム」プログラムをクラスの形に整理しなさい。\n"
      ]
    },
    {
      "cell_type": "code",
      "execution_count": 2,
      "id": "a4f408a2",
      "metadata": {
        "id": "a4f408a2",
        "outputId": "13b7c75d-d44a-44a2-a435-ec3b9d1fac84",
        "colab": {
          "base_uri": "https://localhost:8080/"
        }
      },
      "outputs": [
        {
          "output_type": "stream",
          "name": "stdout",
          "text": [
            "プレイヤーが移動しました: (1, 3)\n",
            "プレイヤーが移動しました: (1, 4)\n",
            "スイカを見つけました！\n"
          ]
        }
      ],
      "source": [
        "import random #ランダムモジュールを読み込み（ランダムな数字を作れるようになる）\n",
        "import math\n",
        "\n",
        "BOARD_SIZE = 5  # ボードサイズを定義(5*5)\n",
        "\n",
        "\n",
        "def generate_position(board_size): # generate_positionという名前の「関数」を作成\n",
        "    # スイカとプレイヤーの初期位置をランダムに生成\n",
        "    return (random.randrange(0, board_size), random.randrange(0, board_size))\n",
        "    #0からboard_size-1（今回は0〜4）までの整数をランダムに2つ作り、それを（(x, y)の形）にする\n",
        "\n",
        "def determine_move(player_pos, target_pos):\n",
        "  #determine_moveという名前の関数を作る。\n",
        "  #「今のプレイヤーの位置」と「スイカの位置」を受け取り、「どの方向に1歩動くべきか」を計算\n",
        "    # スイカに向かってプレイヤーを移動させる方向を決定\n",
        "    current_x, current_y = player_pos #プレイヤーの位置をx座標とy座標に分けて変数に入れる\n",
        "    target_x, target_y = target_pos\n",
        "\n",
        "    move_x = 1 if current_x < target_x else -1 if current_x > target_x else 0\n",
        "    # プレイヤーのx座標がスイカのx座標より小さければ「右に1歩進む（+1）」、大きければ「左に1歩戻る（-1）」、同じなら「動かない（0）」を決定\n",
        "    move_y = 1 if current_y < target_y else -1 if current_y > target_y else 0\n",
        "\n",
        "    return (move_x, move_y)\n",
        "\n",
        "def move_player(player_pos, move_x, move_y):\n",
        "    # プレイヤーの位置を更新\n",
        "    new_x = player_pos[0] + move_x\n",
        "    new_y = player_pos[1] + move_y\n",
        "    return (new_x, new_y)\n",
        "\n",
        "def play_game(board_size):\n",
        "   suika_pos = generate_position(board_size)  #スイカのランダムな位置を決める\n",
        "    player_pos = generate_position(board_size)  #プレイヤーのランダムな位置を決める\n",
        "\n",
        "    while suika_pos != player_pos:  #プレイヤーがスイカに向かって1マスずつ移動\n",
        "        move_x, move_y = determine_move(player_pos, suika_pos) #スイカの方向を調べる\n",
        "        player_pos = move_player(player_pos, move_x, move_y) #その方向に一歩進む\n",
        "        print(\"プレイヤーが移動しました:\", player_pos)\n",
        "\n",
        "    print(\"スイカを見つけました！\")\n",
        "\n",
        "# ゲームを開始\n",
        "play_game(BOARD_SIZE)"
      ]
    },
    {
      "cell_type": "code",
      "execution_count": 1,
      "id": "b7567aea",
      "metadata": {
        "id": "b7567aea",
        "colab": {
          "base_uri": "https://localhost:8080/"
        },
        "outputId": "d0f2da5f-5e34-42aa-cad3-7f3893039668"
      },
      "outputs": [
        {
          "output_type": "stream",
          "name": "stdout",
          "text": [
            "ゲームスタート！\n",
            "スイカの位置: (1, 4)\n",
            "プレイヤーの初期位置: (0, 3)\n",
            "プレイヤーが移動しました: (1, 4)\n",
            "スイカを見つけました！\n"
          ]
        }
      ],
      "source": [
        "import random\n",
        "\n",
        "class SuikaGame: #クラスを創る\n",
        "    def __init__(self, board_size=5): #ボードのサイズを決める\n",
        "        self.board_size = board_size\n",
        "        self.suika_pos = self.generate_position() #スイカの初期位置決める\n",
        "        self.player_pos = self.generate_position()\n",
        "\n",
        "    def generate_position(self):\n",
        "        # ランダムな位置を生成\n",
        "        return (random.randrange(0, self.board_size), random.randrange(0, self.board_size))\n",
        "\n",
        "    def determine_move(self):\n",
        "        # プレイヤーがスイカに向かって移動する方向を決定\n",
        "        current_x, current_y = self.player_pos #今のプレイヤーの位置\n",
        "        target_x, target_y = self.suika_pos #今のスイカの位置\n",
        "\n",
        "        move_x = 1 if current_x < target_x else -1 if current_x > target_x else 0\n",
        "        move_y = 1 if current_y < target_y else -1 if current_y > target_y else 0\n",
        "\n",
        "        return (move_x, move_y) #プレイヤーが移動した量\n",
        "\n",
        "    def move_player(self, move_x, move_y):\n",
        "        # プレイヤーの位置を更新\n",
        "        new_x = self.player_pos[0] + move_x\n",
        "        new_y = self.player_pos[1] + move_y\n",
        "        self.player_pos = (new_x, new_y)\n",
        "        print(\"プレイヤーが移動しました:\", self.player_pos)\n",
        "\n",
        "    def play(self):\n",
        "        # ゲーム開始 スイカを見つけるまでループさせる\n",
        "        print(\"ゲームスタート！\")\n",
        "        print(\"スイカの位置:\", self.suika_pos)\n",
        "        print(\"プレイヤーの初期位置:\", self.player_pos)\n",
        "\n",
        "        while self.player_pos != self.suika_pos:\n",
        "            move_x, move_y = self.determine_move()\n",
        "            self.move_player(move_x, move_y)\n",
        "\n",
        "        print(\"スイカを見つけました！\")\n",
        "\n",
        "game = SuikaGame()\n",
        "game.play()\n"
      ]
    },
    {
      "cell_type": "code",
      "execution_count": null,
      "id": "231d4f63",
      "metadata": {
        "id": "231d4f63"
      },
      "outputs": [],
      "source": []
    },
    {
      "cell_type": "code",
      "execution_count": null,
      "id": "0b25a4f7",
      "metadata": {
        "id": "0b25a4f7"
      },
      "outputs": [],
      "source": []
    }
  ],
  "metadata": {
    "kernelspec": {
      "display_name": "base",
      "language": "python",
      "name": "python3"
    },
    "language_info": {
      "codemirror_mode": {
        "name": "ipython",
        "version": 3
      },
      "file_extension": ".py",
      "mimetype": "text/x-python",
      "name": "python",
      "nbconvert_exporter": "python",
      "pygments_lexer": "ipython3",
      "version": "3.11.5"
    },
    "colab": {
      "provenance": []
    }
  },
  "nbformat": 4,
  "nbformat_minor": 5
}