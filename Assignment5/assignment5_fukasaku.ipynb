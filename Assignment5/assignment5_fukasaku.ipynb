{
  "cells": [
    {
      "cell_type": "markdown",
      "metadata": {
        "id": "view-in-github",
        "colab_type": "text"
      },
      "source": [
        "<a href=\"https://colab.research.google.com/github/FukasakuRino/chss_2025_assignment/blob/rino/assignment5_fukasaku.ipynb\" target=\"_parent\"><img src=\"https://colab.research.google.com/assets/colab-badge.svg\" alt=\"Open In Colab\"/></a>"
      ]
    },
    {
      "cell_type": "markdown",
      "id": "2c9ec1c9",
      "metadata": {
        "id": "2c9ec1c9"
      },
      "source": [
        "## 課題1\n",
        "\n",
        "以下の「スイカ割りゲーム」プログラムをクラスの形に整理しなさい。\n"
      ]
    },
    {
      "cell_type": "code",
      "execution_count": 13,
      "id": "a4f408a2",
      "metadata": {
        "id": "a4f408a2",
        "outputId": "49f9f705-881c-4a12-83dd-9a7571f6b0de",
        "colab": {
          "base_uri": "https://localhost:8080/"
        }
      },
      "outputs": [
        {
          "output_type": "stream",
          "name": "stdout",
          "text": [
            "プレイヤーが移動しました: (2, 2)\n",
            "プレイヤーが移動しました: (3, 2)\n",
            "スイカを見つけました！\n"
          ]
        }
      ],
      "source": [
        "import random\n",
        "import math\n",
        "\n",
        "BOARD_SIZE = 5  # ボードサイズを定義\n",
        "\n",
        "def generate_position(board_size):\n",
        "    # スイカとプレイヤーの初期位置をランダムに生成\n",
        "    return (random.randrange(0, board_size), random.randrange(0, board_size))\n",
        "\n",
        "def determine_move(player_pos, target_pos):\n",
        "    # スイカに向かってプレイヤーを移動させる方向を決定\n",
        "    current_x, current_y = player_pos\n",
        "    target_x, target_y = target_pos\n",
        "\n",
        "    move_x = 1 if current_x < target_x else -1 if current_x > target_x else 0\n",
        "    move_y = 1 if current_y < target_y else -1 if current_y > target_y else 0\n",
        "\n",
        "    return (move_x, move_y)\n",
        "\n",
        "def move_player(player_pos, move_x, move_y):\n",
        "    # プレイヤーの位置を更新\n",
        "    new_x = player_pos[0] + move_x\n",
        "    new_y = player_pos[1] + move_y\n",
        "    return (new_x, new_y)\n",
        "\n",
        "def play_game(board_size):\n",
        "    suika_pos = generate_position(board_size)\n",
        "    player_pos = generate_position(board_size)\n",
        "\n",
        "    while suika_pos != player_pos:\n",
        "        move_x, move_y = determine_move(player_pos, suika_pos)\n",
        "        player_pos = move_player(player_pos, move_x, move_y)\n",
        "        print(\"プレイヤーが移動しました:\", player_pos)\n",
        "\n",
        "    print(\"スイカを見つけました！\")\n",
        "\n",
        "# ゲームを開始\n",
        "play_game(BOARD_SIZE)"
      ]
    },
    {
      "cell_type": "code",
      "execution_count": null,
      "id": "b7567aea",
      "metadata": {
        "id": "b7567aea"
      },
      "outputs": [],
      "source": [
        "#game = WatermelonHunt(board_size=10)\n",
        "#game.play_game()"
      ]
    },
    {
      "cell_type": "code",
      "execution_count": 14,
      "id": "231d4f63",
      "metadata": {
        "id": "231d4f63",
        "colab": {
          "base_uri": "https://localhost:8080/"
        },
        "outputId": "da1759a2-4492-425b-ddcc-793e85bc7289"
      },
      "outputs": [
        {
          "output_type": "stream",
          "name": "stdout",
          "text": [
            "ゲーム開始！ボードサイズ: 5x5\n",
            "スイカの位置: (2, 1)\n",
            "プレイヤーの位置: (2, 4)\n",
            "--------------------\n",
            "--- ターン 1 ---\n",
            "プレイヤーが移動しました: (2, 3)\n",
            "--- ターン 2 ---\n",
            "プレイヤーが移動しました: (2, 2)\n",
            "--- ターン 3 ---\n",
            "プレイヤーが移動しました: (2, 1)\n",
            "--------------------\n",
            "スイカを見つけました！\n",
            "ゲームクリア！ 最終ターン数: 3\n"
          ]
        }
      ],
      "source": [
        "import random\n",
        "import math\n",
        "\n",
        "class WatermelonHunt:\n",
        "    def __init__(self, board_size):\n",
        "        self.board_size = board_size\n",
        "        self.suika_pos = self.generate_position()\n",
        "        self.player_pos = self.generate_position()\n",
        "\n",
        "        print(f\"ゲーム開始！ボードサイズ: {self.board_size}x{self.board_size}\")\n",
        "        print(f\"スイカの位置: {self.suika_pos}\")\n",
        "        print(f\"プレイヤーの位置: {self.player_pos}\")\n",
        "        print(\"-\" * 20)\n",
        "\n",
        "    def generate_position(self):\n",
        "        x = random.randint(0, self.board_size - 1)\n",
        "        y = random.randint(0, self.board_size - 1)\n",
        "        return (x, y)\n",
        "\n",
        "    def determine_move(self):\n",
        "        current_x, current_y = self.player_pos\n",
        "        target_x, target_y = self.suika_pos\n",
        "\n",
        "        move_x = 1 if current_x < target_x else -1 if current_x > target_x else 0\n",
        "        move_y = 1 if current_y < target_y else -1 if current_y > target_y else 0\n",
        "\n",
        "        return (move_x, move_y)\n",
        "\n",
        "    def move_player(self, move_x, move_y):\n",
        "        new_x = self.player_pos[0] + move_x\n",
        "        new_y = self.player_pos[1] + move_y\n",
        "        self.player_pos = (new_x, new_y)\n",
        "\n",
        "    def play_game(self):\n",
        "        turn = 1\n",
        "        while self.player_pos != self.suika_pos:\n",
        "            print(f\"--- ターン {turn} ---\")\n",
        "            move_x, move_y = self.determine_move()\n",
        "            self.move_player(move_x, move_y)\n",
        "\n",
        "            print(f\"プレイヤーが移動しました: {self.player_pos}\")\n",
        "            turn += 1\n",
        "\n",
        "        print(\"-\" * 20)\n",
        "        print(\"スイカを見つけました！\")\n",
        "        print(f\"ゲームクリア！ 最終ターン数: {turn - 1}\")\n",
        "\n",
        "if __name__ == \"__main__\":\n",
        "      BOARD_SIZE = 10\n",
        "      game = WatermelonHunt(board_size=BOARD_SIZE)\n",
        "      game.play_game()"
      ]
    },
    {
      "cell_type": "code",
      "execution_count": null,
      "id": "0b25a4f7",
      "metadata": {
        "id": "0b25a4f7"
      },
      "outputs": [],
      "source": []
    }
  ],
  "metadata": {
    "kernelspec": {
      "display_name": "base",
      "language": "python",
      "name": "python3"
    },
    "language_info": {
      "codemirror_mode": {
        "name": "ipython",
        "version": 3
      },
      "file_extension": ".py",
      "mimetype": "text/x-python",
      "name": "python",
      "nbconvert_exporter": "python",
      "pygments_lexer": "ipython3",
      "version": "3.11.5"
    },
    "colab": {
      "provenance": [],
      "include_colab_link": true
    }
  },
  "nbformat": 4,
  "nbformat_minor": 5
}
