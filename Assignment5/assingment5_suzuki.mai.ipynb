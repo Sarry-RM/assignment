{
 "cells": [
  {
   "cell_type": "markdown",
   "id": "2c9ec1c9",
   "metadata": {},
   "source": [
    "## 課題1\n",
    "\n",
    "以下の「スイカ割りゲーム」プログラムをクラスの形に整理しなさい。\n"
   ]
  },
  {
   "cell_type": "code",
   "execution_count": 3,
   "id": "a4f408a2",
   "metadata": {},
   "outputs": [
    {
     "name": "stdout",
     "output_type": "stream",
     "text": [
      "プレイヤーが移動しました: (1, 3)\n",
      "プレイヤーが移動しました: (2, 2)\n",
      "プレイヤーが移動しました: (2, 1)\n",
      "スイカを見つけました！\n"
     ]
    }
   ],
   "source": [
    "import random\n",
    "import math\n",
    "\n",
    "BOARD_SIZE = 5  # ボードサイズを定義\n",
    "\n",
    "def generate_position(board_size):\n",
    "    # スイカとプレイヤーの初期位置をランダムに生成\n",
    "    return (random.randrange(0, board_size), random.randrange(0, board_size))\n",
    "\n",
    "def determine_move(player_pos, target_pos):\n",
    "    # スイカに向かってプレイヤーを移動させる方向を決定\n",
    "    current_x, current_y = player_pos\n",
    "    target_x, target_y = target_pos\n",
    "\n",
    "    move_x = 1 if current_x < target_x else -1 if current_x > target_x else 0\n",
    "    move_y = 1 if current_y < target_y else -1 if current_y > target_y else 0\n",
    "\n",
    "    return (move_x, move_y)\n",
    "\n",
    "def move_player(player_pos, move_x, move_y):\n",
    "    # プレイヤーの位置を更新\n",
    "    new_x = player_pos[0] + move_x\n",
    "    new_y = player_pos[1] + move_y\n",
    "    return (new_x, new_y)\n",
    "\n",
    "def play_game(board_size):\n",
    "    suika_pos = generate_position(board_size)\n",
    "    player_pos = generate_position(board_size)\n",
    "\n",
    "    while suika_pos != player_pos:\n",
    "        move_x, move_y = determine_move(player_pos, suika_pos)\n",
    "        player_pos = move_player(player_pos, move_x, move_y)\n",
    "        print(\"プレイヤーが移動しました:\", player_pos)\n",
    "\n",
    "    print(\"スイカを見つけました！\")\n",
    "\n",
    "# ゲームを開始\n",
    "play_game(BOARD_SIZE)"
   ]
  },
  {
   "cell_type": "code",
   "execution_count": null,
   "id": "de9a01df",
   "metadata": {},
   "outputs": [
    {
     "name": "stdout",
     "output_type": "stream",
     "text": [
      "プレイヤーが移動しました: (1, 3)\n",
      "プレイヤーが移動しました: (2, 2)\n",
      "プレイヤーが移動しました: (2, 1)\n",
      "スイカを見つけました！\n"
     ]
    }
   ],
   "source": [
    "import random\n",
    "import math\n",
    "\n",
    "BOARD_SIZE = 5  # ボードサイズを定義\n",
    "\n",
    "def generate_position(board_size):\n",
    "    # スイカとプレイヤーの初期位置をランダムに生成\n",
    "    return (random.randrange(0, board_size), random.randrange(0, board_size))\n",
    "\n",
    "def determine_move(player_pos, target_pos):\n",
    "    # スイカに向かってプレイヤーを移動させる方向を決定\n",
    "    current_x, current_y = player_pos\n",
    "    target_x, target_y = target_pos\n",
    "\n",
    "    move_x = 1 if current_x < target_x else -1 if current_x > target_x else 0\n",
    "    move_y = 1 if current_y < target_y else -1 if current_y > target_y else 0\n",
    "\n",
    "    return (move_x, move_y)\n",
    "\n",
    "def move_player(player_pos, move_x, move_y):\n",
    "    # プレイヤーの位置を更新\n",
    "    new_x = player_pos[0] + move_x\n",
    "    new_y = player_pos[1] + move_y\n",
    "    return (new_x, new_y)\n",
    "\n",
    "def play_game(board_size):\n",
    "    suika_pos = generate_position(board_size)\n",
    "    player_pos = generate_position(board_size)\n",
    "\n",
    "    while suika_pos != player_pos:\n",
    "        move_x, move_y = determine_move(player_pos, suika_pos)\n",
    "        player_pos = move_player(player_pos, move_x, move_y)\n",
    "        print(\"プレイヤーが移動しました:\", player_pos)\n",
    "\n",
    "    print(\"スイカを見つけました！\")\n",
    "\n",
    "# ゲームを開始\n",
    "play_game(BOARD_SIZE)"
   ]
  },
  {
   "cell_type": "code",
   "execution_count": 3,
   "id": "be9fe643",
   "metadata": {},
   "outputs": [],
   "source": [
    "import random\n",
    "\n",
    "class WatermelonHunt:\n",
    "    def __init__(self, board_size=5):\n",
    "        \"\"\"ゲーム全体を管理するクラス\"\"\"\n",
    "        self.board_size = board_size\n",
    "        self.suika_pos = self.generate_position()\n",
    "        self.player_pos = self.generate_position()\n",
    "\n",
    "    def generate_position(self):\n",
    "        \"\"\"スイカとプレイヤーの初期位置をランダムに生成\"\"\"\n",
    "        return (random.randrange(0, self.board_size), random.randrange(0, self.board_size))\n",
    "\n",
    "    def determine_move(self):\n",
    "        \"\"\"プレイヤーがスイカに向かって移動する方向を決定\"\"\"\n",
    "        current_x, current_y = self.player_pos\n",
    "        target_x, target_y = self.suika_pos\n",
    "\n",
    "        move_x = 1 if current_x < target_x else -1 if current_x > target_x else 0\n",
    "        move_y = 1 if current_y < target_y else -1 if current_y > target_y else 0\n",
    "\n",
    "        return move_x, move_y\n",
    "\n",
    "    def move_player(self, move_x, move_y):\n",
    "        \"\"\"プレイヤーの位置を更新\"\"\"\n",
    "        current_x, current_y = self.player_pos\n",
    "        self.player_pos = (current_x + move_x, current_y + move_y)\n",
    "\n",
    "    def play_game(self):\n",
    "        \"\"\"ゲームを実行\"\"\"\n",
    "        print(f\"開始: スイカ = {self.suika_pos}, プレイヤー = {self.player_pos}\")\n",
    "        while self.player_pos != self.suika_pos:\n",
    "            move_x, move_y = self.determine_move()\n",
    "            self.move_player(move_x, move_y)\n",
    "            print(\"プレイヤーが移動しました:\", self.player_pos)\n",
    "        print(\"スイカを見つけました！\")\n",
    "\n",
    "\n"
   ]
  },
  {
   "cell_type": "code",
   "execution_count": 5,
   "id": "b7567aea",
   "metadata": {},
   "outputs": [
    {
     "name": "stdout",
     "output_type": "stream",
     "text": [
      "開始: スイカ = (4, 0), プレイヤー = (0, 3)\n",
      "プレイヤーが移動しました: (1, 2)\n",
      "プレイヤーが移動しました: (2, 1)\n",
      "プレイヤーが移動しました: (3, 0)\n",
      "プレイヤーが移動しました: (4, 0)\n",
      "スイカを見つけました！\n"
     ]
    }
   ],
   "source": [
    "game = WatermelonHunt(board_size=10)\n",
    "game.play_game()"
   ]
  },
  {
   "cell_type": "code",
   "execution_count": null,
   "id": "231d4f63",
   "metadata": {},
   "outputs": [
    {
     "ename": "",
     "evalue": "",
     "output_type": "error",
     "traceback": [
      "\u001b[1;31mRunning cells with 'base (Python 3.13.2)' requires the ipykernel package.\n",
      "\u001b[1;31m<a href='command:jupyter.createPythonEnvAndSelectController'>Create a Python Environment</a> with the required packages.\n",
      "\u001b[1;31mOr install 'ipykernel' using the command: 'conda install -n base ipykernel --update-deps --force-reinstall'"
     ]
    }
   ],
   "source": [
    "import random\n",
    "import math\n",
    "\n",
    "BOARD_SIZE = 5  # ボードサイズを定義\n",
    "\n",
    "def calc_distance(pos1, pos2):\n",
    "    # 二点間のユークリッド距離を計算\n",
    "    diff_x = pos1[0] - pos2[0]\n",
    "    diff_y = pos1[1] - pos2[1]\n",
    "    return math.sqrt(diff_x**2 + diff_y**2)\n",
    "\n",
    "pos1=(1,1)\n",
    "pos2=(2,2)\n",
    "\n",
    "calc_distance(pos1, pos2)"
   ]
  },
  {
   "cell_type": "code",
   "execution_count": null,
   "id": "0b25a4f7",
   "metadata": {},
   "outputs": [],
   "source": []
  }
 ],
 "metadata": {
  "kernelspec": {
   "display_name": "base",
   "language": "python",
   "name": "python3"
  },
  "language_info": {
   "codemirror_mode": {
    "name": "ipython",
    "version": 3
   },
   "file_extension": ".py",
   "mimetype": "text/x-python",
   "name": "python",
   "nbconvert_exporter": "python",
   "pygments_lexer": "ipython3",
   "version": "3.13.2"
  }
 },
 "nbformat": 4,
 "nbformat_minor": 5
}
