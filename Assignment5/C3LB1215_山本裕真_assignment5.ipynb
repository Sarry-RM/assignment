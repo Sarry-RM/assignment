{
  "cells": [
    {
      "cell_type": "markdown",
      "id": "2c9ec1c9",
      "metadata": {
        "id": "2c9ec1c9"
      },
      "source": [
        "## 課題1\n",
        "\n",
        "以下の「スイカ割りゲーム」プログラムをクラスの形に整理しなさい。\n"
      ]
    },
    {
      "cell_type": "code",
      "execution_count": null,
      "id": "a4f408a2",
      "metadata": {
        "id": "a4f408a2"
      },
      "outputs": [],
      "source": [
        "import random\n",
        "import math\n",
        "\n",
        "BOARD_SIZE = 5  # ボードサイズを定義\n",
        "\n",
        "def generate_position(board_size):\n",
        "    # スイカとプレイヤーの初期位置をランダムに生成\n",
        "    return (random.randrange(0, board_size), random.randrange(0, board_size))\n",
        "\n",
        "def determine_move(player_pos, target_pos):\n",
        "    # スイカに向かってプレイヤーを移動させる方向を決定\n",
        "    current_x, current_y = player_pos\n",
        "    target_x, target_y = target_pos\n",
        "\n",
        "    move_x = 1 if current_x < target_x else -1 if current_x > target_x else 0\n",
        "    move_y = 1 if current_y < target_y else -1 if current_y > target_y else 0\n",
        "\n",
        "    return (move_x, move_y)\n",
        "\n",
        "def move_player(player_pos, move_x, move_y):\n",
        "    # プレイヤーの位置を更新\n",
        "    new_x = player_pos[0] + move_x\n",
        "    new_y = player_pos[1] + move_y\n",
        "    return (new_x, new_y)\n",
        "\n",
        "def play_game(board_size):\n",
        "    suika_pos = generate_position(board_size)\n",
        "    player_pos = generate_position(board_size)\n",
        "\n",
        "    while suika_pos != player_pos:\n",
        "        move_x, move_y = determine_move(player_pos, suika_pos)\n",
        "        player_pos = move_player(player_pos, move_x, move_y)\n",
        "        print(\"プレイヤーが移動しました:\", player_pos)\n",
        "\n",
        "    print(\"スイカを見つけました！\")\n",
        "\n",
        "# ゲームを開始\n",
        "# play_game(BOARD_SIZE)"
      ]
    },
    {
      "cell_type": "markdown",
      "source": [
        "### **クラスを使って書き換えた結果：**"
      ],
      "metadata": {
        "id": "ilG2ROQI4oKU"
      },
      "id": "ilG2ROQI4oKU"
    },
    {
      "cell_type": "code",
      "source": [
        "import random\n",
        "import math\n",
        "\n",
        "class WatermelonHunt:\n",
        "    def __init__(self, board_size=5):\n",
        "\n",
        "        self.board_size = board_size\n",
        "        # クラスのメソッド generate_position() をここで参照\n",
        "        # クラス作成時にスイカ・プレイヤー座標の属性を用意しておく\n",
        "        self.suika_pos = None\n",
        "        self.player_pos = None\n",
        "\n",
        "    def generate_position(self):\n",
        "        # ランダムに座標を生成\n",
        "        return (random.randrange(0, self.board_size), random.randrange(0, self.board_size))\n",
        "\n",
        "    def determine_move(self):\n",
        "        #移動方向を決定\n",
        "        current_x, current_y = self.player_pos\n",
        "        target_x, target_y = self.suika_pos\n",
        "        move_x = 1 if current_x < target_x else -1 if current_x > target_x else 0\n",
        "        move_y = 1 if current_y < target_y else -1 if current_y > target_y else 0\n",
        "        return (move_x, move_y)\n",
        "\n",
        "    def move_player(self, move_x, move_y):\n",
        "        # 与えられた移動情報をもとに、プレイヤーの新たな位置を返す\n",
        "        new_x = self.player_pos[0] + move_x\n",
        "        new_y = self.player_pos[1] + move_y\n",
        "        return (new_x, new_y)\n",
        "\n",
        "    def play_game(self):\n",
        "        # ゲーム起動\n",
        "        # 起動時にスイカ・プレイヤーの座標を再設定する\n",
        "        self.suika_pos = self.generate_position()\n",
        "        self.player_pos = self.generate_position()\n",
        "\n",
        "        while self.suika_pos != self.player_pos:\n",
        "            move_x, move_y = self.determine_move()\n",
        "            self.player_pos = self.move_player(move_x, move_y)\n",
        "            print(\"プレイヤーが移動しました\", self.player_pos)\n",
        "        print(\"スイカを見つけました！\")\n",
        "\n"
      ],
      "metadata": {
        "id": "vEO1G7pk0nDf"
      },
      "id": "vEO1G7pk0nDf",
      "execution_count": 21,
      "outputs": []
    },
    {
      "cell_type": "code",
      "execution_count": 24,
      "id": "b7567aea",
      "metadata": {
        "id": "b7567aea",
        "colab": {
          "base_uri": "https://localhost:8080/"
        },
        "outputId": "2cd43eb3-2889-4801-f0b0-0258a08463f7"
      },
      "outputs": [
        {
          "output_type": "stream",
          "name": "stdout",
          "text": [
            "プレイヤーが移動しました (8, 6)\n",
            "プレイヤーが移動しました (7, 5)\n",
            "プレイヤーが移動しました (6, 4)\n",
            "プレイヤーが移動しました (5, 3)\n",
            "プレイヤーが移動しました (4, 3)\n",
            "プレイヤーが移動しました (3, 3)\n",
            "プレイヤーが移動しました (2, 3)\n",
            "プレイヤーが移動しました (1, 3)\n",
            "スイカを見つけました！\n"
          ]
        }
      ],
      "source": [
        "game = WatermelonHunt(board_size=10)\n",
        "game.play_game()"
      ]
    }
  ],
  "metadata": {
    "kernelspec": {
      "display_name": "base",
      "language": "python",
      "name": "python3"
    },
    "language_info": {
      "codemirror_mode": {
        "name": "ipython",
        "version": 3
      },
      "file_extension": ".py",
      "mimetype": "text/x-python",
      "name": "python",
      "nbconvert_exporter": "python",
      "pygments_lexer": "ipython3",
      "version": "3.11.5"
    },
    "colab": {
      "provenance": []
    }
  },
  "nbformat": 4,
  "nbformat_minor": 5
}