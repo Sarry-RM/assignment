{
 "cells": [
  {
   "cell_type": "markdown",
   "id": "2c9ec1c9",
   "metadata": {},
   "source": [
    "## 課題1\n",
    "\n",
    "以下の「スイカ割りゲーム」プログラムをクラスの形に整理しなさい。\n"
   ]
  },
  {
   "cell_type": "code",
   "execution_count": 3,
   "id": "a4f408a2",
   "metadata": {},
   "outputs": [
    {
     "name": "stdout",
     "output_type": "stream",
     "text": [
      "プレイヤーが移動しました: (1, 3)\n",
      "プレイヤーが移動しました: (2, 2)\n",
      "プレイヤーが移動しました: (2, 1)\n",
      "スイカを見つけました！\n"
     ]
    }
   ],
   "source": [
    "import random\n",
    "import math\n",
    "\n",
    "BOARD_SIZE = 5  # ボードサイズを定義\n",
    "\n",
    "def generate_position(board_size):\n",
    "    # スイカとプレイヤーの初期位置をランダムに生成\n",
    "    return (random.randrange(0, board_size), random.randrange(0, board_size))\n",
    "\n",
    "def determine_move(player_pos, target_pos):\n",
    "    # スイカに向かってプレイヤーを移動させる方向を決定\n",
    "    current_x, current_y = player_pos\n",
    "    target_x, target_y = target_pos\n",
    "\n",
    "    move_x = 1 if current_x < target_x else -1 if current_x > target_x else 0\n",
    "    move_y = 1 if current_y < target_y else -1 if current_y > target_y else 0\n",
    "\n",
    "    return (move_x, move_y)\n",
    "\n",
    "def move_player(player_pos, move_x, move_y):\n",
    "    # プレイヤーの位置を更新\n",
    "    new_x = player_pos[0] + move_x\n",
    "    new_y = player_pos[1] + move_y\n",
    "    return (new_x, new_y)\n",
    "\n",
    "def play_game(board_size):\n",
    "    suika_pos = generate_position(board_size)\n",
    "    player_pos = generate_position(board_size)\n",
    "\n",
    "    while suika_pos != player_pos:\n",
    "        move_x, move_y = determine_move(player_pos, suika_pos)\n",
    "        player_pos = move_player(player_pos, move_x, move_y)\n",
    "        print(\"プレイヤーが移動しました:\", player_pos)\n",
    "\n",
    "    print(\"スイカを見つけました！\")\n",
    "\n",
    "# ゲームを開始\n",
    "play_game(BOARD_SIZE)"
   ]
  },
  {
   "cell_type": "code",
   "execution_count": 4,
   "id": "b7567aea",
   "metadata": {},
   "outputs": [],
   "source": [
    "#game = WatermelonHunt(board_size=10)\n",
    "#game.play_game()"
   ]
  },
  {
   "cell_type": "code",
   "execution_count": 5,
   "id": "231d4f63",
   "metadata": {},
   "outputs": [],
   "source": [
    "import random\n",
    "\n",
    "class WatermelonHunt:\n",
    "    def __init__(self, board_size):\n",
    "        self.board_size = board_size\n",
    "        self.suika_pos = self.generate_position()\n",
    "        self.player_pos = self.generate_position()\n",
    "\n",
    "    def generate_position(self):\n",
    "        return (random.randrange(0, self.board_size),\n",
    "                random.randrange(0, self.board_size))\n",
    "\n",
    "    def determine_move(self):\n",
    "        current_x, current_y = self.player_pos\n",
    "        target_x, target_y = self.suika_pos\n",
    "\n",
    "        move_x = 1 if current_x < target_x else -1 if current_x > target_x else 0\n",
    "        move_y = 1 if current_y < target_y else -1 if current_y > target_y else 0\n",
    "\n",
    "        return (move_x, move_y)\n",
    "\n",
    "    def move_player(self, move_x, move_y):\n",
    "        new_x = self.player_pos[0] + move_x\n",
    "        new_y = self.player_pos[1] + move_y\n",
    "        self.player_pos = (new_x, new_y)\n",
    "\n",
    "    def play_game(self):\n",
    "        print(\"ゲーム開始！\")\n",
    "        print(f\"スイカの位置: {self.suika_pos}\")\n",
    "        print(f\"プレイヤーの初期位置: {self.player_pos}\")\n",
    "\n",
    "        while self.player_pos != self.suika_pos:\n",
    "            move_x, move_y = self.determine_move()\n",
    "            self.move_player(move_x, move_y)\n",
    "            print(\"プレイヤーが移動しました:\", self.player_pos)\n",
    "\n",
    "        print(\"スイカを見つけました！\")\n",
    "\n"
   ]
  },
  {
   "cell_type": "code",
   "execution_count": 15,
   "id": "0b25a4f7",
   "metadata": {},
   "outputs": [
    {
     "name": "stdout",
     "output_type": "stream",
     "text": [
      "ゲーム開始！\n",
      "スイカの位置: (1, 1)\n",
      "プレイヤーの初期位置: (9, 2)\n",
      "プレイヤーが移動しました: (8, 1)\n",
      "プレイヤーが移動しました: (7, 1)\n",
      "プレイヤーが移動しました: (6, 1)\n",
      "プレイヤーが移動しました: (5, 1)\n",
      "プレイヤーが移動しました: (4, 1)\n",
      "プレイヤーが移動しました: (3, 1)\n",
      "プレイヤーが移動しました: (2, 1)\n",
      "プレイヤーが移動しました: (1, 1)\n",
      "スイカを見つけました！\n"
     ]
    }
   ],
   "source": [
    "game = WatermelonHunt(board_size=10)\n",
    "game.play_game()"
   ]
  }
 ],
 "metadata": {
  "kernelspec": {
   "display_name": "base",
   "language": "python",
   "name": "python3"
  },
  "language_info": {
   "codemirror_mode": {
    "name": "ipython",
    "version": 3
   },
   "file_extension": ".py",
   "mimetype": "text/x-python",
   "name": "python",
   "nbconvert_exporter": "python",
   "pygments_lexer": "ipython3",
   "version": "3.12.7"
  }
 },
 "nbformat": 4,
 "nbformat_minor": 5
}
