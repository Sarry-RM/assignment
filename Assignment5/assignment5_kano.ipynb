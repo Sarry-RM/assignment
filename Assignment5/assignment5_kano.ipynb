{
 "cells": [
  {
   "cell_type": "markdown",
   "id": "2c9ec1c9",
   "metadata": {},
   "source": [
    "## 課題1\n",
    "\n",
    "以下の「スイカ割りゲーム」プログラムをクラスの形に整理しなさい\n"
   ]
  },
  {
   "cell_type": "code",
   "execution_count": 1,
   "id": "a4f408a2",
   "metadata": {},
   "outputs": [],
   "source": [
    "import random\n",
    "import math\n",
    "\n",
    "class WatermelonHunt:\n",
    "    def __init__(self, board_size=5):\n",
    "        self.board_size = board_size\n",
    "        self.suika_pos = self.generate_position()\n",
    "        self.player_pos = self.generate_position()\n",
    "\n",
    "    def generate_position(self):\n",
    "        # ランダムな位置を生成\n",
    "        return (random.randrange(0, self.board_size), random.randrange(0, self.board_size))\n",
    "\n",
    "    def determine_move(self):\n",
    "         # プレイヤーがスイカに向かって進む方向を決定\n",
    "        px, py = self.player_pos\n",
    "        sx, sy = self.suika_pos\n",
    "\n",
    "        move_x = 1 if px < sx else -1 if px > sx else 0\n",
    "        move_y = 1 if py < sy else -1 if py > sy else 0\n",
    "\n",
    "        return (move_x, move_y)\n",
    "\n",
    "    def move_player(self, move_x, move_y):\n",
    "        # プレイヤーの位置を更新\n",
    "        px, py = self.player_pos\n",
    "        self.player_pos = (px + move_x, py + move_y)\n",
    "\n",
    "    def play_game(self):\n",
    "        # ゲームを開始\n",
    "        print(f\"スイカの位置: {self.suika_pos}\")\n",
    "        print(f\"プレイヤーの初期位置: {self.player_pos}\")\n",
    "        while self.player_pos != self.suika_pos:\n",
    "            move_x, move_y = self.determine_move()\n",
    "            self.move_player(move_x, move_y)\n",
    "            print(\"プレイヤーが移動しました:\", self.player_pos)\n",
    "        print(\"スイカを見つけました！\")\n",
    "\n",
    "\n"
   ]
  },
  {
   "cell_type": "code",
   "execution_count": 8,
   "id": "b7567aea",
   "metadata": {},
   "outputs": [
    {
     "name": "stdout",
     "output_type": "stream",
     "text": [
      "スイカの位置: (9, 7)\n",
      "プレイヤーの初期位置: (8, 6)\n",
      "プレイヤーが移動しました: (9, 7)\n",
      "スイカを見つけました！\n"
     ]
    }
   ],
   "source": [
    "game = WatermelonHunt(board_size=10)\n",
    "game.play_game()"
   ]
  },
  {
   "cell_type": "code",
   "execution_count": null,
   "id": "231d4f63",
   "metadata": {},
   "outputs": [],
   "source": []
  },
  {
   "cell_type": "code",
   "execution_count": null,
   "id": "0b25a4f7",
   "metadata": {},
   "outputs": [],
   "source": []
  }
 ],
 "metadata": {
  "kernelspec": {
   "display_name": "base",
   "language": "python",
   "name": "python3"
  },
  "language_info": {
   "codemirror_mode": {
    "name": "ipython",
    "version": 3
   },
   "file_extension": ".py",
   "mimetype": "text/x-python",
   "name": "python",
   "nbconvert_exporter": "python",
   "pygments_lexer": "ipython3",
   "version": "3.12.7"
  }
 },
 "nbformat": 4,
 "nbformat_minor": 5
}
