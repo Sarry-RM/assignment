{
  "cells": [
    {
      "cell_type": "markdown",
      "id": "2c9ec1c9",
      "metadata": {
        "id": "2c9ec1c9"
      },
      "source": [
        "## 課題1\n",
        "\n",
        "以下の「スイカ割りゲーム」プログラムをクラスの形に整理しなさい。\n"
      ]
    },
    {
      "cell_type": "code",
      "execution_count": null,
      "id": "a4f408a2",
      "metadata": {
        "id": "a4f408a2",
        "outputId": "6fe6e19b-ad33-49b0-a922-6433a8ea0933"
      },
      "outputs": [
        {
          "name": "stdout",
          "output_type": "stream",
          "text": [
            "プレイヤーが移動しました: (1, 3)\n",
            "プレイヤーが移動しました: (2, 2)\n",
            "プレイヤーが移動しました: (2, 1)\n",
            "スイカを見つけました！\n"
          ]
        }
      ],
      "source": [
        "import random\n",
        "import math\n",
        "\n",
        "BOARD_SIZE = 5  # ボードサイズを定義\n",
        "\n",
        "def generate_position(board_size):\n",
        "    # スイカとプレイヤーの初期位置をランダムに生成\n",
        "    return (random.randrange(0, board_size), random.randrange(0, board_size))\n",
        "\n",
        "def determine_move(player_pos, target_pos):\n",
        "    # スイカに向かってプレイヤーを移動させる方向を決定\n",
        "    current_x, current_y = player_pos\n",
        "    target_x, target_y = target_pos\n",
        "\n",
        "    move_x = 1 if current_x < target_x else -1 if current_x > target_x else 0\n",
        "    move_y = 1 if current_y < target_y else -1 if current_y > target_y else 0\n",
        "\n",
        "    return (move_x, move_y)\n",
        "\n",
        "def move_player(player_pos, move_x, move_y):\n",
        "    # プレイヤーの位置を更新\n",
        "    new_x = player_pos[0] + move_x\n",
        "    new_y = player_pos[1] + move_y\n",
        "    return (new_x, new_y)\n",
        "\n",
        "def play_game(board_size):\n",
        "    suika_pos = generate_position(board_size)\n",
        "    player_pos = generate_position(board_size)\n",
        "\n",
        "    while suika_pos != player_pos:\n",
        "        move_x, move_y = determine_move(player_pos, suika_pos)\n",
        "        player_pos = move_player(player_pos, move_x, move_y)\n",
        "        print(\"プレイヤーが移動しました:\", player_pos)\n",
        "\n",
        "    print(\"スイカを見つけました！\")\n",
        "\n",
        "# ゲームを開始\n",
        "play_game(BOARD_SIZE)"
      ]
    },
    {
      "cell_type": "code",
      "execution_count": null,
      "id": "b7567aea",
      "metadata": {
        "id": "b7567aea"
      },
      "outputs": [],
      "source": [
        "#game = WatermelonHunt(board_size=10)\n",
        "#game.play_game()"
      ]
    },
    {
      "cell_type": "code",
      "execution_count": null,
      "id": "0b25a4f7",
      "metadata": {
        "id": "0b25a4f7",
        "outputId": "e4fda914-cef7-4bd3-cf94-ca2c6993ca00",
        "colab": {
          "base_uri": "https://localhost:8080/"
        }
      },
      "outputs": [
        {
          "output_type": "stream",
          "name": "stdout",
          "text": [
            "スイカの位置: (1, 1)\n",
            "プレイヤーの初期位置: (0, 3)\n",
            "プレイヤーが移動しました: (1, 2)\n",
            "プレイヤーが移動しました: (1, 1)\n",
            "スイカを発見！\n"
          ]
        }
      ],
      "source": [
        "import random\n",
        "\n",
        "class Suika:\n",
        "    def __init__(self, board_size):\n",
        "        self.position = self.generate_position(board_size)\n",
        "\n",
        "    def generate_position(self, board_size):\n",
        "        return (random.randrange(0, board_size), random.randrange(0, board_size))\n",
        "\n",
        "class Player:\n",
        "    def __init__(self, board_size):\n",
        "        self.position = self.generate_position(board_size)\n",
        "\n",
        "    def generate_position(self, board_size):\n",
        "        return (random.randrange(0, board_size), random.randrange(0, board_size))\n",
        "\n",
        "    def determine_move(self, target_pos):\n",
        "        current_x, current_y = self.position\n",
        "        target_x, target_y = target_pos\n",
        "\n",
        "        move_x = 1 if current_x < target_x else -1 if current_x > target_x else 0\n",
        "        move_y = 1 if current_y < target_y else -1 if current_y > target_y else 0\n",
        "\n",
        "        return (move_x, move_y)\n",
        "\n",
        "    def move(self, move_x, move_y):\n",
        "        new_x = self.position[0] + move_x\n",
        "        new_y = self.position[1] + move_y\n",
        "        self.position = (new_x, new_y)\n",
        "\n",
        "class Game:\n",
        "    def __init__(self, board_size=5):\n",
        "        self.board_size = board_size\n",
        "        self.suika = Suika(board_size)\n",
        "        self.player = Player(board_size)\n",
        "\n",
        "    def play(self):\n",
        "        print(f\"スイカの位置: {self.suika.position}\")\n",
        "        print(f\"プレイヤーの初期位置: {self.player.position}\")\n",
        "\n",
        "        while self.player.position != self.suika.position:\n",
        "            move_x, move_y = self.player.determine_move(self.suika.position)\n",
        "            self.player.move(move_x, move_y)\n",
        "            print(\"プレイヤーが移動しました:\", self.player.position)\n",
        "\n",
        "        print(\"スイカを発見！\")\n",
        "\n",
        "if __name__ == \"__main__\":\n",
        "    game = Game()\n",
        "    game.play()\n"
      ]
    }
  ],
  "metadata": {
    "kernelspec": {
      "display_name": "base",
      "language": "python",
      "name": "python3"
    },
    "language_info": {
      "codemirror_mode": {
        "name": "ipython",
        "version": 3
      },
      "file_extension": ".py",
      "mimetype": "text/x-python",
      "name": "python",
      "nbconvert_exporter": "python",
      "pygments_lexer": "ipython3",
      "version": "3.11.5"
    },
    "colab": {
      "provenance": []
    }
  },
  "nbformat": 4,
  "nbformat_minor": 5
}