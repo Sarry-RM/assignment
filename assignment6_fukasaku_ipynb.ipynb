{
  "cells": [
    {
      "cell_type": "markdown",
      "metadata": {
        "id": "view-in-github",
        "colab_type": "text"
      },
      "source": [
        "<a href=\"https://colab.research.google.com/github/FukasakuRino/chss_2025_assignment/blob/rino/assignment6_fukasaku_ipynb.ipynb\" target=\"_parent\"><img src=\"https://colab.research.google.com/assets/colab-badge.svg\" alt=\"Open In Colab\"/></a>"
      ]
    },
    {
      "cell_type": "markdown",
      "id": "08ce7524",
      "metadata": {
        "id": "08ce7524"
      },
      "source": [
        "$n$個のデータ$(x_1,y_1),...(x_n,y_n)$が観測され、各$y_i$が\n",
        "\n",
        "$$\n",
        "y_i=\\alpha +\\beta x_i+u_i,\\ i=1,...,n\n",
        "$$\n",
        "\n",
        "が得られます。\n",
        "\n",
        "最小二乗法による、\n",
        "$$\n",
        "\\hat{\\beta}=\\frac{\\sum_{i=1}^n (x_i-\\bar{x})(y_i-\\bar{y})}{\\sum_{i=1}^n (x_i-\\bar{x})^2}=\\frac{標本共分散(x_i,y_i)}{標本分散(x_i)}\n",
        "$$\n",
        "\n",
        "$$\n",
        "\\hat{\\alpha}=\\hat{y}-\\hat{\\beta}\\bar{x}\n",
        "$$\n",
        "\n",
        "で回帰モデルの係数を推定することができる。"
      ]
    },
    {
      "cell_type": "markdown",
      "id": "4be830e8",
      "metadata": {
        "id": "4be830e8"
      },
      "source": [
        "以下は、仮想データを作成し、回帰モデルの係数推定式によって計算した結果が真の値にどれほど近づくかを検証するためのコードである\n",
        "このコードに基づいて、課題に解答しなさい。"
      ]
    },
    {
      "cell_type": "code",
      "execution_count": null,
      "id": "73e67af3",
      "metadata": {
        "id": "73e67af3"
      },
      "outputs": [],
      "source": [
        "# 線形回帰モデルのデータをシミュレーションで生成します\n",
        "import numpy as np\n",
        "\n",
        "# サンプルデータ\n",
        "# パラメータ\n",
        "beta_0 = 2.5  # 切片\n",
        "beta_1 = 0.8  # 傾き\n",
        "n = 100  # データ数\n",
        "\n",
        "# 説明変数を一様分布から生成\n",
        "x = np.random.uniform(low=0, high=10, size=n)\n",
        "\n",
        "# ノイズ項を標準正規分布から生成\n",
        "epsilon = np.random.normal(loc=0, scale=1, size=n)\n",
        "\n",
        "# 目的変数を生成\n",
        "y = beta_0 + beta_1 * x + epsilon"
      ]
    },
    {
      "cell_type": "code",
      "execution_count": null,
      "id": "1df27464",
      "metadata": {
        "id": "1df27464",
        "outputId": "d65808f3-bf0a-43e0-a627-f9f217aa7e8b",
        "colab": {
          "base_uri": "https://localhost:8080/"
        }
      },
      "outputs": [
        {
          "output_type": "stream",
          "name": "stdout",
          "text": [
            "beta:  0.8085312157066454\n",
            "alpha:  2.484083236085345\n"
          ]
        }
      ],
      "source": [
        "# パラメータの推定\n",
        "x_mean = np.mean(x)\n",
        "y_mean = np.mean(y)\n",
        "\n",
        "# β₁の推定\n",
        "numerator = np.sum((x - x_mean) * (y - y_mean))\n",
        "denominator = np.sum((x - x_mean) ** 2)\n",
        "beta = numerator / denominator\n",
        "print(\"beta: \", beta)\n",
        "# β₀の推定\n",
        "alpha = y_mean - beta * x_mean\n",
        "\n",
        "print(\"alpha: \", alpha)"
      ]
    },
    {
      "cell_type": "markdown",
      "id": "97148b05",
      "metadata": {
        "id": "97148b05"
      },
      "source": [
        "# 課題1\n",
        "\n",
        "母集団回帰係数、誤差項とサンプルサイズを指定し、観測データ($x$,$y$)を生成する関数を作成しなさい"
      ]
    },
    {
      "cell_type": "code",
      "execution_count": null,
      "id": "2be0300f",
      "metadata": {
        "id": "2be0300f",
        "colab": {
          "base_uri": "https://localhost:8080/"
        },
        "outputId": "60e4ea9b-141b-4a93-d253-a607236e9d60"
      },
      "outputs": [
        {
          "output_type": "stream",
          "name": "stdout",
          "text": [
            "[0.83385175 1.35808268 7.02295348 6.46074206 9.34310259 1.0849489\n",
            " 8.01391558 7.35553935 5.53300039 9.63996851 6.90245892 9.04626397\n",
            " 0.44147342 0.52054779 8.736592   4.62505007 6.66403196 6.31065659\n",
            " 6.55220386 7.84425814 2.54884481 2.96786788 6.49134163 4.49659155\n",
            " 2.27485627 9.1892172  7.79034966 8.15795105 4.73951662 0.97421124\n",
            " 7.19831129 5.3140298  7.17677663 0.31706456 4.28916119 2.81420832\n",
            " 0.2855218  3.55500748 3.18686505 8.3064965  8.42415074 8.17593445\n",
            " 2.60564862 7.05068189 3.35449579 4.33014772 8.48479064 8.30190477\n",
            " 0.05168412 4.18484576 1.86915799 2.63862735 0.9358791  8.85226939\n",
            " 3.84252328 6.91536693 4.46093815 4.9149078  2.13493861 0.42339572\n",
            " 9.84995071 8.79760652 8.14517266 4.46484257 1.57261101 8.73315202\n",
            " 2.25468394 4.13291409 6.43231137 9.38757944 2.13665288 4.31899065\n",
            " 5.06248957 8.24320608 2.2644256  1.49811307 8.03328362 5.88433777\n",
            " 3.35838967 7.02018725 7.86747414 9.27519055 6.91233215 3.57831618\n",
            " 3.13388121 7.71071762 4.84755953 1.33535144 3.8895192  8.7087521\n",
            " 9.25308386 8.41395821 7.3946331  3.11986114 5.70166087 2.72663858\n",
            " 3.73400219 7.4114474  2.00786236 6.22563559] [ 3.6670814   4.08646614  8.61836279  8.16859365 10.47448207  3.86795912\n",
            "  9.41113246  8.88443148  7.42640031 10.71197481  8.52196714 10.23701118\n",
            "  3.35317874  3.41643823  9.9892736   6.70004006  8.33122556  8.04852527\n",
            "  8.24176309  9.27540651  5.03907585  5.37429431  8.1930733   6.59727324\n",
            "  4.81988501 10.35137376  9.23227973  9.52636084  6.79161329  3.77936899\n",
            "  8.75864903  7.25122384  8.74142131  3.25365165  6.43132895  5.25136665\n",
            "  3.22841744  5.84400598  5.54949204  9.6451972   9.73932059  9.54074756\n",
            "  5.08451889  8.64054551  5.68359663  6.46411818  9.78783251  9.64152381\n",
            "  3.0413473   6.34787661  4.49532639  5.11090188  3.74870328 10.08181551\n",
            "  6.07401863  8.53229354  6.56875052  6.93192624  4.70795089  3.33871658\n",
            " 10.87996057 10.03808521  9.51613812  6.57187405  4.25808881  9.98652162\n",
            "  4.80374715  6.30633127  8.14584909 10.51006355  4.7093223   6.45519252\n",
            "  7.04999165  9.59456486  4.81154048  4.19849045  9.42662689  7.70747022\n",
            "  5.68671174  8.6161498   9.29397931 10.42015244  8.52986572  5.86265294\n",
            "  5.50710497  9.1685741   6.87804762  4.06828115  6.11161536  9.96700168\n",
            " 10.40246709  9.73116657  8.91570648  5.49588891  7.56132869  5.18131087\n",
            "  5.98720175  8.92915792  4.60628989  7.98050847]\n"
          ]
        }
      ],
      "source": [
        "import numpy as np\n",
        "\n",
        "#母集団回帰係数\n",
        "#誤差項\n",
        "#サンプルサイズ\n",
        "beta_0 = 2.5  # 切片\n",
        "beta_1 = 0.8  # 傾き\n",
        "n = 100  # データ数\n",
        "epsilon = 0.5\n",
        "\n",
        "# 説明変数を一様分布から生成\n",
        "x = np.random.uniform(low=0, high=10, size=n)\n",
        "\n",
        "# 目的変数を生成\n",
        "y = beta_0 + beta_1 * x + epsilon\n",
        "\n",
        "print(x,y)"
      ]
    },
    {
      "cell_type": "markdown",
      "id": "4e971945",
      "metadata": {
        "id": "4e971945"
      },
      "source": [
        "# 課題2\n",
        "\n",
        "観測データ($x$,$y$)で、最小二乗法で回帰係数を推定する関数を作成しなさい"
      ]
    },
    {
      "cell_type": "code",
      "execution_count": null,
      "id": "37986581",
      "metadata": {
        "id": "37986581",
        "colab": {
          "base_uri": "https://localhost:8080/"
        },
        "outputId": "7a9ecb3a-189c-43df-eaa7-bd82ace76175"
      },
      "outputs": [
        {
          "output_type": "stream",
          "name": "stdout",
          "text": [
            "beta:  0.8\n",
            "alpha:  3.0000000000000004\n"
          ]
        }
      ],
      "source": [
        "mean_x = np.mean(x)\n",
        "mean_y = np.mean(y)\n",
        "\n",
        "numerator = np.sum((x - mean_x) * (y - mean_y))\n",
        "denominator = np.sum((x - mean_x) ** 2)\n",
        "beta = numerator / denominator\n",
        "print(\"beta: \", beta)\n",
        "\n",
        "alpha = y_mean - beta * x_mean\n",
        "print(\"alpha: \", alpha)"
      ]
    },
    {
      "cell_type": "markdown",
      "id": "16a671fc",
      "metadata": {
        "id": "16a671fc"
      },
      "source": [
        "# 課題3\n",
        "\n",
        "- 一定な母集団回帰係数、誤差項サンプルサイズを設定し、観測データを作成し、回帰係数を推定するといった推定プロセスを100回を行いなさい。\n",
        "- 毎回の推定値を格納し、その平均と標準偏差を計算しなさい。\n",
        "- サンプルサイズが $20, 50, 100, 200, 500,1000$である場合、推定値の平均と標準偏差を比較しなさい"
      ]
    },
    {
      "cell_type": "code",
      "source": [
        "import numpy as np\n",
        "beta_0 = 2.5  # 切片\n",
        "beta_1 = 0.8  # 傾き\n",
        "epsilon = 0.5 #誤差項\n",
        "sample_size = [20,50,100,200,500,1000] #サンプルサイズ"
      ],
      "metadata": {
        "id": "adUqwwH8z38p"
      },
      "id": "adUqwwH8z38p",
      "execution_count": null,
      "outputs": []
    },
    {
      "cell_type": "code",
      "source": [
        "for i in sample_size:\n",
        "  beta_list = []\n",
        "  alpha_list = []\n",
        "\n",
        "  for j in range(100):\n",
        "      # 説明変数を一様分布から生成\n",
        "      x = np.random.uniform(low=0, high=10, size=n)\n",
        "      # 目的変数を生成\n",
        "      y = beta_0 + beta_1 * x + epsilon\n",
        "      # パラメータの推定\n",
        "      x_mean = np.mean(x)\n",
        "      y_mean = np.mean(y)\n",
        "      # β₁の推定\n",
        "      numerator = np.sum((x - x_mean) * (y - y_mean))\n",
        "      denominator = np.sum((x - x_mean) ** 2)\n",
        "      beta = numerator / denominator\n",
        "      beta_list.append(beta)\n",
        "      # β₀の推定\n",
        "      alpha = y_mean - beta * x_mean\n",
        "      alpha_list.append(alpha)\n",
        "\n",
        "  beta_mean = np.mean(beta_list)\n",
        "  beta_std = np.std(beta_list)\n",
        "  alpha_mean = np.mean(alpha_list)\n",
        "  alpha_std = np.std(alpha_list)\n",
        "  print(f\"Saple Size: {i}\")\n",
        "  print(\"beta_mean: \", beta_mean)\n",
        "  print(\"beta_std: \", beta_std)\n",
        "  print(\"alpha_mean: \", alpha_mean)\n",
        "  print(\"alpha_std: \", alpha_std)\n",
        "  print(\"-\"*20)"
      ],
      "metadata": {
        "colab": {
          "base_uri": "https://localhost:8080/"
        },
        "id": "aWSZIwJazT_k",
        "outputId": "39e3070e-705d-4284-f613-60ad0654ab00"
      },
      "id": "aWSZIwJazT_k",
      "execution_count": null,
      "outputs": [
        {
          "output_type": "stream",
          "name": "stdout",
          "text": [
            "Saple Size: 20\n",
            "beta_mean:  0.7999999999999998\n",
            "beta_std:  2.5316980181136773e-16\n",
            "alpha_mean:  3.0\n",
            "alpha_std:  1.0676628719049671e-15\n",
            "--------------------\n",
            "Saple Size: 50\n",
            "beta_mean:  0.8\n",
            "beta_std:  1.3506446028928518e-16\n",
            "alpha_mean:  3.0\n",
            "alpha_std:  1.1699032740181795e-15\n",
            "--------------------\n",
            "Saple Size: 100\n",
            "beta_mean:  0.8\n",
            "beta_std:  1.530336829712622e-16\n",
            "alpha_mean:  3.0\n",
            "alpha_std:  1.2832564590325902e-15\n",
            "--------------------\n",
            "Saple Size: 200\n",
            "beta_mean:  0.7999999999999997\n",
            "beta_std:  3.512588446676096e-16\n",
            "alpha_mean:  3.0\n",
            "alpha_std:  1.0676628719049671e-15\n",
            "--------------------\n",
            "Saple Size: 500\n",
            "beta_mean:  0.8\n",
            "beta_std:  1.2994827337208942e-16\n",
            "alpha_mean:  3.0\n",
            "alpha_std:  1.0759430181993072e-15\n",
            "--------------------\n",
            "Saple Size: 1000\n",
            "beta_mean:  0.8\n",
            "beta_std:  1.4390135079995447e-16\n",
            "alpha_mean:  3.0\n",
            "alpha_std:  1.1477794699850183e-15\n",
            "--------------------\n"
          ]
        }
      ]
    }
  ],
  "metadata": {
    "kernelspec": {
      "display_name": "base",
      "language": "python",
      "name": "python3"
    },
    "language_info": {
      "codemirror_mode": {
        "name": "ipython",
        "version": 3
      },
      "file_extension": ".py",
      "mimetype": "text/x-python",
      "name": "python",
      "nbconvert_exporter": "python",
      "pygments_lexer": "ipython3",
      "version": "3.11.5"
    },
    "colab": {
      "provenance": [],
      "include_colab_link": true
    }
  },
  "nbformat": 4,
  "nbformat_minor": 5
}