{
 "cells": [
  {
   "attachments": {},
   "cell_type": "markdown",
   "metadata": {},
   "source": [
    "# Assignment7\n",
    "\n",
    "そのまま課題ファイルで編集しないでください。課題ファイルを複製してから課題を回答してください。"
   ]
  },
  {
   "attachments": {},
   "cell_type": "markdown",
   "metadata": {},
   "source": [
    "## 課題1\n",
    "\n",
    "pandasでDataフォルダの```example.json```を読み込む。"
   ]
  },
  {
   "cell_type": "code",
   "execution_count": 56,
   "metadata": {},
   "outputs": [
    {
     "name": "stdout",
     "output_type": "stream",
     "text": [
      "     Name  Price  Model  Power\n",
      "0   Honda  10000   2005   1300\n",
      "1  Toyota  12000   2010   1600\n",
      "2    Audi  25000   2017   1800\n",
      "3    Ford  28000   2009   1200\n"
     ]
    }
   ],
   "source": [
    "import pandas as pd\n",
    "df = pd.read_json('./Data/example.json', lines=True)\n",
    "print(df)"
   ]
  },
  {
   "attachments": {},
   "cell_type": "markdown",
   "metadata": {},
   "source": [
    "## 課題2\n",
    "\n",
    "pandasでDataフォルダの```state-abbrevs.csv```、```state-areas.csv```、```state-population.csv```を読み込む。\n",
    "\n",
    "これらのデータを使って、**2010年**アメリカの各州の人口密度を計算しよう。"
   ]
  },
  {
   "cell_type": "code",
   "execution_count": 57,
   "metadata": {},
   "outputs": [
    {
     "name": "stdout",
     "output_type": "stream",
     "text": [
      "                   state      density\n",
      "0                Alabama    91.287603\n",
      "1                 Alaska     1.087509\n",
      "2                Arizona    56.214497\n",
      "3               Arkansas    54.948667\n",
      "4             California   228.051342\n",
      "5               Colorado    48.493718\n",
      "6            Connecticut   645.600649\n",
      "7               Delaware   460.445752\n",
      "8                Florida     9.202302\n",
      "9                Georgia   317.054794\n",
      "10                Hawaii   888.515185\n",
      "11                 Idaho    16.317647\n",
      "12              Illinois    27.119686\n",
      "13               Indiana   352.545167\n",
      "14                  Iowa   115.323850\n",
      "15                Kansas    37.071462\n",
      "16              Kentucky    70.745837\n",
      "17             Louisiana    83.862778\n",
      "18                 Maine   128.448074\n",
      "19              Maryland   106.985250\n",
      "20         Massachusetts   548.289247\n",
      "21              Michigan    67.795300\n",
      "22             Minnesota   113.593377\n",
      "23           Mississippi   109.640686\n",
      "24              Missouri    42.606364\n",
      "25               Montana    40.776784\n",
      "26              Nebraska    12.804455\n",
      "27                Nevada    16.549585\n",
      "28         New Hampshire   289.084590\n",
      "29            New Jersey   150.953222\n",
      "30            New Mexico    72.394850\n",
      "31              New York    37.906966\n",
      "32        North Carolina   360.421174\n",
      "33          North Dakota   135.204981\n",
      "34                  Ohio    15.042920\n",
      "35              Oklahoma   165.163655\n",
      "36                Oregon    38.209329\n",
      "37          Pennsylvania    83.312519\n",
      "38          Rhode Island  8226.842718\n",
      "39        South Carolina    32.888712\n",
      "40          South Dakota    60.118009\n",
      "41             Tennessee    19.366274\n",
      "42                 Texas    23.665895\n",
      "43                  Utah   297.337911\n",
      "44               Vermont   288.551638\n",
      "45              Virginia    14.631930\n",
      "46            Washington   112.539683\n",
      "47         West Virginia   278.249185\n",
      "48             Wisconsin    28.306276\n",
      "49               Wyoming    58.159643\n",
      "50  District of Columbia  8297.382353\n",
      "51           Puerto Rico  1058.665149\n",
      "52                   NaN          NaN\n"
     ]
    }
   ],
   "source": [
    "import pandas as pd\n",
    "df_abb = pd.read_csv('./Data/state-abbrevs.csv')\n",
    "df_are = pd.read_csv('./Data/state-areas.csv')\n",
    "df_pop = pd.read_csv('./Data/state-population.csv')\n",
    "df_pop_2010 = df_pop[df_pop['year'] == 2010]\n",
    "df_pop_2010_total = df_pop_2010[df_pop_2010['ages']=='total']\n",
    "df_pop_2010_total = df_pop_2010_total.reset_index(drop=True)\n",
    "df_den = (df_pop_2010_total['population']/df_are['area (sq. mi)']).rename('density')\n",
    "# df_den = df_are[df_are['year'] == 2010]['area']\n",
    "\n",
    "df_result = pd.concat([df_are['state'], df_den], axis=1)\n",
    "print(df_result)"
   ]
  },
  {
   "attachments": {},
   "cell_type": "markdown",
   "metadata": {},
   "source": [
    "## 課題3\n",
    "\n",
    "```state/region```、```ages```と```years```でデータフレームをグループして、各グループで$\\frac{population}{area (sq. mi)}$の形で人口密度を計算してください。"
   ]
  },
  {
   "cell_type": "code",
   "execution_count": 58,
   "metadata": {},
   "outputs": [
    {
     "name": "stdout",
     "output_type": "stream",
     "text": [
      "     state/region     ages  year   density\n",
      "0              AK    total  1990  0.842884\n",
      "1              AK    total  1991  0.868634\n",
      "2              AK    total  1992  0.896882\n",
      "3              AK    total  1993  0.913180\n",
      "4              AK    total  1994  0.919081\n",
      "...           ...      ...   ...       ...\n",
      "2539           WY  under18  2009  1.379705\n",
      "2540           WY  under18  2010  1.383702\n",
      "2541           WY  under18  2011  1.384275\n",
      "2542           WY  under18  2012  1.395714\n",
      "2543           WY  under18  2013  1.407502\n",
      "\n",
      "[2544 rows x 4 columns]\n"
     ]
    }
   ],
   "source": [
    "import pandas as pd\n",
    "\n",
    "df_tmp = pd.merge(df_pop,df_abb,how='left',left_on='state/region',right_on='abbreviation')\n",
    "df_merged = pd.merge(df_tmp, df_are, how='left', on='state')\n",
    "df_merged['density'] = df_merged['population'] / df_merged['area (sq. mi)']\n",
    "df_group = df_merged.groupby(['state/region', 'ages', 'year'])['density'].mean().reset_index()\n",
    "\n",
    "print(df_group)"
   ]
  },
  {
   "cell_type": "code",
   "execution_count": null,
   "metadata": {},
   "outputs": [],
   "source": []
  }
 ],
 "metadata": {
  "kernelspec": {
   "display_name": "chss",
   "language": "python",
   "name": "python3"
  },
  "language_info": {
   "codemirror_mode": {
    "name": "ipython",
    "version": 3
   },
   "file_extension": ".py",
   "mimetype": "text/x-python",
   "name": "python",
   "nbconvert_exporter": "python",
   "pygments_lexer": "ipython3",
   "version": "3.10.16"
  },
  "orig_nbformat": 4
 },
 "nbformat": 4,
 "nbformat_minor": 2
}
