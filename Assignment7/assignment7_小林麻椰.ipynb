{
 "cells": [
  {
   "cell_type": "markdown",
   "id": "859180de",
   "metadata": {},
   "source": [
    "# Assignment7\n",
    "\n",
    "そのまま課題ファイルで編集しないでください。課題ファイルを複製してから課題を回答してください。"
   ]
  },
  {
   "cell_type": "markdown",
   "id": "fe056539",
   "metadata": {
    "vscode": {
     "languageId": "plaintext"
    }
   },
   "source": [
    "## 課題1\n",
    "\n",
    "pandasでDataフォルダの```example.json```を読み込む。"
   ]
  },
  {
   "cell_type": "code",
   "execution_count": null,
   "id": "4768a054",
   "metadata": {},
   "outputs": [],
   "source": [
    "import pandas as pd"
   ]
  },
  {
   "cell_type": "code",
   "execution_count": null,
   "id": "2ff2903e",
   "metadata": {},
   "outputs": [],
   "source": [
    "df1 = pd.read_csv(\"/content/drive/MyDrive/example.json\")"
   ]
  },
  {
   "cell_type": "code",
   "execution_count": null,
   "id": "f07601eb",
   "metadata": {},
   "outputs": [],
   "source": [
    "df1"
   ]
  },
  {
   "cell_type": "markdown",
   "id": "b3d2b24c",
   "metadata": {
    "vscode": {
     "languageId": "plaintext"
    }
   },
   "source": [
    "## 課題2\n",
    "\n",
    "pandasでDataフォルダの```state-abbrevs.csv```、```state-areas.csv```、```state-population.csv```を読み込む。\n",
    "\n",
    "これらのデータを使って、**2010年**アメリカの各州の人口密度を計算しよう。"
   ]
  },
  {
   "cell_type": "code",
   "execution_count": null,
   "id": "7c25593d",
   "metadata": {},
   "outputs": [],
   "source": [
    "df_abbrevs = pd.read_csv(\"/content/drive/MyDrive/state-abbrevs.csv\")\n",
    "df_areas = pd.read_csv(\"/content/drive/MyDrive/state-areas.csv\")\n",
    "df_population = pd.read_csv(\"/content/drive/MyDrive/state-population.csv\")"
   ]
  },
  {
   "cell_type": "code",
   "execution_count": null,
   "id": "66f20c3c",
   "metadata": {},
   "outputs": [],
   "source": [
    "df_abbrevs"
   ]
  },
  {
   "cell_type": "code",
   "execution_count": null,
   "id": "38ef2519",
   "metadata": {},
   "outputs": [],
   "source": [
    "df_areas"
   ]
  },
  {
   "cell_type": "code",
   "execution_count": null,
   "id": "a6ba3eed",
   "metadata": {},
   "outputs": [],
   "source": [
    "df_population"
   ]
  },
  {
   "cell_type": "code",
   "execution_count": null,
   "id": "20a6d4e3",
   "metadata": {},
   "outputs": [],
   "source": [
    "# 2010年の全年齢の人口データを抽出\n",
    "population_2010_total = df_population[(df_population['year'] == 2010) & (df_population['ages'] == 'total')]\n",
    "\n",
    "# 人口データに州の略称を結合\n",
    "merged_pop_abbrevs = pd.merge(population_2010_total, df_abbrevs, left_on='state/region', right_on='abbreviation', how='left')\n",
    "\n",
    "# 略称カラムは削除\n",
    "merged_pop_abbrevs = merged_pop_abbrevs.drop('abbreviation', axis=1)\n",
    "\n",
    "# 面積データを結合\n",
    "final_df = pd.merge(merged_pop_abbrevs, df_areas, on='state', how='left')\n",
    "\n",
    "# 人口密度の計算\n",
    "final_df = final_df.dropna(subset=['area (sq. mi)'])\n",
    "final_df['density'] = final_df['population'] / final_df['area (sq. mi)']\n",
    "\n",
    "# 結果を表示\n",
    "print(final_df[['state', 'density']])"
   ]
  },
  {
   "cell_type": "markdown",
   "id": "d63058e1",
   "metadata": {
    "vscode": {
     "languageId": "plaintext"
    }
   },
   "source": [
    "## 課題3\n",
    "\n",
    "```state/region```、```ages```と```years```でデータフレームをグループして、各グループで$\\frac{population}{area (sq. mi)}$の形で人口密度を計算してください。"
   ]
  },
  {
   "cell_type": "code",
   "execution_count": null,
   "id": "ed6aa538",
   "metadata": {},
   "outputs": [],
   "source": [
    "# df_abbrevsをdf_populationに結合\n",
    "df_merged = pd.merge(df_population, df_abbrevs, left_on='state/region', right_on='abbreviation', how='left')\n",
    "\n",
    "# stateとarea (sq. mi)を紐付けるためにdf_areasを結合\n",
    "df_merged = pd.merge(df_merged, df_areas, on='state', how='left')\n",
    "\n",
    "# abbreviationカラムを削除\n",
    "df_merged = df_merged.drop('abbreviation', axis=1)\n",
    "\n",
    "# 欠損値（特に面積がない州など）を削除\n",
    "df_merged = df_merged.dropna(subset=['area (sq. mi)'])\n",
    "\n",
    "# state/region, ages, yearsでグループ化し、各グループで人口密度を計算\n",
    "df_merged['density'] = df_merged['population'] / df_merged['area (sq. mi)']\n",
    "\n",
    "# グループごとの密度を表示 \n",
    "print(df_merged)"
   ]
  }
 ],
 "metadata": {
  "language_info": {
   "name": "python"
  }
 },
 "nbformat": 4,
 "nbformat_minor": 5
}
