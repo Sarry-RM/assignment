{
 "cells": [
  {
   "cell_type": "code",
   "execution_count": 15,
   "id": "d8db2eb0-303b-4f67-8beb-5a514914ea3e",
   "metadata": {},
   "outputs": [
    {
     "name": "stdout",
     "output_type": "stream",
     "text": [
      "課題1: example.json を読み込みました。\n",
      "     Name  Price  Model  Power\n",
      "0   Honda  10000   2005   1300\n",
      "1  Toyota  12000   2010   1600\n",
      "2    Audi  25000   2017   1800\n",
      "3    Ford  28000   2009   1200\n"
     ]
    }
   ],
   "source": [
    "import pandas as pd\n",
    "\n",
    "\n",
    "data_folder_path = './Data/' \n",
    "\n",
    "\n",
    "try:\n",
    "    df_json = pd.read_json(data_folder_path + 'example.json')\n",
    "    print(\"課題1: example.json を読み込みました。\")\n",
    "    print(df_json.head())\n",
    "except FileNotFoundError:\n",
    "    print(f\"エラー: {data_folder_path}example.json が見つかりません。パスを確認してください。\")\n",
    "except Exception as e:\n",
    "    print(f\"エラーが発生しました: {e}\")\n"
   ]
  },
  {
   "cell_type": "code",
   "execution_count": 16,
   "id": "656f8660-02dc-4cc0-8c38-dcfe5bd2f964",
   "metadata": {
    "jupyter": {
     "source_hidden": true
    }
   },
   "outputs": [
    {
     "name": "stdout",
     "output_type": "stream",
     "text": [
      "\n",
      "課題2: 3つのCSVファイルを読み込みました。\n",
      "\n",
      "--- df_abbrevs (州の略称とフルネーム) ---\n",
      "        state abbreviation\n",
      "0     Alabama           AL\n",
      "1      Alaska           AK\n",
      "2     Arizona           AZ\n",
      "3    Arkansas           AR\n",
      "4  California           CA\n",
      "\n",
      "--- df_areas (州の面積) ---\n",
      "        state  area (sq. mi)\n",
      "0     Alabama          52423\n",
      "1      Alaska         656425\n",
      "2     Arizona         114006\n",
      "3    Arkansas          53182\n",
      "4  California         163707\n",
      "\n",
      "--- df_population (州の人口) ---\n",
      "  state/region     ages  year  population\n",
      "0           AL  under18  2012   1117489.0\n",
      "1           AL    total  2012   4817528.0\n",
      "2           AL  under18  2010   1130966.0\n",
      "3           AL    total  2010   4785570.0\n",
      "4           AL  under18  2011   1125763.0\n",
      "\n",
      "--- 結合後のデータ (一部) ---\n",
      "  state/region     ages  year  population    state  area (sq. mi)\n",
      "0           AL  under18  2012   1117489.0  Alabama        52423.0\n",
      "1           AL    total  2012   4817528.0  Alabama        52423.0\n",
      "2           AL  under18  2010   1130966.0  Alabama        52423.0\n",
      "3           AL    total  2010   4785570.0  Alabama        52423.0\n",
      "4           AL  under18  2011   1125763.0  Alabama        52423.0\n",
      "state/region      0\n",
      "ages              0\n",
      "year              0\n",
      "population       20\n",
      "state            96\n",
      "area (sq. mi)    96\n",
      "dtype: int64\n",
      "課題2でエラーが発生しました: ['area (sq.mi)']\n"
     ]
    }
   ],
   "source": [
    "import pandas as pd\n",
    "\n",
    "data_folder_path = './Data/'\n",
    "\n",
    "try:\n",
    "    df_abbrevs = pd.read_csv(data_folder_path + 'state-abbrevs.csv')\n",
    "    df_areas = pd.read_csv(data_folder_path + 'state-areas.csv')\n",
    "    df_population = pd.read_csv(data_folder_path + 'state-population.csv')\n",
    "\n",
    "    print(\"\\n課題2: 3つのCSVファイルを読み込みました。\")\n",
    "\n",
    "   \n",
    "    print(\"\\n--- df_abbrevs (州の略称とフルネーム) ---\")\n",
    "    print(df_abbrevs.head())\n",
    "    print(\"\\n--- df_areas (州の面積) ---\")\n",
    "    print(df_areas.head())\n",
    "    print(\"\\n--- df_population (州の人口) ---\")\n",
    "    print(df_population.head())\n",
    "\n",
    "   \n",
    "    merged_data = pd.merge(df_population, df_abbrevs, how='left',\n",
    "                           left_on='state/region', right_on='abbreviation')\n",
    "    merged_data.drop('abbreviation', axis=1, inplace=True)\n",
    "\n",
    "    \n",
    "    final_data = pd.merge(merged_data, df_areas, how='left', on='state')\n",
    "\n",
    "   \n",
    "    print(\"\\n--- 結合後のデータ (一部) ---\")\n",
    "    print(final_data.head())\n",
    "    print(final_data.isnull().sum())\n",
    "\n",
    "    # 2010年のデータに絞り込み\n",
    "    population_2010 = final_data[final_data['year'] == 2010]\n",
    "\n",
    "\n",
    "    population_2010_cleaned = population_2010.dropna(subset=['population', 'area (sq.mi)'])\n",
    "    population_2010_cleaned = population_2010_cleaned[population_2010_cleaned['area (sq.mi)'] != 0]\n",
    "\n",
    "\n",
    "    population_2010_cleaned['population_density'] = \\\n",
    "        population_2010_cleaned['population'] / population_2010_cleaned['area (sq.mi)']\n",
    "\n",
    "    print(\"\\n--- 2010年アメリカ各州の人口密度 ---\")\n",
    "    print(population_2010_cleaned[['state', 'population', 'area (sq.mi)', 'population_density']] \\\n",
    "          .sort_values(by='population_density', ascending=False).head())\n",
    "    print(population_2010_cleaned[['state', 'population', 'area (sq.mi)', 'population_density']] \\\n",
    "          .sort_values(by='population_density', ascending=False).tail())\n",
    "\n",
    "\n",
    "except FileNotFoundError:\n",
    "    print(f\"エラー: CSVファイルが見つかりません。Dataフォルダのパスを確認してください。\")\n",
    "except Exception as e:\n",
    "    print(f\"課題2でエラーが発生しました: {e}\")\n"
   ]
  },
  {
   "cell_type": "code",
   "execution_count": 17,
   "id": "ee80e6d2-029c-4f41-bc30-a2cbec5f3165",
   "metadata": {},
   "outputs": [
    {
     "name": "stdout",
     "output_type": "stream",
     "text": [
      "エラー: final_data_cleaned が見つかりません。課題2のセルを先に実行してください。\n"
     ]
    },
    {
     "ename": "NameError",
     "evalue": "name 'df_for_grouping' is not defined",
     "output_type": "error",
     "traceback": [
      "\u001b[31m---------------------------------------------------------------------------\u001b[39m",
      "\u001b[31mNameError\u001b[39m                                 Traceback (most recent call last)",
      "\u001b[36mCell\u001b[39m\u001b[36m \u001b[39m\u001b[32mIn[17]\u001b[39m\u001b[32m, line 11\u001b[39m\n\u001b[32m      6\u001b[39m \u001b[38;5;28;01melse\u001b[39;00m:\n\u001b[32m      7\u001b[39m     \u001b[38;5;28mprint\u001b[39m(\u001b[33m\"\u001b[39m\u001b[33mエラー: final_data_cleaned が見つかりません。課題2のセルを先に実行してください。\u001b[39m\u001b[33m\"\u001b[39m)\n\u001b[32m---> \u001b[39m\u001b[32m11\u001b[39m df_for_grouping[\u001b[33m'\u001b[39m\u001b[33mpopulation_density\u001b[39m\u001b[33m'\u001b[39m] = \u001b[43mdf_for_grouping\u001b[49m[\u001b[33m'\u001b[39m\u001b[33mpopulation\u001b[39m\u001b[33m'\u001b[39m] / df_for_grouping[\u001b[33m'\u001b[39m\u001b[33marea (sq.mi)\u001b[39m\u001b[33m'\u001b[39m]\n\u001b[32m     14\u001b[39m grouped_density = df_for_grouping.groupby([\u001b[33m'\u001b[39m\u001b[33mstate/region\u001b[39m\u001b[33m'\u001b[39m, \u001b[33m'\u001b[39m\u001b[33mages\u001b[39m\u001b[33m'\u001b[39m, \u001b[33m'\u001b[39m\u001b[33myear\u001b[39m\u001b[33m'\u001b[39m])[\u001b[33m'\u001b[39m\u001b[33mpopulation_density\u001b[39m\u001b[33m'\u001b[39m].mean().reset_index()\n\u001b[32m     16\u001b[39m \u001b[38;5;28mprint\u001b[39m(\u001b[33m\"\u001b[39m\u001b[38;5;130;01m\\n\u001b[39;00m\u001b[33m--- 課題3: \u001b[39m\u001b[33m'\u001b[39m\u001b[33mstate/region\u001b[39m\u001b[33m'\u001b[39m\u001b[33m, \u001b[39m\u001b[33m'\u001b[39m\u001b[33mages\u001b[39m\u001b[33m'\u001b[39m\u001b[33m, \u001b[39m\u001b[33m'\u001b[39m\u001b[33myear\u001b[39m\u001b[33m'\u001b[39m\u001b[33m でグループ化した人口密度 ---\u001b[39m\u001b[33m\"\u001b[39m)\n",
      "\u001b[31mNameError\u001b[39m: name 'df_for_grouping' is not defined"
     ]
    }
   ],
   "source": [
    "import pandas as pd\n",
    "\n",
    "\n",
    "if 'final_data_cleaned' in locals():\n",
    "    df_for_grouping = final_data_cleaned.copy() \n",
    "else:\n",
    "    print(\"エラー: final_data_cleaned が見つかりません。課題2のセルを先に実行してください。\")\n",
    "   \n",
    "\n",
    "\n",
    "df_for_grouping['population_density'] = df_for_grouping['population'] / df_for_grouping['area (sq.mi)']\n",
    "\n",
    "\n",
    "grouped_density = df_for_grouping.groupby(['state/region', 'ages', 'year'])['population_density'].mean().reset_index()\n",
    "\n",
    "print(\"\\n--- 課題3: 'state/region', 'ages', 'year' でグループ化した人口密度 ---\")\n",
    "\n",
    "print(grouped_density.head(20))\n",
    "print(\"\\n--- データの最後の方も確認 ---\")\n",
    "print(grouped_density.tail(20))\n",
    "\n"
   ]
  },
  {
   "cell_type": "code",
   "execution_count": null,
   "id": "9e8e5c77-7ef7-4702-bae1-922204c636a1",
   "metadata": {},
   "outputs": [],
   "source": []
  }
 ],
 "metadata": {
  "kernelspec": {
   "display_name": "Python 3 (ipykernel)",
   "language": "python",
   "name": "python3"
  },
  "language_info": {
   "codemirror_mode": {
    "name": "ipython",
    "version": 3
   },
   "file_extension": ".py",
   "mimetype": "text/x-python",
   "name": "python",
   "nbconvert_exporter": "python",
   "pygments_lexer": "ipython3",
   "version": "3.13.5"
  }
 },
 "nbformat": 4,
 "nbformat_minor": 5
}
