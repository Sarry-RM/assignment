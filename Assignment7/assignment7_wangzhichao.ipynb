{
 "cells": [
  {
   "attachments": {},
   "cell_type": "markdown",
   "metadata": {},
   "source": [
    "# Assignment7\n",
    "\n",
    "そのまま課題ファイルで編集しないでください。課題ファイルを複製してから課題を回答してください。"
   ]
  },
  {
   "attachments": {},
   "cell_type": "markdown",
   "metadata": {},
   "source": [
    "## 課題1\n",
    "\n",
    "pandasでDataフォルダの```example.json```を読み込む。"
   ]
  },
  {
   "cell_type": "code",
   "execution_count": 4,
   "metadata": {},
   "outputs": [
    {
     "name": "stdout",
     "output_type": "stream",
     "text": [
      "[{'Name': 'Honda', 'Price': 10000, 'Model': 2005, 'Power': 1300}, {'Name': 'Toyota', 'Price': 12000, 'Model': 2010, 'Power': 1600}, {'Name': 'Audi', 'Price': 25000, 'Model': 2017, 'Power': 1800}, {'Name': 'Ford', 'Price': 28000, 'Model': 2009, 'Power': 1200}]\n"
     ]
    }
   ],
   "source": [
    "import json\n",
    "\n",
    "json_data = []\n",
    "with open('Data/example.json', 'r', encoding='utf-8') as f:\n",
    "    for line in f:\n",
    "        line = line.strip()\n",
    "        if line:\n",
    "            json_data.append(json.loads(line))\n",
    "\n",
    "print(json_data)"
   ]
  },
  {
   "attachments": {},
   "cell_type": "markdown",
   "metadata": {},
   "source": [
    "## 課題2\n",
    "\n",
    "pandasでDataフォルダの```state-abbrevs.csv```、```state-areas.csv```、```state-population.csv```を読み込む。\n",
    "\n",
    "これらのデータを使って、**2010年**アメリカの各州の人口密度を計算しよう。"
   ]
  },
  {
   "cell_type": "code",
   "execution_count": 8,
   "metadata": {},
   "outputs": [
    {
     "name": "stdout",
     "output_type": "stream",
     "text": [
      "                   state  population  area (sq. mi)  population_density\n",
      "8   District of Columbia    605125.0           68.0         8898.897059\n",
      "30            New Jersey   8802707.0         8722.0         1009.253268\n",
      "39          Rhode Island   1052669.0         1545.0          681.339159\n",
      "6            Connecticut   3579210.0         5544.0          645.600649\n",
      "21         Massachusetts   6563263.0        10555.0          621.815538\n",
      "20              Maryland   5787193.0        12407.0          466.445797\n",
      "7               Delaware    899711.0         1954.0          460.445752\n",
      "32              New York  19398228.0        54475.0          356.094135\n",
      "9                Florida  18846054.0        65758.0          286.597129\n",
      "38          Pennsylvania  12710472.0        46058.0          275.966651\n",
      "35                  Ohio  11545435.0        44828.0          257.549634\n",
      "4             California  37333601.0       163707.0          228.051342\n",
      "13              Illinois  12839695.0        57918.0          221.687472\n",
      "46              Virginia   8024417.0        42769.0          187.622273\n",
      "14               Indiana   6489965.0        36420.0          178.197831\n",
      "33        North Carolina   9559533.0        53821.0          177.617157\n",
      "10               Georgia   9713248.0        59441.0          163.409902\n",
      "42             Tennessee   6356683.0        42146.0          150.825298\n",
      "40        South Carolina   4636361.0        32007.0          144.854594\n",
      "29         New Hampshire   1316614.0         9351.0          140.799273\n",
      "11                Hawaii   1363731.0        10932.0          124.746707\n",
      "17              Kentucky   4347698.0        40411.0          107.586994\n",
      "22              Michigan   9876149.0        96810.0          102.015794\n",
      "47            Washington   6742256.0        71303.0           94.557817\n",
      "43                 Texas  25245178.0       268601.0           93.987655\n",
      "0                Alabama   4785570.0        52423.0           91.287603\n",
      "18             Louisiana   4545392.0        51843.0           87.676099\n",
      "49             Wisconsin   5689060.0        65503.0           86.851900\n",
      "25              Missouri   5996063.0        69709.0           86.015622\n",
      "48         West Virginia   1854146.0        24231.0           76.519582\n",
      "45               Vermont    625793.0         9615.0           65.085075\n",
      "24           Mississippi   2970047.0        48434.0           61.321530\n",
      "23             Minnesota   5310337.0        86943.0           61.078373\n",
      "2                Arizona   6408790.0       114006.0           56.214497\n",
      "3               Arkansas   2922280.0        53182.0           54.948667\n",
      "15                  Iowa   3050314.0        56276.0           54.202751\n",
      "36              Oklahoma   3759263.0        69903.0           53.778278\n",
      "5               Colorado   5048196.0       104100.0           48.493718\n",
      "37                Oregon   3837208.0        98386.0           39.001565\n",
      "19                 Maine   1327366.0        35387.0           37.509990\n",
      "16                Kansas   2858910.0        82282.0           34.745266\n",
      "44                  Utah   2774424.0        84904.0           32.677188\n",
      "28                Nevada   2703230.0       110567.0           24.448796\n",
      "27              Nebraska   1829838.0        77358.0           23.654153\n",
      "12                 Idaho   1570718.0        83574.0           18.794338\n",
      "31            New Mexico   2064982.0       121593.0           16.982737\n",
      "41          South Dakota    816211.0        77121.0           10.583512\n",
      "34          North Dakota    674344.0        70704.0            9.537565\n",
      "26               Montana    990527.0       147046.0            6.736171\n",
      "50               Wyoming    564222.0        97818.0            5.768079\n",
      "1                 Alaska    713868.0       656425.0            1.087509\n"
     ]
    }
   ],
   "source": [
    "import pandas as pd\n",
    "\n",
    "# 读取CSV文件\n",
    "abbrevs = pd.read_csv('Data/state-abbrevs.csv')\n",
    "areas = pd.read_csv('Data/state-areas.csv')\n",
    "population = pd.read_csv('Data/state-population.csv')\n",
    "\n",
    "\n",
    "pop_2010 = population[(population['year'] == 2010) & (population['ages'] == 'total')]\n",
    "abbrevs = abbrevs.rename(columns={'state': 'state_name'})\n",
    "pop_2010 = pop_2010.merge(abbrevs, how='left', left_on='state/region', right_on='abbreviation')\n",
    "pop_2010['state'] = pop_2010['state_name'].fillna(pop_2010['state/region'])\n",
    "areas = areas.rename(columns={'state (full)': 'state'})\n",
    "merged = pop_2010.merge(areas, how='left', on='state')\n",
    "merged = merged.dropna(subset=['area (sq. mi)'])\n",
    "merged['population_density'] = merged['population'] / merged['area (sq. mi)']\n",
    "result = merged[['state', 'population', 'area (sq. mi)', 'population_density']].sort_values(by='population_density', ascending=False)\n",
    "\n",
    "print(result)"
   ]
  },
  {
   "attachments": {},
   "cell_type": "markdown",
   "metadata": {},
   "source": [
    "## 課題3\n",
    "\n",
    "```state/region```、```ages```と```years```でデータフレームをグループして、各グループで$\\frac{population}{area (sq. mi)}$の形で人口密度を計算してください。"
   ]
  },
  {
   "cell_type": "code",
   "execution_count": 11,
   "metadata": {},
   "outputs": [
    {
     "name": "stdout",
     "output_type": "stream",
     "text": [
      "     state/region     ages  year  population  area (sq. mi)  \\\n",
      "0              AK    total  1990    553290.0       656425.0   \n",
      "1              AK    total  1991    570193.0       656425.0   \n",
      "2              AK    total  1992    588736.0       656425.0   \n",
      "3              AK    total  1993    599434.0       656425.0   \n",
      "4              AK    total  1994    603308.0       656425.0   \n",
      "...           ...      ...   ...         ...            ...   \n",
      "2443           WY  under18  2009    134960.0        97818.0   \n",
      "2444           WY  under18  2010    135351.0        97818.0   \n",
      "2445           WY  under18  2011    135407.0        97818.0   \n",
      "2446           WY  under18  2012    136526.0        97818.0   \n",
      "2447           WY  under18  2013    137679.0        97818.0   \n",
      "\n",
      "      population_density  \n",
      "0               0.842884  \n",
      "1               0.868634  \n",
      "2               0.896882  \n",
      "3               0.913180  \n",
      "4               0.919081  \n",
      "...                  ...  \n",
      "2443            1.379705  \n",
      "2444            1.383702  \n",
      "2445            1.384275  \n",
      "2446            1.395714  \n",
      "2447            1.407502  \n",
      "\n",
      "[2448 rows x 6 columns]\n"
     ]
    }
   ],
   "source": [
    "import pandas as pd\n",
    "\n",
    "\n",
    "abbrevs = abbrevs.rename(columns={'state': 'state_name'})\n",
    "areas = areas.rename(columns={'state (full)': 'state'})\n",
    "pop_all = population.merge(abbrevs, how='left', left_on='state/region', right_on='abbreviation')\n",
    "pop_all['state'] = pop_all['state_name'].fillna(pop_all['state/region'])\n",
    "merged_all = pop_all.merge(areas, how='left', on='state')\n",
    "merged_all = merged_all.dropna(subset=['area (sq. mi)'])\n",
    "grouped = merged_all.groupby(['state/region', 'ages', 'year'], as_index=False).agg({\n",
    "    'population': 'sum',\n",
    "    'area (sq. mi)': 'first'\n",
    "})\n",
    "grouped['population_density'] = grouped['population'] / grouped['area (sq. mi)']\n",
    "\n",
    "print(grouped)"
   ]
  }
 ],
 "metadata": {
  "kernelspec": {
   "display_name": "base",
   "language": "python",
   "name": "python3"
  },
  "language_info": {
   "codemirror_mode": {
    "name": "ipython",
    "version": 3
   },
   "file_extension": ".py",
   "mimetype": "text/x-python",
   "name": "python",
   "nbconvert_exporter": "python",
   "pygments_lexer": "ipython3",
   "version": "3.12.4"
  },
  "orig_nbformat": 4
 },
 "nbformat": 4,
 "nbformat_minor": 2
}
