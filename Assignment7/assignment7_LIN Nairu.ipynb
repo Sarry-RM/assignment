{
 "cells": [
  {
   "attachments": {},
   "cell_type": "markdown",
   "metadata": {},
   "source": [
    "# Assignment7\n",
    "\n",
    "そのまま課題ファイルで編集しないでください。課題ファイルを複製してから課題を回答してください。"
   ]
  },
  {
   "attachments": {},
   "cell_type": "markdown",
   "metadata": {},
   "source": [
    "## 課題1\n",
    "\n",
    "pandasでDataフォルダの```example.json```を読み込む。"
   ]
  },
  {
   "cell_type": "code",
   "execution_count": null,
   "metadata": {},
   "outputs": [
    {
     "name": "stdout",
     "output_type": "stream",
     "text": [
      "     Name  Price  Model  Power\n",
      "0   Honda  10000   2005   1300\n",
      "1  Toyota  12000   2010   1600\n",
      "2    Audi  25000   2017   1800\n",
      "3    Ford  28000   2009   1200\n"
     ]
    }
   ],
   "source": [
    "import pandas as pd\n",
    "\n",
    "file_path = 'Data/example.json'\n",
    "\n",
    "df = pd.read_json(file_path, lines=True)\n",
    "\n",
    "print(df.head())"
   ]
  },
  {
   "attachments": {},
   "cell_type": "markdown",
   "metadata": {},
   "source": [
    "## 課題2\n",
    "\n",
    "pandasでDataフォルダの```state-abbrevs.csv```、```state-areas.csv```、```state-population.csv```を読み込む。\n",
    "\n",
    "これらのデータを使って、**2010年**アメリカの各州の人口密度を計算しよう。"
   ]
  },
  {
   "cell_type": "code",
   "execution_count": 4,
   "metadata": {},
   "outputs": [],
   "source": [
    "import pandas as pd\n",
    "\n",
    "abbrevs = pd.read_csv('Data/state-abbrevs.csv')\n",
    "areas = pd.read_csv('Data/state-areas.csv')\n",
    "population = pd.read_csv('Data/state-population.csv')\n",
    "\n",
    "pop_2010 = population[\n",
    "    (population['year'] == 2010) & \n",
    "    (population['ages'] == 'total')\n",
    "]\n",
    "\n",
    "pop_2010 = pop_2010.merge(abbrevs, how='left', left_on='state/region', right_on='abbreviation')\n",
    "pop_2010['state'] = pop_2010['state'].fillna(pop_2010['state/region'])\n",
    "\n",
    "merged = pop_2010.merge(areas, how='left', on='state')\n",
    "merged = merged.dropna(subset=['population', 'area (sq. mi)'])\n",
    "merged['density'] = merged['population'] / merged['area (sq. mi)']\n",
    "\n",
    "result = merged[['state', 'population', 'area (sq. mi)', 'density']]"
   ]
  },
  {
   "attachments": {},
   "cell_type": "markdown",
   "metadata": {},
   "source": [
    "## 課題3\n",
    "\n",
    "```state/region```、```ages```と```years```でデータフレームをグループして、各グループで$\\frac{population}{area (sq. mi)}$の形で人口密度を計算してください。"
   ]
  },
  {
   "cell_type": "code",
   "execution_count": 5,
   "metadata": {},
   "outputs": [
    {
     "name": "stdout",
     "output_type": "stream",
     "text": [
      "  state/region   ages  year   density\n",
      "0           AK  total  1990  0.842884\n",
      "1           AK  total  1991  0.868634\n",
      "2           AK  total  1992  0.896882\n",
      "3           AK  total  1993  0.913180\n",
      "4           AK  total  1994  0.919081\n",
      "5           AK  total  1995  0.920763\n",
      "6           AK  total  1996  0.927096\n",
      "7           AK  total  1997  0.933797\n",
      "8           AK  total  1998  0.944408\n",
      "9           AK  total  1999  0.951790\n"
     ]
    }
   ],
   "source": [
    "import pandas as pd\n",
    "\n",
    "abbrevs = pd.read_csv('Data/state-abbrevs.csv')\n",
    "areas = pd.read_csv('Data/state-areas.csv')\n",
    "population = pd.read_csv('Data/state-population.csv')\n",
    "\n",
    "pop = population.merge(abbrevs, how='left', left_on='state/region', right_on='abbreviation')\n",
    "pop['state'] = pop['state'].fillna(pop['state/region'])\n",
    "pop = pop.merge(areas, how='left', on='state')\n",
    "pop = pop.dropna(subset=['population', 'area (sq. mi)'])\n",
    "\n",
    "pop['density'] = pop['population'] / pop['area (sq. mi)']\n",
    "\n",
    "grouped = pop.groupby(['state/region', 'ages', 'year'])['density'].mean().reset_index()\n",
    "\n",
    "print(grouped.head(10))\n"
   ]
  }
 ],
 "metadata": {
  "kernelspec": {
   "display_name": "Python 3",
   "language": "python",
   "name": "python3"
  },
  "language_info": {
   "codemirror_mode": {
    "name": "ipython",
    "version": 3
   },
   "file_extension": ".py",
   "mimetype": "text/x-python",
   "name": "python",
   "nbconvert_exporter": "python",
   "pygments_lexer": "ipython3",
   "version": "3.11.9"
  },
  "orig_nbformat": 4
 },
 "nbformat": 4,
 "nbformat_minor": 2
}
