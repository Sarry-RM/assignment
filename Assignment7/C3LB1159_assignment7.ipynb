{
  "cells": [
    {
      "cell_type": "markdown",
      "metadata": {
        "id": "qI_L70LKBsac"
      },
      "source": [
        "# Assignment7\n",
        "\n",
        "そのまま課題ファイルで編集しないでください。課題ファイルを複製してから課題を回答してください。"
      ]
    },
    {
      "cell_type": "code",
      "source": [
        "import numpy as np\n",
        "import pandas as pd\n",
        "import matplotlib.pyplot as plt"
      ],
      "metadata": {
        "id": "1Kd3pA_6Bug3"
      },
      "execution_count": null,
      "outputs": []
    },
    {
      "cell_type": "code",
      "source": [
        "from google.colab import drive\n",
        "drive.mount('/content/drive')"
      ],
      "metadata": {
        "colab": {
          "base_uri": "https://localhost:8080/"
        },
        "id": "xlOsP43mDgKT",
        "outputId": "4aeab6c1-8ebf-4f0d-82f1-ac3540a49f0b"
      },
      "execution_count": null,
      "outputs": [
        {
          "output_type": "stream",
          "name": "stdout",
          "text": [
            "Drive already mounted at /content/drive; to attempt to forcibly remount, call drive.mount(\"/content/drive\", force_remount=True).\n"
          ]
        }
      ]
    },
    {
      "cell_type": "markdown",
      "metadata": {
        "id": "7GlD4mc-Bsaf"
      },
      "source": [
        "## 課題1\n",
        "\n",
        "pandasでDataフォルダの```example.json```を読み込む。"
      ]
    },
    {
      "cell_type": "code",
      "source": [
        "json_path_path = '/content/drive/MyDrive/CSS/example.json'"
      ],
      "metadata": {
        "id": "AnIFeZuIEsmH"
      },
      "execution_count": null,
      "outputs": []
    },
    {
      "cell_type": "markdown",
      "metadata": {
        "id": "A4pcdvtuBsag"
      },
      "source": [
        "## 課題2\n",
        "\n",
        "pandasでDataフォルダの```state-abbrevs.csv```、```state-areas.csv```、```state-population.csv```を読み込む。\n",
        "\n",
        "これらのデータを使って、**2010年**アメリカの各州の人口密度を計算しよう。"
      ]
    },
    {
      "cell_type": "code",
      "execution_count": null,
      "metadata": {
        "id": "Ka7zdBLMBsag"
      },
      "outputs": [],
      "source": [
        "#読み込み\n",
        "abbrevs_path = '/content/drive/MyDrive/CSS/state-abbrevs.csv'"
      ]
    },
    {
      "cell_type": "code",
      "source": [
        "area_path = '/content/drive/MyDrive/CSS/state-areas.csv'"
      ],
      "metadata": {
        "id": "JdcGP0i0Hr2z"
      },
      "execution_count": null,
      "outputs": []
    },
    {
      "cell_type": "code",
      "source": [
        "population_path = '/content/drive/MyDrive/CSS/state-population.csv'"
      ],
      "metadata": {
        "id": "KHctGiKEHyLV"
      },
      "execution_count": null,
      "outputs": []
    },
    {
      "cell_type": "code",
      "source": [
        "#命名\n",
        "abbrevs = pd.read_csv(abbrevs_path)\n",
        "areas = pd.read_csv(area_path)\n",
        "population = pd.read_csv(population_path)"
      ],
      "metadata": {
        "id": "80D2VLl3MA8e"
      },
      "execution_count": null,
      "outputs": []
    },
    {
      "cell_type": "code",
      "source": [
        "#正常に読み込めたかチェック\n",
        "print(abbrevs.head())"
      ],
      "metadata": {
        "colab": {
          "base_uri": "https://localhost:8080/"
        },
        "id": "pz6JK9WoKcu3",
        "outputId": "516613d4-85c2-4d52-e59b-1c903fce52b8"
      },
      "execution_count": null,
      "outputs": [
        {
          "output_type": "stream",
          "name": "stdout",
          "text": [
            "        state abbreviation\n",
            "0     Alabama           AL\n",
            "1      Alaska           AK\n",
            "2     Arizona           AZ\n",
            "3    Arkansas           AR\n",
            "4  California           CA\n"
          ]
        }
      ]
    },
    {
      "cell_type": "code",
      "source": [
        "print(areas.head())"
      ],
      "metadata": {
        "colab": {
          "base_uri": "https://localhost:8080/"
        },
        "id": "9i6imiE7MNAM",
        "outputId": "b93b17f4-ac48-4d3e-9aad-50ef9ebddaf1"
      },
      "execution_count": null,
      "outputs": [
        {
          "output_type": "stream",
          "name": "stdout",
          "text": [
            "        state  area (sq. mi)\n",
            "0     Alabama          52423\n",
            "1      Alaska         656425\n",
            "2     Arizona         114006\n",
            "3    Arkansas          53182\n",
            "4  California         163707\n"
          ]
        }
      ]
    },
    {
      "cell_type": "code",
      "source": [
        "print(population.head())"
      ],
      "metadata": {
        "colab": {
          "base_uri": "https://localhost:8080/"
        },
        "id": "awSbItM2MPmW",
        "outputId": "583b8031-1935-4dfe-b292-ea77496f53d3"
      },
      "execution_count": null,
      "outputs": [
        {
          "output_type": "stream",
          "name": "stdout",
          "text": [
            "  state/region     ages  year  population\n",
            "0           AL  under18  2012   1117489.0\n",
            "1           AL    total  2012   4817528.0\n",
            "2           AL  under18  2010   1130966.0\n",
            "3           AL    total  2010   4785570.0\n",
            "4           AL  under18  2011   1125763.0\n"
          ]
        }
      ]
    },
    {
      "cell_type": "code",
      "source": [
        "#2010年のデータのみ抽出する\n",
        "population_2010 = population.query(\"year == 2010 and ages == 'total'\")"
      ],
      "metadata": {
        "id": "J_d9-E0YRmpT"
      },
      "execution_count": null,
      "outputs": []
    },
    {
      "cell_type": "code",
      "source": [
        "#それぞれの州の略称と正式な名称をマッチングさせる\n",
        "population_2010_1 = population_2010.drop(columns=['abbreviation', 'state'], errors='ignore')\n",
        "\n",
        "#それぞれの州の略称と正式な名称を一対一でマッチング\n",
        "population_2010_2 = population_2010_1.merge(abbrevs, how='left', left_on='state/region', right_on='abbreviation')"
      ],
      "metadata": {
        "id": "y477Omcka325"
      },
      "execution_count": null,
      "outputs": []
    },
    {
      "cell_type": "code",
      "source": [
        "#欠損値を処理\n",
        "population_2010_2['state'] = population_2010_2['state'].fillna(population_2010_2['state/region'])"
      ],
      "metadata": {
        "id": "tlMPxcwuXDRE"
      },
      "execution_count": null,
      "outputs": []
    },
    {
      "cell_type": "code",
      "source": [
        "#面積データとマージする\n",
        "population_area = population_2010_2.merge(areas, how='inner', on='state')"
      ],
      "metadata": {
        "id": "G_Y0LdKwgs-o"
      },
      "execution_count": null,
      "outputs": []
    },
    {
      "cell_type": "code",
      "source": [
        "#人口密度を計算\n",
        "population_area['density'] = population_area['population'] / population_area['area (sq. mi)']\n",
        "\n",
        "result = population_area[['state', 'population', 'area (sq. mi)', 'density']]\\\n",
        "           .sort_values(by='density', ascending=False)\n",
        "\n",
        "print(result.head(50))"
      ],
      "metadata": {
        "colab": {
          "base_uri": "https://localhost:8080/"
        },
        "id": "_A3rGlyggy7Q",
        "outputId": "472a3b46-6c7a-486a-f5f5-62b066a70e13"
      },
      "execution_count": null,
      "outputs": [
        {
          "output_type": "stream",
          "name": "stdout",
          "text": [
            "                   state  population  area (sq. mi)      density\n",
            "8   District of Columbia    605125.0             68  8898.897059\n",
            "30            New Jersey   8802707.0           8722  1009.253268\n",
            "39          Rhode Island   1052669.0           1545   681.339159\n",
            "6            Connecticut   3579210.0           5544   645.600649\n",
            "21         Massachusetts   6563263.0          10555   621.815538\n",
            "20              Maryland   5787193.0          12407   466.445797\n",
            "7               Delaware    899711.0           1954   460.445752\n",
            "32              New York  19398228.0          54475   356.094135\n",
            "9                Florida  18846054.0          65758   286.597129\n",
            "38          Pennsylvania  12710472.0          46058   275.966651\n",
            "35                  Ohio  11545435.0          44828   257.549634\n",
            "4             California  37333601.0         163707   228.051342\n",
            "13              Illinois  12839695.0          57918   221.687472\n",
            "46              Virginia   8024417.0          42769   187.622273\n",
            "14               Indiana   6489965.0          36420   178.197831\n",
            "33        North Carolina   9559533.0          53821   177.617157\n",
            "10               Georgia   9713248.0          59441   163.409902\n",
            "42             Tennessee   6356683.0          42146   150.825298\n",
            "40        South Carolina   4636361.0          32007   144.854594\n",
            "29         New Hampshire   1316614.0           9351   140.799273\n",
            "11                Hawaii   1363731.0          10932   124.746707\n",
            "17              Kentucky   4347698.0          40411   107.586994\n",
            "22              Michigan   9876149.0          96810   102.015794\n",
            "47            Washington   6742256.0          71303    94.557817\n",
            "43                 Texas  25245178.0         268601    93.987655\n",
            "0                Alabama   4785570.0          52423    91.287603\n",
            "18             Louisiana   4545392.0          51843    87.676099\n",
            "49             Wisconsin   5689060.0          65503    86.851900\n",
            "25              Missouri   5996063.0          69709    86.015622\n",
            "48         West Virginia   1854146.0          24231    76.519582\n",
            "45               Vermont    625793.0           9615    65.085075\n",
            "24           Mississippi   2970047.0          48434    61.321530\n",
            "23             Minnesota   5310337.0          86943    61.078373\n",
            "2                Arizona   6408790.0         114006    56.214497\n",
            "3               Arkansas   2922280.0          53182    54.948667\n",
            "15                  Iowa   3050314.0          56276    54.202751\n",
            "36              Oklahoma   3759263.0          69903    53.778278\n",
            "5               Colorado   5048196.0         104100    48.493718\n",
            "37                Oregon   3837208.0          98386    39.001565\n",
            "19                 Maine   1327366.0          35387    37.509990\n",
            "16                Kansas   2858910.0          82282    34.745266\n",
            "44                  Utah   2774424.0          84904    32.677188\n",
            "28                Nevada   2703230.0         110567    24.448796\n",
            "27              Nebraska   1829838.0          77358    23.654153\n",
            "12                 Idaho   1570718.0          83574    18.794338\n",
            "31            New Mexico   2064982.0         121593    16.982737\n",
            "41          South Dakota    816211.0          77121    10.583512\n",
            "34          North Dakota    674344.0          70704     9.537565\n",
            "26               Montana    990527.0         147046     6.736171\n",
            "50               Wyoming    564222.0          97818     5.768079\n"
          ]
        }
      ]
    },
    {
      "cell_type": "markdown",
      "metadata": {
        "id": "0J0f7v7IBsah"
      },
      "source": [
        "## 課題3\n",
        "\n",
        "```state/region```、```ages```と```years```でデータフレームをグループして、各グループで$\\frac{population}{area (sq. mi)}$の形で人口密度を計算してください。"
      ]
    },
    {
      "cell_type": "code",
      "source": [
        "#state/region・ages・yearごとにグループ化し，その密度を求める\n",
        "group_density = population_area.groupby(['state/region', 'ages', 'year'])['density'].mean().reset_index()\n",
        "\n",
        "#アウトプット\n",
        "print(group_density.head(50))"
      ],
      "metadata": {
        "colab": {
          "base_uri": "https://localhost:8080/"
        },
        "id": "J-9d1cH7hsMA",
        "outputId": "9841aa7c-9b83-4d05-b68e-556493c4b55b"
      },
      "execution_count": null,
      "outputs": [
        {
          "output_type": "stream",
          "name": "stdout",
          "text": [
            "   state/region   ages  year      density\n",
            "0            AK  total  2010     1.087509\n",
            "1            AL  total  2010    91.287603\n",
            "2            AR  total  2010    54.948667\n",
            "3            AZ  total  2010    56.214497\n",
            "4            CA  total  2010   228.051342\n",
            "5            CO  total  2010    48.493718\n",
            "6            CT  total  2010   645.600649\n",
            "7            DC  total  2010  8898.897059\n",
            "8            DE  total  2010   460.445752\n",
            "9            FL  total  2010   286.597129\n",
            "10           GA  total  2010   163.409902\n",
            "11           HI  total  2010   124.746707\n",
            "12           IA  total  2010    54.202751\n",
            "13           ID  total  2010    18.794338\n",
            "14           IL  total  2010   221.687472\n",
            "15           IN  total  2010   178.197831\n",
            "16           KS  total  2010    34.745266\n",
            "17           KY  total  2010   107.586994\n",
            "18           LA  total  2010    87.676099\n",
            "19           MA  total  2010   621.815538\n",
            "20           MD  total  2010   466.445797\n",
            "21           ME  total  2010    37.509990\n",
            "22           MI  total  2010   102.015794\n",
            "23           MN  total  2010    61.078373\n",
            "24           MO  total  2010    86.015622\n",
            "25           MS  total  2010    61.321530\n",
            "26           MT  total  2010     6.736171\n",
            "27           NC  total  2010   177.617157\n",
            "28           ND  total  2010     9.537565\n",
            "29           NE  total  2010    23.654153\n",
            "30           NH  total  2010   140.799273\n",
            "31           NJ  total  2010  1009.253268\n",
            "32           NM  total  2010    16.982737\n",
            "33           NV  total  2010    24.448796\n",
            "34           NY  total  2010   356.094135\n",
            "35           OH  total  2010   257.549634\n",
            "36           OK  total  2010    53.778278\n",
            "37           OR  total  2010    39.001565\n",
            "38           PA  total  2010   275.966651\n",
            "39           RI  total  2010   681.339159\n",
            "40           SC  total  2010   144.854594\n",
            "41           SD  total  2010    10.583512\n",
            "42           TN  total  2010   150.825298\n",
            "43           TX  total  2010    93.987655\n",
            "44           UT  total  2010    32.677188\n",
            "45           VA  total  2010   187.622273\n",
            "46           VT  total  2010    65.085075\n",
            "47           WA  total  2010    94.557817\n",
            "48           WI  total  2010    86.851900\n",
            "49           WV  total  2010    76.519582\n"
          ]
        }
      ]
    }
  ],
  "metadata": {
    "kernelspec": {
      "display_name": "base",
      "language": "python",
      "name": "python3"
    },
    "language_info": {
      "codemirror_mode": {
        "name": "ipython",
        "version": 3
      },
      "file_extension": ".py",
      "mimetype": "text/x-python",
      "name": "python",
      "nbconvert_exporter": "python",
      "pygments_lexer": "ipython3",
      "version": "3.11.5"
    },
    "orig_nbformat": 4,
    "colab": {
      "provenance": []
    }
  },
  "nbformat": 4,
  "nbformat_minor": 0
}