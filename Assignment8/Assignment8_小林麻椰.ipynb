{
 "cells": [
  {
   "cell_type": "markdown",
   "id": "2f96551a",
   "metadata": {},
   "source": [
    "# 課題8\n",
    "\n",
    "そのまま課題ファイルで編集しないでください。課題ファイルを複製してから課題を回答してください。"
   ]
  },
  {
   "cell_type": "code",
   "execution_count": null,
   "id": "c93de74c",
   "metadata": {},
   "outputs": [],
   "source": [
    "import pandas as pd\n",
    "df=pd.read_csv(\"https://raw.githubusercontent.com/lvzeyu/css_tohoku/master/css_tohoku/draft/Data/titanic.csv\")"
   ]
  },
  {
   "cell_type": "markdown",
   "id": "8986df38",
   "metadata": {},
   "source": [
    "## 課題1\n",
    "\n",
    "以下の図を再現してください\n",
    "\n",
    "- 年齢の分布を、異なる階級幅を使って、4つのサブプロットをわけて描画する\n",
    "   - 階級幅を適当で決めてよい\n",
    "- 各サブプロットには、\n",
    "    - x軸ラベル、y軸ラベル、サブプロット番号(a-d)を指定する\n",
    "    - 水平方向のグリッド線を追加する\n",
    "    - ヒストグラムの色を`lightblue`に変更する"
   ]
  },
  {
   "cell_type": "code",
   "execution_count": null,
   "id": "c74ed405",
   "metadata": {},
   "outputs": [],
   "source": [
    "from google.colab import drive\n",
    "drive.mount('/content/drive')"
   ]
  },
  {
   "cell_type": "code",
   "execution_count": null,
   "id": "41d602f5",
   "metadata": {},
   "outputs": [],
   "source": [
    "import matplotlib.pyplot as plt\n",
    "\n",
    "plt.style.use('classic')\n",
    "!pip install scienceplots\n",
    "import scienceplots\n",
    "plt.style.use(['science','no-latex'])\n",
    "\n",
    "from matplotlib import font_manager\n",
    "\n",
    "# Path to your TTF file\n",
    "ttf_path = '/content/drive/MyDrive/Noto_Sans_JP-2025/Noto_Sans_JP/NotoSansJP-VariableFont_wght.ttf'\n",
    "# Register the font\n",
    "font_manager.fontManager.addfont(ttf_path)\n",
    "custom_font = font_manager.FontProperties(fname=ttf_path)\n",
    "\n",
    "# Set the custom font as default\n",
    "plt.rcParams['font.family'] = custom_font.get_name()"
   ]
  },
  {
   "cell_type": "code",
   "execution_count": null,
   "id": "afd20cef",
   "metadata": {},
   "outputs": [],
   "source": [
    "print(df.columns)"
   ]
  },
  {
   "cell_type": "code",
   "execution_count": null,
   "id": "7f9ae2b9",
   "metadata": {},
   "outputs": [],
   "source": [
    "#欠損値を除く\n",
    "age_data=df['age'].dropna()\n",
    "\n",
    "#サブプロットの作成\n",
    "fig, axes=plt.subplots(2, 2, figsize=(12, 10))\n",
    "\n",
    "#階級幅の設定\n",
    "bins_list = [np.arange(0, 80, 5),\n",
    "             np.arange(0, 80, 10),\n",
    "             np.arange(0, 80, 15),\n",
    "             np.arange(0, 80, 20)]\n",
    "\n",
    "#タイトルの設定\n",
    "titles = ['a', 'b', 'c', 'd']\n",
    "\n",
    "# 各サブプロットの描画\n",
    "for i, ax in enumerate(axes.flatten()):\n",
    "    ax.hist(age_data, bins=bins_list[i], color='lightblue', edgecolor='black')\n",
    "    ax.set_xlabel('年齢(歳)', fontsize=14, labelpad=10)\n",
    "    ax.set_ylabel('人数', fontsize=14, labelpad=10)\n",
    "    ax.set_title(titles[i], fontsize=12, loc='left', pad=10)\n",
    "    ax.yaxis.grid(True)\n",
    "    ax.set_xlim(0,80)\n",
    "\n",
    "plt.tight_layout()\n",
    "plt.show()"
   ]
  },
  {
   "cell_type": "markdown",
   "id": "63535fab",
   "metadata": {},
   "source": [
    "## 課題2\n",
    "\n",
    "以下の図を再現してください\n",
    "\n",
    "- 男性乗客と女性乗客の年齢の分布をそれぞれ描画する\n",
    "- 全乗客の年齢分布を示す灰色ヒストグラムも描画する\n",
    "- 図のタイトル、x軸ラベル、y軸ラベル、凡例を設定する"
   ]
  },
  {
   "cell_type": "code",
   "execution_count": null,
   "id": "66d7ac29",
   "metadata": {},
   "outputs": [],
   "source": [
    "import numpy as np\n",
    "\n",
    "# 年齢データ（欠損除去）\n",
    "age_all = df['age'].dropna()\n",
    "age_male = df.loc[df['sex'] == 'male', 'age'].dropna()\n",
    "age_female = df.loc[df['sex'] == 'female', 'age'].dropna()\n",
    "\n",
    "# 共通のビン設定（階級幅5歳）\n",
    "bins = np.arange(0, 85, 5)\n",
    "fig, axes = plt.subplots(1, 2, figsize=(14, 6), sharey=True)\n",
    "\n",
    "# 全乗客（灰色）ヒストグラム（密度ではなく頻度）\n",
    "plt.hist(age_all, bins=bins, color='gray', alpha=0.5, label='全乗客')\n",
    "\n",
    "# 男性と全乗客\n",
    "axes[0].hist(age_all, bins=bins, color='gray', alpha=0.5, label='すべての乗客')\n",
    "axes[0].hist(age_male, bins=bins, color='blue', alpha=0.6, label='男性')\n",
    "axes[0].set_title('男性乗客', fontsize=16)\n",
    "axes[0].set_xlabel('乗客の年齢(歳)', fontsize=14)\n",
    "axes[0].set_ylabel('人数', fontsize=14)\n",
    "axes[0].legend()\n",
    "axes[0].grid(axis='y', linestyle='--', alpha=0.7)\n",
    "axes[0].set_xlim(0, 80)\n",
    "\n",
    "\n",
    "# 女性と全乗客\n",
    "axes[1].hist(age_all, bins=bins, color='gray', alpha=0.5, label='すべての乗客')\n",
    "axes[1].hist(age_female, bins=bins, color='red', alpha=0.6, label='女性')\n",
    "axes[1].set_title('女性乗客', fontsize=16)\n",
    "axes[1].set_xlabel('乗客の年齢(歳)', fontsize=14)\n",
    "axes[1].legend()\n",
    "axes[1].grid(axis='y', linestyle='--', alpha=0.7)\n",
    "axes[1].set_xlim(0, 80)\n",
    " \n",
    "\n",
    "plt.tight_layout()\n",
    "plt.show()"
   ]
  }
 ],
 "metadata": {
  "language_info": {
   "name": "python"
  }
 },
 "nbformat": 4,
 "nbformat_minor": 5
}
