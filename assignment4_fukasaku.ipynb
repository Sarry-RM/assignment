{
  "cells": [
    {
      "cell_type": "markdown",
      "metadata": {
        "id": "view-in-github",
        "colab_type": "text"
      },
      "source": [
        "<a href=\"https://colab.research.google.com/github/FukasakuRino/chss_2025_assignment/blob/rino/assignment4_fukasaku.ipynb\" target=\"_parent\"><img src=\"https://colab.research.google.com/assets/colab-badge.svg\" alt=\"Open In Colab\"/></a>"
      ]
    },
    {
      "cell_type": "markdown",
      "id": "2c5a3c7c",
      "metadata": {
        "id": "2c5a3c7c"
      },
      "source": [
        "## 課題1\n",
        "以下の指示に従って、```Sphere```というクラスを作成しなさい。\n",
        "\n",
        "- インスタンス化時に```radius```という値を受け取る\n",
        "- ```surface_area```というメソッドで表面積を計算する\n",
        "\n",
        "$$S = 4 \\pi r^2 $$\n",
        "\n",
        "- ```volume```というメソッドで体積を計算する\n",
        "\n",
        "\n",
        "$$V = \\frac{4}{3} \\pi r^3 $$"
      ]
    },
    {
      "cell_type": "code",
      "execution_count": null,
      "id": "de6694f8",
      "metadata": {
        "id": "de6694f8"
      },
      "outputs": [],
      "source": [
        "class Sphere():\n",
        "  def __init__(self, radius):\n",
        "    self.radius = radius\n",
        "    self.surface_area = 4 * 3.14 * (radius ** 2)\n",
        "    self.volume = 4 / 3 * 3.14 * (radius ** 3)\n",
        "\n",
        "  def surface_area(self):\n",
        "    print(\"This is\", self.surface_area, \"cm~2\")\n",
        "\n",
        "  def volume(self):\n",
        "    print( \"This is\", self.volume, \"cm~3\")"
      ]
    },
    {
      "cell_type": "code",
      "execution_count": null,
      "id": "475ef170",
      "metadata": {
        "id": "475ef170"
      },
      "outputs": [],
      "source": [
        "# テスト用のコード\n",
        "#s = Sphere(1)\n",
        "#s.surface_area()\n",
        "#s.volume()"
      ]
    },
    {
      "cell_type": "code",
      "execution_count": null,
      "id": "6953778f",
      "metadata": {
        "id": "6953778f",
        "colab": {
          "base_uri": "https://localhost:8080/"
        },
        "outputId": "22a27f43-45dc-43f2-e319-902c2c87cf88"
      },
      "outputs": [
        {
          "output_type": "execute_result",
          "data": {
            "text/plain": [
              "12.56"
            ]
          },
          "metadata": {},
          "execution_count": 12
        }
      ],
      "source": [
        "s = Sphere(1)\n",
        "s.surface_area\n"
      ]
    },
    {
      "cell_type": "code",
      "source": [
        "s.volume"
      ],
      "metadata": {
        "colab": {
          "base_uri": "https://localhost:8080/"
        },
        "id": "rQbkG65fI309",
        "outputId": "1a7dd20c-b22b-4ec5-a77c-e196f04d1d3e"
      },
      "id": "rQbkG65fI309",
      "execution_count": null,
      "outputs": [
        {
          "output_type": "execute_result",
          "data": {
            "text/plain": [
              "4.1866666666666665"
            ]
          },
          "metadata": {},
          "execution_count": 14
        }
      ]
    }
  ],
  "metadata": {
    "kernelspec": {
      "display_name": "base",
      "language": "python",
      "name": "python3"
    },
    "language_info": {
      "codemirror_mode": {
        "name": "ipython",
        "version": 3
      },
      "file_extension": ".py",
      "mimetype": "text/x-python",
      "name": "python",
      "nbconvert_exporter": "python",
      "pygments_lexer": "ipython3",
      "version": "3.11.5"
    },
    "colab": {
      "provenance": [],
      "include_colab_link": true
    }
  },
  "nbformat": 4,
  "nbformat_minor": 5
}