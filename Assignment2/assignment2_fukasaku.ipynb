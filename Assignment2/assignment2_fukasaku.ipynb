{
  "cells": [
    {
      "cell_type": "markdown",
      "metadata": {
        "id": "view-in-github",
        "colab_type": "text"
      },
      "source": [
        "<a href=\"https://colab.research.google.com/github/FukasakuRino/chss_2025_assignment/blob/rino/assignment2_fukasaku.ipynb\" target=\"_parent\"><img src=\"https://colab.research.google.com/assets/colab-badge.svg\" alt=\"Open In Colab\"/></a>"
      ]
    },
    {
      "cell_type": "markdown",
      "id": "f1274684",
      "metadata": {
        "id": "f1274684"
      },
      "source": [
        "# 課題1\n",
        "\n",
        "与えられたリスト内重複な値を削除してください。"
      ]
    },
    {
      "cell_type": "code",
      "execution_count": null,
      "id": "de7c60a7",
      "metadata": {
        "id": "de7c60a7"
      },
      "outputs": [],
      "source": [
        "numbers = [1, 2, 3, 2, 4, 3, 5, 4, 6, 57, 57, 6, 18, 7, 9, 8, 10, 9, 0, 0, 10]"
      ]
    },
    {
      "cell_type": "code",
      "execution_count": null,
      "id": "1f070a57",
      "metadata": {
        "id": "1f070a57",
        "colab": {
          "base_uri": "https://localhost:8080/"
        },
        "outputId": "73e10d99-abfb-4024-b6de-2fd3af358f6e"
      },
      "outputs": [
        {
          "output_type": "stream",
          "name": "stdout",
          "text": [
            "{0, 1, 2, 3, 4, 5, 6, 7, 8, 9, 10, 18, 57}\n"
          ]
        }
      ],
      "source": [
        "# 回答\n",
        "set_numbers = set(numbers)\n",
        "print(set_numbers)"
      ]
    },
    {
      "cell_type": "markdown",
      "id": "45dab8cc",
      "metadata": {
        "id": "45dab8cc"
      },
      "source": [
        "# 課題2\n",
        "\n",
        "与えられたリスト内の指定した値を検索し、値の出現回数を```print```してください。見つからない場合は```Not Exists```をprintしてください。\n",
        "\n",
        "```value_0```と```value_１```を実行した結果を確認してください。"
      ]
    },
    {
      "cell_type": "code",
      "execution_count": null,
      "id": "f5fa07be",
      "metadata": {
        "id": "f5fa07be"
      },
      "outputs": [],
      "source": [
        "\n",
        "numbers = [1, 2, 3, 2, 4, 3, 5, 4, 6, 57, 57, 6, 18, 7, 9, 8, 10, 9, 0, 0, 10]\n",
        "value_0= 0\n",
        "value_1= 100"
      ]
    },
    {
      "cell_type": "code",
      "execution_count": null,
      "id": "5730efb9",
      "metadata": {
        "id": "5730efb9",
        "colab": {
          "base_uri": "https://localhost:8080/"
        },
        "outputId": "22291b29-1a60-41dd-e1d9-734f6683bb70"
      },
      "outputs": [
        {
          "output_type": "stream",
          "name": "stdout",
          "text": [
            "出現回数： 2\n",
            "出現回数：Not Exists\n"
          ]
        }
      ],
      "source": [
        "# 回答\n",
        "count_value_0 = numbers.count(value_0)\n",
        "count_value_1 = numbers.count(value_1)\n",
        "\n",
        "if count_value_0 == 0:\n",
        "    print(\"出現回数：Not Exists\")\n",
        "else:\n",
        "    print(\"出現回数：\", count_value_0)\n",
        "\n",
        "if count_value_1 == 0:\n",
        "    print(\"出現回数：Not Exists\")\n",
        "else:\n",
        "    print(\"出現回数：\", count_value_1)\n"
      ]
    },
    {
      "cell_type": "markdown",
      "id": "8f45bea5",
      "metadata": {
        "id": "8f45bea5"
      },
      "source": [
        "# 課題3\n",
        "\n",
        "与えられた辞書内の指定したに一致するキーを検索し、そのキーに対応する値を```print```してください。見つからない場合は```Not Exists```を```print```してください。\n",
        "\n",
        "```value_0```と```value_１```を実行した結果を確認してください。"
      ]
    },
    {
      "cell_type": "code",
      "source": [
        "birth={'Marx': 1818,\n",
        "       'Weber': 1864,\n",
        "       'Durkheim': 1858,\n",
        "       'Parsons': 1902,\n",
        "       'Merton': 1911}\n",
        "\n",
        "value_0= \"Parsons\"\n",
        "value_1= \"Giddens\""
      ],
      "metadata": {
        "id": "8HnacYXjF-fA"
      },
      "id": "8HnacYXjF-fA",
      "execution_count": null,
      "outputs": []
    },
    {
      "cell_type": "code",
      "execution_count": null,
      "id": "e605772b",
      "metadata": {
        "id": "e605772b",
        "colab": {
          "base_uri": "https://localhost:8080/"
        },
        "outputId": "0956a936-c57b-4192-c0bc-c4453ed74d1e"
      },
      "outputs": [
        {
          "output_type": "stream",
          "name": "stdout",
          "text": [
            "1902\n",
            "Not Exists\n"
          ]
        }
      ],
      "source": [
        "# 回答\n",
        "if value_0 in birth:\n",
        "    print(birth[value_0])\n",
        "else:\n",
        "    print(\"Not Exists\")\n",
        "\n",
        "if value_1 in birth:\n",
        "    print(birth[value_1])\n",
        "else:\n",
        "    print(\"Not Exists\")"
      ]
    },
    {
      "cell_type": "code",
      "execution_count": null,
      "id": "1e8d2cbe",
      "metadata": {
        "id": "1e8d2cbe"
      },
      "outputs": [],
      "source": []
    }
  ],
  "metadata": {
    "kernelspec": {
      "display_name": "base",
      "language": "python",
      "name": "python3"
    },
    "language_info": {
      "codemirror_mode": {
        "name": "ipython",
        "version": 3
      },
      "file_extension": ".py",
      "mimetype": "text/x-python",
      "name": "python",
      "nbconvert_exporter": "python",
      "pygments_lexer": "ipython3",
      "version": "3.11.5"
    },
    "colab": {
      "provenance": [],
      "include_colab_link": true
    }
  },
  "nbformat": 4,
  "nbformat_minor": 5
}