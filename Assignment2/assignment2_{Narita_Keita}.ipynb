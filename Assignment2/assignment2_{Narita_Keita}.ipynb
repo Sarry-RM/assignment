{
  "cells": [
    {
      "cell_type": "markdown",
      "source": [
        "###C3LB1159 NARITA KEITA###"
      ],
      "metadata": {
        "id": "j8uEojVA7_GS"
      },
      "id": "j8uEojVA7_GS"
    },
    {
      "cell_type": "markdown",
      "source": [
        "2025/05/27"
      ],
      "metadata": {
        "id": "mzSWoqR09Z-1"
      },
      "id": "mzSWoqR09Z-1"
    },
    {
      "cell_type": "markdown",
      "id": "f1274684",
      "metadata": {
        "id": "f1274684"
      },
      "source": [
        "# 課題1\n",
        "\n",
        "与えられたリスト内の重複している値を削除してください。"
      ]
    },
    {
      "cell_type": "code",
      "execution_count": null,
      "id": "de7c60a7",
      "metadata": {
        "colab": {
          "base_uri": "https://localhost:8080/"
        },
        "id": "de7c60a7",
        "outputId": "24b2fee9-3998-4c5e-8096-cf7336fb9640"
      },
      "outputs": [
        {
          "output_type": "stream",
          "name": "stdout",
          "text": [
            "[0, 1, 2, 3, 4, 5, 6, 7, 8, 9, 10, 18, 57]\n"
          ]
        }
      ],
      "source": [
        "numbers = [1, 2, 3, 2, 4, 3, 5, 4, 6, 57, 57, 6, 18, 7, 9, 8, 10, 9, 0, 0, 10]\n",
        "\n",
        "# 重複を削除した後，数が小さい順に並び替える\n",
        "X = sorted(set(numbers))\n",
        "\n",
        "print(X)"
      ]
    },
    {
      "cell_type": "markdown",
      "id": "45dab8cc",
      "metadata": {
        "id": "45dab8cc"
      },
      "source": [
        "# 課題2\n",
        "\n",
        "与えられたリスト内の指定した値を検索し、値の出現回数を```print```してください。見つからない場合は```Not Exists```をprintしてください。\n",
        "\n",
        "```value_0```と```value_１```を実行した結果を確認してください。"
      ]
    },
    {
      "cell_type": "code",
      "execution_count": null,
      "id": "f5fa07be",
      "metadata": {
        "colab": {
          "base_uri": "https://localhost:8080/"
        },
        "id": "f5fa07be",
        "outputId": "b76bf1c4-187a-4372-ff45-a45c354d52a2"
      },
      "outputs": [
        {
          "output_type": "stream",
          "name": "stdout",
          "text": [
            "2\n"
          ]
        }
      ],
      "source": [
        "#value_0を実行するコード\n",
        "numbers = [1, 2, 3, 2, 4, 3, 5, 4, 6, 57, 57, 6, 18, 7, 9, 8, 10, 9, 0, 0, 10]\n",
        "value_0 = 0\n",
        "\n",
        "for i in [value_0]:\n",
        "    print(numbers.count(i) if i in numbers else \"与えられたリスト内にはなし\")"
      ]
    },
    {
      "cell_type": "code",
      "source": [
        "#value_100を実行するコード\n",
        "numbers = [1, 2, 3, 2, 4, 3, 5, 4, 6, 57, 57, 6, 18, 7, 9, 8, 10, 9, 0, 0, 10]\n",
        "value_1 = 100\n",
        "\n",
        "for j in [value_1]:\n",
        "    print(numbers.count(j) if j in numbers else \"与えられたリスト内にはなし\")"
      ],
      "metadata": {
        "colab": {
          "base_uri": "https://localhost:8080/"
        },
        "id": "Whh--k_G7EWG",
        "outputId": "68b098bd-ccd4-4785-e363-1abcfe6cc227"
      },
      "id": "Whh--k_G7EWG",
      "execution_count": null,
      "outputs": [
        {
          "output_type": "stream",
          "name": "stdout",
          "text": [
            "与えられたリスト内にはなし\n"
          ]
        }
      ]
    },
    {
      "cell_type": "markdown",
      "id": "8f45bea5",
      "metadata": {
        "id": "8f45bea5"
      },
      "source": [
        "# 課題3\n",
        "\n",
        "与えられた辞書内の指定した一致するキーを検索し、そのキーに対応する値を```print```してください。見つからない場合は```Not Exists```を```print```してください。\n",
        "\n",
        "```value_0```と```value_１```を実行した結果を確認してください。"
      ]
    },
    {
      "cell_type": "code",
      "execution_count": null,
      "id": "0b45b69e",
      "metadata": {
        "colab": {
          "base_uri": "https://localhost:8080/"
        },
        "id": "0b45b69e",
        "outputId": "f33a0b2d-fe1b-4d65-bfc0-fd0c0e7900e8"
      },
      "outputs": [
        {
          "output_type": "stream",
          "name": "stdout",
          "text": [
            "1902\n"
          ]
        }
      ],
      "source": [
        "#value_0を実行するコード\n",
        "birth = {\n",
        "    'Marx': 1818,\n",
        "    'Weber': 1864,\n",
        "    'Durkheim': 1858,\n",
        "    'Parsons': 1902,\n",
        "    'Merton': 1911\n",
        "}\n",
        "\n",
        "value_0 = \"Parsons\"\n",
        "\n",
        "for k in [value_0]:\n",
        "    print(birth[k] if k in birth else \"与えられたリスト内にはなし\")"
      ]
    },
    {
      "cell_type": "code",
      "source": [
        "#value_1を実行するコード\n",
        "birth = {\n",
        "    'Marx': 1818,\n",
        "    'Weber': 1864,\n",
        "    'Durkheim': 1858,\n",
        "    'Parsons': 1902,\n",
        "    'Merton': 1911\n",
        "}\n",
        "\n",
        "value_1 = \"Giddens\"\n",
        "\n",
        "for l in [value_1]:\n",
        "    print(birth[l] if l in birth else \"与えられたリスト内にはなし\")"
      ],
      "metadata": {
        "colab": {
          "base_uri": "https://localhost:8080/"
        },
        "id": "njsVWJax8aNi",
        "outputId": "abea48f4-1b1c-40f9-8190-32a536f8ce38"
      },
      "id": "njsVWJax8aNi",
      "execution_count": null,
      "outputs": [
        {
          "output_type": "stream",
          "name": "stdout",
          "text": [
            "与えられたリスト内にはなし\n"
          ]
        }
      ]
    }
  ],
  "metadata": {
    "kernelspec": {
      "display_name": "base",
      "language": "python",
      "name": "python3"
    },
    "language_info": {
      "codemirror_mode": {
        "name": "ipython",
        "version": 3
      },
      "file_extension": ".py",
      "mimetype": "text/x-python",
      "name": "python",
      "nbconvert_exporter": "python",
      "pygments_lexer": "ipython3",
      "version": "3.11.5"
    },
    "colab": {
      "provenance": []
    }
  },
  "nbformat": 4,
  "nbformat_minor": 5
}