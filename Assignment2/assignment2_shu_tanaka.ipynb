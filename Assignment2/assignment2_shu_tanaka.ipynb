{
  "cells": [
    {
      "cell_type": "markdown",
      "id": "f1274684",
      "metadata": {
        "id": "f1274684"
      },
      "source": [
        "# 課題1\n",
        "\n",
        "与えられたリスト内重複な値を削除してください。"
      ]
    },
    {
      "cell_type": "code",
      "execution_count": null,
      "metadata": {
        "id": "NTzLTTGi9DT2"
      },
      "outputs": [],
      "source": [
        "numbers = [1, 2, 3, 2, 4, 3, 5, 4, 6, 57, 57, 6, 18, 7, 9, 8, 10, 9, 0, 0, 10]"
      ],
      "id": "NTzLTTGi9DT2"
    },
    {
      "cell_type": "code",
      "source": [
        "#回答\n",
        "unique_numbers=[1,2,3,2,4,3,5,4,6,57,57,6,18,7,9,8,10,9,0,0,10]\n",
        "seen=set(unique_numbers)\n",
        "print(seen)"
      ],
      "metadata": {
        "colab": {
          "base_uri": "https://localhost:8080/"
        },
        "id": "3cZdHFQm-RPm",
        "outputId": "523ff1c0-0bbb-45dc-acb0-6913b71c6bd3"
      },
      "id": "3cZdHFQm-RPm",
      "execution_count": null,
      "outputs": [
        {
          "output_type": "stream",
          "name": "stdout",
          "text": [
            "{0, 1, 2, 3, 4, 5, 6, 7, 8, 9, 10, 18, 57}\n"
          ]
        }
      ]
    },
    {
      "cell_type": "markdown",
      "id": "45dab8cc",
      "metadata": {
        "id": "45dab8cc"
      },
      "source": [
        "# 課題2\n",
        "\n",
        "与えられたリスト内の指定した値を検索し、値の出現回数を```print```してください。見つからない場合は```Not Exists```をprintしてください。\n",
        "\n",
        "```value_0```と```value_１```を実行した結果を確認してください。"
      ]
    },
    {
      "cell_type": "code",
      "execution_count": null,
      "id": "f5fa07be",
      "metadata": {
        "id": "f5fa07be"
      },
      "outputs": [],
      "source": [
        "\n",
        "numbers = [1, 2, 3, 2, 4, 3, 5, 4, 6, 57, 57, 6, 18, 7, 9, 8, 10, 9, 0, 0, 10]\n",
        "value_0= 0\n",
        "value_1= 100"
      ]
    },
    {
      "cell_type": "code",
      "execution_count": null,
      "id": "5730efb9",
      "metadata": {
        "id": "5730efb9",
        "colab": {
          "base_uri": "https://localhost:8080/"
        },
        "outputId": "4bab9269-b3b0-46ac-efa4-7901ad2d89b8"
      },
      "outputs": [
        {
          "output_type": "stream",
          "name": "stdout",
          "text": [
            "2\n",
            "Not Exists\n"
          ]
        }
      ],
      "source": [
        "# 回答\n",
        "numbers = [1, 2, 3, 2, 4, 3, 5, 4, 6, 57, 57, 6, 18, 7, 9, 8, 10, 9, 0, 0, 10]\n",
        "value_0 = 0\n",
        "value_1 = 100\n",
        "\n",
        "def count_value(numbers,value):\n",
        "  count = numbers.count(value)\n",
        "  if count > 0:\n",
        "    print(count)\n",
        "  else:\n",
        "    print(\"Not Exists\")\n",
        "\n",
        "count_value(numbers,value_0)\n",
        "count_value(numbers,value_1)"
      ]
    },
    {
      "cell_type": "markdown",
      "id": "8f45bea5",
      "metadata": {
        "id": "8f45bea5"
      },
      "source": [
        "# 課題3\n",
        "\n",
        "与えられた辞書内の指定したに一致するキーを検索し、そのキーに対応する値を```print```してください。見つからない場合は```Not Exists```を```print```してください。\n",
        "\n",
        "```value_0```と```value_１```を実行した結果を確認してください。"
      ]
    },
    {
      "cell_type": "code",
      "execution_count": null,
      "id": "0b45b69e",
      "metadata": {
        "id": "0b45b69e"
      },
      "outputs": [],
      "source": [
        "birth={'Marx': 1818,\n",
        "       'Weber': 1864,\n",
        "       'Durkheim': 1858,\n",
        "       'Parsons': 1902,\n",
        "       'Merton': 1911}\n",
        "\n",
        "value_0= \"Parsons\"\n",
        "value_1= \"Giddens\""
      ]
    },
    {
      "cell_type": "code",
      "execution_count": null,
      "id": "1e8d2cbe",
      "metadata": {
        "id": "1e8d2cbe",
        "colab": {
          "base_uri": "https://localhost:8080/"
        },
        "outputId": "d45aea57-22f7-42e6-8039-b6c526a16fa5"
      },
      "outputs": [
        {
          "output_type": "stream",
          "name": "stdout",
          "text": [
            "1902\n",
            "Not Exists\n"
          ]
        }
      ],
      "source": [
        "#回答\n",
        "birth={'Marx': 1818,\n",
        "       'Weber': 1864,\n",
        "       'Durkheim' : 1858,\n",
        "       'Parsons' : 1902,\n",
        "       'Merton' : 1911}\n",
        "value_0 = \"Parsons\"\n",
        "value_1 = \"Giddens\"\n",
        "\n",
        "def print_value(birth,value):\n",
        "  if value in birth.keys():\n",
        "    print(birth[value])\n",
        "  else:\n",
        "    print(\"Not Exists\")\n",
        "\n",
        "print_value(birth,value_0)\n",
        "print_value(birth,value_1)"
      ]
    }
  ],
  "metadata": {
    "kernelspec": {
      "display_name": "base",
      "language": "python",
      "name": "python3"
    },
    "language_info": {
      "codemirror_mode": {
        "name": "ipython",
        "version": 3
      },
      "file_extension": ".py",
      "mimetype": "text/x-python",
      "name": "python",
      "nbconvert_exporter": "python",
      "pygments_lexer": "ipython3",
      "version": "3.11.5"
    },
    "colab": {
      "provenance": []
    }
  },
  "nbformat": 4,
  "nbformat_minor": 5
}