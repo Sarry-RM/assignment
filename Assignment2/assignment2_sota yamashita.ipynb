{
 "cells": [
  {
   "cell_type": "markdown",
   "id": "f1274684",
   "metadata": {},
   "source": [
    "# 課題1\n",
    "\n",
    "与えられたリスト内重複な値を削除してください。"
   ]
  },
  {
   "cell_type": "code",
   "execution_count": 4,
   "id": "de7c60a7",
   "metadata": {},
   "outputs": [],
   "source": [
    "numbers = [1, 2, 3, 2, 4, 3, 5, 4, 6, 57, 57, 6, 18, 7, 9, 8, 10, 9, 0, 0, 10]"
   ]
  },
  {
   "cell_type": "code",
   "execution_count": 11,
   "id": "1f070a57",
   "metadata": {},
   "outputs": [
    {
     "ename": "ValueError",
     "evalue": "list.remove(x): x not in list",
     "output_type": "error",
     "traceback": [
      "\u001b[0;31m---------------------------------------------------------------------------\u001b[0m",
      "\u001b[0;31mValueError\u001b[0m                                Traceback (most recent call last)",
      "Cell \u001b[0;32mIn[11], line 2\u001b[0m\n\u001b[1;32m      1\u001b[0m \u001b[38;5;66;03m# 回答\u001b[39;00m\n\u001b[0;32m----> 2\u001b[0m \u001b[43mnumbers\u001b[49m\u001b[38;5;241;43m.\u001b[39;49m\u001b[43mremove\u001b[49m\u001b[43m(\u001b[49m\u001b[38;5;241;43m2\u001b[39;49m\u001b[43m)\u001b[49m\n\u001b[1;32m      3\u001b[0m numbers\u001b[38;5;241m.\u001b[39mremove(\u001b[38;5;241m3\u001b[39m)\n\u001b[1;32m      4\u001b[0m numbers\u001b[38;5;241m.\u001b[39mremove(\u001b[38;5;241m4\u001b[39m)\n",
      "\u001b[0;31mValueError\u001b[0m: list.remove(x): x not in list"
     ]
    }
   ],
   "source": [
    "# 回答\n",
    "numbers.remove(2)\n",
    "numbers.remove(3)\n",
    "numbers.remove(4)\n",
    "numbers.remove(6)\n",
    "numbers.remove(57)\n",
    "numbers.remove(9)\n",
    "numbers.remove(10)\n",
    "numbers.remove(0)\n"
   ]
  },
  {
   "cell_type": "code",
   "execution_count": 13,
   "id": "d9422116",
   "metadata": {},
   "outputs": [],
   "source": [
    "numbers.insert(2,\"2\")"
   ]
  },
  {
   "cell_type": "code",
   "execution_count": 14,
   "id": "d4b8492c",
   "metadata": {},
   "outputs": [
    {
     "data": {
      "text/plain": [
       "[1, 3, '2', 5, 4, 57, 6, 18, 7, 8, 9, 0, 10]"
      ]
     },
     "execution_count": 14,
     "metadata": {},
     "output_type": "execute_result"
    }
   ],
   "source": [
    "numbers"
   ]
  },
  {
   "cell_type": "markdown",
   "id": "45dab8cc",
   "metadata": {},
   "source": [
    "# 課題2\n",
    "\n",
    "与えられたリスト内の指定した値を検索し、値の出現回数を```print```してください。見つからない場合は```Not Exists```をprintしてください。\n",
    "\n",
    "```value_0```と```value_１```を実行した結果を確認してください。"
   ]
  },
  {
   "cell_type": "code",
   "execution_count": 15,
   "id": "f5fa07be",
   "metadata": {},
   "outputs": [],
   "source": [
    "\n",
    "numbers = [1, 2, 3, 2, 4, 3, 5, 4, 6, 57, 57, 6, 18, 7, 9, 8, 10, 9, 0, 0, 10]\n",
    "value_0= 0\n",
    "value_1= 100"
   ]
  },
  {
   "cell_type": "code",
   "execution_count": 25,
   "id": "97639943",
   "metadata": {},
   "outputs": [
    {
     "name": "stdout",
     "output_type": "stream",
     "text": [
      "0 2\n"
     ]
    }
   ],
   "source": [
    "#回答\n",
    "x=value_0\n",
    "if numbers.count(x)>0:\n",
    "\tprint(x,numbers.count(x))\n",
    "else:\n",
    "\tptint(x,\"NotExist\")\n"
   ]
  },
  {
   "cell_type": "code",
   "execution_count": 27,
   "id": "6c990ed7",
   "metadata": {},
   "outputs": [
    {
     "name": "stdout",
     "output_type": "stream",
     "text": [
      "100 NotExist\n"
     ]
    }
   ],
   "source": [
    "x=value_1\n",
    "if numbers.count(x)>0:\n",
    "\tprint(x,numbers.count(x))\n",
    "else:\n",
    "\tprint(x,\"NotExist\")\n"
   ]
  },
  {
   "cell_type": "markdown",
   "id": "8f45bea5",
   "metadata": {},
   "source": [
    "# 課題3\n",
    "\n",
    "与えられた辞書内の指定したに一致するキーを検索し、そのキーに対応する値を```print```してください。見つからない場合は```Not Exists```を```print```してください。\n",
    "\n",
    "```value_0```と```value_１```を実行した結果を確認してください。"
   ]
  },
  {
   "cell_type": "code",
   "execution_count": 1,
   "id": "1b55fdc6",
   "metadata": {},
   "outputs": [],
   "source": [
    "birth={'Marx': 1818,\n",
    "       'Weber': 1864,\n",
    "       'Durkheim': 1858,\n",
    "       'Parsons': 1902,\n",
    "       'Merton': 1911}\n",
    "\n",
    "value_0= \"Parsons\"\n",
    "value_1= \"Giddens\""
   ]
  },
  {
   "cell_type": "code",
   "execution_count": 2,
   "id": "e605772b",
   "metadata": {},
   "outputs": [
    {
     "name": "stdout",
     "output_type": "stream",
     "text": [
      "1902\n"
     ]
    }
   ],
   "source": [
    "# 回答\n",
    "if value_0 in birth:\n",
    "    print(birth[value_0])\n",
    "else:\n",
    "    print(\"Not Exists\")"
   ]
  },
  {
   "cell_type": "code",
   "execution_count": 3,
   "id": "138f9cb9",
   "metadata": {},
   "outputs": [
    {
     "name": "stdout",
     "output_type": "stream",
     "text": [
      "Not Exists\n"
     ]
    }
   ],
   "source": [
    "if value_1 in birth:\n",
    "    print(birth[value_1])\n",
    "else:\n",
    "    print(\"Not Exists\")"
   ]
  }
 ],
 "metadata": {
  "kernelspec": {
   "display_name": "chss",
   "language": "python",
   "name": "python3"
  },
  "language_info": {
   "codemirror_mode": {
    "name": "ipython",
    "version": 3
   },
   "file_extension": ".py",
   "mimetype": "text/x-python",
   "name": "python",
   "nbconvert_exporter": "python",
   "pygments_lexer": "ipython3",
   "version": "3.10.16"
  }
 },
 "nbformat": 4,
 "nbformat_minor": 5
}
