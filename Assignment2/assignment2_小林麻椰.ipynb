{
  "cells": [
    {
      "cell_type": "markdown",
      "metadata": {
        "id": "view-in-github",
        "colab_type": "text"
      },
      "source": [
        "<a href=\"https://colab.research.google.com/github/maya0220/chss_2025_assignment/blob/main/assignment2_%E5%B0%8F%E6%9E%97%E9%BA%BB%E6%A4%B0.ipynb\" target=\"_parent\"><img src=\"https://colab.research.google.com/assets/colab-badge.svg\" alt=\"Open In Colab\"/></a>"
      ]
    },
    {
      "cell_type": "markdown",
      "id": "f1274684",
      "metadata": {
        "id": "f1274684"
      },
      "source": [
        "# 課題1\n",
        "\n",
        "与えられたリスト内重複な値を削除してください。"
      ]
    },
    {
      "cell_type": "code",
      "execution_count": null,
      "id": "de7c60a7",
      "metadata": {
        "id": "de7c60a7"
      },
      "outputs": [],
      "source": [
        "numbers = [1, 2, 3, 2, 4, 3, 5, 4, 6, 57, 57, 6, 18, 7, 9, 8, 10, 9, 0, 0, 10]"
      ]
    },
    {
      "cell_type": "code",
      "execution_count": null,
      "id": "1f070a57",
      "metadata": {
        "id": "1f070a57",
        "colab": {
          "base_uri": "https://localhost:8080/"
        },
        "outputId": "9007fc35-871b-4319-8426-9dc46a37562c"
      },
      "outputs": [
        {
          "output_type": "execute_result",
          "data": {
            "text/plain": [
              "{0, 1, 2, 3, 4, 5, 6, 7, 8, 9, 10, 18, 57}"
            ]
          },
          "metadata": {},
          "execution_count": 10
        }
      ],
      "source": [
        "# 回答\n",
        "set_numbers=set(numbers)\n",
        "set_numbers"
      ]
    },
    {
      "cell_type": "markdown",
      "id": "45dab8cc",
      "metadata": {
        "id": "45dab8cc"
      },
      "source": [
        "# 課題2\n",
        "\n",
        "与えられたリスト内の指定した値を検索し、値の出現回数を```print```してください。見つからない場合は```Not Exists```をprintしてください。\n",
        "\n",
        "```value_0```と```value_１```を実行した結果を確認してください。"
      ]
    },
    {
      "cell_type": "code",
      "execution_count": null,
      "id": "f5fa07be",
      "metadata": {
        "id": "f5fa07be"
      },
      "outputs": [],
      "source": [
        "\n",
        "numbers = [1, 2, 3, 2, 4, 3, 5, 4, 6, 57, 57, 6, 18, 7, 9, 8, 10, 9, 0, 0, 10]\n",
        "value_0= 0\n",
        "value_1= 100"
      ]
    },
    {
      "cell_type": "code",
      "execution_count": null,
      "id": "5730efb9",
      "metadata": {
        "id": "5730efb9",
        "colab": {
          "base_uri": "https://localhost:8080/"
        },
        "outputId": "f652baf5-889e-4af9-81d9-1ee4ecef8c42"
      },
      "outputs": [
        {
          "output_type": "stream",
          "name": "stdout",
          "text": [
            "0の出現回数は 2 回\n",
            "100はNot Exists\n"
          ]
        }
      ],
      "source": [
        "# 回答\n",
        "#value_0の出現回数をカウント\n",
        "count_value_0 = numbers.count(value_0)\n",
        "if count_value_0 > 0:\n",
        "    print(\"0の出現回数は\",count_value_0,\"回\")\n",
        "else:\n",
        "    print(\"0はNot Exists\")\n",
        "\n",
        "#value_1の出現回数をカウント\n",
        "count_value_1 = numbers.count(value_1)\n",
        "if count_value_1 > 0:\n",
        "    print(\"100の出現回数は\",count_value_1,\"回\")\n",
        "else:\n",
        "    print(\"100はNot Exists\")"
      ]
    },
    {
      "cell_type": "markdown",
      "id": "8f45bea5",
      "metadata": {
        "id": "8f45bea5"
      },
      "source": [
        "# 課題3\n",
        "\n",
        "与えられた辞書内の指定したに一致するキーを検索し、そのキーに対応する値を```print```してください。見つからない場合は```Not Exists```を```print```してください。\n",
        "\n",
        "```value_0```と```value_１```を実行した結果を確認してください。"
      ]
    },
    {
      "cell_type": "code",
      "execution_count": null,
      "id": "0b45b69e",
      "metadata": {
        "id": "0b45b69e"
      },
      "outputs": [],
      "source": [
        "birth={'Marx': 1818,\n",
        "       'Weber': 1864,\n",
        "       'Durkheim': 1858,\n",
        "       'Parsons': 1902,\n",
        "       'Merton': 1911}\n",
        "\n",
        "value_0= \"Parsons\"\n",
        "value_1= \"Giddens\""
      ]
    },
    {
      "cell_type": "code",
      "execution_count": null,
      "id": "e605772b",
      "metadata": {
        "id": "e605772b",
        "colab": {
          "base_uri": "https://localhost:8080/"
        },
        "outputId": "504a3cd2-dcf6-405c-f914-45aa6a62e8c5"
      },
      "outputs": [
        {
          "output_type": "stream",
          "name": "stdout",
          "text": [
            "Parsonsの誕生年は 1902 年である\n",
            "Giddensの誕生年はNot Exists\n"
          ]
        }
      ],
      "source": [
        "# 回答\n",
        "if value_0 in birth:\n",
        "    print(\"Parsonsの誕生年は\",birth[value_0],\"年である\")\n",
        "else:\n",
        "    print(\"Parsonsの誕生年はNot Exists\")\n",
        "\n",
        "if value_1 in birth:\n",
        "    print(\"Giddensの誕生年は\",birth[value_1],\"年である\")\n",
        "else:\n",
        "    print(\"Giddensの誕生年はNot Exists\")"
      ]
    }
  ],
  "metadata": {
    "kernelspec": {
      "display_name": "base",
      "language": "python",
      "name": "python3"
    },
    "language_info": {
      "codemirror_mode": {
        "name": "ipython",
        "version": 3
      },
      "file_extension": ".py",
      "mimetype": "text/x-python",
      "name": "python",
      "nbconvert_exporter": "python",
      "pygments_lexer": "ipython3",
      "version": "3.11.5"
    },
    "colab": {
      "provenance": [],
      "include_colab_link": true
    }
  },
  "nbformat": 4,
  "nbformat_minor": 5
}