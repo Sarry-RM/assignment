{
 "cells": [
  {
   "cell_type": "markdown",
   "id": "f1274684",
   "metadata": {},
   "source": [
    "# 課題1\n",
    "\n",
    "与えられたリスト内重複な値を削除してください。"
   ]
  },
  {
   "cell_type": "code",
   "execution_count": 12,
   "id": "de7c60a7",
   "metadata": {},
   "outputs": [],
   "source": [
    "numbers = [1, 2, 3, 2, 4, 3, 5, 4, 6, 57, 57, 6, 18, 7, 9, 8, 10, 9, 0, 0, 10]"
   ]
  },
  {
   "cell_type": "code",
   "execution_count": 13,
   "id": "1f070a57",
   "metadata": {},
   "outputs": [
    {
     "name": "stdout",
     "output_type": "stream",
     "text": [
      "[1, 2, 3, 2, 4, 3, 5, 4, 6, 57, 57, 6, 18, 7, 9, 8, 10, 9, 0, 0, 10]\n",
      "[1, 2, 3, 5, 4, 57, 6, 18, 7, 8, 9, 0, 10]\n"
     ]
    }
   ],
   "source": [
    "# 回答\n",
    "print(numbers)\n",
    "numbers.remove(2)\n",
    "numbers.remove(3)\n",
    "numbers.remove(4)\n",
    "numbers.remove(57)\n",
    "numbers.remove(6)\n",
    "numbers.remove(9)\n",
    "numbers.remove(10)\n",
    "numbers.remove(0)\n",
    "print(numbers)"
   ]
  },
  {
   "cell_type": "markdown",
   "id": "45dab8cc",
   "metadata": {},
   "source": [
    "# 課題2\n",
    "\n",
    "与えられたリスト内の指定した値を検索し、値の出現回数を```print```してください。見つからない場合は```Not Exists```をprintしてください。\n",
    "\n",
    "```value_0```と```value_１```を実行した結果を確認してください。"
   ]
  },
  {
   "cell_type": "code",
   "execution_count": 15,
   "id": "f5fa07be",
   "metadata": {},
   "outputs": [],
   "source": [
    "\n",
    "numbers = [1, 2, 3, 2, 4, 3, 5, 4, 6, 57, 57, 6, 18, 7, 9, 8, 10, 9, 0, 0, 10]\n",
    "value_0= 0\n",
    "value_1= 100"
   ]
  },
  {
   "cell_type": "code",
   "execution_count": 20,
   "id": "5730efb9",
   "metadata": {},
   "outputs": [
    {
     "name": "stdout",
     "output_type": "stream",
     "text": [
      "2\n",
      "Not Exists\n"
     ]
    }
   ],
   "source": [
    "# 回答\n",
    "count_0 = 0\n",
    "for numbers_element in numbers:\n",
    "    if numbers_element == value_0:\n",
    "        count_0 = count_0 + 1\n",
    "if count_0 == 0:\n",
    "    print(\"Not Exists\")\n",
    "else:\n",
    "    print(count_0)\n",
    "\n",
    "\n",
    "    \n",
    "count_1 = 0\n",
    "for numbers_element in numbers:\n",
    "    if numbers_element == value_1:\n",
    "        count_1 = count_1 + 1\n",
    "if count_1 == 0:\n",
    "    print(\"Not Exists\")\n",
    "else:\n",
    "    print(count_1)"
   ]
  },
  {
   "cell_type": "markdown",
   "id": "8f45bea5",
   "metadata": {},
   "source": [
    "# 課題3\n",
    "\n",
    "与えられた辞書内の指定したに一致するキーを検索し、そのキーに対応する値を```print```してください。見つからない場合は```Not Exists```を```print```してください。\n",
    "\n",
    "```value_0```と```value_１```を実行した結果を確認してください。"
   ]
  },
  {
   "cell_type": "code",
   "execution_count": 28,
   "id": "0b45b69e",
   "metadata": {},
   "outputs": [],
   "source": [
    "birth={'Marx': 1818,\n",
    "       'Weber': 1864,\n",
    "       'Durkheim': 1858,\n",
    "       'Parsons': 1902,\n",
    "       'Merton': 1911}\n",
    "\n",
    "value_0= \"Parsons\"\n",
    "value_1= \"Giddens\""
   ]
  },
  {
   "cell_type": "code",
   "execution_count": 35,
   "id": "e605772b",
   "metadata": {},
   "outputs": [
    {
     "name": "stdout",
     "output_type": "stream",
     "text": [
      "1902\n",
      "Not Exists\n"
     ]
    }
   ],
   "source": [
    "# 回答\n",
    "if value_0 in birth:\n",
    "    print(birth[value_0])\n",
    "else:\n",
    "    print(\"Not Exists\")\n",
    "\n",
    "if value_1 in birth:\n",
    "    print(birth[value_1])\n",
    "else:\n",
    "    print(\"Not Exists\")\n",
    "\n"
   ]
  },
  {
   "cell_type": "code",
   "execution_count": null,
   "id": "1e8d2cbe",
   "metadata": {},
   "outputs": [],
   "source": []
  },
  {
   "cell_type": "code",
   "execution_count": null,
   "id": "948e5c19",
   "metadata": {},
   "outputs": [],
   "source": []
  }
 ],
 "metadata": {
  "kernelspec": {
   "display_name": "chss",
   "language": "python",
   "name": "python3"
  },
  "language_info": {
   "codemirror_mode": {
    "name": "ipython",
    "version": 3
   },
   "file_extension": ".py",
   "mimetype": "text/x-python",
   "name": "python",
   "nbconvert_exporter": "python",
   "pygments_lexer": "ipython3",
   "version": "3.10.16"
  }
 },
 "nbformat": 4,
 "nbformat_minor": 5
}
