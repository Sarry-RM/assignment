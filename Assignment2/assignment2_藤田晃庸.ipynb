{
  "cells": [
    {
      "cell_type": "markdown",
      "source": [
        "課題２　C3LB1178　藤田晃庸\n"
      ],
      "metadata": {
        "id": "yGkwQ0F8MAJK"
      },
      "id": "yGkwQ0F8MAJK"
    },
    {
      "cell_type": "markdown",
      "id": "f1274684",
      "metadata": {
        "id": "f1274684"
      },
      "source": [
        "# 課題1\n",
        "\n",
        "与えられたリスト内重複な値を削除してください。"
      ]
    },
    {
      "cell_type": "code",
      "execution_count": null,
      "id": "de7c60a7",
      "metadata": {
        "id": "de7c60a7"
      },
      "outputs": [],
      "source": [
        "numbers = [1, 2, 3, 2, 4, 3, 5, 4, 6, 57, 57, 6, 18, 7, 9, 8, 10, 9, 0, 0, 10]"
      ]
    },
    {
      "cell_type": "code",
      "execution_count": null,
      "id": "1f070a57",
      "metadata": {
        "id": "1f070a57",
        "outputId": "2c7a0399-efa8-4db1-b250-47d60de9555a",
        "colab": {
          "base_uri": "https://localhost:8080/"
        }
      },
      "outputs": [
        {
          "output_type": "stream",
          "name": "stdout",
          "text": [
            "[1, 2, 3, 4, 5, 6, 57, 18, 7, 9, 8, 10, 0]\n"
          ]
        }
      ],
      "source": [
        "# 回答\n",
        "correct_numbers = []\n",
        "seen = set()\n",
        "for num in numbers:\n",
        "  if num not in seen:\n",
        "    correct_numbers.append(num)\n",
        "    seen.add(num)\n",
        "\n",
        "print(correct_numbers)"
      ]
    },
    {
      "cell_type": "markdown",
      "id": "45dab8cc",
      "metadata": {
        "id": "45dab8cc"
      },
      "source": [
        "# 課題2\n",
        "\n",
        "与えられたリスト内の指定した値を検索し、値の出現回数を```print```してください。見つからない場合は```Not Exists```をprintしてください。\n",
        "\n",
        "```value_0```と```value_１```を実行した結果を確認してください。"
      ]
    },
    {
      "cell_type": "code",
      "execution_count": null,
      "id": "f5fa07be",
      "metadata": {
        "id": "f5fa07be"
      },
      "outputs": [],
      "source": [
        "\n",
        "numbers = [1, 2, 3, 2, 4, 3, 5, 4, 6, 57, 57, 6, 18, 7, 9, 8, 10, 9, 0, 0, 10]\n",
        "value_0= 0\n",
        "value_1= 100"
      ]
    },
    {
      "cell_type": "code",
      "execution_count": null,
      "id": "5730efb9",
      "metadata": {
        "id": "5730efb9",
        "outputId": "eb5b04f8-cea3-4c88-d0a9-53c55535ede9",
        "colab": {
          "base_uri": "https://localhost:8080/"
        }
      },
      "outputs": [
        {
          "output_type": "stream",
          "name": "stdout",
          "text": [
            "出現回数:2\n",
            "Not Exists\n"
          ]
        }
      ],
      "source": [
        "# 回答\n",
        "def count_occurrences(value):\n",
        "  count=numbers.count(value)\n",
        "  if count>0:\n",
        "    print(f\"出現回数:{count}\")\n",
        "  else:\n",
        "    print(\"Not Exists\")\n",
        "\n",
        "count_occurrences(value_0)\n",
        "count_occurrences(value_1)\n"
      ]
    },
    {
      "cell_type": "markdown",
      "id": "8f45bea5",
      "metadata": {
        "id": "8f45bea5"
      },
      "source": [
        "# 課題3\n",
        "\n",
        "与えられた辞書内の指定したに一致するキーを検索し、そのキーに対応する値を```print```してください。見つからない場合は```Not Exists```を```print```してください。\n",
        "\n",
        "```value_0```と```value_１```を実行した結果を確認してください。"
      ]
    },
    {
      "cell_type": "code",
      "execution_count": null,
      "id": "e605772b",
      "metadata": {
        "id": "e605772b",
        "outputId": "6a824aca-8def-4b32-ebfe-45a4ea2762b1",
        "colab": {
          "base_uri": "https://localhost:8080/"
        }
      },
      "outputs": [
        {
          "output_type": "stream",
          "name": "stdout",
          "text": [
            "Parsons:1902\n",
            "Not exists\n"
          ]
        }
      ],
      "source": [
        "# 回答\n",
        "birth = {\n",
        "    'Marx': 1818,\n",
        "    'Weber': 1864,\n",
        "    'Durkheim': 1858,\n",
        "    'Parsons': 1902,\n",
        "    'Merton': 1911}\n",
        "\n",
        "value_0 = \"Parsons\"\n",
        "value_1 = \"Giddens\"\n",
        "\n",
        "def print_birth_year(name):\n",
        "  if name in birth:\n",
        "    print(f\"{name}:{birth[name]}\")\n",
        "  else:\n",
        "    print(\"Not exists\")\n",
        "\n",
        "print_birth_year(value_0)\n",
        "print_birth_year(value_1)\n"
      ]
    },
    {
      "cell_type": "code",
      "execution_count": null,
      "id": "1e8d2cbe",
      "metadata": {
        "id": "1e8d2cbe"
      },
      "outputs": [],
      "source": []
    }
  ],
  "metadata": {
    "kernelspec": {
      "display_name": "base",
      "language": "python",
      "name": "python3"
    },
    "language_info": {
      "codemirror_mode": {
        "name": "ipython",
        "version": 3
      },
      "file_extension": ".py",
      "mimetype": "text/x-python",
      "name": "python",
      "nbconvert_exporter": "python",
      "pygments_lexer": "ipython3",
      "version": "3.11.5"
    },
    "colab": {
      "provenance": []
    }
  },
  "nbformat": 4,
  "nbformat_minor": 5
}