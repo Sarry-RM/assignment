{
  "cells": [
    {
      "cell_type": "markdown",
      "id": "f1274684",
      "metadata": {
        "id": "f1274684"
      },
      "source": [
        "# 課題1\n",
        "\n",
        "与えられたリスト内重複な値を削除してください。"
      ]
    },
    {
      "cell_type": "code",
      "execution_count": null,
      "id": "de7c60a7",
      "metadata": {
        "id": "de7c60a7"
      },
      "outputs": [],
      "source": [
        "numbers = [1, 2, 3, 2, 4, 3, 5, 4, 6, 57, 57, 6, 18, 7, 9, 8, 10, 9, 0, 0, 10]"
      ]
    },
    {
      "cell_type": "code",
      "execution_count": null,
      "id": "1f070a57",
      "metadata": {
        "id": "1f070a57",
        "colab": {
          "base_uri": "https://localhost:8080/"
        },
        "outputId": "14f05855-943f-4323-ffdc-79f8d515f0e7"
      },
      "outputs": [
        {
          "output_type": "stream",
          "name": "stdout",
          "text": [
            "{0, 1, 2, 3, 4, 5, 6, 7, 8, 9, 10, 18, 57}\n"
          ]
        }
      ],
      "source": [
        "# 回答\n",
        "numbers = [1, 2, 3, 2, 4, 3, 5, 4, 6, 57, 57, 6, 18, 7, 9, 8, 10, 9, 0, 0, 10]\n",
        "unique_number = set(numbers)\n",
        "print(unique_number)"
      ]
    },
    {
      "cell_type": "markdown",
      "id": "45dab8cc",
      "metadata": {
        "id": "45dab8cc"
      },
      "source": [
        "# 課題2\n",
        "\n",
        "与えられたリスト内の指定した値を検索し、値の出現回数を```print```してください。見つからない場合は```Not Exists```をprintしてください。\n",
        "\n",
        "```value_0```と```value_１```を実行した結果を確認してください。"
      ]
    },
    {
      "cell_type": "code",
      "execution_count": null,
      "id": "f5fa07be",
      "metadata": {
        "id": "f5fa07be"
      },
      "outputs": [],
      "source": [
        "\n",
        "numbers = [1, 2, 3, 2, 4, 3, 5, 4, 6, 57, 57, 6, 18, 7, 9, 8, 10, 9, 0, 0, 10]\n",
        "value_0= 0\n",
        "value_1= 100"
      ]
    },
    {
      "cell_type": "code",
      "execution_count": null,
      "id": "5730efb9",
      "metadata": {
        "id": "5730efb9",
        "colab": {
          "base_uri": "https://localhost:8080/"
        },
        "outputId": "8db10222-8930-4722-f913-2bc9deb59b07"
      },
      "outputs": [
        {
          "output_type": "stream",
          "name": "stdout",
          "text": [
            "2\n",
            "Not Exits\n"
          ]
        }
      ],
      "source": [
        "#メモ\n",
        "t = [value_0,value_1]\n",
        "for i in t:\n",
        "    x=i\n",
        "    if x in numbers:\n",
        "        print(numbers.count(x))\n",
        "    else:\n",
        "         print(\"Not Exits\")"
      ]
    },
    {
      "cell_type": "code",
      "source": [
        "#回答\n",
        "t = [value_0,value_1]\n",
        "for i in t:\n",
        "\n",
        "    if i in numbers:\n",
        "        print(numbers.count(i))\n",
        "    else:\n",
        "         print(\"Not Exits\")"
      ],
      "metadata": {
        "colab": {
          "base_uri": "https://localhost:8080/"
        },
        "id": "Bg0Mg55PjFao",
        "outputId": "31f85e1b-b347-4c36-e7eb-3eea950d7f09"
      },
      "id": "Bg0Mg55PjFao",
      "execution_count": null,
      "outputs": [
        {
          "output_type": "stream",
          "name": "stdout",
          "text": [
            "2\n",
            "Not Exits\n"
          ]
        }
      ]
    },
    {
      "cell_type": "markdown",
      "id": "8f45bea5",
      "metadata": {
        "id": "8f45bea5"
      },
      "source": [
        "# 課題3\n",
        "\n",
        "与えられた辞書内の指定したに一致するキーを検索し、そのキーに対応する値を```print```してください。見つからない場合は```Not Exists```を```print```してください。\n",
        "\n",
        "```value_0```と```value_１```を実行した結果を確認してください。"
      ]
    },
    {
      "cell_type": "code",
      "execution_count": null,
      "id": "0b45b69e",
      "metadata": {
        "id": "0b45b69e"
      },
      "outputs": [],
      "source": [
        "birth={'Marx': 1818,\n",
        "       'Weber': 1864,\n",
        "       'Durkheim': 1858,\n",
        "       'Parsons': 1902,\n",
        "       'Merton': 1911}\n",
        "\n",
        "value_0= \"Parsons\"\n",
        "value_1= \"Giddens\""
      ]
    },
    {
      "cell_type": "code",
      "execution_count": null,
      "id": "e605772b",
      "metadata": {
        "id": "e605772b",
        "colab": {
          "base_uri": "https://localhost:8080/"
        },
        "outputId": "3ace6b53-9799-4e8c-ac36-cdad8f4fad4e"
      },
      "outputs": [
        {
          "output_type": "stream",
          "name": "stdout",
          "text": [
            "1902\n",
            "Not Exists\n"
          ]
        }
      ],
      "source": [
        "# 回答\n",
        "t = [value_0,value_1]\n",
        "for x in t:\n",
        "  if x in birth:\n",
        "    print(birth[x])\n",
        "  else:\n",
        "    print(\"Not Exists\")"
      ]
    },
    {
      "cell_type": "code",
      "execution_count": null,
      "id": "1e8d2cbe",
      "metadata": {
        "id": "1e8d2cbe"
      },
      "outputs": [],
      "source": []
    }
  ],
  "metadata": {
    "kernelspec": {
      "display_name": "base",
      "language": "python",
      "name": "python3"
    },
    "language_info": {
      "codemirror_mode": {
        "name": "ipython",
        "version": 3
      },
      "file_extension": ".py",
      "mimetype": "text/x-python",
      "name": "python",
      "nbconvert_exporter": "python",
      "pygments_lexer": "ipython3",
      "version": "3.11.5"
    },
    "colab": {
      "provenance": []
    }
  },
  "nbformat": 4,
  "nbformat_minor": 5
}