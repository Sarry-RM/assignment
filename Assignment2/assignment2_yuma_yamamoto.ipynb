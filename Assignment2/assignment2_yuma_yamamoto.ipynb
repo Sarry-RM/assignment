{
  "cells": [
    {
      "cell_type": "markdown",
      "id": "f1274684",
      "metadata": {
        "id": "f1274684"
      },
      "source": [
        "# 課題1\n",
        "\n",
        "与えられたリスト内重複な値を削除してください。"
      ]
    },
    {
      "cell_type": "code",
      "execution_count": null,
      "id": "de7c60a7",
      "metadata": {
        "id": "de7c60a7"
      },
      "outputs": [],
      "source": [
        "numbers = [1, 2, 3, 2, 4, 3, 5, 4, 6, 57, 57, 6, 18, 7, 9, 8, 10, 9, 0, 0, 10]"
      ]
    },
    {
      "cell_type": "code",
      "execution_count": null,
      "id": "1f070a57",
      "metadata": {
        "id": "1f070a57",
        "outputId": "30bc650f-59e3-4fd0-c92e-ae96808d2b2b",
        "colab": {
          "base_uri": "https://localhost:8080/"
        }
      },
      "outputs": [
        {
          "output_type": "stream",
          "name": "stdout",
          "text": [
            "[1, 3, 2, 5, 4, 57, 6, 18, 7, 8, 9, 0, 10]\n",
            "[1, 2, 3, 5, 4, 57, 6, 18, 7, 8, 9, 0, 10]\n"
          ]
        }
      ],
      "source": [
        "# 回答\n",
        "\n",
        "# [1] 新しいリストを用意して、重複しないもののみ追加する\n",
        "new_numbers = []\n",
        "\n",
        "for i in numbers:\n",
        "    if i in new_numbers:\n",
        "        continue\n",
        "    else:\n",
        "        new_numbers.append(i)\n",
        "\n",
        "print(new_numbers)\n",
        "\n",
        "\n",
        "\n",
        "# [2] count()関数を使って、重複するものを削除する\n",
        "\n",
        "for i in numbers:\n",
        "    if numbers.count(i) > 1:\n",
        "        numbers.remove(i) # 該当する最初の要素だけを削除\n",
        "\n",
        "print(numbers)\n"
      ]
    },
    {
      "cell_type": "markdown",
      "id": "45dab8cc",
      "metadata": {
        "id": "45dab8cc"
      },
      "source": [
        "# 課題2\n",
        "\n",
        "与えられたリスト内の指定した値を検索し、値の出現回数を```print```してください。見つからない場合は```Not Exists```をprintしてください。\n",
        "\n",
        "```value_0```と```value_１```を実行した結果を確認してください。"
      ]
    },
    {
      "cell_type": "code",
      "execution_count": null,
      "id": "f5fa07be",
      "metadata": {
        "id": "f5fa07be"
      },
      "outputs": [],
      "source": [
        "\n",
        "numbers = [1, 2, 3, 2, 4, 3, 5, 4, 6, 57, 57, 6, 18, 7, 9, 8, 10, 9, 0, 0, 10]\n",
        "value_0= 0\n",
        "value_1= 100"
      ]
    },
    {
      "cell_type": "code",
      "execution_count": null,
      "id": "5730efb9",
      "metadata": {
        "id": "5730efb9",
        "outputId": "71c4280d-78ca-4deb-eef4-8ddeea94d7f0",
        "colab": {
          "base_uri": "https://localhost:8080/"
        }
      },
      "outputs": [
        {
          "output_type": "stream",
          "name": "stdout",
          "text": [
            "0の出現回数: 2\n",
            "100の出現回数: Not Exists\n"
          ]
        }
      ],
      "source": [
        "# 回答\n",
        "\n",
        "\n",
        "# 値ごとのカウンター\n",
        "count_0 = 0\n",
        "count_1 = 0\n",
        "\n",
        "\n",
        "# 値が見つかった場合、カウンターを+1する\n",
        "for i in numbers:\n",
        "    if i == value_0:\n",
        "        count_0 += 1\n",
        "    elif i == value_1:\n",
        "        count_1 += 1\n",
        "    else: continue\n",
        "\n",
        "# 見つからなかった場合の処理\n",
        "if count_0 == 0:\n",
        "    count_0 = \"Not Exists\"\n",
        "\n",
        "if count_1 == 0:\n",
        "    count_1 = \"Not Exists\"\n",
        "\n",
        "# 結果の確認\n",
        "print(f\"{value_0}の出現回数: {count_0}\")\n",
        "print(f\"{value_1}の出現回数: {count_1}\")"
      ]
    },
    {
      "cell_type": "markdown",
      "id": "8f45bea5",
      "metadata": {
        "id": "8f45bea5"
      },
      "source": [
        "# 課題3\n",
        "\n",
        "与えられた辞書内の指定したに一致するキーを検索し、そのキーに対応する値を```print```してください。見つからない場合は```Not Exists```を```print```してください。\n",
        "\n",
        "```value_0```と```value_１```を実行した結果を確認してください。"
      ]
    },
    {
      "cell_type": "code",
      "execution_count": null,
      "id": "0b45b69e",
      "metadata": {
        "id": "0b45b69e"
      },
      "outputs": [],
      "source": [
        "birth={'Marx': 1818,\n",
        "       'Weber': 1864,\n",
        "       'Durkheim': 1858,\n",
        "       'Parsons': 1902,\n",
        "       'Merton': 1911}\n",
        "\n",
        "value_0= \"Parsons\"\n",
        "value_1= \"Giddens\""
      ]
    },
    {
      "cell_type": "code",
      "execution_count": null,
      "id": "e605772b",
      "metadata": {
        "id": "e605772b",
        "outputId": "24d7681e-01d8-4d98-d4a2-429c276ef3c4",
        "colab": {
          "base_uri": "https://localhost:8080/"
        }
      },
      "outputs": [
        {
          "output_type": "stream",
          "name": "stdout",
          "text": [
            "dict_keys(['Marx', 'Weber', 'Durkheim', 'Parsons', 'Merton'])\n",
            "1902\n",
            "Not Exists\n"
          ]
        }
      ],
      "source": [
        "# 回答\n",
        "print(birth.keys())\n",
        "\n",
        "# 辞書のkeysにvalue_0が含まれるか確認、条件分岐させる\n",
        "if value_0 in birth.keys():\n",
        "    print(birth[value_0])\n",
        "else:\n",
        "    print(\"Not Exists\")\n",
        "\n",
        "\n",
        "\n",
        "if value_1 in birth.keys():\n",
        "    print(birth[value_1])\n",
        "else:\n",
        "    print(\"Not Exists\")"
      ]
    },
    {
      "cell_type": "code",
      "execution_count": null,
      "id": "1e8d2cbe",
      "metadata": {
        "id": "1e8d2cbe"
      },
      "outputs": [],
      "source": []
    }
  ],
  "metadata": {
    "kernelspec": {
      "display_name": "base",
      "language": "python",
      "name": "python3"
    },
    "language_info": {
      "codemirror_mode": {
        "name": "ipython",
        "version": 3
      },
      "file_extension": ".py",
      "mimetype": "text/x-python",
      "name": "python",
      "nbconvert_exporter": "python",
      "pygments_lexer": "ipython3",
      "version": "3.11.5"
    },
    "colab": {
      "provenance": []
    }
  },
  "nbformat": 4,
  "nbformat_minor": 5
}