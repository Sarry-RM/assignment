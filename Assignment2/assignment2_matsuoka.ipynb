{
  "cells": [
    {
      "cell_type": "markdown",
      "id": "f1274684",
      "metadata": {
        "id": "f1274684"
      },
      "source": [
        "# 課題1\n",
        "\n",
        "与えられたリスト内重複な値を削除してください。"
      ]
    },
    {
      "cell_type": "code",
      "execution_count": null,
      "id": "de7c60a7",
      "metadata": {
        "id": "de7c60a7"
      },
      "outputs": [],
      "source": [
        "numbers = [1, 2, 3, 2, 4, 3, 5, 4, 6, 57, 57, 6, 18, 7, 9, 8, 10, 9, 0, 0, 10]"
      ]
    },
    {
      "cell_type": "code",
      "execution_count": null,
      "id": "1f070a57",
      "metadata": {
        "id": "1f070a57",
        "colab": {
          "base_uri": "https://localhost:8080/"
        },
        "outputId": "ebe5f659-221f-4fe6-df7e-e41417ec4317"
      },
      "outputs": [
        {
          "output_type": "execute_result",
          "data": {
            "text/plain": [
              "{0, 1, 2, 3, 4, 5, 6, 7, 8, 9, 10, 18, 57}"
            ]
          },
          "metadata": {},
          "execution_count": 2
        }
      ],
      "source": [
        "# 回答\n",
        "set_numbers=set(numbers)\n",
        "set_numbers"
      ]
    },
    {
      "cell_type": "markdown",
      "id": "45dab8cc",
      "metadata": {
        "id": "45dab8cc"
      },
      "source": [
        "# 課題2\n",
        "\n",
        "与えられたリスト内の指定した値を検索し、値の出現回数を```print```してください。見つからない場合は```Not Exists```をprintしてください。\n",
        "\n",
        "```value_0```と```value_１```を実行した結果を確認してください。"
      ]
    },
    {
      "cell_type": "code",
      "execution_count": null,
      "id": "f5fa07be",
      "metadata": {
        "id": "f5fa07be"
      },
      "outputs": [],
      "source": [
        "\n",
        "numbers = [1, 2, 3, 2, 4, 3, 5, 4, 6, 57, 57, 6, 18, 7, 9, 8, 10, 9, 0, 0, 10]\n",
        "value_0= 0\n",
        "value_1= 100"
      ]
    },
    {
      "cell_type": "code",
      "execution_count": null,
      "id": "5730efb9",
      "metadata": {
        "id": "5730efb9"
      },
      "outputs": [],
      "source": [
        "# 回答\n",
        "def count_value(value):\n",
        "    if value in numbers:\n",
        "        print(f\"{value} の出現回数: {numbers.count(value)}\")\n",
        "    else:\n",
        "        print(f\"{value} は Not Exists\")"
      ]
    },
    {
      "cell_type": "code",
      "source": [
        "count_value(value_0)"
      ],
      "metadata": {
        "colab": {
          "base_uri": "https://localhost:8080/"
        },
        "id": "tlkvPPtHHoJn",
        "outputId": "9b93a220-6aa1-4a08-ff25-bd1f20eff6dd"
      },
      "id": "tlkvPPtHHoJn",
      "execution_count": null,
      "outputs": [
        {
          "output_type": "stream",
          "name": "stdout",
          "text": [
            "0 の出現回数: 2\n"
          ]
        }
      ]
    },
    {
      "cell_type": "code",
      "source": [
        "count_value(value_1)"
      ],
      "metadata": {
        "colab": {
          "base_uri": "https://localhost:8080/"
        },
        "id": "SHO6Jk5IHpDl",
        "outputId": "29d445bf-11a5-4c3a-dcbf-0b3ba081b95c"
      },
      "id": "SHO6Jk5IHpDl",
      "execution_count": null,
      "outputs": [
        {
          "output_type": "stream",
          "name": "stdout",
          "text": [
            "100 は Not Exists\n"
          ]
        }
      ]
    },
    {
      "cell_type": "markdown",
      "id": "8f45bea5",
      "metadata": {
        "id": "8f45bea5"
      },
      "source": [
        "# 課題3\n",
        "\n",
        "与えられた辞書内の指定したに一致するキーを検索し、そのキーに対応する値を```print```してください。見つからない場合は```Not Exists```を```print```してください。\n",
        "\n",
        "```value_0```と```value_１```を実行した結果を確認してください。"
      ]
    },
    {
      "cell_type": "code",
      "source": [
        "birth={'Marx': 1818,\n",
        "       'Weber': 1864,\n",
        "       'Durkheim': 1858,\n",
        "       'Parsons': 1902,\n",
        "       'Merton': 1911}\n",
        "\n",
        "value_0= \"Parsons\"\n",
        "value_1= \"Giddens\""
      ],
      "metadata": {
        "id": "4KRZd81FL_Fe"
      },
      "id": "4KRZd81FL_Fe",
      "execution_count": 1,
      "outputs": []
    },
    {
      "cell_type": "code",
      "execution_count": 2,
      "id": "e605772b",
      "metadata": {
        "id": "e605772b"
      },
      "outputs": [],
      "source": [
        "# 回答\n",
        "def search_key(key):\n",
        "    if key in birth:\n",
        "        print(f\"{key} に対応する値: {birth[key]}\")\n",
        "    else:\n",
        "        print(f\"{key} は Not Exists\")"
      ]
    },
    {
      "cell_type": "code",
      "execution_count": 3,
      "id": "1e8d2cbe",
      "metadata": {
        "id": "1e8d2cbe",
        "colab": {
          "base_uri": "https://localhost:8080/"
        },
        "outputId": "f3136f29-f2e2-4667-c475-8a3edb33d8d4"
      },
      "outputs": [
        {
          "output_type": "stream",
          "name": "stdout",
          "text": [
            "Parsons に対応する値: 1902\n",
            "Giddens は Not Exists\n"
          ]
        }
      ],
      "source": [
        "search_key(value_0)\n",
        "search_key(value_1)"
      ]
    }
  ],
  "metadata": {
    "kernelspec": {
      "display_name": "base",
      "language": "python",
      "name": "python3"
    },
    "language_info": {
      "codemirror_mode": {
        "name": "ipython",
        "version": 3
      },
      "file_extension": ".py",
      "mimetype": "text/x-python",
      "name": "python",
      "nbconvert_exporter": "python",
      "pygments_lexer": "ipython3",
      "version": "3.11.5"
    },
    "colab": {
      "provenance": []
    }
  },
  "nbformat": 4,
  "nbformat_minor": 5
}