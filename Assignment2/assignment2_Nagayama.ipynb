{
  "cells": [
    {
      "cell_type": "markdown",
      "id": "f1274684",
      "metadata": {
        "id": "f1274684"
      },
      "source": [
        "# 課題1\n",
        "\n",
        "与えられたリスト内重複な値を削除してください。"
      ]
    },
    {
      "cell_type": "code",
      "execution_count": null,
      "id": "de7c60a7",
      "metadata": {
        "id": "de7c60a7"
      },
      "outputs": [],
      "source": [
        "numbers = [1, 2, 3, 2, 4, 3, 5, 4, 6, 57, 57, 6, 18, 7, 9, 8, 10, 9, 0, 0, 10]"
      ]
    },
    {
      "cell_type": "code",
      "execution_count": null,
      "id": "1f070a57",
      "metadata": {
        "id": "1f070a57",
        "colab": {
          "base_uri": "https://localhost:8080/"
        },
        "outputId": "ff360a94-ce6a-4634-d5d7-2afa02bc2033"
      },
      "outputs": [
        {
          "output_type": "stream",
          "name": "stdout",
          "text": [
            "{0, 1, 2, 3, 4, 5, 6, 7, 8, 9, 10, 18, 57}\n"
          ]
        }
      ],
      "source": [
        "# 回答\n",
        "\n",
        "set_numbers = set(numbers)\n",
        "print(set_numbers)"
      ]
    },
    {
      "cell_type": "markdown",
      "id": "45dab8cc",
      "metadata": {
        "id": "45dab8cc"
      },
      "source": [
        "# 課題2\n",
        "\n",
        "与えられたリスト内の指定した値を検索し、値の出現回数を```print```してください。見つからない場合は```Not Exists```をprintしてください。\n",
        "\n",
        "```value_0```と```value_１```を実行した結果を確認してください。"
      ]
    },
    {
      "cell_type": "code",
      "execution_count": null,
      "id": "f5fa07be",
      "metadata": {
        "id": "f5fa07be"
      },
      "outputs": [],
      "source": [
        "\n",
        "numbers = [1, 2, 3, 2, 4, 3, 5, 4, 6, 57, 57, 6, 18, 7, 9, 8, 10, 9, 0, 0, 10]\n",
        "value_0= 0\n",
        "value_1= 100"
      ]
    },
    {
      "cell_type": "code",
      "execution_count": null,
      "id": "5730efb9",
      "metadata": {
        "id": "5730efb9",
        "colab": {
          "base_uri": "https://localhost:8080/"
        },
        "outputId": "9622f8e4-1a9d-4fe5-d352-7ec500599d79"
      },
      "outputs": [
        {
          "output_type": "stream",
          "name": "stdout",
          "text": [
            "2\n"
          ]
        }
      ],
      "source": [
        "# メモ\n",
        "\n",
        "x = value_0\n",
        "if x in numbers:\n",
        "  print(numbers.count(x))\n",
        "else:\n",
        "  print(\"Not Exists\")"
      ]
    },
    {
      "cell_type": "code",
      "source": [
        "# メモ\n",
        "\n",
        "t = [value_0, value_1]\n",
        "for i in t:\n",
        "  x = i\n",
        "  if x in numbers:\n",
        "    print(x, \"のとき\", numbers.count(x))\n",
        "  else:\n",
        "    print(x, \"のとき\", \"Not Exists\")"
      ],
      "metadata": {
        "colab": {
          "base_uri": "https://localhost:8080/"
        },
        "id": "5ZQToTjnhEBf",
        "outputId": "da6a0416-b207-46a4-8db8-4132ef6e2910"
      },
      "id": "5ZQToTjnhEBf",
      "execution_count": null,
      "outputs": [
        {
          "output_type": "stream",
          "name": "stdout",
          "text": [
            "0 のとき 2\n",
            "100 のとき Not Exists\n"
          ]
        }
      ]
    },
    {
      "cell_type": "code",
      "source": [
        "# 回答\n",
        "\n",
        "t = [value_0, value_1]\n",
        "for i in t:\n",
        "  if i in numbers:\n",
        "    print(i, \"のとき\", numbers.count(i))\n",
        "  else:\n",
        "    print(i, \"のとき\", \"Not Exists\")"
      ],
      "metadata": {
        "colab": {
          "base_uri": "https://localhost:8080/"
        },
        "outputId": "70fa99b4-e233-4645-f2c5-d9cd15b391f1",
        "id": "pDmnHjVajEZ5"
      },
      "execution_count": null,
      "outputs": [
        {
          "output_type": "stream",
          "name": "stdout",
          "text": [
            "0 のとき 2\n",
            "100 のとき Not Exists\n"
          ]
        }
      ],
      "id": "pDmnHjVajEZ5"
    },
    {
      "cell_type": "markdown",
      "id": "8f45bea5",
      "metadata": {
        "id": "8f45bea5"
      },
      "source": [
        "# 課題3\n",
        "\n",
        "与えられた辞書内の指定したに一致するキーを検索し、そのキーに対応する値を```print```してください。見つからない場合は```Not Exists```を```print```してください。\n",
        "\n",
        "```value_0```と```value_１```を実行した結果を確認してください。"
      ]
    },
    {
      "cell_type": "code",
      "execution_count": null,
      "metadata": {
        "id": "0b45b69e"
      },
      "outputs": [],
      "source": [
        "birth={'Marx': 1818,\n",
        "       'Weber': 1864,\n",
        "       'Durkheim': 1858,\n",
        "       'Parsons': 1902,\n",
        "       'Merton': 1911}\n",
        "\n",
        "value_0= \"Parsons\"\n",
        "value_1= \"Giddens\""
      ],
      "id": "0b45b69e"
    },
    {
      "cell_type": "code",
      "execution_count": null,
      "id": "1e8d2cbe",
      "metadata": {
        "id": "1e8d2cbe",
        "colab": {
          "base_uri": "https://localhost:8080/"
        },
        "outputId": "2ce6c28d-cf0f-4e8c-acc6-c3ea0cfa0fd9"
      },
      "outputs": [
        {
          "output_type": "stream",
          "name": "stdout",
          "text": [
            "Not Exists\n"
          ]
        }
      ],
      "source": [
        "# メモ\n",
        "\n",
        "if x in birth:\n",
        "  print(birth[x])\n",
        "else:\n",
        "  print(\"Not Exists\")"
      ]
    },
    {
      "cell_type": "code",
      "source": [
        "# 回答\n",
        "\n",
        "t = [value_0, value_1]\n",
        "for i in t:\n",
        "  if i in birth:\n",
        "    print(birth[i])\n",
        "  else:\n",
        "    print(\"Not Exists\")"
      ],
      "metadata": {
        "colab": {
          "base_uri": "https://localhost:8080/"
        },
        "id": "nJuRw441osNQ",
        "outputId": "cf248c89-d199-4f88-8f4b-275b9ba5e337"
      },
      "id": "nJuRw441osNQ",
      "execution_count": null,
      "outputs": [
        {
          "output_type": "stream",
          "name": "stdout",
          "text": [
            "1902\n",
            "Not Exists\n"
          ]
        }
      ]
    }
  ],
  "metadata": {
    "kernelspec": {
      "display_name": "base",
      "language": "python",
      "name": "python3"
    },
    "language_info": {
      "codemirror_mode": {
        "name": "ipython",
        "version": 3
      },
      "file_extension": ".py",
      "mimetype": "text/x-python",
      "name": "python",
      "nbconvert_exporter": "python",
      "pygments_lexer": "ipython3",
      "version": "3.11.5"
    },
    "colab": {
      "provenance": []
    }
  },
  "nbformat": 4,
  "nbformat_minor": 5
}