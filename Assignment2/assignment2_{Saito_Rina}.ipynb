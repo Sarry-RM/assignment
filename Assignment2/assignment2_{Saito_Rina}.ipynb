{
  "cells": [
    {
      "cell_type": "markdown",
      "id": "f1274684",
      "metadata": {
        "id": "f1274684"
      },
      "source": [
        "# 課題1\n",
        "\n",
        "与えられたリスト内重複な値を削除してください。"
      ]
    },
    {
      "cell_type": "code",
      "execution_count": null,
      "id": "de7c60a7",
      "metadata": {
        "id": "de7c60a7"
      },
      "outputs": [],
      "source": [
        "numbers = [1, 2, 3, 2, 4, 3, 5, 4, 6, 57, 57, 6, 18, 7, 9, 8, 10, 9, 0, 0, 10]"
      ]
    },
    {
      "cell_type": "code",
      "execution_count": null,
      "id": "1f070a57",
      "metadata": {
        "id": "1f070a57",
        "colab": {
          "base_uri": "https://localhost:8080/"
        },
        "outputId": "5b6c61a3-35cb-48e4-f855-352859845d99"
      },
      "outputs": [
        {
          "output_type": "stream",
          "name": "stdout",
          "text": [
            "[1, 2, 3, 4, 5, 6, 57, 18, 7, 9, 8, 10, 0]\n"
          ]
        }
      ],
      "source": [
        "numbers = [1, 2, 3, 2, 4, 3, 5, 4, 6, 57, 57, 6, 18, 7, 9, 8, 10, 9, 0, 0, 10]\n",
        "# 回答\n",
        "Dupliption_numbers=[]\n",
        "for i in numbers:\n",
        "  if i not in Dupliption_numbers:\n",
        "    Dupliption_numbers.append(i)\n",
        "print(Dupliption_numbers)"
      ]
    },
    {
      "cell_type": "markdown",
      "id": "45dab8cc",
      "metadata": {
        "id": "45dab8cc"
      },
      "source": [
        "# 課題2\n",
        "\n",
        "与えられたリスト内の指定した値を検索し、値の出現回数を```print```してください。見つからない場合は```Not Exists```をprintしてください。\n",
        "\n",
        "```value_0```と```value_１```を実行した結果を確認してください。"
      ]
    },
    {
      "cell_type": "code",
      "execution_count": null,
      "id": "f5fa07be",
      "metadata": {
        "id": "f5fa07be"
      },
      "outputs": [],
      "source": [
        "\n",
        "numbers = [1, 2, 3, 2, 4, 3, 5, 4, 6, 57, 57, 6, 18, 7, 9, 8, 10, 9, 0, 0, 10]\n",
        "value_0= 0\n",
        "value_1= 100"
      ]
    },
    {
      "cell_type": "code",
      "execution_count": null,
      "id": "5730efb9",
      "metadata": {
        "id": "5730efb9",
        "colab": {
          "base_uri": "https://localhost:8080/"
        },
        "outputId": "299e814c-0a25-4248-83be-1d1fcf4834ca"
      },
      "outputs": [
        {
          "output_type": "stream",
          "name": "stdout",
          "text": [
            "0:2回出現\n",
            "100:Not Exists\n"
          ]
        }
      ],
      "source": [
        "numbers = [1, 2, 3, 2, 4, 3, 5, 4, 6, 57, 57, 6, 18, 7, 9, 8, 10, 9, 0, 0, 10]\n",
        "value_0= 0\n",
        "value_1= 100\n",
        "# 回答\n",
        "def count_occurrences(lst,target):\n",
        "  count=0\n",
        "  for i in lst:\n",
        "    if i == target:\n",
        "      count +=1\n",
        "  if count >0:\n",
        "   print(f\"{target}:{count}回出現\")\n",
        "  else:\n",
        "    print(f\"{target}:Not Exists\")\n",
        "\n",
        "count_occurrences(numbers,value_0)\n",
        "count_occurrences(numbers,value_1)"
      ]
    },
    {
      "cell_type": "markdown",
      "id": "8f45bea5",
      "metadata": {
        "id": "8f45bea5"
      },
      "source": [
        "# 課題3\n",
        "\n",
        "与えられた辞書内の指定したに一致するキーを検索し、そのキーに対応する値を```print```してください。見つからない場合は```Not Exists```を```print```してください。\n",
        "\n",
        "```value_0```と```value_１```を実行した結果を確認してください。"
      ]
    },
    {
      "cell_type": "code",
      "execution_count": null,
      "id": "0b45b69e",
      "metadata": {
        "id": "0b45b69e"
      },
      "outputs": [],
      "source": [
        "birth={'Marx': 1818,\n",
        "       'Weber': 1864,\n",
        "       'Durkheim': 1858,\n",
        "       'Parsons': 1902,\n",
        "       'Merton': 1911}\n",
        "\n",
        "value_0= \"Parsons\"\n",
        "value_1= \"Giddens\""
      ]
    },
    {
      "cell_type": "code",
      "execution_count": null,
      "id": "e605772b",
      "metadata": {
        "id": "e605772b",
        "colab": {
          "base_uri": "https://localhost:8080/"
        },
        "outputId": "4bd805de-6d99-4d08-cd9d-6b60bcff7672"
      },
      "outputs": [
        {
          "output_type": "stream",
          "name": "stdout",
          "text": [
            "Parsons:1818\n",
            "Giddens:1818\n"
          ]
        }
      ],
      "source": [
        "birth={'Marx': 1818,\n",
        "       'Weber': 1864,\n",
        "       'Durkheim': 1858,\n",
        "       'Parsons': 1902,\n",
        "       'Merton': 1911}\n",
        "\n",
        "value_0= \"Parsons\"\n",
        "value_1= \"Giddens\"\n",
        "# 回答\n",
        "def search_key(d,target):\n",
        "  found = False\n",
        "  for key in d:\n",
        "    print(f\"{target}:{d[key]}\")\n",
        "    found=True\n",
        "    break\n",
        "  if not found:\n",
        "    print(f\"{target}:Not Exists\")\n",
        "\n",
        "search_key(birth,value_0)\n",
        "search_key(birth,value_1)"
      ]
    },
    {
      "cell_type": "code",
      "execution_count": null,
      "id": "1e8d2cbe",
      "metadata": {
        "id": "1e8d2cbe"
      },
      "outputs": [],
      "source": []
    }
  ],
  "metadata": {
    "kernelspec": {
      "display_name": "base",
      "language": "python",
      "name": "python3"
    },
    "language_info": {
      "codemirror_mode": {
        "name": "ipython",
        "version": 3
      },
      "file_extension": ".py",
      "mimetype": "text/x-python",
      "name": "python",
      "nbconvert_exporter": "python",
      "pygments_lexer": "ipython3",
      "version": "3.11.5"
    },
    "colab": {
      "provenance": []
    }
  },
  "nbformat": 4,
  "nbformat_minor": 5
}