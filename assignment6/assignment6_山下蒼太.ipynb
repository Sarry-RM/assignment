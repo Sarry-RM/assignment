{
 "cells": [
  {
   "cell_type": "markdown",
   "id": "08ce7524",
   "metadata": {},
   "source": [
    "$n$個のデータ$(x_1,y_1),...(x_n,y_n)$が観測され、各$y_i$が\n",
    "\n",
    "$$\n",
    "y_i=\\alpha +\\beta x_i+u_i,\\ i=1,...,n\n",
    "$$\n",
    "\n",
    "が得られます。\n",
    "\n",
    "最小二乗法による、\n",
    "$$\n",
    "\\hat{\\beta}=\\frac{\\sum_{i=1}^n (x_i-\\bar{x})(y_i-\\bar{y})}{\\sum_{i=1}^n (x_i-\\bar{x})^2}=\\frac{標本共分散(x_i,y_i)}{標本分散(x_i)}\n",
    "$$\n",
    "\n",
    "$$\n",
    "\\hat{\\alpha}=\\hat{y}-\\hat{\\beta}\\bar{x}\n",
    "$$\n",
    "\n",
    "で回帰モデルの係数を推定することができる。"
   ]
  },
  {
   "cell_type": "markdown",
   "id": "4be830e8",
   "metadata": {},
   "source": [
    "以下は、仮想データを作成し、回帰モデルの係数推定式によって計算した結果が真の値にどれほど近づくかを検証するためのコードである\n",
    "このコードに基づいて、課題に解答しなさい。"
   ]
  },
  {
   "cell_type": "code",
   "execution_count": 1,
   "id": "82f8c75a",
   "metadata": {},
   "outputs": [
    {
     "name": "stdout",
     "output_type": "stream",
     "text": [
      "usage: conda [-h] [-v] [--no-plugins] [-V] COMMAND ...\n",
      "conda: error: argument COMMAND: invalid choice: 'active' (choose from 'activate', 'clean', 'commands', 'compare', 'config', 'create', 'deactivate', 'env', 'export', 'info', 'init', 'install', 'list', 'notices', 'package', 'build', 'content-trust', 'convert', 'debug', 'develop', 'doctor', 'index', 'inspect', 'metapackage', 'render', 'repoquery', 'skeleton', 'token', 'repo', 'pack', 'server', 'remove', 'uninstall', 'rename', 'run', 'search', 'update', 'upgrade')\n",
      "\n",
      "Note: you may need to restart the kernel to use updated packages.\n"
     ]
    }
   ],
   "source": [
    "conda active"
   ]
  },
  {
   "cell_type": "code",
   "execution_count": null,
   "id": "2eb6d786",
   "metadata": {},
   "outputs": [],
   "source": [
    "git clone git@github.com:631sota/chss_2025_assignment.git\n",
    "cd chss_2025_assignment"
   ]
  },
  {
   "cell_type": "code",
   "execution_count": 2,
   "id": "73e67af3",
   "metadata": {},
   "outputs": [],
   "source": [
    "# 線形回帰モデルのデータをシミュレーションで生成します\n",
    "import numpy as np\n",
    "\n",
    "# サンプルデータ\n",
    "# パラメータ\n",
    "beta_0 = 2.5  # 切片\n",
    "beta_1 = 0.8  # 傾き\n",
    "n = 100  # データ数\n",
    "\n",
    "# 説明変数を一様分布から生成\n",
    "x = np.random.uniform(low=0, high=10, size=n)\n",
    "\n",
    "# ノイズ項を標準正規分布から生成\n",
    "epsilon = np.random.normal(loc=0, scale=1, size=n)\n",
    "\n",
    "# 目的変数を生成\n",
    "y = beta_0 + beta_1 * x + epsilon"
   ]
  },
  {
   "cell_type": "code",
   "execution_count": 3,
   "id": "1df27464",
   "metadata": {},
   "outputs": [
    {
     "name": "stdout",
     "output_type": "stream",
     "text": [
      "beta:  0.7480749069242225\n",
      "alpha:  2.6761710947468043\n"
     ]
    }
   ],
   "source": [
    "# パラメータの推定\n",
    "x_mean = np.mean(x)\n",
    "y_mean = np.mean(y)\n",
    "\n",
    "# β₁の推定\n",
    "numerator = np.sum((x - x_mean) * (y - y_mean))\n",
    "denominator = np.sum((x - x_mean) ** 2)\n",
    "beta = numerator / denominator\n",
    "print(\"beta: \", beta)\n",
    "# β₀の推定\n",
    "alpha = y_mean - beta * x_mean\n",
    "\n",
    "print(\"alpha: \", alpha)"
   ]
  },
  {
   "cell_type": "markdown",
   "id": "97148b05",
   "metadata": {},
   "source": [
    "# 課題1\n",
    "\n",
    "母集団回帰係数、誤差項とサンプルサイズを指定し、観測データ($x$,$y$)を生成する関数を作成しなさい"
   ]
  },
  {
   "cell_type": "code",
   "execution_count": 4,
   "id": "2be0300f",
   "metadata": {},
   "outputs": [],
   "source": [
    "import numpy as np\n",
    "\n",
    "def generate_linear_data(beta_0, beta_1, sigma, n, x_low=0, x_high=10):\n",
    "    \"\"\"\n",
    "    線形回帰モデルの観測データを生成する関数\n",
    "\n",
    "    Parameters:\n",
    "    beta_0 (float): 切片 (母集団回帰係数)\n",
    "    beta_1 (float): 傾き (母集団回帰係数)\n",
    "    sigma (float): 誤差項の標準偏差\n",
    "    n (int): サンプルサイズ\n",
    "    x_low (float): xの下限 (デフォルト=0)\n",
    "    x_high (float): xの上限 (デフォルト=10)\n",
    "\n",
    "    Returns:\n",
    "    x (ndarray): 説明変数\n",
    "    y (ndarray): 目的変数\n",
    "    \"\"\"\n",
    "    # 説明変数xを一様分布から生成\n",
    "    x = np.random.uniform(low=x_low, high=x_high, size=n)\n",
    "    \n",
    "    # 誤差項epsilonを正規分布から生成\n",
    "    epsilon = np.random.normal(loc=0, scale=sigma, size=n)\n",
    "    \n",
    "    # 目的変数yを生成\n",
    "    y = beta_0 + beta_1 * x + epsilon\n",
    "    \n",
    "    return x, y"
   ]
  },
  {
   "cell_type": "code",
   "execution_count": 8,
   "id": "4f32b389",
   "metadata": {},
   "outputs": [],
   "source": [
    "x, y = generate_linear_data(beta_0=2.5, beta_1=0.8, sigma=1.0, n=100)\n"
   ]
  },
  {
   "cell_type": "code",
   "execution_count": 10,
   "id": "01c87825",
   "metadata": {},
   "outputs": [
    {
     "name": "stdout",
     "output_type": "stream",
     "text": [
      "[9.6362991  3.78114661 3.82162605 1.11973178 1.41756392 4.7317133\n",
      " 4.51315812 0.12864179 7.98467662 4.06952255 9.37062611 8.46987912\n",
      " 0.58125655 2.7771835  8.37030364 6.97394829 1.26987448 5.63001981\n",
      " 8.00928174 1.88355375 7.45683713 4.33528672 5.97611602 3.75609995\n",
      " 0.82154962 4.83650565 0.91197422 1.84334168 4.34952954 8.116965\n",
      " 0.27943698 4.99997704 9.19819193 6.32731116 7.1163718  3.72679948\n",
      " 2.80022111 8.83765223 8.49414302 7.13398246 4.4469659  0.02816211\n",
      " 9.81129687 9.0675672  9.8532574  2.73077656 2.92780318 3.15515195\n",
      " 1.23342577 1.95880667 1.15965711 3.03235852 3.57953589 7.76477108\n",
      " 4.68073095 4.73145315 3.20978878 4.54075508 6.02634607 0.48497792\n",
      " 5.8809629  0.61762572 2.73717449 4.72772928 2.45712644 8.77809493\n",
      " 1.74308242 5.64806507 5.00593535 2.12983502 8.90546891 7.98082192\n",
      " 6.63186435 5.90398407 3.64870768 1.93753826 9.41882025 5.75767515\n",
      " 9.99527757 7.46171659 8.13576707 1.52559123 0.84725493 2.25754205\n",
      " 3.09047262 1.73972958 8.17782095 1.40257363 8.97089253 5.17130532\n",
      " 6.24924451 6.85543816 6.82067159 2.90802768 5.80787065 8.65118002\n",
      " 0.62910939 5.88390505 6.70541492 1.55654921] [ 9.83001532  5.31963205  6.43114318  2.05125297  3.30302366  8.64134171\n",
      "  6.62039031  2.46212347  8.04671163  7.60002826  9.454034   10.29750411\n",
      "  2.03070134  5.50088343  9.56336865  8.21021114  3.66620815  7.25812231\n",
      "  7.99226444  4.58313813 10.59719547  6.83423296  7.9781712   5.60858556\n",
      "  1.91817707  6.46886195  3.12931678  3.7528516   4.19154451  9.2728712\n",
      "  1.29121816  7.31671247 11.12323648  6.49338857  9.71172984  6.34756664\n",
      "  2.46743639 10.82206035  9.00901186  8.76226071  4.81991772  3.51638262\n",
      "  9.65975255  9.64212443 10.84518856  4.14220898  3.61338587  5.19530974\n",
      "  4.76718545  2.52715442  4.37617955  3.76085015  5.11124046  8.49348214\n",
      "  6.16333703  6.71093543  5.35663953  7.41567461  8.45627584  2.37642696\n",
      "  9.27800787  4.63003843  2.68901124  7.48830275  7.07178221 10.14351153\n",
      "  5.79372516  8.48773478  7.11276349  5.63432742  8.12910967  9.21174716\n",
      "  7.34314948  6.70595833  4.69167136  3.02586877 11.12496754  4.57503753\n",
      "  9.95341941  8.81037371 10.20596128  4.54578604  3.26565401  4.40103101\n",
      "  3.50766119  4.15429044  9.37220678  3.99372796  9.85422067  6.51136736\n",
      "  8.23815794  9.20075083  8.51574279  4.73057201  5.70177392 10.80893685\n",
      "  5.03895504  8.40175     9.60632198  3.16325502]\n"
     ]
    }
   ],
   "source": [
    "print(x, y)"
   ]
  },
  {
   "cell_type": "markdown",
   "id": "4e971945",
   "metadata": {},
   "source": [
    "# 課題2\n",
    "\n",
    "観測データ($x$,$y$)で、最小二乗法で回帰係数を推定する関数を作成しなさい"
   ]
  },
  {
   "cell_type": "code",
   "execution_count": 11,
   "id": "37986581",
   "metadata": {},
   "outputs": [],
   "source": [
    "import numpy as np\n",
    "\n",
    "def estimate_ols(x, y):\n",
    "    \"\"\"\n",
    "    最小二乗法による単回帰モデルの回帰係数推定\n",
    "    \n",
    "    Parameters:\n",
    "    x (ndarray): 説明変数\n",
    "    y (ndarray): 目的変数\n",
    "    \n",
    "    Returns:\n",
    "    alpha_hat (float): 推定された切片（α）\n",
    "    beta_hat (float): 推定された傾き（β）\n",
    "    \"\"\"\n",
    "    x_mean = np.mean(x)\n",
    "    y_mean = np.mean(y)\n",
    "\n",
    "    # 傾き（β）の推定\n",
    "    numerator = np.sum((x - x_mean) * (y - y_mean))\n",
    "    denominator = np.sum((x - x_mean) ** 2)\n",
    "    beta_hat = numerator / denominator\n",
    "\n",
    "    # 切片（α）の推定\n",
    "    alpha_hat = y_mean - beta_hat * x_mean\n",
    "\n",
    "    return alpha_hat, beta_hat"
   ]
  },
  {
   "cell_type": "code",
   "execution_count": 12,
   "id": "df02c9a0",
   "metadata": {},
   "outputs": [
    {
     "name": "stdout",
     "output_type": "stream",
     "text": [
      "推定された切片 (alpha): 2.450951829063299\n",
      "推定された傾き (beta): 0.7937341716934397\n"
     ]
    }
   ],
   "source": [
    "x, y = generate_linear_data(beta_0=2.5, beta_1=0.8, sigma=1.0, n=100)\n",
    "\n",
    "# 回帰係数推定\n",
    "alpha_hat, beta_hat = estimate_ols(x, y)\n",
    "\n",
    "print(\"推定された切片 (alpha):\", alpha_hat)\n",
    "print(\"推定された傾き (beta):\", beta_hat)"
   ]
  },
  {
   "cell_type": "markdown",
   "id": "16a671fc",
   "metadata": {},
   "source": [
    "# 課題3\n",
    "\n",
    "- 一定な母集団回帰係数、誤差項サンプルサイズを設定し、観測データを作成し、回帰係数を推定するといった推定プロセスを100回を行いなさい。\n",
    "- 毎回の推定値を格納し、その平均と標準偏差を計算しなさい。\n",
    "- サンプルサイズが $20, 50, 100, 200, 500,1000$である場合、推定値の平均と標準偏差を比較しなさい"
   ]
  },
  {
   "cell_type": "markdown",
   "id": "68396b98",
   "metadata": {},
   "source": []
  },
  {
   "cell_type": "code",
   "execution_count": 13,
   "id": "5e6e421b",
   "metadata": {},
   "outputs": [
    {
     "name": "stderr",
     "output_type": "stream",
     "text": [
      "Fontconfig warning: ignoring UTF-8: not a valid region tag\n",
      "Matplotlib is building the font cache; this may take a moment.\n"
     ]
    },
    {
     "name": "stdout",
     "output_type": "stream",
     "text": [
      " Sample Size |   Mean of β̂ |    Std of β̂\n",
      "----------------------------------------\n",
      "          20 |      0.78208 |      0.07697\n",
      "          50 |      0.80203 |      0.05320\n",
      "         100 |      0.79413 |      0.03674\n",
      "         200 |      0.80008 |      0.02613\n",
      "         500 |      0.80115 |      0.01595\n",
      "        1000 |      0.80111 |      0.01095\n"
     ]
    },
    {
     "data": {
      "image/png": "[encoded data removed]",
      "text/plain": [
       "<Figure size 640x480 with 1 Axes>"
      ]
     },
     "metadata": {},
     "output_type": "display_data"
    }
   ],
   "source": [
    "import numpy as np\n",
    "import matplotlib.pyplot as plt\n",
    "\n",
    "# 1. データ生成関数\n",
    "def generate_linear_data(beta_0, beta_1, sigma, n, x_low=0, x_high=10):\n",
    "    x = np.random.uniform(low=x_low, high=x_high, size=n)\n",
    "    epsilon = np.random.normal(loc=0, scale=sigma, size=n)\n",
    "    y = beta_0 + beta_1 * x + epsilon\n",
    "    return x, y\n",
    "\n",
    "# 2. 最小二乗法による回帰係数推定関数\n",
    "def estimate_ols(x, y):\n",
    "    x_mean = np.mean(x)\n",
    "    y_mean = np.mean(y)\n",
    "    beta_hat = np.sum((x - x_mean) * (y - y_mean)) / np.sum((x - x_mean) ** 2)\n",
    "    alpha_hat = y_mean - beta_hat * x_mean\n",
    "    return alpha_hat, beta_hat\n",
    "\n",
    "# 3. シミュレーション設定\n",
    "beta_0_true = 2.5  # 真の切片\n",
    "beta_1_true = 0.8  # 真の傾き\n",
    "sigma_true = 1.0   # 誤差項の標準偏差\n",
    "n_trials = 100     # 推定を繰り返す回数\n",
    "\n",
    "# サンプルサイズのリスト\n",
    "sample_sizes = [20, 50, 100, 200, 500, 1000]\n",
    "\n",
    "# 結果格納用リスト\n",
    "results = []\n",
    "\n",
    "# 4. 各サンプルサイズごとにシミュレーションを実行\n",
    "for n in sample_sizes:\n",
    "    beta_estimates = []\n",
    "\n",
    "    for _ in range(n_trials):\n",
    "        x, y = generate_linear_data(beta_0=beta_0_true, beta_1=beta_1_true, sigma=sigma_true, n=n)\n",
    "        _, beta_hat = estimate_ols(x, y)\n",
    "        beta_estimates.append(beta_hat)\n",
    "    \n",
    "    # 推定値の平均と標準偏差を計算\n",
    "    beta_mean = np.mean(beta_estimates)\n",
    "    beta_std = np.std(beta_estimates)\n",
    "    \n",
    "    results.append((n, beta_mean, beta_std))\n",
    "\n",
    "# 5. 結果表示\n",
    "print(f\"{'Sample Size':>12} | {'Mean of β̂':>12} | {'Std of β̂':>12}\")\n",
    "print(\"-\" * 40)\n",
    "for n, beta_mean, beta_std in results:\n",
    "    print(f\"{n:>12} | {beta_mean:>12.5f} | {beta_std:>12.5f}\")\n",
    "\n",
    "# 6. 可視化（標準偏差の推移）\n",
    "sample_sizes_arr = np.array(sample_sizes)\n",
    "std_arr = np.array([r[2] for r in results])\n",
    "\n",
    "plt.plot(sample_sizes_arr, std_arr, marker='o')\n",
    "plt.xscale('log')\n",
    "plt.xlabel(\"Sample Size (log scale)\")\n",
    "plt.ylabel(\"Standard Deviation of β̂\")\n",
    "plt.title(\"Sample Size vs. Std of Estimated β\")\n",
    "plt.grid(True)\n",
    "plt.show()"
   ]
  }
 ],
 "metadata": {
  "kernelspec": {
   "display_name": "base",
   "language": "python",
   "name": "python3"
  },
  "language_info": {
   "codemirror_mode": {
    "name": "ipython",
    "version": 3
   },
   "file_extension": ".py",
   "mimetype": "text/x-python",
   "name": "python",
   "nbconvert_exporter": "python",
   "pygments_lexer": "ipython3",
   "version": "3.12.7"
  }
 },
 "nbformat": 4,
 "nbformat_minor": 5
}
