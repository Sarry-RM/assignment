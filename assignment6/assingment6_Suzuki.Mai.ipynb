{
 "cells": [
  {
   "cell_type": "markdown",
   "id": "08ce7524",
   "metadata": {},
   "source": [
    "$n$個のデータ$(x_1,y_1),...(x_n,y_n)$が観測され、各$y_i$が\n",
    "\n",
    "$$\n",
    "y_i=\\alpha +\\beta x_i+u_i,\\ i=1,...,n\n",
    "$$\n",
    "\n",
    "が得られます。\n",
    "\n",
    "最小二乗法による、\n",
    "$$\n",
    "\\hat{\\beta}=\\frac{\\sum_{i=1}^n (x_i-\\bar{x})(y_i-\\bar{y})}{\\sum_{i=1}^n (x_i-\\bar{x})^2}=\\frac{標本共分散(x_i,y_i)}{標本分散(x_i)}\n",
    "$$\n",
    "\n",
    "$$\n",
    "\\hat{\\alpha}=\\hat{y}-\\hat{\\beta}\\bar{x}\n",
    "$$\n",
    "\n",
    "で回帰モデルの係数を推定することができる。"
   ]
  },
  {
   "cell_type": "markdown",
   "id": "4be830e8",
   "metadata": {},
   "source": [
    "以下は、仮想データを作成し、回帰モデルの係数推定式によって計算した結果が真の値にどれほど近づくかを検証するためのコードである\n",
    "このコードに基づいて、課題に解答しなさい。"
   ]
  },
  {
   "cell_type": "code",
   "execution_count": null,
   "id": "73e67af3",
   "metadata": {},
   "outputs": [],
   "source": [
    "# 線形回帰モデルのデータをシミュレーションで生成します\n",
    "import numpy as np\n",
    "\n",
    "# サンプルデータ\n",
    "# パラメータ\n",
    "beta_0 = 2.5  # 切片\n",
    "beta_1 = 0.8  # 傾き\n",
    "n = 100  # データ数\n",
    "\n",
    "# 説明変数を一様分布から生成\n",
    "x = np.random.uniform(low=0, high=10, size=n)\n",
    "\n",
    "# 誤差項を標準正規分布から生成\n",
    "epsilon = np.random.normal(loc=0, scale=1, size=n)\n",
    "\n",
    "# 目的変数を生成\n",
    "y = beta_0 + beta_1 * x + epsilon\n"
   ]
  },
  {
   "cell_type": "code",
   "execution_count": 3,
   "id": "1df27464",
   "metadata": {},
   "outputs": [
    {
     "name": "stdout",
     "output_type": "stream",
     "text": [
      "beta:  0.823481103136274\n",
      "alpha:  2.471159826636163\n"
     ]
    }
   ],
   "source": [
    "# パラメータの推定\n",
    "x_mean = np.mean(x)\n",
    "y_mean = np.mean(y)\n",
    "\n",
    "# β₁の推定\n",
    "numerator = np.sum((x - x_mean) * (y - y_mean))\n",
    "denominator = np.sum((x - x_mean) ** 2)\n",
    "beta = numerator / denominator\n",
    "print(\"beta: \", beta)\n",
    "# β₀の推定\n",
    "alpha = y_mean - beta * x_mean\n",
    "\n",
    "print(\"alpha: \", alpha)"
   ]
  },
  {
   "cell_type": "markdown",
   "id": "97148b05",
   "metadata": {},
   "source": [
    "# 課題1\n",
    "\n",
    "母集団回帰係数、誤差項とサンプルサイズを指定し、観測データ($x$,$y$)を生成する関数を作成しなさい"
   ]
  },
  {
   "cell_type": "code",
   "execution_count": 6,
   "id": "2be0300f",
   "metadata": {},
   "outputs": [
    {
     "ename": "ModuleNotFoundError",
     "evalue": "No module named 'numpy'",
     "output_type": "error",
     "traceback": [
      "\u001b[31m---------------------------------------------------------------------------\u001b[39m",
      "\u001b[31mModuleNotFoundError\u001b[39m                       Traceback (most recent call last)",
      "\u001b[36mCell\u001b[39m\u001b[36m \u001b[39m\u001b[32mIn[6]\u001b[39m\u001b[32m, line 1\u001b[39m\n\u001b[32m----> \u001b[39m\u001b[32m1\u001b[39m \u001b[38;5;28;01mimport\u001b[39;00m\u001b[38;5;250m \u001b[39m\u001b[34;01mnumpy\u001b[39;00m\u001b[38;5;250m \u001b[39m\u001b[38;5;28;01mas\u001b[39;00m\u001b[38;5;250m \u001b[39m\u001b[34;01mnp\u001b[39;00m\n\u001b[32m      3\u001b[39m \u001b[38;5;28;01mdef\u001b[39;00m\u001b[38;5;250m \u001b[39m\u001b[34msimulate_linear_data\u001b[39m(beta_0, beta_1, sigma, n, x_min=\u001b[32m0.0\u001b[39m, x_max=\u001b[32m10.0\u001b[39m, random_seed=\u001b[38;5;28;01mNone\u001b[39;00m):\n\u001b[32m      4\u001b[39m \u001b[38;5;250m    \u001b[39m\u001b[33;03m\"\"\"\u001b[39;00m\n\u001b[32m      5\u001b[39m \u001b[33;03m    単回帰モデル y = beta_0 + beta_1 * x + ε に従う\u001b[39;00m\n\u001b[32m      6\u001b[39m \u001b[33;03m    観測データ (x, y) を生成する関数。\u001b[39;00m\n\u001b[32m   (...)\u001b[39m\u001b[32m     19\u001b[39m \u001b[33;03m        y (np.ndarray): 目的変数 y、形状 (n,)\u001b[39;00m\n\u001b[32m     20\u001b[39m \u001b[33;03m    \"\"\"\u001b[39;00m\n",
      "\u001b[31mModuleNotFoundError\u001b[39m: No module named 'numpy'"
     ]
    }
   ],
   "source": [
    "import numpy as np\n",
    "\n",
    "def simulate_linear_data(beta_0, beta_1, sigma, n, x_min=0.0, x_max=10.0, random_seed=None):\n",
    "    \"\"\"\n",
    "    単回帰モデル y = beta_0 + beta_1 * x + ε に従う\n",
    "    観測データ (x, y) を生成する関数。\n",
    "\n",
    "    Args:\n",
    "        beta_0 (float): 切片 (母集団回帰係数)\n",
    "        beta_1 (float): 傾き (母集団回帰係数)\n",
    "        sigma (float): 誤差項 ε の標準偏差（ε ~ N(0, sigma^2)）\n",
    "        n (int): サンプルサイズ\n",
    "        x_min (float): x の最小値（デフォルト 0.0）\n",
    "        x_max (float): x の最大値（デフォルト 10.0）\n",
    "        random_seed (int or None): 乱数シード（再現性を持たせたいとき）\n",
    "\n",
    "    Returns:\n",
    "        x (np.ndarray): 説明変数 x、形状 (n,)\n",
    "        y (np.ndarray): 目的変数 y、形状 (n,)\n",
    "    \"\"\"\n",
    "    rng = np.random.default_rng(seed=random_seed)\n",
    "\n",
    "    # x を一様分布 U(x_min, x_max) から生成\n",
    "    x = rng.uniform(low=x_min, high=x_max, size=n)\n",
    "\n",
    "    # 誤差項 ε を N(0, sigma^2) から生成\n",
    "    epsilon = rng.normal(loc=0.0, scale=sigma, size=n)\n",
    "\n",
    "    # モデルに従って y を計算\n",
    "    y = beta_0 + beta_1 * x + epsilon\n",
    "\n",
    "    return x, y\n"
   ]
  },
  {
   "cell_type": "markdown",
   "id": "4e971945",
   "metadata": {},
   "source": [
    "# 課題2\n",
    "\n",
    "観測データ($x$,$y$)で、最小二乗法で回帰係数を推定する関数を作成しなさい"
   ]
  },
  {
   "cell_type": "code",
   "execution_count": null,
   "id": "37986581",
   "metadata": {},
   "outputs": [],
   "source": [
    "import numpy as np\n",
    "\n",
    "def estimate_lsq_coefficients(x: np.ndarray, y: np.ndarray):\n",
    "    \"\"\"\n",
    "    最小二乗法により単回帰 y = β₀ + β₁ x を推定する関数。\n",
    "\n",
    "    Args:\n",
    "        x (np.ndarray): 説明変数（1次元配列、形状 (n,)）\n",
    "        y (np.ndarray): 目的変数（1次元配列、形状 (n,)）\n",
    "\n",
    "    Returns:\n",
    "        beta_0_hat (float): 切片の推定値\n",
    "        beta_1_hat (float): 傾きの推定値\n",
    "    \"\"\"\n",
    "    # サンプルサイズ\n",
    "    n = x.size\n",
    "\n",
    "    # 平均\n",
    "    x_mean = np.mean(x)\n",
    "    y_mean = np.mean(y)\n",
    "\n",
    "    # 分子・分母\n",
    "    SS_xy = np.sum((x - x_mean) * (y - y_mean))\n",
    "    SS_xx = np.sum((x - x_mean)**2)\n",
    "\n",
    "    # 推定値\n",
    "    beta_1_hat = SS_xy / SS_xx\n",
    "    beta_0_hat = y_mean - beta_1_hat * x_mean\n",
    "\n",
    "    return beta_0_hat, beta_1_hat\n"
   ]
  },
  {
   "cell_type": "markdown",
   "id": "16a671fc",
   "metadata": {},
   "source": [
    "# 課題3\n",
    "\n",
    "- 一定な母集団回帰係数、誤差項サンプルサイズを設定し、観測データを作成し、回帰係数を推定するといった推定プロセスを100回を行いなさい。\n",
    "- 毎回の推定値を格納し、その平均と標準偏差を計算しなさい。\n",
    "- サンプルサイズが $20, 50, 100, 200, 500,1000$である場合、推定値の平均と標準偏差を比較しなさい\n",
    "\n",
    "\n"
   ]
  },
  {
   "cell_type": "markdown",
   "id": "68396b98",
   "metadata": {},
   "source": []
  },
  {
   "cell_type": "code",
   "execution_count": 7,
   "id": "9d07ad43",
   "metadata": {},
   "outputs": [
    {
     "ename": "ModuleNotFoundError",
     "evalue": "No module named 'numpy'",
     "output_type": "error",
     "traceback": [
      "\u001b[31m---------------------------------------------------------------------------\u001b[39m",
      "\u001b[31mModuleNotFoundError\u001b[39m                       Traceback (most recent call last)",
      "\u001b[36mCell\u001b[39m\u001b[36m \u001b[39m\u001b[32mIn[7]\u001b[39m\u001b[32m, line 1\u001b[39m\n\u001b[32m----> \u001b[39m\u001b[32m1\u001b[39m \u001b[38;5;28;01mimport\u001b[39;00m\u001b[38;5;250m \u001b[39m\u001b[34;01mnumpy\u001b[39;00m\u001b[38;5;250m \u001b[39m\u001b[38;5;28;01mas\u001b[39;00m\u001b[38;5;250m \u001b[39m\u001b[34;01mnp\u001b[39;00m\n\u001b[32m      3\u001b[39m \u001b[38;5;28;01mdef\u001b[39;00m\u001b[38;5;250m \u001b[39m\u001b[34msimulate_linear_data\u001b[39m(beta_0, beta_1, sigma, n, x_min=\u001b[32m0.0\u001b[39m, x_max=\u001b[32m10.0\u001b[39m, rng=\u001b[38;5;28;01mNone\u001b[39;00m):\n\u001b[32m      4\u001b[39m     x = rng.uniform(low=x_min, high=x_max, size=n)\n",
      "\u001b[31mModuleNotFoundError\u001b[39m: No module named 'numpy'"
     ]
    }
   ],
   "source": [
    "import numpy as np\n",
    "\n",
    "def simulate_linear_data(beta_0, beta_1, sigma, n, x_min=0.0, x_max=10.0, rng=None):\n",
    "    x = rng.uniform(low=x_min, high=x_max, size=n)\n",
    "    epsilon = rng.normal(loc=0.0, scale=sigma, size=n)\n",
    "    y = beta_0 + beta_1 * x + epsilon\n",
    "    return x, y\n",
    "\n",
    "def estimate_lsq_coefficients(x, y):\n",
    "    x_mean, y_mean = x.mean(), y.mean()\n",
    "    SS_xy = ((x - x_mean) * (y - y_mean)).sum()\n",
    "    SS_xx = ((x - x_mean)**2).sum()\n",
    "    b1 = SS_xy / SS_xx\n",
    "    b0 = y_mean - b1 * x_mean\n",
    "    return b0, b1\n",
    "\n",
    "def simulate_and_summarize(beta_0, beta_1, sigma, n, reps=100, seed=None):\n",
    "    rng = np.random.default_rng(seed)\n",
    "    b0_list = []\n",
    "    b1_list = []\n",
    "    for i in range(reps):\n",
    "        x, y = simulate_linear_data(beta_0, beta_1, sigma, n, rng=rng)\n",
    "        b0_hat, b1_hat = estimate_lsq_coefficients(x, y)\n",
    "        b0_list.append(b0_hat)\n",
    "        b1_list.append(b1_hat)\n",
    "    b0_arr = np.array(b0_list)\n",
    "    b1_arr = np.array(b1_list)\n",
    "    return {\n",
    "        'n': n,\n",
    "        'b0_mean': b0_arr.mean(),\n",
    "        'b0_std':  b0_arr.std(ddof=1),\n",
    "        'b1_mean': b1_arr.mean(),\n",
    "        'b1_std':  b1_arr.std(ddof=1)\n",
    "    }\n",
    "\n",
    "if __name__ == \"__main__\":\n",
    "    # 母集団パラメータ\n",
    "    beta_0 = 2.5"
   ]
  }
 ],
 "metadata": {
  "kernelspec": {
   "display_name": "base",
   "language": "python",
   "name": "python3"
  },
  "language_info": {
   "codemirror_mode": {
    "name": "ipython",
    "version": 3
   },
   "file_extension": ".py",
   "mimetype": "text/x-python",
   "name": "python",
   "nbconvert_exporter": "python",
   "pygments_lexer": "ipython3",
   "version": "3.13.2"
  }
 },
 "nbformat": 4,
 "nbformat_minor": 5
}
