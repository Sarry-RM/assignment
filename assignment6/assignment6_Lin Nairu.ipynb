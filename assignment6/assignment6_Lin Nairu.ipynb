{
 "cells": [
  {
   "cell_type": "markdown",
   "id": "08ce7524",
   "metadata": {},
   "source": [
    "$n$個のデータ$(x_1,y_1),...(x_n,y_n)$が観測され、各$y_i$が\n",
    "\n",
    "$$\n",
    "y_i=\\alpha +\\beta x_i+u_i,\\ i=1,...,n\n",
    "$$\n",
    "\n",
    "が得られます。\n",
    "\n",
    "最小二乗法による、\n",
    "$$\n",
    "\\hat{\\beta}=\\frac{\\sum_{i=1}^n (x_i-\\bar{x})(y_i-\\bar{y})}{\\sum_{i=1}^n (x_i-\\bar{x})^2}=\\frac{標本共分散(x_i,y_i)}{標本分散(x_i)}\n",
    "$$\n",
    "\n",
    "$$\n",
    "\\hat{\\alpha}=\\hat{y}-\\hat{\\beta}\\bar{x}\n",
    "$$\n",
    "\n",
    "で回帰モデルの係数を推定することができる。"
   ]
  },
  {
   "cell_type": "markdown",
   "id": "4be830e8",
   "metadata": {},
   "source": [
    "以下は、仮想データを作成し、回帰モデルの係数推定式によって計算した結果が真の値にどれほど近づくかを検証するためのコードである\n",
    "このコードに基づいて、課題に解答しなさい。"
   ]
  },
  {
   "cell_type": "code",
   "execution_count": 2,
   "id": "73e67af3",
   "metadata": {},
   "outputs": [],
   "source": [
    "# 線形回帰モデルのデータをシミュレーションで生成します\n",
    "import numpy as np\n",
    "\n",
    "# サンプルデータ\n",
    "# パラメータ\n",
    "beta_0 = 2.5  # 切片\n",
    "beta_1 = 0.8  # 傾き\n",
    "n = 100  # データ数\n",
    "\n",
    "# 説明変数を一様分布から生成\n",
    "x = np.random.uniform(low=0, high=10, size=n)\n",
    "\n",
    "# ノイズ項を標準正規分布から生成\n",
    "epsilon = np.random.normal(loc=0, scale=1, size=n)\n",
    "\n",
    "# 目的変数を生成\n",
    "y = beta_0 + beta_1 * x + epsilon"
   ]
  },
  {
   "cell_type": "code",
   "execution_count": 3,
   "id": "1df27464",
   "metadata": {},
   "outputs": [
    {
     "name": "stdout",
     "output_type": "stream",
     "text": [
      "beta:  0.823481103136274\n",
      "alpha:  2.471159826636163\n"
     ]
    }
   ],
   "source": [
    "# パラメータの推定\n",
    "x_mean = np.mean(x)\n",
    "y_mean = np.mean(y)\n",
    "\n",
    "# β₁の推定\n",
    "numerator = np.sum((x - x_mean) * (y - y_mean))\n",
    "denominator = np.sum((x - x_mean) ** 2)\n",
    "beta = numerator / denominator\n",
    "print(\"beta: \", beta)\n",
    "# β₀の推定\n",
    "alpha = y_mean - beta * x_mean\n",
    "\n",
    "print(\"alpha: \", alpha)"
   ]
  },
  {
   "cell_type": "markdown",
   "id": "97148b05",
   "metadata": {},
   "source": [
    "# 課題1\n",
    "\n",
    "母集団回帰係数、誤差項とサンプルサイズを指定し、観測データ($x$,$y$)を生成する関数を作成しなさい"
   ]
  },
  {
   "cell_type": "code",
   "execution_count": null,
   "id": "2be0300f",
   "metadata": {},
   "outputs": [],
   "source": [
    "import numpy as np\n",
    "\n",
    "def generate_data(beta_0, beta_1, n, error_std):\n",
    "    x = np.random.uniform(0, 10, n)\n",
    "    epsilon = np.random.normal(0, error_std, n)\n",
    "    y = beta_0 + beta_1 * x + epsilon\n",
    "    return x, y\n"
   ]
  },
  {
   "cell_type": "markdown",
   "id": "4e971945",
   "metadata": {},
   "source": [
    "# 課題2\n",
    "\n",
    "観測データ($x$,$y$)で、最小二乗法で回帰係数を推定する関数を作成しなさい"
   ]
  },
  {
   "cell_type": "code",
   "execution_count": null,
   "id": "37986581",
   "metadata": {},
   "outputs": [],
   "source": [
    "def estimate_coefficients(x, y):\n",
    "    x_mean = np.mean(x)\n",
    "    y_mean = np.mean(y)\n",
    "    \n",
    "    beta_1_hat = np.sum((x - x_mean) * (y - y_mean)) / np.sum((x - x_mean)**2)\n",
    "    beta_0_hat = y_mean - beta_1_hat * x_mean\n",
    "    \n",
    "    return beta_0_hat, beta_1_hat"
   ]
  },
  {
   "cell_type": "markdown",
   "id": "16a671fc",
   "metadata": {},
   "source": [
    "# 課題3\n",
    "\n",
    "- 一定な母集団回帰係数、誤差項サンプルサイズを設定し、観測データを作成し、回帰係数を推定するといった推定プロセスを100回を行いなさい。\n",
    "- 毎回の推定値を格納し、その平均と標準偏差を計算しなさい。\n",
    "- サンプルサイズが $20, 50, 100, 200, 500,1000$である場合、推定値の平均と標準偏差を比較しなさい"
   ]
  },
  {
   "cell_type": "code",
   "execution_count": null,
   "id": "7c7e1fd1",
   "metadata": {},
   "outputs": [],
   "source": [
    "def run_simulation(beta_0, beta_1, error_std, sample_sizes, n_trials=100):\n",
    "    results = {}\n",
    "\n",
    "    for n in sample_sizes:\n",
    "        beta_0_list = []\n",
    "        beta_1_list = []\n",
    "        for _ in range(n_trials):\n",
    "            x, y = generate_data(beta_0, beta_1, n, error_std)\n",
    "            est_b0, est_b1 = estimate_coefficients(x, y)\n",
    "            beta_0_list.append(est_b0)\n",
    "            beta_1_list.append(est_b1)\n",
    "        \n",
    "        results[n] = {\n",
    "            'beta_0_mean': np.mean(beta_0_list),\n",
    "            'beta_0_std': np.std(beta_0_list),\n",
    "            'beta_1_mean': np.mean(beta_1_list),\n",
    "            'beta_1_std': np.std(beta_1_list)\n",
    "        }\n",
    "\n",
    "    return results\n"
   ]
  },
  {
   "cell_type": "code",
   "execution_count": null,
   "id": "e1906db8",
   "metadata": {},
   "outputs": [],
   "source": [
    "sample_sizes = [20, 50, 100, 200, 500, 1000]\n",
    "result = run_simulation(beta_0=2.5, beta_1=0.8, error_std=1.0, sample_sizes=sample_sizes)\n",
    "\n",
    "for n in sample_sizes:\n",
    "    print(f\"Sample size: {n}\")\n",
    "    print(f\"  beta_0 mean: {result[n]['beta_0_mean']:.4f}, std: {result[n]['beta_0_std']:.4f}\")\n",
    "    print(f\"  beta_1 mean: {result[n]['beta_1_mean']:.4f}, std: {result[n]['beta_1_std']:.4f}\")\n"
   ]
  },
  {
   "cell_type": "markdown",
   "id": "68396b98",
   "metadata": {},
   "source": []
  }
 ],
 "metadata": {
  "kernelspec": {
   "display_name": "base",
   "language": "python",
   "name": "python3"
  },
  "language_info": {
   "codemirror_mode": {
    "name": "ipython",
    "version": 3
   },
   "file_extension": ".py",
   "mimetype": "text/x-python",
   "name": "python",
   "nbconvert_exporter": "python",
   "pygments_lexer": "ipython3",
   "version": "3.11.5"
  }
 },
 "nbformat": 4,
 "nbformat_minor": 5
}
