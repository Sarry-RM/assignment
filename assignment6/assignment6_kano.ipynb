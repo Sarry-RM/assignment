{
 "cells": [
  {
   "cell_type": "markdown",
   "id": "08ce7524",
   "metadata": {},
   "source": [
    "$n$個のデータ$(x_1,y_1),...(x_n,y_n)$が観測され、各$y_i$が\n",
    "\n",
    "$$\n",
    "y_i=\\alpha +\\beta x_i+u_i,\\ i=1,...,n\n",
    "$$\n",
    "\n",
    "が得られます。\n",
    "\n",
    "最小二乗法による、\n",
    "$$\n",
    "\\hat{\\beta}=\\frac{\\sum_{i=1}^n (x_i-\\bar{x})(y_i-\\bar{y})}{\\sum_{i=1}^n (x_i-\\bar{x})^2}=\\frac{標本共分散(x_i,y_i)}{標本分散(x_i)}\n",
    "$$\n",
    "\n",
    "$$\n",
    "\\hat{\\alpha}=\\hat{y}-\\hat{\\beta}\\bar{x}\n",
    "$$\n",
    "\n",
    "で回帰モデルの係数を推定することができる。"
   ]
  },
  {
   "cell_type": "markdown",
   "id": "4be830e8",
   "metadata": {},
   "source": [
    "以下は、仮想データを作成し、回帰モデルの係数推定式によって計算した結果が真の値にどれほど近づくかを検証するためのコードである\n",
    "このコードに基づいて、課題に解答しなさい。"
   ]
  },
  {
   "cell_type": "code",
   "execution_count": 1,
   "id": "73e67af3",
   "metadata": {},
   "outputs": [],
   "source": [
    "# 線形回帰モデルのデータをシミュレーションで生成します\n",
    "import numpy as np\n",
    "\n",
    "# サンプルデータ\n",
    "# パラメータ\n",
    "beta_0 = 2.5  # 切片\n",
    "beta_1 = 0.8  # 傾き\n",
    "n = 100  # データ数\n",
    "\n",
    "# 説明変数を一様分布から生成\n",
    "x = np.random.uniform(low=0, high=10, size=n)\n",
    "\n",
    "# ノイズ項を標準正規分布から生成\n",
    "epsilon = np.random.normal(loc=0, scale=1, size=n)\n",
    "\n",
    "# 目的変数を生成\n",
    "y = beta_0 + beta_1 * x + epsilon"
   ]
  },
  {
   "cell_type": "code",
   "execution_count": 3,
   "id": "1df27464",
   "metadata": {},
   "outputs": [
    {
     "name": "stdout",
     "output_type": "stream",
     "text": [
      "beta:  0.8137006633441355\n",
      "alpha:  2.144363175130568\n"
     ]
    }
   ],
   "source": [
    "# パラメータの推定\n",
    "x_mean = np.mean(x)\n",
    "y_mean = np.mean(y)\n",
    "\n",
    "# β₁の推定\n",
    "numerator = np.sum((x - x_mean) * (y - y_mean))\n",
    "denominator = np.sum((x - x_mean) ** 2)\n",
    "beta = numerator / denominator\n",
    "print(\"beta: \", beta)\n",
    "# β₀の推定\n",
    "alpha = y_mean - beta * x_mean\n",
    "\n",
    "print(\"alpha: \", alpha)"
   ]
  },
  {
   "cell_type": "markdown",
   "id": "97148b05",
   "metadata": {},
   "source": [
    "# 課題1\n",
    "\n",
    "母集団回帰係数、誤差項とサンプルサイズを指定し、観測データ($x$,$y$)を生成する関数を作成しなさい"
   ]
  },
  {
   "cell_type": "code",
   "execution_count": 4,
   "id": "2be0300f",
   "metadata": {},
   "outputs": [],
   "source": [
    "def generate_data(beta_0, beta_1, n, noise_std=1.0, x_low=0, x_high=10):\n",
    "    x = np.random.uniform(low=x_low, high=x_high, size=n)\n",
    "    epsilon = np.random.normal(loc=0, scale=noise_std, size=n)\n",
    "    y = beta_0 + beta_1 * x + epsilon\n",
    "    return x, y"
   ]
  },
  {
   "cell_type": "markdown",
   "id": "4e971945",
   "metadata": {},
   "source": [
    "# 課題2\n",
    "\n",
    "観測データ($x$,$y$)で、最小二乗法で回帰係数を推定する関数を作成しなさい"
   ]
  },
  {
   "cell_type": "code",
   "execution_count": 5,
   "id": "37986581",
   "metadata": {},
   "outputs": [],
   "source": [
    "def estimate_coefficients(x, y):\n",
    "    x_mean = np.mean(x)\n",
    "    y_mean = np.mean(y)\n",
    "    beta = np.sum((x - x_mean) * (y - y_mean)) / np.sum((x - x_mean) ** 2)\n",
    "    alpha = y_mean - beta * x_mean\n",
    "    return alpha, beta"
   ]
  },
  {
   "cell_type": "markdown",
   "id": "16a671fc",
   "metadata": {},
   "source": [
    "# 課題3\n",
    "\n",
    "- 一定な母集団回帰係数、誤差項サンプルサイズを設定し、観測データを作成し、回帰係数を推定するといった推定プロセスを100回を行いなさい。\n",
    "- 毎回の推定値を格納し、その平均と標準偏差を計算しなさい。\n",
    "- サンプルサイズが $20, 50, 100, 200, 500,1000$である場合、推定値の平均と標準偏差を比較しなさい"
   ]
  },
  {
   "cell_type": "code",
   "execution_count": 6,
   "id": "3c35c867",
   "metadata": {},
   "outputs": [],
   "source": [
    "sample_sizes = [20, 50, 100, 200, 500, 1000]\n",
    "beta_0_true = 2.5\n",
    "beta_1_true = 0.8\n",
    "noise_std = 1.0\n",
    "num_trials = 100\n",
    "\n",
    "results = {}\n",
    "\n",
    "for n in sample_sizes:\n",
    "    beta_estimates = []\n",
    "    alpha_estimates = []\n",
    "\n",
    "    for _ in range(num_trials):\n",
    "        x, y = generate_data(beta_0_true, beta_1_true, n, noise_std=noise_std)\n",
    "        alpha_hat, beta_hat = estimate_coefficients(x, y)\n",
    "        alpha_estimates.append(alpha_hat)\n",
    "        beta_estimates.append(beta_hat)\n",
    "\n",
    "    results[n] = {\n",
    "        'beta_mean': np.mean(beta_estimates),\n",
    "        'beta_std': np.std(beta_estimates),\n",
    "        'alpha_mean': np.mean(alpha_estimates),\n",
    "        'alpha_std': np.std(alpha_estimates)\n",
    "    }"
   ]
  },
  {
   "cell_type": "code",
   "execution_count": 8,
   "id": "3db65767",
   "metadata": {},
   "outputs": [
    {
     "name": "stdout",
     "output_type": "stream",
     "text": [
      "Sample size: 20\n",
      "  beta  mean: 0.7883, std: 0.0756\n",
      "  alpha mean: 2.5386, std: 0.4577\n",
      "\n",
      "Sample size: 50\n",
      "  beta  mean: 0.8025, std: 0.0475\n",
      "  alpha mean: 2.4974, std: 0.2741\n",
      "\n",
      "Sample size: 100\n",
      "  beta  mean: 0.8008, std: 0.0386\n",
      "  alpha mean: 2.4906, std: 0.2211\n",
      "\n",
      "Sample size: 200\n",
      "  beta  mean: 0.7939, std: 0.0247\n",
      "  alpha mean: 2.5367, std: 0.1365\n",
      "\n",
      "Sample size: 500\n",
      "  beta  mean: 0.8020, std: 0.0167\n",
      "  alpha mean: 2.4967, std: 0.0970\n",
      "\n",
      "Sample size: 1000\n",
      "  beta  mean: 0.7994, std: 0.0090\n",
      "  alpha mean: 2.5069, std: 0.0548\n",
      "\n"
     ]
    }
   ],
   "source": [
    "for n in sample_sizes:\n",
    "    print(f\"Sample size: {n}\")\n",
    "    print(f\"  beta  mean: {results[n]['beta_mean']:.4f}, std: {results[n]['beta_std']:.4f}\")\n",
    "    print(f\"  alpha mean: {results[n]['alpha_mean']:.4f}, std: {results[n]['alpha_std']:.4f}\")\n",
    "    print()"
   ]
  }
 ],
 "metadata": {
  "kernelspec": {
   "display_name": "base",
   "language": "python",
   "name": "python3"
  },
  "language_info": {
   "codemirror_mode": {
    "name": "ipython",
    "version": 3
   },
   "file_extension": ".py",
   "mimetype": "text/x-python",
   "name": "python",
   "nbconvert_exporter": "python",
   "pygments_lexer": "ipython3",
   "version": "3.12.7"
  }
 },
 "nbformat": 4,
 "nbformat_minor": 5
}
