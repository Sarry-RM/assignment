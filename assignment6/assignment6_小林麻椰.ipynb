{
 "cells": [
  {
   "cell_type": "markdown",
   "id": "08ce7524",
   "metadata": {},
   "source": [
    "$n$個のデータ$(x_1,y_1),...(x_n,y_n)$が観測され、各$y_i$が\n",
    "\n",
    "$$\n",
    "y_i=\\alpha +\\beta x_i+u_i,\\ i=1,...,n\n",
    "$$\n",
    "\n",
    "が得られます。\n",
    "\n",
    "最小二乗法による、\n",
    "$$\n",
    "\\hat{\\beta}=\\frac{\\sum_{i=1}^n (x_i-\\bar{x})(y_i-\\bar{y})}{\\sum_{i=1}^n (x_i-\\bar{x})^2}=\\frac{標本共分散(x_i,y_i)}{標本分散(x_i)}\n",
    "$$\n",
    "\n",
    "$$\n",
    "\\hat{\\alpha}=\\hat{y}-\\hat{\\beta}\\bar{x}\n",
    "$$\n",
    "\n",
    "で回帰モデルの係数を推定することができる。"
   ]
  },
  {
   "cell_type": "markdown",
   "id": "4be830e8",
   "metadata": {},
   "source": [
    "以下は、仮想データを作成し、回帰モデルの係数推定式によって計算した結果が真の値にどれほど近づくかを検証するためのコードである\n",
    "このコードに基づいて、課題に解答しなさい。"
   ]
  },
  {
   "cell_type": "code",
   "execution_count": 2,
   "id": "73e67af3",
   "metadata": {},
   "outputs": [],
   "source": [
    "# 線形回帰モデルのデータをシミュレーションで生成します\n",
    "import numpy as np\n",
    "\n",
    "# サンプルデータ\n",
    "# パラメータ\n",
    "beta_0 = 2.5  # 切片\n",
    "beta_1 = 0.8  # 傾き\n",
    "n = 100  # データ数\n",
    "\n",
    "# 説明変数を一様分布から生成\n",
    "x = np.random.uniform(low=0, high=10, size=n)\n",
    "\n",
    "# ノイズ項を標準正規分布から生成\n",
    "epsilon = np.random.normal(loc=0, scale=1, size=n)\n",
    "\n",
    "# 目的変数を生成\n",
    "y = beta_0 + beta_1 * x + epsilon"
   ]
  },
  {
   "cell_type": "code",
   "execution_count": 3,
   "id": "1df27464",
   "metadata": {},
   "outputs": [
    {
     "name": "stdout",
     "output_type": "stream",
     "text": [
      "beta:  0.823481103136274\n",
      "alpha:  2.471159826636163\n"
     ]
    }
   ],
   "source": [
    "# パラメータの推定\n",
    "x_mean = np.mean(x)\n",
    "y_mean = np.mean(y)\n",
    "\n",
    "# β₁の推定\n",
    "numerator = np.sum((x - x_mean) * (y - y_mean))\n",
    "denominator = np.sum((x - x_mean) ** 2)\n",
    "beta = numerator / denominator\n",
    "print(\"beta: \", beta)\n",
    "# β₀の推定\n",
    "alpha = y_mean - beta * x_mean\n",
    "\n",
    "print(\"alpha: \", alpha)"
   ]
  },
  {
   "cell_type": "markdown",
   "id": "97148b05",
   "metadata": {},
   "source": [
    "# 課題1\n",
    "\n",
    "母集団回帰係数、誤差項とサンプルサイズを指定し、観測データ($x$,$y$)を生成する関数を作成しなさい"
   ]
  },
  {
   "cell_type": "code",
   "execution_count": null,
   "id": "2be0300f",
   "metadata": {},
   "outputs": [],
   "source": [
    "def generate_regression_data(alpha, beta, sigma, n):\n",
    "\n",
    "    #alpha: 母集団切片\n",
    "    #beta: 母集団回帰係数\n",
    "    #sigma: 誤差項の標準偏差\n",
    "    #n: サンプルサイズ\n",
    "    \n",
    "  x = np.random.uniform(low=0, high=10, size=n)\n",
    "  epsilon = np.random.normal(loc=0, scale=sigma, size=n)\n",
    "  y = alpha + beta * x + epsilon\n",
    "  return x, y\n"
   ]
  },
  {
   "cell_type": "code",
   "execution_count": null,
   "id": "3fc18de1",
   "metadata": {},
   "outputs": [],
   "source": [
    "# 使用例\n",
    "true_alpha = 5.0\n",
    "true_beta = 1.5\n",
    "error_sigma = 2.0\n",
    "sample_size = 200\n",
    "\n",
    "x_obs, y_obs = generate_regression_data(true_alpha, true_beta, error_sigma, sample_size)\n",
    "\n",
    "# 生成されたデータの確認\n",
    "print(\"Generated x:\", x_obs[:5])\n",
    "print(\"Generated y:\", y_obs[:5])"
   ]
  },
  {
   "cell_type": "markdown",
   "id": "4e971945",
   "metadata": {},
   "source": [
    "# 課題2\n",
    "\n",
    "観測データ($x$,$y$)で、最小二乗法で回帰係数を推定する関数を作成しなさい"
   ]
  },
  {
   "cell_type": "code",
   "execution_count": null,
   "id": "37986581",
   "metadata": {},
   "outputs": [],
   "source": [
    "def estimate_regression_coefficients(x, y):\n",
    "   \n",
    "    x_mean = np.mean(x)\n",
    "    y_mean = np.mean(y)\n",
    "\n",
    "    # βの推定\n",
    "    numerator = np.sum((x - x_mean) * (y - y_mean))\n",
    "    denominator = np.sum((x - x_mean) ** 2)\n",
    "    beta_hat = numerator / denominator\n",
    "\n",
    "    # αの推定\n",
    "    alpha_hat = y_mean - beta_hat * x_mean\n",
    "\n",
    "    return alpha_hat, beta_hat"
   ]
  },
  {
   "cell_type": "code",
   "execution_count": null,
   "id": "47d92046",
   "metadata": {},
   "outputs": [],
   "source": [
    "# 使用例\n",
    "estimated_alpha, estimated_beta = estimate_regression_coefficients(x_obs, y_obs)\n",
    "\n",
    "print(\"推定されたalpha:\", estimated_alpha)\n",
    "print(\"推定されたbeta:\", estimated_beta)"
   ]
  },
  {
   "cell_type": "markdown",
   "id": "16a671fc",
   "metadata": {},
   "source": [
    "# 課題3\n",
    "\n",
    "- 一定な母集団回帰係数、誤差項サンプルサイズを設定し、観測データを作成し、回帰係数を推定するといった推定プロセスを100回を行いなさい。\n",
    "- 毎回の推定値を格納し、その平均と標準偏差を計算しなさい。\n",
    "- サンプルサイズが $20, 50, 100, 200, 500,1000$である場合、推定値の平均と標準偏差を比較しなさい"
   ]
  },
  {
   "cell_type": "code",
   "execution_count": null,
   "id": "9f579dd0",
   "metadata": {},
   "outputs": [],
   "source": [
    "# シミュレーション設定\n",
    "num_simulations = 100\n",
    "true_alpha = 5.0\n",
    "true_beta = 1.5\n",
    "error_sigma = 2.0\n",
    "sample_sizes = [20, 50, 100, 200, 500, 1000]\n",
    "\n",
    "#　結果保存用\n",
    "results = {}\n",
    "\n",
    "#　各サンプルサイズで100回シミュレーション\n",
    "for n in sample_sizes:\n",
    "  beta_estimates = []\n",
    "  alpha_estimates = []\n",
    "\n",
    "  for _ in range(num_simulations):\n",
    "    # データ生成\n",
    "    x_obs, y_obs = generate_regression_data(true_alpha, true_beta, error_sigma, n)\n",
    "\n",
    "    # 係数推定\n",
    "    alpha_hat, beta_hat = estimate_regression_coefficients(x_obs, y_obs)\n",
    "\n",
    "    beta_estimates.append(beta_hat)\n",
    "    alpha_estimates.append(alpha_hat)\n",
    "\n",
    "  # 結果の格納\n",
    "  results[n] = {\n",
    "      'beta_mean': np.mean(beta_estimates),\n",
    "      'beta_std': np.std(beta_estimates),\n",
    "      'alpha_mean': np.mean(alpha_estimates),\n",
    "      'alpha_std': np.std(alpha_estimates)\n",
    "  }\n",
    "\n",
    "# 結果の表示\n",
    "print(\"サンプルサイズ別の推定値の平均と標準偏差:\")\n",
    "for n, data in results.items():\n",
    "  print(f\"サンプルサイズ n={n}:\")\n",
    "  print(f\"  beta の推定値 平均: {data['beta_mean']:.4f}, 標準偏差: {data['beta_std']:.4f}\")\n",
    "  print(f\"  alpha の推定値 平均: {data['alpha_mean']:.4f}, 標準偏差: {data['alpha_std']:.4f}\")\n",
    "\n",
    "# サンプルサイズごとの結果比較\n",
    "print(\"サンプルサイズごとの結果比較:\")\n",
    "for n in sample_sizes:\n",
    "  print(f\"n={n}: beta_mean={results[n]['beta_mean']:.4f}, beta_std={results[n]['beta_std']:.4f}, alpha_mean={results[n]['alpha_mean']:.4f}, alpha_std={results[n]['alpha_std']:.4f}\")"
   ]
  },
  {
   "cell_type": "markdown",
   "id": "68396b98",
   "metadata": {},
   "source": []
  }
 ],
 "metadata": {
  "kernelspec": {
   "display_name": "base",
   "language": "python",
   "name": "python3"
  },
  "language_info": {
   "codemirror_mode": {
    "name": "ipython",
    "version": 3
   },
   "file_extension": ".py",
   "mimetype": "text/x-python",
   "name": "python",
   "nbconvert_exporter": "python",
   "pygments_lexer": "ipython3",
   "version": "3.11.5"
  }
 },
 "nbformat": 4,
 "nbformat_minor": 5
}
