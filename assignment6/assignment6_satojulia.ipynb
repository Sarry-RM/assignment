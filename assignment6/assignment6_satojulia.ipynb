{
 "cells": [
  {
   "cell_type": "markdown",
   "id": "08ce7524",
   "metadata": {},
   "source": [
    "$n$個のデータ$(x_1,y_1),...(x_n,y_n)$が観測され、各$y_i$が\n",
    "\n",
    "$$\n",
    "y_i=\\alpha +\\beta x_i+u_i,\\ i=1,...,n\n",
    "$$\n",
    "\n",
    "が得られます。\n",
    "\n",
    "最小二乗法による、\n",
    "$$\n",
    "\\hat{\\beta}=\\frac{\\sum_{i=1}^n (x_i-\\bar{x})(y_i-\\bar{y})}{\\sum_{i=1}^n (x_i-\\bar{x})^2}=\\frac{標本共分散(x_i,y_i)}{標本分散(x_i)}\n",
    "$$\n",
    "\n",
    "$$\n",
    "\\hat{\\alpha}=\\hat{y}-\\hat{\\beta}\\bar{x}\n",
    "$$\n",
    "\n",
    "で回帰モデルの係数を推定することができる。"
   ]
  },
  {
   "cell_type": "markdown",
   "id": "4be830e8",
   "metadata": {},
   "source": [
    "以下は、仮想データを作成し、回帰モデルの係数推定式によって計算した結果が真の値にどれほど近づくかを検証するためのコードである\n",
    "このコードに基づいて、課題に解答しなさい。"
   ]
  },
  {
   "cell_type": "code",
   "execution_count": 7,
   "id": "73e67af3",
   "metadata": {},
   "outputs": [],
   "source": [
    "# 線形回帰モデルのデータをシミュレーションで生成します\n",
    "import numpy as np\n",
    "\n",
    "# サンプルデータ\n",
    "# パラメータ\n",
    "beta_0 = 2.5  # 切片\n",
    "beta_1 = 0.8  # 傾き\n",
    "n = 100  # データ数\n",
    "\n",
    "# 説明変数を一様分布から生成\n",
    "x = np.random.uniform(low=0, high=10, size=n)\n",
    "\n",
    "# ノイズ項を標準正規分布から生成\n",
    "epsilon = np.random.normal(loc=0, scale=1, size=n)\n",
    "\n",
    "# 目的変数を生成\n",
    "y = beta_0 + beta_1 * x + epsilon"
   ]
  },
  {
   "cell_type": "code",
   "execution_count": 8,
   "id": "1df27464",
   "metadata": {},
   "outputs": [
    {
     "name": "stdout",
     "output_type": "stream",
     "text": [
      "beta:  0.766990727679516\n",
      "alpha:  2.6444881248605303\n"
     ]
    }
   ],
   "source": [
    "# パラメータの推定\n",
    "x_mean = np.mean(x)\n",
    "y_mean = np.mean(y)\n",
    "\n",
    "# β₁の推定\n",
    "numerator = np.sum((x - x_mean) * (y - y_mean))\n",
    "denominator = np.sum((x - x_mean) ** 2)\n",
    "beta = numerator / denominator\n",
    "print(\"beta: \", beta)\n",
    "# β₀の推定\n",
    "alpha = y_mean - beta * x_mean\n",
    "\n",
    "print(\"alpha: \", alpha)"
   ]
  },
  {
   "cell_type": "markdown",
   "id": "97148b05",
   "metadata": {},
   "source": [
    "# 課題1\n",
    "\n",
    "母集団回帰係数、誤差項とサンプルサイズを指定し、観測データ($x$,$y$)を生成する関数を作成しなさい"
   ]
  },
  {
   "cell_type": "code",
   "execution_count": null,
   "id": "2be0300f",
   "metadata": {},
   "outputs": [],
   "source": [
    "def data(alpha,beta,n):\n",
    "\n",
    "    # 説明変数を一様分布から生成\n",
    "    x = np.random.uniform(low=0, high=10, size=n)\n",
    "\n",
    "    # ノイズ項を標準正規分布から生成\n",
    "    epsilon = np.random.normal(loc=0, scale=1, size=n)\n",
    "\n",
    "    # 目的変数を生成\n",
    "    y = alpha + beta * x + epsilon\n",
    "\n",
    "    return x, y"
   ]
  },
  {
   "cell_type": "markdown",
   "id": "4e971945",
   "metadata": {},
   "source": [
    "# 課題2\n",
    "\n",
    "観測データ($x$,$y$)で、最小二乗法で回帰係数を推定する関数を作成しなさい"
   ]
  },
  {
   "cell_type": "code",
   "execution_count": 80,
   "id": "37986581",
   "metadata": {},
   "outputs": [],
   "source": [
    "def guess(x,y):\n",
    "    # パラメータの推定\n",
    "    x_mean = np.mean(x)\n",
    "    y_mean = np.mean(y)\n",
    "\n",
    "    # β₁の推定\n",
    "    numerator = np.sum((x - x_mean) * (y - y_mean))\n",
    "    denominator = np.sum((x - x_mean) ** 2)\n",
    "    beta = numerator / denominator\n",
    "    # β₀の推定\n",
    "    alpha = y_mean - beta * x_mean\n",
    "    return alpha, beta"
   ]
  },
  {
   "cell_type": "markdown",
   "id": "16a671fc",
   "metadata": {},
   "source": [
    "# 課題3\n",
    "\n",
    "- 一定な母集団回帰係数、誤差項サンプルサイズを設定し、観測データを作成し、回帰係数を推定するといった推定プロセスを100回を行いなさい。\n",
    "- 毎回の推定値を格納し、その平均と標準偏差を計算しなさい。\n",
    "- サンプルサイズが $20, 50, 100, 200, 500,1000$である場合、推定値の平均と標準偏差を比較しなさい"
   ]
  },
  {
   "cell_type": "code",
   "execution_count": 92,
   "id": "5075c886",
   "metadata": {},
   "outputs": [
    {
     "name": "stdout",
     "output_type": "stream",
     "text": [
      "[[2.72137355 0.78240442]\n",
      " [2.5162127  0.79649584]\n",
      " [2.07859764 0.86542969]\n",
      " [2.54490148 0.81791934]\n",
      " [1.98210522 0.8710095 ]\n",
      " [2.17482873 0.85725595]\n",
      " [2.56356272 0.81243747]\n",
      " [2.595315   0.79390357]\n",
      " [2.60527506 0.80223841]\n",
      " [2.71282524 0.74831025]\n",
      " [2.28949163 0.85018898]\n",
      " [2.44089091 0.78290279]\n",
      " [2.19386909 0.83869622]\n",
      " [2.58825679 0.77077037]\n",
      " [2.75549766 0.770892  ]\n",
      " [2.40431386 0.8154982 ]\n",
      " [2.65059573 0.79800291]\n",
      " [2.71811893 0.78020842]\n",
      " [2.6668138  0.78778784]\n",
      " [2.81404868 0.74034887]\n",
      " [2.52527755 0.81661174]\n",
      " [2.40322865 0.7983206 ]\n",
      " [2.44264895 0.78314352]\n",
      " [2.40674954 0.7930285 ]\n",
      " [2.60355962 0.80308588]\n",
      " [2.56692966 0.77713225]\n",
      " [2.30243175 0.84517391]\n",
      " [2.68618765 0.76754023]\n",
      " [2.62333309 0.77168912]\n",
      " [2.50748732 0.81749271]\n",
      " [2.29069147 0.81203721]\n",
      " [2.28456541 0.8496865 ]\n",
      " [2.18166636 0.8435732 ]\n",
      " [2.74072024 0.75593146]\n",
      " [2.54015209 0.78119577]\n",
      " [2.33179207 0.83336618]\n",
      " [2.39783088 0.8211163 ]\n",
      " [2.61464422 0.79402681]\n",
      " [2.60495015 0.79230997]\n",
      " [2.13575339 0.83753477]\n",
      " [2.57331986 0.78340836]\n",
      " [2.36659909 0.84194493]\n",
      " [2.50406156 0.80488049]\n",
      " [2.63170633 0.79567657]\n",
      " [2.49309627 0.75923553]\n",
      " [2.6017631  0.76505606]\n",
      " [2.42544432 0.79542686]\n",
      " [2.235943   0.86473496]\n",
      " [2.46090384 0.80829541]\n",
      " [2.35993245 0.8080767 ]\n",
      " [2.56095866 0.81813376]\n",
      " [2.74495166 0.72598292]\n",
      " [2.73138849 0.76731113]\n",
      " [2.37176969 0.83898357]\n",
      " [2.35638809 0.86173023]\n",
      " [2.78690074 0.76176849]\n",
      " [2.28978064 0.84146649]\n",
      " [2.41138012 0.80771056]\n",
      " [2.40928986 0.82802691]\n",
      " [2.66365602 0.80397131]\n",
      " [2.399458   0.80890076]\n",
      " [2.93161597 0.75770172]\n",
      " [2.55519912 0.78258787]\n",
      " [2.36684811 0.80345571]\n",
      " [2.47791107 0.82751578]\n",
      " [2.58996035 0.80957296]\n",
      " [2.47397875 0.80876019]\n",
      " [2.55803283 0.77706776]\n",
      " [2.51015567 0.80487208]\n",
      " [2.50413692 0.79742506]\n",
      " [2.33982978 0.84768635]\n",
      " [2.30758899 0.81890587]\n",
      " [2.44906226 0.83831684]\n",
      " [2.52507115 0.82722603]\n",
      " [2.76858542 0.74336762]\n",
      " [2.41222517 0.83216212]\n",
      " [2.83221852 0.77072306]\n",
      " [2.28839336 0.83643569]\n",
      " [2.51748277 0.79988841]\n",
      " [2.65682173 0.78900914]\n",
      " [2.47506119 0.80813381]\n",
      " [2.83809957 0.77970316]\n",
      " [2.5831333  0.79216966]\n",
      " [2.37537717 0.83506788]\n",
      " [2.74393368 0.78999298]\n",
      " [2.53246552 0.79556694]\n",
      " [2.43378853 0.81359975]\n",
      " [2.13486333 0.85773805]\n",
      " [2.65464076 0.75431345]\n",
      " [2.53056418 0.79972029]\n",
      " [2.5514136  0.76965221]\n",
      " [2.68573958 0.77018511]\n",
      " [2.50295401 0.78236537]\n",
      " [2.37228992 0.84382049]\n",
      " [2.25170721 0.84224049]\n",
      " [2.82009512 0.74250406]\n",
      " [2.11067089 0.8836824 ]\n",
      " [2.59450489 0.78752507]\n",
      " [2.4714684  0.81354349]\n",
      " [2.44517378 0.81049524]]\n"
     ]
    }
   ],
   "source": [
    "#一定な母集団回帰係数、誤差項サンプルサイズを設定し、\n",
    "# 観測データを作成し、回帰係数を推定するといった\n",
    "# 推定プロセスを100回を行いなさい。\n",
    "n=100\n",
    "guess_list = np.array([]) \n",
    "for i in range(100):\n",
    "    x,y=data(2.5,0.8,n)\n",
    "    alpha,beta=guess(x,y)\n",
    "    guess_list = np.append(guess_list, [alpha, beta])\n",
    "guess_list=guess_list.reshape(100,2)\n",
    "# print(guess_list)\n",
    "print(guess_list)"
   ]
  },
  {
   "cell_type": "code",
   "execution_count": 93,
   "id": "c4482363",
   "metadata": {},
   "outputs": [
    {
     "name": "stdout",
     "output_type": "stream",
     "text": [
      "2.5095083177070534 0.19956993091139544\n",
      "0.7949534040627791 0.03690248651851979\n"
     ]
    }
   ],
   "source": [
    "#毎回の推定値を格納し、\n",
    "#その平均と標準偏差を計算しなさい。\n",
    "n=100\n",
    "guess_list = np.array([]) \n",
    "for i in range(100):\n",
    "    x,y=data(2.5,0.8,n)\n",
    "    alpha,beta=guess(x,y)\n",
    "    guess_list = np.append(guess_list, [alpha, beta])\n",
    "guess_list=guess_list.reshape(100,2)\n",
    "# print(guess_list)\n",
    "alpha_list=guess_list[:,0]\n",
    "beta_list=guess_list[:,1]\n",
    "alpha_mean = np.mean(alpha_list)\n",
    "alpha_std = np.std(alpha_list)\n",
    "beta_mean = np.mean(beta_list)\n",
    "beta_std = np.std(beta_list)\n",
    "print(alpha_mean,alpha_std)\n",
    "print(beta_mean,beta_std)"
   ]
  },
  {
   "cell_type": "code",
   "execution_count": 95,
   "id": "dcd84962",
   "metadata": {},
   "outputs": [
    {
     "name": "stdout",
     "output_type": "stream",
     "text": [
      "[[2.00000000e+01 2.54153461e+00 7.88574920e-01 4.98989886e-01\n",
      "  8.30776083e-02]\n",
      " [5.00000000e+01 2.49463797e+00 7.95766307e-01 3.09172150e-01\n",
      "  5.38083537e-02]\n",
      " [1.00000000e+02 2.49662929e+00 8.01316855e-01 2.03937999e-01\n",
      "  3.48079202e-02]\n",
      " [2.00000000e+02 2.50821909e+00 8.00800333e-01 1.44074931e-01\n",
      "  2.57551368e-02]\n",
      " [5.00000000e+02 2.48815022e+00 8.00698844e-01 7.93236871e-02\n",
      "  1.48178844e-02]\n",
      " [1.00000000e+03 2.49786944e+00 8.00927823e-01 6.25598509e-02\n",
      "  1.03468010e-02]]\n"
     ]
    }
   ],
   "source": [
    "#サンプルサイズが $20, 50, 100, 200, 500,1000$である場合\n",
    "# 推定値の平均と標準偏差を比較しなさい\n",
    "n_list=[20, 50, 100, 200, 500, 1000]\n",
    "data_list = np.array([]) \n",
    "for n in n_list:\n",
    "    guess_list = np.array([]) \n",
    "    for i in range(100):\n",
    "        x,y = data(2.5,0.8,n)\n",
    "        alpha,beta=guess(x,y)\n",
    "        guess_list = np.append(guess_list, [alpha, beta])\n",
    "    guess_list=guess_list.reshape(100,2)\n",
    "    # print(guess_list)\n",
    "    alpha_list=guess_list[:,0]\n",
    "    beta_list=guess_list[:,1]\n",
    "    alpha_mean = np.mean(alpha_list)\n",
    "    alpha_std = np.std(alpha_list)\n",
    "    beta_mean = np.mean(beta_list)\n",
    "    beta_std = np.std(beta_list)\n",
    "\n",
    "    data_list = np.append(data_list, [n,alpha_mean,beta_mean,alpha_std,beta_std])\n",
    "\n",
    "data_list = data_list.reshape(6,5)\n",
    "\n",
    "print(data_list)"
   ]
  },
  {
   "cell_type": "markdown",
   "id": "68396b98",
   "metadata": {},
   "source": [
    "一番左の列がサンプルサイズで、右から二番目が切片の標準偏差、一番右が傾きの標準偏差です。\n",
    "これを見る限り、サンプル数が増加するにつれて、標準偏差は小さくなり、より真の値に近づいていると思います。"
   ]
  },
  {
   "cell_type": "markdown",
   "id": "a3ec1dbe",
   "metadata": {},
   "source": []
  }
 ],
 "metadata": {
  "kernelspec": {
   "display_name": "chss",
   "language": "python",
   "name": "python3"
  },
  "language_info": {
   "codemirror_mode": {
    "name": "ipython",
    "version": 3
   },
   "file_extension": ".py",
   "mimetype": "text/x-python",
   "name": "python",
   "nbconvert_exporter": "python",
   "pygments_lexer": "ipython3",
   "version": "3.10.16"
  }
 },
 "nbformat": 4,
 "nbformat_minor": 5
}
