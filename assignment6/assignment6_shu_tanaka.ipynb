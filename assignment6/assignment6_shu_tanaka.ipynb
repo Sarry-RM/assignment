{
  "cells": [
    {
      "cell_type": "markdown",
      "id": "08ce7524",
      "metadata": {
        "id": "08ce7524"
      },
      "source": [
        "$n$個のデータ$(x_1,y_1),...(x_n,y_n)$が観測され、各$y_i$が\n",
        "\n",
        "$$\n",
        "y_i=\\alpha +\\beta x_i+u_i,\\ i=1,...,n\n",
        "$$\n",
        "\n",
        "が得られます。\n",
        "\n",
        "最小二乗法による、\n",
        "$$\n",
        "\\hat{\\beta}=\\frac{\\sum_{i=1}^n (x_i-\\bar{x})(y_i-\\bar{y})}{\\sum_{i=1}^n (x_i-\\bar{x})^2}=\\frac{標本共分散(x_i,y_i)}{標本分散(x_i)}\n",
        "$$\n",
        "\n",
        "$$\n",
        "\\hat{\\alpha}=\\hat{y}-\\hat{\\beta}\\bar{x}\n",
        "$$\n",
        "\n",
        "で回帰モデルの係数を推定することができる。"
      ]
    },
    {
      "cell_type": "markdown",
      "id": "4be830e8",
      "metadata": {
        "id": "4be830e8"
      },
      "source": [
        "以下は、仮想データを作成し、回帰モデルの係数推定式によって計算した結果が真の値にどれほど近づくかを検証するためのコードである\n",
        "このコードに基づいて、課題に解答しなさい。"
      ]
    },
    {
      "cell_type": "code",
      "execution_count": null,
      "id": "73e67af3",
      "metadata": {
        "id": "73e67af3"
      },
      "outputs": [],
      "source": [
        "# 線形回帰モデルのデータをシミュレーションで生成します\n",
        "import numpy as np\n",
        "\n",
        "# サンプルデータ\n",
        "# パラメータ\n",
        "beta_0 = 2.5  # 切片\n",
        "beta_1 = 0.8  # 傾き\n",
        "n = 100  # データ数\n",
        "\n",
        "# 説明変数を一様分布から生成\n",
        "x = np.random.uniform(low=0, high=10, size=n)\n",
        "\n",
        "# ノイズ項を標準正規分布から生成\n",
        "epsilon = np.random.normal(loc=0, scale=1, size=n)\n",
        "\n",
        "# 目的変数を生成\n",
        "y = beta_0 + beta_1 * x + epsilon"
      ]
    },
    {
      "cell_type": "code",
      "execution_count": null,
      "id": "1df27464",
      "metadata": {
        "colab": {
          "base_uri": "https://localhost:8080/"
        },
        "id": "1df27464",
        "outputId": "0b4d9c72-101e-4361-a668-a1287218bb30"
      },
      "outputs": [
        {
          "output_type": "stream",
          "name": "stdout",
          "text": [
            "beta:  0.829303787809783\n",
            "alpha:  2.366439339543943\n"
          ]
        }
      ],
      "source": [
        "# パラメータの推定\n",
        "x_mean = np.mean(x)\n",
        "y_mean = np.mean(y)\n",
        "\n",
        "# β₁の推定\n",
        "numerator = np.sum((x - x_mean) * (y - y_mean))\n",
        "denominator = np.sum((x - x_mean) ** 2)\n",
        "beta = numerator / denominator\n",
        "print(\"beta: \", beta)\n",
        "# β₀の推定\n",
        "alpha = y_mean - beta * x_mean\n",
        "\n",
        "print(\"alpha: \", alpha)"
      ]
    },
    {
      "cell_type": "markdown",
      "id": "97148b05",
      "metadata": {
        "id": "97148b05"
      },
      "source": [
        "# 課題1\n",
        "\n",
        "母集団回帰係数、誤差項とサンプルサイズを指定し、観測データ($x$,$y$)を生成する関数を作成しなさい"
      ]
    },
    {
      "cell_type": "code",
      "execution_count": null,
      "id": "2be0300f",
      "metadata": {
        "id": "2be0300f"
      },
      "outputs": [],
      "source": [
        "import numpy as np\n",
        "\n",
        "def generate_data(beta_0, beta_1, n, error_std):\n",
        "  x=np.random.uniform(low=0,high=10,size=n)\n",
        "  epsilon=np.random.normal(loc=0,scale=error_std,size=n)\n",
        "  y=beta_0+beta_1*x+epsilon\n",
        "  return x,y"
      ]
    },
    {
      "cell_type": "markdown",
      "id": "4e971945",
      "metadata": {
        "id": "4e971945"
      },
      "source": [
        "# 課題2\n",
        "\n",
        "観測データ($x$,$y$)で、最小二乗法で回帰係数を推定する関数を作成しなさい"
      ]
    },
    {
      "cell_type": "code",
      "execution_count": null,
      "id": "37986581",
      "metadata": {
        "id": "37986581"
      },
      "outputs": [],
      "source": [
        "def estimate_parameters(x, y):\n",
        "  x_mean=np.mean(x)\n",
        "  y_mean=np.mean(y)\n",
        "  numerator=np.sum((x-x_mean)*(y-y_mean))\n",
        "  denominator=np.sum((x-x_mean)**2)\n",
        "\n",
        "  bata=numerator/denominator\n",
        "  alpha=y_mean-bata*x_mean\n",
        "  return alpha,bata"
      ]
    },
    {
      "cell_type": "markdown",
      "id": "16a671fc",
      "metadata": {
        "id": "16a671fc"
      },
      "source": [
        "# 課題3\n",
        "\n",
        "- 一定な母集団回帰係数、誤差項サンプルサイズを設定し、観測データを作成し、回帰係数を推定するといった推定プロセスを100回を行いなさい。\n",
        "- 毎回の推定値を格納し、その平均と標準偏差を計算しなさい。\n",
        "- サンプルサイズが $20, 50, 100, 200, 500,1000$である場合、推定値の平均と標準偏差を比較しなさい"
      ]
    },
    {
      "cell_type": "code",
      "source": [
        "def regression_analysis(beta_0, beta_1, error_std, sample_sizes, num_simulations=100):\n",
        "    results={} # Change to dictionary\n",
        "    for n in sample_sizes:\n",
        "      estimates=[]\n",
        "\n",
        "      for _ in range(num_simulations):\n",
        "        x,y=generate_data(beta_0,beta_1,n,error_std)\n",
        "        alpha,bata=estimate_parameters(x,y)\n",
        "        estimates.append((alpha, bata))\n",
        "\n",
        "      alpha_vals=np.array([est[0] for est in estimates])\n",
        "      beta_vals=np.array([est[1] for est in estimates])\n",
        "\n",
        "      results[n]={ # Corrected dictionary creation\n",
        "          \"alpha_mean\":np.mean(alpha_vals),\n",
        "          \"alpha_std\":np.std(alpha_vals),\n",
        "          \"beta_mean\":np.mean(beta_vals),\n",
        "          \"beta_std\":np.std(beta_vals),\n",
        "      }\n",
        "\n",
        "    return results\n",
        "\n",
        "sample_sizes=[20,50,100,200,500,1000]\n",
        "# Corrected function name to regression_analysis\n",
        "simulation_results=regression_analysis(beta_0=2.5, beta_1=0.8, error_std=1.0, sample_sizes=sample_sizes)\n",
        "\n",
        "for n, result in simulation_results.items():\n",
        "  print(f\"Sample Size: {n}\")\n",
        "  # Corrected print statement syntax\n",
        "  print(f\"Alpha Mean: {result['alpha_mean']:.4f}, Alpha Std: {result['alpha_std']:.4f}\")\n",
        "  print(f\"Beta Mean: {result['beta_mean']:.4f}, Beta Std: {result['beta_std']:.4f}\")"
      ],
      "metadata": {
        "colab": {
          "base_uri": "https://localhost:8080/"
        },
        "id": "OiaYtOsOnFZ9",
        "outputId": "3c49e014-9a49-4905-f7a7-f0a776a31f89"
      },
      "id": "OiaYtOsOnFZ9",
      "execution_count": null,
      "outputs": [
        {
          "output_type": "stream",
          "name": "stdout",
          "text": [
            "Sample Size: 20\n",
            "Alpha Mean: 2.4624, Alpha Std: 0.4499\n",
            "Beta Mean: 0.8018, Beta Std: 0.0811\n",
            "Sample Size: 50\n",
            "Alpha Mean: 2.4678, Alpha Std: 0.2607\n",
            "Beta Mean: 0.8065, Beta Std: 0.0470\n",
            "Sample Size: 100\n",
            "Alpha Mean: 2.4867, Alpha Std: 0.1939\n",
            "Beta Mean: 0.8034, Beta Std: 0.0327\n",
            "Sample Size: 200\n",
            "Alpha Mean: 2.4791, Alpha Std: 0.1374\n",
            "Beta Mean: 0.8033, Beta Std: 0.0235\n",
            "Sample Size: 500\n",
            "Alpha Mean: 2.4874, Alpha Std: 0.0884\n",
            "Beta Mean: 0.8021, Beta Std: 0.0139\n",
            "Sample Size: 1000\n",
            "Alpha Mean: 2.4976, Alpha Std: 0.0697\n",
            "Beta Mean: 0.7997, Beta Std: 0.0120\n"
          ]
        }
      ]
    },
    {
      "cell_type": "markdown",
      "id": "68396b98",
      "metadata": {
        "id": "68396b98"
      },
      "source": []
    }
  ],
  "metadata": {
    "kernelspec": {
      "display_name": "base",
      "language": "python",
      "name": "python3"
    },
    "language_info": {
      "codemirror_mode": {
        "name": "ipython",
        "version": 3
      },
      "file_extension": ".py",
      "mimetype": "text/x-python",
      "name": "python",
      "nbconvert_exporter": "python",
      "pygments_lexer": "ipython3",
      "version": "3.11.5"
    },
    "colab": {
      "provenance": []
    }
  },
  "nbformat": 4,
  "nbformat_minor": 5
}