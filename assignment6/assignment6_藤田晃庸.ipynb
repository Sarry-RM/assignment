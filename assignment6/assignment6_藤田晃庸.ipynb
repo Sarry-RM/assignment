{
  "cells": [
    {
      "cell_type": "markdown",
      "id": "08ce7524",
      "metadata": {
        "id": "08ce7524"
      },
      "source": [
        "$n$個のデータ$(x_1,y_1),...(x_n,y_n)$が観測され、各$y_i$が\n",
        "\n",
        "$$\n",
        "y_i=\\alpha +\\beta x_i+u_i,\\ i=1,...,n\n",
        "$$\n",
        "\n",
        "が得られます。\n",
        "\n",
        "最小二乗法による、\n",
        "$$\n",
        "\\hat{\\beta}=\\frac{\\sum_{i=1}^n (x_i-\\bar{x})(y_i-\\bar{y})}{\\sum_{i=1}^n (x_i-\\bar{x})^2}=\\frac{標本共分散(x_i,y_i)}{標本分散(x_i)}\n",
        "$$\n",
        "\n",
        "$$\n",
        "\\hat{\\alpha}=\\hat{y}-\\hat{\\beta}\\bar{x}\n",
        "$$\n",
        "\n",
        "で回帰モデルの係数を推定することができる。"
      ]
    },
    {
      "cell_type": "markdown",
      "id": "4be830e8",
      "metadata": {
        "id": "4be830e8"
      },
      "source": [
        "以下は、仮想データを作成し、回帰モデルの係数推定式によって計算した結果が真の値にどれほど近づくかを検証するためのコードである\n",
        "このコードに基づいて、課題に解答しなさい。"
      ]
    },
    {
      "cell_type": "code",
      "execution_count": null,
      "id": "73e67af3",
      "metadata": {
        "id": "73e67af3"
      },
      "outputs": [],
      "source": [
        "# 線形回帰モデルのデータをシミュレーションで生成します\n",
        "import numpy as np\n",
        "\n",
        "# サンプルデータ\n",
        "# パラメータ\n",
        "beta_0 = 2.5  # 切片\n",
        "beta_1 = 0.8  # 傾き\n",
        "n = 100  # データ数\n",
        "\n",
        "# 説明変数を一様分布から生成\n",
        "x = np.random.uniform(low=0, high=10, size=n)\n",
        "\n",
        "# ノイズ項を標準正規分布から生成\n",
        "epsilon = np.random.normal(loc=0, scale=1, size=n)\n",
        "\n",
        "# 目的変数を生成\n",
        "y = beta_0 + beta_1 * x + epsilon"
      ]
    },
    {
      "cell_type": "code",
      "execution_count": null,
      "id": "1df27464",
      "metadata": {
        "id": "1df27464",
        "outputId": "77a8a9c5-6a25-4101-8705-bb10b4c3f152",
        "colab": {
          "base_uri": "https://localhost:8080/"
        }
      },
      "outputs": [
        {
          "output_type": "stream",
          "name": "stdout",
          "text": [
            "beta:  0.7886852620033131\n",
            "alpha:  2.455219608724903\n"
          ]
        }
      ],
      "source": [
        "# パラメータの推定\n",
        "x_mean = np.mean(x)\n",
        "y_mean = np.mean(y)\n",
        "\n",
        "# β₁の推定\n",
        "numerator = np.sum((x - x_mean) * (y - y_mean))\n",
        "denominator = np.sum((x - x_mean) ** 2)\n",
        "beta = numerator / denominator\n",
        "print(\"beta: \", beta)\n",
        "# β₀の推定\n",
        "alpha = y_mean - beta * x_mean\n",
        "\n",
        "print(\"alpha: \", alpha)"
      ]
    },
    {
      "cell_type": "markdown",
      "id": "97148b05",
      "metadata": {
        "id": "97148b05"
      },
      "source": [
        "# 課題1\n",
        "\n",
        "母集団回帰係数、誤差項とサンプルサイズを指定し、観測データ($x$,$y$)を生成する関数を作成しなさい"
      ]
    },
    {
      "cell_type": "code",
      "execution_count": null,
      "id": "2be0300f",
      "metadata": {
        "id": "2be0300f",
        "colab": {
          "base_uri": "https://localhost:8080/"
        },
        "outputId": "42afd732-e4bc-425b-d1c9-416b8c1d5108"
      },
      "outputs": [
        {
          "output_type": "stream",
          "name": "stdout",
          "text": [
            "[3.74540119 9.50714306 7.31993942 5.98658484 1.5601864 ]\n",
            "[ 4.83244826 10.20813571  8.41170019  4.99901593  2.34051452]\n"
          ]
        }
      ],
      "source": [
        "import numpy as np\n",
        "\n",
        "def generate_data(beta_0, beta_1, sigma, n, x_low=0, x_high=10, random_seed=None):\n",
        "    if random_seed is not None:\n",
        "        np.random.seed(random_seed)\n",
        "    x = np.random.uniform(low=x_low, high=x_high, size=n)\n",
        "    epsilon = np.random.normal(loc=0, scale=sigma, size=n)\n",
        "    y = beta_0 + beta_1 * x + epsilon\n",
        "    return x, y\n",
        "\n",
        "beta_0 = 1\n",
        "beta_1 = 1\n",
        "sigma = 1\n",
        "n = 100\n",
        "\n",
        "x, y = generate_data(beta_0, beta_1, sigma, n, random_seed=42)\n",
        "print(x[:5])\n",
        "print(y[:5])"
      ]
    },
    {
      "cell_type": "markdown",
      "id": "4e971945",
      "metadata": {
        "id": "4e971945"
      },
      "source": [
        "# 課題2\n",
        "\n",
        "観測データ($x$,$y$)で、最小二乗法で回帰係数を推定する関数を作成しなさい"
      ]
    },
    {
      "cell_type": "code",
      "execution_count": null,
      "id": "37986581",
      "metadata": {
        "id": "37986581"
      },
      "outputs": [],
      "source": [
        "import numpy as np\n",
        "\n",
        "def ols_estimate(x, y):\n",
        "    x_mean = np.mean(x)\n",
        "    y_mean = np.mean(y)\n",
        "    beta = np.sum((x - x_mean) * (y - y_mean)) / np.sum((x - x_mean) ** 2)\n",
        "    alpha = y_mean - beta * x_mean\n",
        "    return alpha, beta"
      ]
    },
    {
      "cell_type": "markdown",
      "id": "16a671fc",
      "metadata": {
        "id": "16a671fc"
      },
      "source": [
        "# 課題3\n",
        "\n",
        "- 一定な母集団回帰係数、誤差項サンプルサイズを設定し、観測データを作成し、回帰係数を推定するといった推定プロセスを100回を行いなさい。\n",
        "- 毎回の推定値を格納し、その平均と標準偏差を計算しなさい。\n",
        "- サンプルサイズが $20, 50, 100, 200, 500,1000$である場合、推定値の平均と標準偏差を比較しなさい"
      ]
    },
    {
      "cell_type": "code",
      "source": [
        "import numpy as np\n",
        "\n",
        "def generate_data(beta_0, beta_1, sigma, n):\n",
        "    x = np.random.uniform(0, 10, n)\n",
        "    epsilon = np.random.normal(0, sigma, n)\n",
        "    y = beta_0 + beta_1 * x + epsilon\n",
        "    return x, y\n",
        "\n",
        "def ols_estimate(x, y):\n",
        "    x_mean = np.mean(x)\n",
        "    y_mean = np.mean(y)\n",
        "    beta = np.sum((x - x_mean) * (y - y_mean)) / np.sum((x - x_mean) ** 2)\n",
        "    alpha = y_mean - beta * x_mean\n",
        "    return alpha, beta\n",
        "\n",
        "beta_0_true = 2.5\n",
        "beta_1_true = 0.8\n",
        "sigma = 1.0\n",
        "sample_sizes = [20, 50, 100, 200, 500, 1000]\n",
        "\n",
        "results = []\n",
        "\n",
        "for n in sample_sizes:\n",
        "    alpha_list = []\n",
        "    beta_list = []\n",
        "    for _ in range(100):\n",
        "        x, y = generate_data(beta_0_true, beta_1_true, sigma, n)\n",
        "        alpha_hat, beta_hat = ols_estimate(x, y)\n",
        "        alpha_list.append(alpha_hat)\n",
        "        beta_list.append(beta_hat)\n",
        "    alpha_mean = np.mean(alpha_list)\n",
        "    alpha_std = np.std(alpha_list)\n",
        "    beta_mean = np.mean(beta_list)\n",
        "    beta_std = np.std(beta_list)\n",
        "    results.append((n, alpha_mean, alpha_std, beta_mean, beta_std))\n",
        "\n",
        "for r in results:\n",
        "    print(f\"n={r[0]}  alpha_mean={r[1]:.4f}  alpha_std={r[2]:.4f}  beta_mean={r[3]:.4f}  beta_std={r[4]:.4f}\")\n"
      ],
      "metadata": {
        "colab": {
          "base_uri": "https://localhost:8080/"
        },
        "id": "-mh0C26WbAad",
        "outputId": "7ec401f8-93db-4ded-ee0b-a4846e2e0cd5"
      },
      "id": "-mh0C26WbAad",
      "execution_count": null,
      "outputs": [
        {
          "output_type": "stream",
          "name": "stdout",
          "text": [
            "n=20  alpha_mean=2.4818  alpha_std=0.4321  beta_mean=0.8065  beta_std=0.0769\n",
            "n=50  alpha_mean=2.4902  alpha_std=0.2813  beta_mean=0.8004  beta_std=0.0494\n",
            "n=100  alpha_mean=2.4949  alpha_std=0.2229  beta_mean=0.7989  beta_std=0.0393\n",
            "n=200  alpha_mean=2.5040  alpha_std=0.1612  beta_mean=0.8002  beta_std=0.0274\n",
            "n=500  alpha_mean=2.5072  alpha_std=0.0803  beta_mean=0.8003  beta_std=0.0148\n",
            "n=1000  alpha_mean=2.5027  alpha_std=0.0589  beta_mean=0.7990  beta_std=0.0104\n"
          ]
        }
      ]
    },
    {
      "cell_type": "markdown",
      "id": "68396b98",
      "metadata": {
        "id": "68396b98"
      },
      "source": []
    }
  ],
  "metadata": {
    "kernelspec": {
      "display_name": "base",
      "language": "python",
      "name": "python3"
    },
    "language_info": {
      "codemirror_mode": {
        "name": "ipython",
        "version": 3
      },
      "file_extension": ".py",
      "mimetype": "text/x-python",
      "name": "python",
      "nbconvert_exporter": "python",
      "pygments_lexer": "ipython3",
      "version": "3.11.5"
    },
    "colab": {
      "provenance": []
    }
  },
  "nbformat": 4,
  "nbformat_minor": 5
}