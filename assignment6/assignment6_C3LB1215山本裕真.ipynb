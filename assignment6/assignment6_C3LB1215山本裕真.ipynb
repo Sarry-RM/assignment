{
  "cells": [
    {
      "cell_type": "markdown",
      "id": "08ce7524",
      "metadata": {
        "id": "08ce7524"
      },
      "source": [
        "$n$個のデータ$(x_1,y_1),...(x_n,y_n)$が観測され、各$y_i$が\n",
        "\n",
        "$$\n",
        "y_i=\\alpha +\\beta x_i+u_i,\\ i=1,...,n\n",
        "$$\n",
        "\n",
        "が得られます。\n",
        "\n",
        "最小二乗法による、\n",
        "$$\n",
        "\\hat{\\beta}=\\frac{\\sum_{i=1}^n (x_i-\\bar{x})(y_i-\\bar{y})}{\\sum_{i=1}^n (x_i-\\bar{x})^2}=\\frac{標本共分散(x_i,y_i)}{標本分散(x_i)}\n",
        "$$\n",
        "\n",
        "$$\n",
        "\\hat{\\alpha}=\\hat{y}-\\hat{\\beta}\\bar{x}\n",
        "$$\n",
        "\n",
        "で回帰モデルの係数を推定することができる。"
      ]
    },
    {
      "cell_type": "markdown",
      "id": "4be830e8",
      "metadata": {
        "id": "4be830e8"
      },
      "source": [
        "以下は、仮想データを作成し、回帰モデルの係数推定式によって計算した結果が真の値にどれほど近づくかを検証するためのコードである\n",
        "このコードに基づいて、課題に解答しなさい。"
      ]
    },
    {
      "cell_type": "code",
      "execution_count": 25,
      "id": "73e67af3",
      "metadata": {
        "id": "73e67af3"
      },
      "outputs": [],
      "source": [
        "# 線形回帰モデルのデータをシミュレーションで生成します\n",
        "import numpy as np\n",
        "\n",
        "# サンプルデータ\n",
        "# パラメータ\n",
        "beta_0 = 2.5  # 切片\n",
        "beta_1 = 0.8  # 傾き\n",
        "n = 100  # データ数\n",
        "\n",
        "# 説明変数を一様分布から生成\n",
        "x = np.random.uniform(low=0, high=10, size=n)\n",
        "\n",
        "# ノイズ項を標準正規分布から生成\n",
        "epsilon = np.random.normal(loc=0, scale=1, size=n)\n",
        "\n",
        "# 目的変数を生成\n",
        "y = beta_0 + beta_1 * x + epsilon"
      ]
    },
    {
      "cell_type": "code",
      "execution_count": 26,
      "id": "1df27464",
      "metadata": {
        "colab": {
          "base_uri": "https://localhost:8080/"
        },
        "id": "1df27464",
        "outputId": "d8571d9f-d95f-4d26-9d67-6731ca23ec5f"
      },
      "outputs": [
        {
          "output_type": "stream",
          "name": "stdout",
          "text": [
            "beta:  0.7633474945571439\n",
            "alpha:  2.621336883031409\n"
          ]
        }
      ],
      "source": [
        "# パラメータの推定\n",
        "x_mean = np.mean(x)\n",
        "y_mean = np.mean(y)\n",
        "\n",
        "# β₁の推定\n",
        "numerator = np.sum((x - x_mean) * (y - y_mean)) #標本共分散\n",
        "denominator = np.sum((x - x_mean) ** 2) # 標本分散\n",
        "beta = numerator / denominator\n",
        "print(\"beta: \", beta)\n",
        "# β₀の推定\n",
        "alpha = y_mean - beta * x_mean\n",
        "\n",
        "print(\"alpha: \", alpha)"
      ]
    },
    {
      "cell_type": "markdown",
      "id": "97148b05",
      "metadata": {
        "id": "97148b05"
      },
      "source": [
        "# 課題1\n",
        "\n",
        "母集団回帰係数、誤差項とサンプルサイズを指定し、観測データ($x$,$y$)を生成する関数を作成しなさい"
      ]
    },
    {
      "cell_type": "code",
      "execution_count": 27,
      "id": "2be0300f",
      "metadata": {
        "id": "2be0300f"
      },
      "outputs": [],
      "source": [
        "import numpy as np\n",
        "import matplotlib.pyplot as plt\n",
        "\n",
        "def generate_data(beta_0, beta_1, sigma, n):\n",
        "    \"\"\"\n",
        "    母集団回帰係数(beta_0, beta_1)、誤差項、サンプルサイズに基づいて観測データx(説明変数), y(目的変数)のarrayをそれぞれ返す\n",
        "    beta_0: 切片\n",
        "    beta_1: 傾き\n",
        "    sigma = 誤差項の標準偏差\n",
        "\n",
        "    \"\"\"\n",
        "    # 説明変数xを一様分布に基づいて生成\n",
        "    x = np.random.uniform(low=0, high=10, size=n)\n",
        "\n",
        "    # 誤差項を正規分布(平均0, 標準偏差sigma)から生成\n",
        "    epsilon = np.random.normal(loc=0, scale=sigma, size=n)\n",
        "\n",
        "    # 線形モデル (y = ß0 + ß1*x + epsilon) に基づいて目的変数yを生成\n",
        "    y = beta_0 + beta_1 * x + epsilon\n",
        "\n",
        "    return x, y"
      ]
    },
    {
      "cell_type": "markdown",
      "id": "4e971945",
      "metadata": {
        "id": "4e971945"
      },
      "source": [
        "# 課題2\n",
        "\n",
        "観測データ($x$,$y$)で、最小二乗法で回帰係数を推定する関数を作成しなさい"
      ]
    },
    {
      "cell_type": "code",
      "execution_count": 28,
      "id": "37986581",
      "metadata": {
        "id": "37986581"
      },
      "outputs": [],
      "source": [
        "def estimate_regression_coeeficients(x, y):\n",
        "    \"\"\"\n",
        "    説明変数x, 目的変数y (x, yはデータのarray)をもとに、最小二乗法を使って回帰係数（切片beta_0, 傾きbeta_1）を推定\n",
        "    \"\"\"\n",
        "    x_mean = np.mean(x)\n",
        "    y_mean = np.mean(y)\n",
        "\n",
        "    # 標本共分散\n",
        "    numerator = np.sum((x - x_mean)*(y - y_mean))\n",
        "\n",
        "    # 標本分散\n",
        "    denominator = np.sum((x - x_mean)**2)\n",
        "\n",
        "    beta_1 = numerator / denominator\n",
        "    beta_0 = y_mean - beta_1 * x_mean\n",
        "\n",
        "    return beta_0, beta_1"
      ]
    },
    {
      "cell_type": "markdown",
      "id": "16a671fc",
      "metadata": {
        "id": "16a671fc"
      },
      "source": [
        "# 課題3\n",
        "\n",
        "- 一定な母集団回帰係数、誤差項サンプルサイズを設定し、観測データを作成し、回帰係数を推定するといった推定プロセスを100回を行いなさい。\n",
        "- 毎回の推定値を格納し、その平均と標準偏差を計算しなさい。\n",
        "- サンプルサイズが $20, 50, 100, 200, 500,1000$である場合、推定値の平均と標準偏差を比較しなさい"
      ]
    },
    {
      "cell_type": "code",
      "source": [
        "# 与えられたすべてのサンプルサイズに対して、変数生成・推定を行い、推定値の平均と標準偏差を表示する関数を実装する。\n",
        "\n",
        "def estimates_mean_std(sample_sizes, beta_0, beta_1, sigma, num_simulations):\n",
        "    \"\"\"\n",
        "    与えられたサンプルサイズ・係数・誤差の標準偏差・試行回数をもとに、\n",
        "    （サンプルサイズごとに）回帰係数の推定値の平均と標準偏差を計算する\n",
        "    \"\"\"\n",
        "\n",
        "    for n in sample_sizes:\n",
        "\n",
        "        # 推定された回帰係数を格納するリストたち\n",
        "        beta_0_estimates = [] # 切片を格納しておくリスト\n",
        "        beta_1_estimates = [] # 傾きを格納しておくリスト\n",
        "\n",
        "\n",
        "        for i in range(num_simulations):\n",
        "            x, y = generate_data(beta_0, beta_1, sigma, n)\n",
        "            b0, b1 = estimate_regression_coeeficients(x, y)\n",
        "            beta_0_estimates.append(b0)\n",
        "            beta_1_estimates.append(b1)\n",
        "\n",
        "        # 計算のため、リストをNumPy Array に変換する\n",
        "        beta_0_estimates = np.array(beta_0_estimates)\n",
        "        beta_1_estimates = np.array(beta_1_estimates)\n",
        "\n",
        "        # 推定された回帰係数の平均・標準偏差を計算・整理\n",
        "        print(f\"===[Sample Size: {n}]===\")\n",
        "\n",
        "        print(\"beta_0(切片)の平均: \", np.mean(beta_0_estimates))\n",
        "        print(\"beta_0（切片）の標準偏差\", np.std(beta_0_estimates))\n",
        "\n",
        "        print(\"beta_1（傾き）の平均: \", np.mean(beta_1_estimates))\n",
        "        print(\"beta_1(傾き)の標準偏差: \", np.std(beta_1_estimates))\n",
        "        print(\"\\n\")\n",
        "\n",
        "    return"
      ],
      "metadata": {
        "id": "czGeH81n0onP"
      },
      "id": "czGeH81n0onP",
      "execution_count": 29,
      "outputs": []
    },
    {
      "cell_type": "code",
      "source": [
        "# 回帰係数・誤差の標準偏差・試行回数を設定\n",
        "beta_0 = 2\n",
        "beta_1 = 3\n",
        "sigma = 1.0\n",
        "num_simulations = 100\n",
        "\n",
        "sample_sizes = [20, 50, 100, 200, 500, 1000]\n",
        "\n",
        "estimates_mean_std(sample_sizes, beta_0, beta_1, sigma, num_simulations)\n",
        "\n",
        "# 結果をみると、サンプルサイズが大きいほど\n",
        "# 1. 推定値平均は実際の回帰係数（この場合は beta_0 = 2, beta_1 = 3）に近づく\n",
        "# 2. 推定値の標準偏差（ばらつき）は小さくなる\n",
        "# ...ということがわかる"
      ],
      "metadata": {
        "colab": {
          "base_uri": "https://localhost:8080/"
        },
        "id": "bHGRlH4v1Gsr",
        "outputId": "8b277069-d928-4db1-8a22-a0868989d5e1"
      },
      "id": "bHGRlH4v1Gsr",
      "execution_count": 30,
      "outputs": [
        {
          "output_type": "stream",
          "name": "stdout",
          "text": [
            "===[Sample Size: 20]===\n",
            "beta_0(切片)の平均:  2.0131211711772705\n",
            "beta_0（切片）の標準偏差 0.5248100520747792\n",
            "beta_1（傾き）の平均:  2.997551998246322\n",
            "beta_1(傾き)の標準偏差:  0.0883126976065592\n",
            "\n",
            "\n",
            "===[Sample Size: 50]===\n",
            "beta_0(切片)の平均:  2.0094281817121225\n",
            "beta_0（切片）の標準偏差 0.30154384316357197\n",
            "beta_1（傾き）の平均:  2.9996745875488724\n",
            "beta_1(傾き)の標準偏差:  0.05228616438387368\n",
            "\n",
            "\n",
            "===[Sample Size: 100]===\n",
            "beta_0(切片)の平均:  2.00316060539329\n",
            "beta_0（切片）の標準偏差 0.21720061151364894\n",
            "beta_1（傾き）の平均:  2.99912752813708\n",
            "beta_1(傾き)の標準偏差:  0.03911060842459911\n",
            "\n",
            "\n",
            "===[Sample Size: 200]===\n",
            "beta_0(切片)の平均:  2.0072930377271705\n",
            "beta_0（切片）の標準偏差 0.15765585014603373\n",
            "beta_1（傾き）の平均:  3.0000630204684957\n",
            "beta_1(傾き)の標準偏差:  0.027848968514429494\n",
            "\n",
            "\n",
            "===[Sample Size: 500]===\n",
            "beta_0(切片)の平均:  1.9904318106564358\n",
            "beta_0（切片）の標準偏差 0.08412581226237123\n",
            "beta_1（傾き）の平均:  3.0010643990003985\n",
            "beta_1(傾き)の標準偏差:  0.015662329947921612\n",
            "\n",
            "\n",
            "===[Sample Size: 1000]===\n",
            "beta_0(切片)の平均:  2.001328239626036\n",
            "beta_0（切片）の標準偏差 0.05833676020752959\n",
            "beta_1（傾き）の平均:  2.999459722148136\n",
            "beta_1(傾き)の標準偏差:  0.009842055924212511\n",
            "\n",
            "\n"
          ]
        }
      ]
    }
  ],
  "metadata": {
    "kernelspec": {
      "display_name": "base",
      "language": "python",
      "name": "python3"
    },
    "language_info": {
      "codemirror_mode": {
        "name": "ipython",
        "version": 3
      },
      "file_extension": ".py",
      "mimetype": "text/x-python",
      "name": "python",
      "nbconvert_exporter": "python",
      "pygments_lexer": "ipython3",
      "version": "3.11.5"
    },
    "colab": {
      "provenance": []
    }
  },
  "nbformat": 4,
  "nbformat_minor": 5
}