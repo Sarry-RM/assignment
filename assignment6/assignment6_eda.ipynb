{
  "cells": [
    {
      "cell_type": "markdown",
      "id": "08ce7524",
      "metadata": {
        "id": "08ce7524"
      },
      "source": [
        "$n$個のデータ$(x_1,y_1),...(x_n,y_n)$が観測され、各$y_i$が\n",
        "\n",
        "$$\n",
        "y_i=\\alpha +\\beta x_i+u_i,\\ i=1,...,n\n",
        "$$\n",
        "\n",
        "が得られます。\n",
        "\n",
        "最小二乗法による、\n",
        "$$\n",
        "\\hat{\\beta}=\\frac{\\sum_{i=1}^n (x_i-\\bar{x})(y_i-\\bar{y})}{\\sum_{i=1}^n (x_i-\\bar{x})^2}=\\frac{標本共分散(x_i,y_i)}{標本分散(x_i)}\n",
        "$$\n",
        "\n",
        "$$\n",
        "\\hat{\\alpha}=\\hat{y}-\\hat{\\beta}\\bar{x}\n",
        "$$\n",
        "\n",
        "で回帰モデルの係数を推定することができる。"
      ]
    },
    {
      "cell_type": "markdown",
      "id": "4be830e8",
      "metadata": {
        "id": "4be830e8"
      },
      "source": [
        "以下は、仮想データを作成し、回帰モデルの係数推定式によって計算した結果が真の値にどれほど近づくかを検証するためのコードである\n",
        "このコードに基づいて、課題に解答しなさい。"
      ]
    },
    {
      "cell_type": "code",
      "execution_count": 1,
      "id": "73e67af3",
      "metadata": {
        "id": "73e67af3"
      },
      "outputs": [],
      "source": [
        "# 線形回帰モデルのデータをシミュレーションで生成します\n",
        "import numpy as np\n",
        "\n",
        "# サンプルデータ\n",
        "# パラメータ\n",
        "beta_0 = 2.5  # 切片\n",
        "beta_1 = 0.8  # 傾き\n",
        "n = 100  # データ数\n",
        "\n",
        "# 説明変数を一様分布から生成\n",
        "x = np.random.uniform(low=0, high=10, size=n)\n",
        "\n",
        "# ノイズ項を標準正規分布から生成\n",
        "epsilon = np.random.normal(loc=0, scale=1, size=n)\n",
        "\n",
        "# 目的変数を生成\n",
        "y = beta_0 + beta_1 * x + epsilon"
      ]
    },
    {
      "cell_type": "code",
      "execution_count": 2,
      "id": "1df27464",
      "metadata": {
        "id": "1df27464",
        "outputId": "7a4dcf5d-fecd-4caa-8054-304858e1aad5",
        "colab": {
          "base_uri": "https://localhost:8080/"
        }
      },
      "outputs": [
        {
          "output_type": "stream",
          "name": "stdout",
          "text": [
            "beta:  0.7608616948436211\n",
            "alpha:  2.7593033566493856\n"
          ]
        }
      ],
      "source": [
        "# パラメータの推定\n",
        "x_mean = np.mean(x)\n",
        "y_mean = np.mean(y)\n",
        "\n",
        "# β₁の推定\n",
        "numerator = np.sum((x - x_mean) * (y - y_mean))\n",
        "denominator = np.sum((x - x_mean) ** 2)\n",
        "beta = numerator / denominator\n",
        "print(\"beta: \", beta)\n",
        "# β₀の推定\n",
        "alpha = y_mean - beta * x_mean\n",
        "\n",
        "print(\"alpha: \", alpha)"
      ]
    },
    {
      "cell_type": "markdown",
      "id": "97148b05",
      "metadata": {
        "id": "97148b05"
      },
      "source": [
        "# 課題1\n",
        "\n",
        "母集団回帰係数、誤差項とサンプルサイズを指定し、観測データ($x$,$y$)を生成する関数を作成しなさい"
      ]
    },
    {
      "cell_type": "code",
      "execution_count": 3,
      "id": "2be0300f",
      "metadata": {
        "id": "2be0300f"
      },
      "outputs": [],
      "source": [
        "def data_a(beta_0, beta_1, epsilon, n):\n",
        "  x = np.random.uniform(low=0, high=10, size=n)\n",
        "  epsilon = np.random.normal(loc=0, scale=1, size=n)\n",
        "  y = beta_0 + beta_1 * x + epsilon\n",
        "  return x, y"
      ]
    },
    {
      "cell_type": "markdown",
      "id": "4e971945",
      "metadata": {
        "id": "4e971945"
      },
      "source": [
        "# 課題2\n",
        "\n",
        "観測データ($x$,$y$)で、最小二乗法で回帰係数を推定する関数を作成しなさい"
      ]
    },
    {
      "cell_type": "code",
      "execution_count": 4,
      "id": "37986581",
      "metadata": {
        "id": "37986581"
      },
      "outputs": [],
      "source": [
        "def estimate_a(x,y):\n",
        "  x_mean = np.mean(x)\n",
        "  y_mean = np.mean(y)\n",
        "  numerator = np.sum((x - x_mean) * (y - y_mean))\n",
        "  denominator = np.sum((x - x_mean) ** 2)\n",
        "  beta_1 = numerator / denominator\n",
        "  alpha = y_mean - beta * x_mean\n",
        "  return alpha, beta"
      ]
    },
    {
      "cell_type": "markdown",
      "id": "16a671fc",
      "metadata": {
        "id": "16a671fc"
      },
      "source": [
        "# 課題3\n",
        "\n",
        "- 一定な母集団回帰係数、誤差項サンプルサイズを設定し、観測データを作成し、回帰係数を推定するといった推定プロセスを100回を行いなさい。\n",
        "- 毎回の推定値を格納し、その平均と標準偏差を計算しなさい。\n",
        "- サンプルサイズが $20, 50, 100, 200, 500,1000$である場合、推定値の平均と標準偏差を比較しなさい"
      ]
    },
    {
      "cell_type": "code",
      "source": [
        "beta_0 = 2.5\n",
        "beta_1 = 0.8\n",
        "n = 100\n",
        "repeat = 100\n",
        "\n",
        "#推定プロセス100回\n",
        "for i in range(repeat):\n",
        "  x, y = data_a(beta_0, beta_1, epsilon, n)\n",
        "  alpha, beta = estimate_a(x,y)\n",
        "\n",
        "#平均と標準偏差の計算\n",
        "estimate_mean = np.mean(estimate_a(x, y))\n",
        "estimate_std = np.std(estimate_a(x, y))\n",
        "print(estimate_mean, estimate_std)"
      ],
      "metadata": {
        "colab": {
          "base_uri": "https://localhost:8080/"
        },
        "id": "jiez3A3YkRen",
        "outputId": "aa4a647b-0f7b-4957-d1ea-1571eec8a246"
      },
      "id": "jiez3A3YkRen",
      "execution_count": 5,
      "outputs": [
        {
          "output_type": "stream",
          "name": "stdout",
          "text": [
            "1.7426037909164596 0.9817420960728385\n"
          ]
        }
      ]
    },
    {
      "cell_type": "code",
      "source": [
        "#異なるサンプルサイズの場合\n",
        "sample_size = [20, 50, 100, 200, 500, 1000]\n",
        "\n",
        "for i in range(len(sample_size)):\n",
        "  i = sample_size[i]\n",
        "  x, y = data_a(beta_0, beta_1, epsilon, n)\n",
        "  alpha, beta = estimate_a(x,y)\n",
        "  estimate_mean = np.mean(estimate_a(x, y))\n",
        "  estimate_std = np.std(estimate_a(x, y))\n",
        "  print(f\"sample size:{n}, mean estimete:{estimate_mean:.4f},std estimate:{estimate_std:.4f}\" )"
      ],
      "metadata": {
        "colab": {
          "base_uri": "https://localhost:8080/"
        },
        "id": "H9WrfVQtkT-F",
        "outputId": "708d92ac-8a9f-42f6-ec64-ec0fec98ed2e"
      },
      "id": "H9WrfVQtkT-F",
      "execution_count": 6,
      "outputs": [
        {
          "output_type": "stream",
          "name": "stdout",
          "text": [
            "sample size:100, mean estimete:1.7544,std estimate:0.9936\n",
            "sample size:100, mean estimete:1.7105,std estimate:0.9496\n",
            "sample size:100, mean estimete:1.7262,std estimate:0.9653\n",
            "sample size:100, mean estimete:1.7862,std estimate:1.0253\n",
            "sample size:100, mean estimete:1.7723,std estimate:1.0115\n",
            "sample size:100, mean estimete:1.6595,std estimate:0.8986\n"
          ]
        }
      ]
    },
    {
      "cell_type": "markdown",
      "id": "68396b98",
      "metadata": {
        "id": "68396b98"
      },
      "source": []
    }
  ],
  "metadata": {
    "kernelspec": {
      "display_name": "base",
      "language": "python",
      "name": "python3"
    },
    "language_info": {
      "codemirror_mode": {
        "name": "ipython",
        "version": 3
      },
      "file_extension": ".py",
      "mimetype": "text/x-python",
      "name": "python",
      "nbconvert_exporter": "python",
      "pygments_lexer": "ipython3",
      "version": "3.11.5"
    },
    "colab": {
      "provenance": []
    }
  },
  "nbformat": 4,
  "nbformat_minor": 5
}