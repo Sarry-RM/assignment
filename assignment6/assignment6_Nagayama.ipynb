{
 "cells": [
  {
   "cell_type": "markdown",
   "id": "08ce7524",
   "metadata": {},
   "source": [
    "$n$個のデータ$(x_1,y_1),...(x_n,y_n)$が観測され、各$y_i$が\n",
    "\n",
    "$$\n",
    "y_i=\\alpha +\\beta x_i+u_i,\\ i=1,...,n\n",
    "$$\n",
    "\n",
    "が得られます。\n",
    "\n",
    "最小二乗法による、\n",
    "$$\n",
    "\\hat{\\beta}=\\frac{\\sum_{i=1}^n (x_i-\\bar{x})(y_i-\\bar{y})}{\\sum_{i=1}^n (x_i-\\bar{x})^2}=\\frac{標本共分散(x_i,y_i)}{標本分散(x_i)}\n",
    "$$\n",
    "\n",
    "$$\n",
    "\\hat{\\alpha}=\\hat{y}-\\hat{\\beta}\\bar{x}\n",
    "$$\n",
    "\n",
    "で回帰モデルの係数を推定することができる。"
   ]
  },
  {
   "cell_type": "markdown",
   "id": "4be830e8",
   "metadata": {},
   "source": [
    "以下は、仮想データを作成し、回帰モデルの係数推定式によって計算した結果が真の値にどれほど近づくかを検証するためのコードである\n",
    "このコードに基づいて、課題に解答しなさい。"
   ]
  },
  {
   "cell_type": "code",
   "execution_count": 1,
   "id": "73e67af3",
   "metadata": {},
   "outputs": [],
   "source": [
    "# 線形回帰モデルのデータをシミュレーションで生成します\n",
    "import numpy as np\n",
    "\n",
    "# サンプルデータ\n",
    "# パラメータ\n",
    "beta_0 = 2.5  # 切片\n",
    "beta_1 = 0.8  # 傾き\n",
    "n = 100  # データ数\n",
    "\n",
    "# 説明変数を一様分布から生成\n",
    "x = np.random.uniform(low=0, high=10, size=n)\n",
    "\n",
    "# ノイズ項を標準正規分布から生成\n",
    "epsilon = np.random.normal(loc=0, scale=1, size=n)\n",
    "\n",
    "# 目的変数を生成\n",
    "y = beta_0 + beta_1 * x + epsilon"
   ]
  },
  {
   "cell_type": "code",
   "execution_count": 2,
   "id": "1df27464",
   "metadata": {},
   "outputs": [
    {
     "name": "stdout",
     "output_type": "stream",
     "text": [
      "beta:  0.7636749316116201\n",
      "alpha:  2.614096997822085\n"
     ]
    }
   ],
   "source": [
    "# パラメータの推定\n",
    "x_mean = np.mean(x)\n",
    "y_mean = np.mean(y)\n",
    "\n",
    "# β₁の推定\n",
    "numerator = np.sum((x - x_mean) * (y - y_mean))\n",
    "denominator = np.sum((x - x_mean) ** 2)\n",
    "beta = numerator / denominator\n",
    "print(\"beta: \", beta)\n",
    "# β₀の推定\n",
    "alpha = y_mean - beta * x_mean\n",
    "\n",
    "print(\"alpha: \", alpha)"
   ]
  },
  {
   "cell_type": "markdown",
   "id": "97148b05",
   "metadata": {},
   "source": [
    "# 課題1\n",
    "\n",
    "母集団回帰係数、誤差項とサンプルサイズを指定し、観測データ($x$,$y$)を生成する関数を作成しなさい"
   ]
  },
  {
   "cell_type": "code",
   "execution_count": 35,
   "id": "2be0300f",
   "metadata": {},
   "outputs": [],
   "source": [
    "def sampledata(Beta_0, Beta_1, N):\n",
    "    # 説明変数を一様分布から生成\n",
    "    X = np.random.uniform(low=0, high=10, size=N)\n",
    "\n",
    "    # ノイズ項を標準正規分布から生成\n",
    "    Epsilon = np.random.normal(loc=0, scale=1, size=N)\n",
    "\n",
    "    # 目的変数を生成\n",
    "    Y = Beta_0 + Beta_1 * X + Epsilon\n",
    "\n",
    "    return(X, Y)  \n"
   ]
  },
  {
   "cell_type": "code",
   "execution_count": 36,
   "id": "47f60af6",
   "metadata": {},
   "outputs": [
    {
     "data": {
      "text/plain": [
       "(array([4.7712034 , 7.73699324, 9.11386694, 4.66300466, 6.37714161,\n",
       "        6.93857432, 0.23932892, 1.84533904, 7.88518658, 9.85950453,\n",
       "        0.94634485, 3.61586326, 7.02824211, 8.14437155, 2.68832195,\n",
       "        5.11153808, 2.35499986, 9.56702178, 1.6853712 , 2.92105158,\n",
       "        4.91653382, 7.52336626, 9.93832809, 4.56935155, 7.38710447]),\n",
       " array([6.68974629, 6.24016233, 8.46119378, 4.24042015, 4.63831663,\n",
       "        6.71472565, 2.70210867, 3.8814418 , 3.82825474, 7.64871962,\n",
       "        3.57543183, 2.74188457, 5.53082196, 6.41834974, 3.24821273,\n",
       "        3.7536155 , 1.73636117, 6.38630971, 2.26557781, 2.8453542 ,\n",
       "        4.36196391, 4.56414042, 8.67528196, 3.76498162, 3.73717387]))"
      ]
     },
     "execution_count": 36,
     "metadata": {},
     "output_type": "execute_result"
    }
   ],
   "source": [
    "sampledata(2, 0.5, 25)"
   ]
  },
  {
   "cell_type": "markdown",
   "id": "4e971945",
   "metadata": {},
   "source": [
    "# 課題2\n",
    "\n",
    "観測データ($x$,$y$)で、最小二乗法で回帰係数を推定する関数を作成しなさい"
   ]
  },
  {
   "cell_type": "code",
   "execution_count": 32,
   "id": "37986581",
   "metadata": {},
   "outputs": [],
   "source": [
    "def estimate_ols(x, y):\n",
    "    # パラメータの推定\n",
    "    x_mean = np.mean(x)\n",
    "    y_mean = np.mean(y)\n",
    "\n",
    "    # β₁の推定\n",
    "    numerator = np.sum((x - x_mean) * (y - y_mean))\n",
    "    denominator = np.sum((x - x_mean) ** 2)\n",
    "    beta = numerator / denominator\n",
    "    \n",
    "    # β₀の推定\n",
    "    alpha = y_mean - beta * x_mean\n",
    "\n",
    "    return alpha, beta"
   ]
  },
  {
   "cell_type": "code",
   "execution_count": null,
   "id": "9a5b279d",
   "metadata": {},
   "outputs": [
    {
     "data": {
      "text/plain": [
       "(2.064556437599342, 0.5390005443311042)"
      ]
     },
     "execution_count": 33,
     "metadata": {},
     "output_type": "execute_result"
    }
   ],
   "source": [
    "X1, Y1 = sampledata(2, 0.5, 25)\n",
    "estimate_ols(X1, Y1)"
   ]
  },
  {
   "cell_type": "markdown",
   "id": "16a671fc",
   "metadata": {},
   "source": [
    "# 課題3\n",
    "\n",
    "- 一定な母集団回帰係数、誤差項サンプルサイズを設定し、観測データを作成し、回帰係数を推定するといった推定プロセスを100回を行いなさい。\n",
    "- 毎回の推定値を格納し、その平均と標準偏差を計算しなさい。\n",
    "- サンプルサイズが $20, 50, 100, 200, 500,1000$である場合、推定値の平均と標準偏差を比較しなさい"
   ]
  },
  {
   "cell_type": "markdown",
   "id": "68396b98",
   "metadata": {},
   "source": []
  },
  {
   "cell_type": "code",
   "execution_count": 43,
   "id": "618a1111",
   "metadata": {},
   "outputs": [
    {
     "name": "stdout",
     "output_type": "stream",
     "text": [
      "サンプル数20のとき\n",
      "傾きの推定値の平均：2.0054300464507233、標準偏差：0.4163841601654253\n",
      "切片の推定値の平均：0.49604095601586295、標準偏差：0.08365369088549152\n",
      "----------\n",
      "サンプル数50のとき\n",
      "傾きの推定値の平均：2.006820228743492、標準偏差：0.2443231057033962\n",
      "切片の推定値の平均：0.49445586255909474、標準偏差：0.03976091628935249\n",
      "----------\n",
      "サンプル数100のとき\n",
      "傾きの推定値の平均：1.99192989043811、標準偏差：0.19342597178025653\n",
      "切片の推定値の平均：0.5019045858247452、標準偏差：0.03176601207824797\n",
      "----------\n",
      "サンプル数200のとき\n",
      "傾きの推定値の平均：1.983354396160823、標準偏差：0.132904042876727\n",
      "切片の推定値の平均：0.5035812827053271、標準偏差：0.023176176812998106\n",
      "----------\n",
      "サンプル数500のとき\n",
      "傾きの推定値の平均：1.9988087543614415、標準偏差：0.08513985501057046\n",
      "切片の推定値の平均：0.5007746230283616、標準偏差：0.01480562097776544\n",
      "----------\n",
      "サンプル数1000のとき\n",
      "傾きの推定値の平均：1.996384532674854、標準偏差：0.06847525137576337\n",
      "切片の推定値の平均：0.5011479092165688、標準偏差：0.011578826270026777\n",
      "----------\n"
     ]
    }
   ],
   "source": [
    "sample_size = [20, 50, 100, 200, 500, 1000]\n",
    "for i in sample_size:\n",
    "    list_beta = []\n",
    "    list_alpha = []\n",
    "    for j in range(100):\n",
    "        X, Y = sampledata(2, 0.5, i)\n",
    "        beta, alpha = estimate_ols(X, Y)\n",
    "        list_beta.append(beta)\n",
    "        list_alpha.append(alpha)\n",
    "    mean_beta = np.mean(list_beta)\n",
    "    mean_alpha = np.mean(list_alpha)\n",
    "    sd_beta = np.std(list_beta)\n",
    "    sd_alpha = np.std(list_alpha)\n",
    "    print(f\"サンプル数{i}のとき\")\n",
    "    print(f\"傾きの推定値の平均：{mean_beta}、標準偏差：{sd_beta}\")\n",
    "    print(f\"切片の推定値の平均：{mean_alpha}、標準偏差：{sd_alpha}\")\n",
    "    print(\"----------\")\n"
   ]
  }
 ],
 "metadata": {
  "kernelspec": {
   "display_name": "base",
   "language": "python",
   "name": "python3"
  },
  "language_info": {
   "codemirror_mode": {
    "name": "ipython",
    "version": 3
   },
   "file_extension": ".py",
   "mimetype": "text/x-python",
   "name": "python",
   "nbconvert_exporter": "python",
   "pygments_lexer": "ipython3",
   "version": "3.12.7"
  }
 },
 "nbformat": 4,
 "nbformat_minor": 5
}
