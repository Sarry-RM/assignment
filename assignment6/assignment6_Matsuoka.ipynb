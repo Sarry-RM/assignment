{
  "cells": [
    {
      "cell_type": "markdown",
      "id": "08ce7524",
      "metadata": {
        "id": "08ce7524"
      },
      "source": [
        "$n$個のデータ$(x_1,y_1),...(x_n,y_n)$が観測され、各$y_i$が\n",
        "\n",
        "$$\n",
        "y_i=\\alpha +\\beta x_i+u_i,\\ i=1,...,n\n",
        "$$\n",
        "\n",
        "が得られます。\n",
        "\n",
        "最小二乗法による、\n",
        "$$\n",
        "\\hat{\\beta}=\\frac{\\sum_{i=1}^n (x_i-\\bar{x})(y_i-\\bar{y})}{\\sum_{i=1}^n (x_i-\\bar{x})^2}=\\frac{標本共分散(x_i,y_i)}{標本分散(x_i)}\n",
        "$$\n",
        "\n",
        "$$\n",
        "\\hat{\\alpha}=\\hat{y}-\\hat{\\beta}\\bar{x}\n",
        "$$\n",
        "\n",
        "で回帰モデルの係数を推定することができる。"
      ]
    },
    {
      "cell_type": "markdown",
      "id": "4be830e8",
      "metadata": {
        "id": "4be830e8"
      },
      "source": [
        "以下は、仮想データを作成し、回帰モデルの係数推定式によって計算した結果が真の値にどれほど近づくかを検証するためのコードである\n",
        "このコードに基づいて、課題に解答しなさい。"
      ]
    },
    {
      "cell_type": "code",
      "execution_count": null,
      "id": "73e67af3",
      "metadata": {
        "id": "73e67af3"
      },
      "outputs": [],
      "source": [
        "# 線形回帰モデルのデータをシミュレーションで生成します\n",
        "import numpy as np\n",
        "\n",
        "# サンプルデータ\n",
        "# パラメータ\n",
        "beta_0 = 2.5  # 切片\n",
        "beta_1 = 0.8  # 傾き\n",
        "n = 100  # データ数\n",
        "\n",
        "# 説明変数を一様分布から生成\n",
        "x = np.random.uniform(low=0, high=10, size=n)\n",
        "\n",
        "# ノイズ項を標準正規分布から生成\n",
        "epsilon = np.random.normal(loc=0, scale=1, size=n)\n",
        "\n",
        "# 目的変数を生成\n",
        "y = beta_0 + beta_1 * x + epsilon"
      ]
    },
    {
      "cell_type": "code",
      "execution_count": null,
      "id": "1df27464",
      "metadata": {
        "id": "1df27464",
        "outputId": "3531258a-3960-4dcc-d875-df46798881ea"
      },
      "outputs": [
        {
          "name": "stdout",
          "output_type": "stream",
          "text": [
            "beta:  0.823481103136274\n",
            "alpha:  2.471159826636163\n"
          ]
        }
      ],
      "source": [
        "# パラメータの推定\n",
        "x_mean = np.mean(x)\n",
        "y_mean = np.mean(y)\n",
        "\n",
        "# β₁の推定\n",
        "numerator = np.sum((x - x_mean) * (y - y_mean))\n",
        "denominator = np.sum((x - x_mean) ** 2)\n",
        "beta = numerator / denominator\n",
        "print(\"beta: \", beta)\n",
        "# β₀の推定\n",
        "alpha = y_mean - beta * x_mean\n",
        "\n",
        "print(\"alpha: \", alpha)"
      ]
    },
    {
      "cell_type": "markdown",
      "id": "97148b05",
      "metadata": {
        "id": "97148b05"
      },
      "source": [
        "# 課題1\n",
        "\n",
        "母集団回帰係数、誤差項とサンプルサイズを指定し、観測データ($x$,$y$)を生成する関数を作成しなさい"
      ]
    },
    {
      "cell_type": "code",
      "execution_count": 1,
      "id": "2be0300f",
      "metadata": {
        "id": "2be0300f"
      },
      "outputs": [],
      "source": [
        "import numpy as np\n",
        "\n",
        "def generate_data(beta_0, beta_1, sigma, n, seed=None):\n",
        "    if seed is not None:\n",
        "        np.random.seed(seed)\n",
        "    x = np.random.uniform(0, 10, n)\n",
        "    epsilon = np.random.normal(0, sigma, n)\n",
        "    y = beta_0 + beta_1 * x + epsilon\n",
        "    return x, y"
      ]
    },
    {
      "cell_type": "markdown",
      "id": "4e971945",
      "metadata": {
        "id": "4e971945"
      },
      "source": [
        "# 課題2\n",
        "\n",
        "観測データ($x$,$y$)で、最小二乗法で回帰係数を推定する関数を作成しなさい"
      ]
    },
    {
      "cell_type": "code",
      "execution_count": 2,
      "id": "37986581",
      "metadata": {
        "id": "37986581"
      },
      "outputs": [],
      "source": [
        "def estimate_coefficients(x, y):\n",
        "    x_mean = np.mean(x)\n",
        "    y_mean = np.mean(y)\n",
        "    beta_hat = np.sum((x - x_mean) * (y - y_mean)) / np.sum((x - x_mean)**2)\n",
        "    alpha_hat = y_mean - beta_hat * x_mean\n",
        "    return alpha_hat, beta_hat"
      ]
    },
    {
      "cell_type": "markdown",
      "id": "16a671fc",
      "metadata": {
        "id": "16a671fc"
      },
      "source": [
        "# 課題3\n",
        "\n",
        "- 一定な母集団回帰係数、誤差項サンプルサイズを設定し、観測データを作成し、回帰係数を推定するといった推定プロセスを100回を行いなさい。\n",
        "- 毎回の推定値を格納し、その平均と標準偏差を計算しなさい。\n",
        "- サンプルサイズが $20, 50, 100, 200, 500,1000$である場合、推定値の平均と標準偏差を比較しなさい"
      ]
    },
    {
      "cell_type": "code",
      "source": [
        "def simulate_estimates(beta_0, beta_1, sigma, sample_sizes, iterations=100):\n",
        "    results = {}\n",
        "\n",
        "    for n in sample_sizes:\n",
        "        alphas = []\n",
        "        betas = []\n",
        "        for _ in range(iterations):\n",
        "            x, y = generate_data(beta_0, beta_1, sigma, n)\n",
        "            alpha_hat, beta_hat = estimate_coefficients(x, y)\n",
        "            alphas.append(alpha_hat)\n",
        "            betas.append(beta_hat)\n",
        "        results[n] = {\n",
        "            \"alpha_mean\": np.mean(alphas),\n",
        "            \"alpha_std\": np.std(alphas),\n",
        "            \"beta_mean\": np.mean(betas),\n",
        "            \"beta_std\": np.std(betas)\n",
        "        }\n",
        "    return results\n",
        "\n",
        "sample_sizes = [20, 50, 100, 200, 500, 1000]\n",
        "results = simulate_estimates(beta_0=2.5, beta_1=0.8, sigma=1.0, sample_sizes=sample_sizes)\n",
        "\n",
        "for n in sample_sizes:\n",
        "    print(f\"n = {n}\")\n",
        "    print(f\"  alpha: 平均 = {results[n]['alpha_mean']:.3f}, 標準偏差 = {results[n]['alpha_std']:.3f}\")\n",
        "    print(f\"  beta : 平均 = {results[n]['beta_mean']:.3f}, 標準偏差 = {results[n]['beta_std']:.3f}\")\n"
      ],
      "metadata": {
        "colab": {
          "base_uri": "https://localhost:8080/"
        },
        "id": "WQ-SvrKSNmrd",
        "outputId": "1c9f4b3e-ce3b-4f19-da33-d25cef81dab3"
      },
      "id": "WQ-SvrKSNmrd",
      "execution_count": 4,
      "outputs": [
        {
          "output_type": "stream",
          "name": "stdout",
          "text": [
            "n = 20\n",
            "  alpha: 平均 = 2.538, 標準偏差 = 0.513\n",
            "  beta : 平均 = 0.794, 標準偏差 = 0.092\n",
            "n = 50\n",
            "  alpha: 平均 = 2.513, 標準偏差 = 0.280\n",
            "  beta : 平均 = 0.794, 標準偏差 = 0.050\n",
            "n = 100\n",
            "  alpha: 平均 = 2.493, 標準偏差 = 0.200\n",
            "  beta : 平均 = 0.801, 標準偏差 = 0.035\n",
            "n = 200\n",
            "  alpha: 平均 = 2.470, 標準偏差 = 0.133\n",
            "  beta : 平均 = 0.805, 標準偏差 = 0.023\n",
            "n = 500\n",
            "  alpha: 平均 = 2.504, 標準偏差 = 0.098\n",
            "  beta : 平均 = 0.800, 標準偏差 = 0.015\n",
            "n = 1000\n",
            "  alpha: 平均 = 2.509, 標準偏差 = 0.056\n",
            "  beta : 平均 = 0.798, 標準偏差 = 0.010\n"
          ]
        }
      ]
    }
  ],
  "metadata": {
    "kernelspec": {
      "display_name": "base",
      "language": "python",
      "name": "python3"
    },
    "language_info": {
      "codemirror_mode": {
        "name": "ipython",
        "version": 3
      },
      "file_extension": ".py",
      "mimetype": "text/x-python",
      "name": "python",
      "nbconvert_exporter": "python",
      "pygments_lexer": "ipython3",
      "version": "3.11.5"
    },
    "colab": {
      "provenance": []
    }
  },
  "nbformat": 4,
  "nbformat_minor": 5
}