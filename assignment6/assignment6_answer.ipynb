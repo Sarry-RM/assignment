{
 "cells": [
  {
   "cell_type": "markdown",
   "id": "08ce7524",
   "metadata": {},
   "source": [
    "$n$個のデータ$(x_1,y_1),...(x_n,y_n)$が観測され、各$y_i$が\n",
    "\n",
    "$$\n",
    "y_i=\\alpha +\\beta x_i+u_i,\\ i=1,...,n\n",
    "$$\n",
    "\n",
    "が得られます。\n",
    "\n",
    "最小二乗法による、\n",
    "$$\n",
    "\\hat{\\beta}=\\frac{\\sum_{i=1}^n (x_i-\\bar{x})(y_i-\\bar{y})}{\\sum_{i=1}^n (x_i-\\bar{x})^2}=\\frac{標本共分散(x_i,y_i)}{標本分散(x_i)}\n",
    "$$\n",
    "\n",
    "$$\n",
    "\\hat{\\alpha}=\\hat{y}-\\hat{\\beta}\\bar{x}\n",
    "$$\n",
    "\n",
    "で回帰モデルの係数を推定することができる。"
   ]
  },
  {
   "cell_type": "markdown",
   "id": "4be830e8",
   "metadata": {},
   "source": [
    "以下は、仮想データを作成し、回帰モデルの係数推定式によって計算した結果が真の値にどれほど近づくかを検証するためのコードである\n",
    "このコードに基づいて、課題に解答しなさい。"
   ]
  },
  {
   "cell_type": "code",
   "execution_count": 1,
   "id": "73e67af3",
   "metadata": {},
   "outputs": [],
   "source": [
    "# 線形回帰モデルのデータをシミュレーションで生成します\n",
    "import numpy as np\n",
    "\n",
    "# サンプルデータ\n",
    "# パラメータ\n",
    "beta_0 = 2.5  # 切片\n",
    "beta_1 = 0.8  # 傾き\n",
    "n = 100  # データ数\n",
    "\n",
    "# 説明変数を一様分布から生成\n",
    "x = np.random.uniform(low=0, high=10, size=n)\n",
    "\n",
    "# ノイズ項を標準正規分布から生成\n",
    "epsilon = np.random.normal(loc=0, scale=1, size=n)\n",
    "\n",
    "# 目的変数を生成\n",
    "y = beta_0 + beta_1 * x + epsilon"
   ]
  },
  {
   "cell_type": "code",
   "execution_count": 3,
   "id": "1df27464",
   "metadata": {},
   "outputs": [
    {
     "name": "stdout",
     "output_type": "stream",
     "text": [
      "beta:  0.823481103136274\n",
      "alpha:  2.471159826636163\n"
     ]
    }
   ],
   "source": [
    "# パラメータの推定\n",
    "x_mean = np.mean(x)\n",
    "y_mean = np.mean(y)\n",
    "\n",
    "# β₁の推定\n",
    "numerator = np.sum((x - x_mean) * (y - y_mean))\n",
    "denominator = np.sum((x - x_mean) ** 2)\n",
    "beta = numerator / denominator\n",
    "print(\"beta: \", beta)\n",
    "# β₀の推定\n",
    "alpha = y_mean - beta * x_mean\n",
    "\n",
    "print(\"alpha: \", alpha)"
   ]
  },
  {
   "cell_type": "markdown",
   "id": "97148b05",
   "metadata": {},
   "source": [
    "# 課題1\n",
    "\n",
    "母集団回帰係数、誤差項とサンプルサイズを指定し、観測データ($x$,$y$)を生成する関数を作成しなさい"
   ]
  },
  {
   "cell_type": "code",
   "execution_count": 9,
   "id": "2be0300f",
   "metadata": {},
   "outputs": [],
   "source": [
    "import numpy as np\n",
    "\n",
    "def simulate_data_generation(beta_0, beta_1, sigma, n):\n",
    "\n",
    "    # 説明変数xを一様分布から生成\n",
    "    x = np.random.uniform(low=0, high=10, size=n)\n",
    "\n",
    "    # 誤差項epsilonを正規分布から生成\n",
    "    epsilon = np.random.normal(loc=0, scale=sigma, size=n)\n",
    "\n",
    "    # 目的変数yを線形回帰モデルに従って生成\n",
    "    y = beta_0 + beta_1 * x + epsilon\n",
    "\n",
    "    return x, y"
   ]
  },
  {
   "cell_type": "code",
   "execution_count": 14,
   "id": "5e88b646",
   "metadata": {},
   "outputs": [
    {
     "name": "stdout",
     "output_type": "stream",
     "text": [
      "x_sim: [6.51368107 3.67871934 3.3521553  8.59023837 7.35074347]\n",
      "y_sim: [ 7.18244157  5.66264442  6.73839622 10.60350253  8.02393516]\n"
     ]
    }
   ],
   "source": [
    "# 使用例\n",
    "x_sim, y_sim = simulate_data_generation(beta_0=2.5, beta_1=0.8, sigma=1.0, n=100)\n",
    "print(\"x_sim:\", x_sim[:5])\n",
    "print(\"y_sim:\", y_sim[:5])"
   ]
  },
  {
   "cell_type": "markdown",
   "id": "4e971945",
   "metadata": {},
   "source": [
    "# 課題2\n",
    "\n",
    "観測データ($x$,$y$)で、最小二乗法で回帰係数を推定する関数を作成しなさい"
   ]
  },
  {
   "cell_type": "code",
   "execution_count": 16,
   "id": "37986581",
   "metadata": {},
   "outputs": [],
   "source": [
    "def estimate_coefficients(x, y):\n",
    "\n",
    "    x_mean = np.mean(x)\n",
    "    y_mean = np.mean(y)\n",
    "\n",
    "    numerator = np.sum((x - x_mean) * (y - y_mean))\n",
    "    denominator = np.sum((x - x_mean) ** 2)\n",
    "    beta_0 = numerator / denominator\n",
    "    beta_1 = y_mean - beta_0 * x_mean\n",
    "\n",
    "    return beta_0, beta_1"
   ]
  },
  {
   "cell_type": "code",
   "execution_count": 17,
   "id": "770e2220",
   "metadata": {},
   "outputs": [
    {
     "name": "stdout",
     "output_type": "stream",
     "text": [
      "推定された切片: 0.8265490136328337\n",
      "推定された傾き: 2.387570351200826\n"
     ]
    }
   ],
   "source": [
    "beta_0, beta_1 = estimate_coefficients(x_sim, y_sim)\n",
    "print(\"推定された切片:\", beta_0)\n",
    "print(\"推定された傾き:\", beta_1)"
   ]
  },
  {
   "cell_type": "markdown",
   "id": "16a671fc",
   "metadata": {},
   "source": [
    "# 課題3\n",
    "\n",
    "- 一定な母集団回帰係数、誤差項サンプルサイズを設定し、観測データを作成し、回帰係数を推定するといった推定プロセスを100回を行いなさい。\n",
    "- 毎回の推定値を格納し、その平均と標準偏差を計算しなさい。\n",
    "- サンプルサイズが $20, 50, 100, 200, 500,1000$である場合、推定値の平均と標準偏差を比較しなさい"
   ]
  },
  {
   "cell_type": "code",
   "execution_count": 11,
   "id": "1277d5e0",
   "metadata": {},
   "outputs": [],
   "source": [
    "beta_0_true = 2.5\n",
    "beta_1_true = 0.8\n",
    "sigma_true = 1.0\n",
    "sample_sizes = [20, 50, 100, 200, 500, 1000]"
   ]
  },
  {
   "cell_type": "code",
   "execution_count": 18,
   "id": "5308f605",
   "metadata": {},
   "outputs": [],
   "source": [
    "def run_simulation(sample_size, beta_0_true, beta_1_true, sigma_true):\n",
    "    x, y = simulate_data_generation(beta_0_true, beta_1_true, sigma_true, sample_size)\n",
    "    beta_0_est, beta_1_est = estimate_coefficients(x, y)\n",
    "    return beta_0_est, beta_1_est"
   ]
  },
  {
   "cell_type": "code",
   "execution_count": 20,
   "id": "b3398df5",
   "metadata": {},
   "outputs": [
    {
     "name": "stdout",
     "output_type": "stream",
     "text": [
      "サンプルサイズ: 20, 推定された切片: 0.786, 推定された傾き: 2.334\n",
      "サンプルサイズ: 50, 推定された切片: 0.823, 推定された傾き: 2.240\n",
      "サンプルサイズ: 100, 推定された切片: 0.759, 推定された傾き: 2.779\n",
      "サンプルサイズ: 200, 推定された切片: 0.806, 推定された傾き: 2.528\n",
      "サンプルサイズ: 500, 推定された切片: 0.813, 推定された傾き: 2.446\n",
      "サンプルサイズ: 1000, 推定された切片: 0.808, 推定された傾き: 2.489\n"
     ]
    }
   ],
   "source": [
    "for sample_size in sample_sizes:\n",
    "    beta_0_est, beta_1_est = run_simulation(sample_size, beta_0_true, beta_1_true, sigma_true)\n",
    "    print(f\"サンプルサイズ: {sample_size}, 推定された切片: {beta_0_est:.3f}, 推定された傾き: {beta_1_est:.3f}\")"
   ]
  }
 ],
 "metadata": {
  "kernelspec": {
   "display_name": "base",
   "language": "python",
   "name": "python3"
  },
  "language_info": {
   "codemirror_mode": {
    "name": "ipython",
    "version": 3
   },
   "file_extension": ".py",
   "mimetype": "text/x-python",
   "name": "python",
   "nbconvert_exporter": "python",
   "pygments_lexer": "ipython3",
   "version": "3.11.5"
  }
 },
 "nbformat": 4,
 "nbformat_minor": 5
}
