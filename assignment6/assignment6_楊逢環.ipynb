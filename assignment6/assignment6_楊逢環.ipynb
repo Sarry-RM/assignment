{
 "cells": [
  {
   "cell_type": "markdown",
   "id": "08ce7524",
   "metadata": {},
   "source": [
    "$n$個のデータ$(x_1,y_1),...(x_n,y_n)$が観測され、各$y_i$が\n",
    "\n",
    "$$\n",
    "y_i=\\alpha +\\beta x_i+u_i,\\ i=1,...,n\n",
    "$$\n",
    "\n",
    "が得られます。\n",
    "\n",
    "最小二乗法による、\n",
    "$$\n",
    "\\hat{\\beta}=\\frac{\\sum_{i=1}^n (x_i-\\bar{x})(y_i-\\bar{y})}{\\sum_{i=1}^n (x_i-\\bar{x})^2}=\\frac{標本共分散(x_i,y_i)}{標本分散(x_i)}\n",
    "$$\n",
    "\n",
    "$$\n",
    "\\hat{\\alpha}=\\hat{y}-\\hat{\\beta}\\bar{x}\n",
    "$$\n",
    "\n",
    "で回帰モデルの係数を推定することができる。"
   ]
  },
  {
   "cell_type": "markdown",
   "id": "4be830e8",
   "metadata": {},
   "source": [
    "以下は、仮想データを作成し、回帰モデルの係数推定式によって計算した結果が真の値にどれほど近づくかを検証するためのコードである\n",
    "このコードに基づいて、課題に解答しなさい。"
   ]
  },
  {
   "cell_type": "code",
   "execution_count": 2,
   "id": "73e67af3",
   "metadata": {},
   "outputs": [],
   "source": [
    "# 線形回帰モデルのデータをシミュレーションで生成します\n",
    "import numpy as np\n",
    "\n",
    "# サンプルデータ\n",
    "# パラメータ\n",
    "beta_0 = 2.5  # 切片\n",
    "beta_1 = 0.8  # 傾き\n",
    "n = 100  # データ数\n",
    "\n",
    "# 説明変数を一様分布から生成\n",
    "x = np.random.uniform(low=0, high=10, size=n)\n",
    "\n",
    "# ノイズ項を標準正規分布から生成\n",
    "epsilon = np.random.normal(loc=0, scale=1, size=n)\n",
    "\n",
    "# 目的変数を生成\n",
    "y = beta_0 + beta_1 * x + epsilon"
   ]
  },
  {
   "cell_type": "code",
   "execution_count": 3,
   "id": "1df27464",
   "metadata": {},
   "outputs": [
    {
     "name": "stdout",
     "output_type": "stream",
     "text": [
      "beta:  0.823481103136274\n",
      "alpha:  2.471159826636163\n"
     ]
    }
   ],
   "source": [
    "# パラメータの推定\n",
    "x_mean = np.mean(x)\n",
    "y_mean = np.mean(y)\n",
    "\n",
    "# β₁の推定\n",
    "numerator = np.sum((x - x_mean) * (y - y_mean))\n",
    "denominator = np.sum((x - x_mean) ** 2)\n",
    "beta = numerator / denominator\n",
    "print(\"beta: \", beta)\n",
    "# β₀の推定\n",
    "alpha = y_mean - beta * x_mean\n",
    "\n",
    "print(\"alpha: \", alpha)"
   ]
  },
  {
   "cell_type": "markdown",
   "id": "97148b05",
   "metadata": {},
   "source": [
    "# 課題1\n",
    "\n",
    "母集団回帰係数、誤差項とサンプルサイズを指定し、観測データ($x$,$y$)を生成する関数を作成しなさい"
   ]
  },
  {
   "cell_type": "code",
   "execution_count": 64,
   "id": "2be0300f",
   "metadata": {},
   "outputs": [],
   "source": [
    "import numpy as np\n",
    "\n",
    "def simulation(beta_0, beta_1, n):\n",
    "    x = np.random.uniform(low=0, high=10, size=n)\n",
    "    epsilon = np.random.normal(loc=0, scale=1, size=n)\n",
    "    y = beta_0 + beta_1 * x + epsilon\n",
    "    return x, y\n",
    "\n",
    "x, y = simulation(2.5, 0.8, 100)"
   ]
  },
  {
   "cell_type": "markdown",
   "id": "4e971945",
   "metadata": {},
   "source": [
    "# 課題2\n",
    "\n",
    "観測データ($x$,$y$)で、最小二乗法で回帰係数を推定する関数を作成しなさい"
   ]
  },
  {
   "cell_type": "code",
   "execution_count": 66,
   "id": "37986581",
   "metadata": {},
   "outputs": [
    {
     "data": {
      "text/plain": [
       "(0.7609372437010239, 2.773673379210757)"
      ]
     },
     "execution_count": 66,
     "metadata": {},
     "output_type": "execute_result"
    }
   ],
   "source": [
    "def ols(x, y):\n",
    "    x_mean = np.mean(x)\n",
    "    y_mean = np.mean(y)\n",
    "    \n",
    "    numerator = np.sum((x - x_mean) * (y - y_mean))\n",
    "    denominator = np.sum((x - x_mean) ** 2)\n",
    "    beta = numerator / denominator\n",
    "    alpha = y_mean - beta * x_mean\n",
    "    \n",
    "    return beta, alpha\n",
    "\n",
    "ols(x, y)"
   ]
  },
  {
   "cell_type": "markdown",
   "id": "16a671fc",
   "metadata": {},
   "source": [
    "# 課題3\n",
    "\n",
    "- 一定な母集団回帰係数、誤差項サンプルサイズを設定し、観測データを作成し、回帰係数を推定するといった推定プロセスを100回を行いなさい。\n",
    "- 毎回の推定値を格納し、その平均と標準偏差を計算しなさい。\n",
    "- サンプルサイズが $20, 50, 100, 200, 500,1000$である場合、推定値の平均と標準偏差を比較しなさい"
   ]
  },
  {
   "cell_type": "code",
   "execution_count": 68,
   "id": "7cf34468-4ce4-4450-a877-68dd322fc2d5",
   "metadata": {},
   "outputs": [
    {
     "name": "stdout",
     "output_type": "stream",
     "text": [
      "alpha_mean:0.794, alpha_std:0.022,    beta_mean:2.515, beta_std:0.177\n",
      "alpha_mean:0.802, alpha_std:0.031,    beta_mean:2.474, beta_std:0.172\n",
      "alpha_mean:0.798, alpha_std:0.030,    beta_mean:2.509, beta_std:0.186\n",
      "alpha_mean:0.803, alpha_std:0.032,    beta_mean:2.478, beta_std:0.186\n",
      "alpha_mean:0.803, alpha_std:0.033,    beta_mean:2.491, beta_std:0.188\n",
      "alpha_mean:0.800, alpha_std:0.034,    beta_mean:2.499, beta_std:0.203\n"
     ]
    }
   ],
   "source": [
    "def mean_std(beta_0, beta_1, n, times):\n",
    "    alpha = np.zeros(times, dtype = float)\n",
    "    beta = np.zeros(times, dtype = float)\n",
    "    for i in range(times):\n",
    "        x, y =simulation(beta_0, beta_1, n)\n",
    "        alpha[i], beta[i] = ols(x, y)\n",
    "    mean_std_of_a = np.array([np.mean(alpha), np.std(alpha)])\n",
    "    mean_std_of_b = np.array([np.mean(beta), np.std(beta)])\n",
    "    print(f\"alpha_mean:{mean_std_of_a[0]:.3f}, alpha_std:{mean_std_of_a[1]:.3f},\\\n",
    "    beta_mean:{mean_std_of_b[0]:.3f}, beta_std:{mean_std_of_b[1]:.3f}\")\n",
    "\n",
    "mean_std(2.5, 0.8, 100, 20)\n",
    "mean_std(2.5, 0.8, 100, 50)\n",
    "mean_std(2.5, 0.8, 100, 100)\n",
    "mean_std(2.5, 0.8, 100, 200)\n",
    "mean_std(2.5, 0.8, 100, 500)\n",
    "mean_std(2.5, 0.8, 100, 1000)"
   ]
  },
  {
   "cell_type": "code",
   "execution_count": null,
   "id": "3ea4aaf8-c623-447b-8603-c4e17ff2001b",
   "metadata": {},
   "outputs": [],
   "source": []
  }
 ],
 "metadata": {
  "kernelspec": {
   "display_name": "Python [conda env:base] *",
   "language": "python",
   "name": "conda-base-py"
  },
  "language_info": {
   "codemirror_mode": {
    "name": "ipython",
    "version": 3
   },
   "file_extension": ".py",
   "mimetype": "text/x-python",
   "name": "python",
   "nbconvert_exporter": "python",
   "pygments_lexer": "ipython3",
   "version": "3.12.7"
  }
 },
 "nbformat": 4,
 "nbformat_minor": 5
}
