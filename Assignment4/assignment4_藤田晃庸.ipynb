{
  "cells": [
    {
      "cell_type": "markdown",
      "source": [
        "C3LB1178　藤田晃庸"
      ],
      "metadata": {
        "id": "myoNRia311ka"
      },
      "id": "myoNRia311ka"
    },
    {
      "cell_type": "markdown",
      "id": "2c5a3c7c",
      "metadata": {
        "id": "2c5a3c7c"
      },
      "source": [
        "## 課題1\n",
        "以下の指示に従って、```Sphere```というクラスを作成しなさい。\n",
        "\n",
        "- インスタンス化時に```radius```という値を受け取る\n",
        "- ```surface_area```というメソッドで表面積を計算する\n",
        "\n",
        "$$S = 4 \\pi r^2 $$\n",
        "\n",
        "- ```volume```というメソッドで体積を計算する\n",
        "\n",
        "\n",
        "$$V = \\frac{4}{3} \\pi r^3 $$"
      ]
    },
    {
      "cell_type": "code",
      "execution_count": null,
      "id": "de6694f8",
      "metadata": {
        "id": "de6694f8",
        "colab": {
          "base_uri": "https://localhost:8080/"
        },
        "outputId": "e58d08a9-2785-47fd-c450-29971e63c9f6"
      },
      "outputs": [
        {
          "output_type": "stream",
          "name": "stdout",
          "text": [
            "面積: 12.566370614359172\n",
            "体積: 4.1887902047863905\n"
          ]
        }
      ],
      "source": [
        "import math\n",
        "\n",
        "class Sphere:\n",
        "    def __init__(self, radius):\n",
        "        self.radius = radius\n",
        "\n",
        "    def surface_area(self):\n",
        "        return 4 * math.pi * self.radius ** 2\n",
        "\n",
        "    def volume(self):\n",
        "        return (4 / 3) * math.pi * self.radius ** 3\n",
        "\n",
        "sphere = Sphere(1)\n",
        "print(\"面積:\", sphere.surface_area())\n",
        "print(\"体積:\", sphere.volume())\n"
      ]
    },
    {
      "cell_type": "code",
      "execution_count": null,
      "id": "475ef170",
      "metadata": {
        "id": "475ef170",
        "colab": {
          "base_uri": "https://localhost:8080/"
        },
        "outputId": "4f87307d-b9d5-4d05-8c5f-009c98c16db3"
      },
      "outputs": [
        {
          "output_type": "stream",
          "name": "stdout",
          "text": [
            "面積: 12.566370614359172\n",
            "体積: 4.1887902047863905\n"
          ]
        }
      ],
      "source": [
        "# テスト用のコード\n",
        "sphere = Sphere(1)\n",
        "print(\"面積:\", sphere.surface_area())\n",
        "print(\"体積:\", sphere.volume())"
      ]
    }
  ],
  "metadata": {
    "kernelspec": {
      "display_name": "base",
      "language": "python",
      "name": "python3"
    },
    "language_info": {
      "codemirror_mode": {
        "name": "ipython",
        "version": 3
      },
      "file_extension": ".py",
      "mimetype": "text/x-python",
      "name": "python",
      "nbconvert_exporter": "python",
      "pygments_lexer": "ipython3",
      "version": "3.11.5"
    },
    "colab": {
      "provenance": []
    }
  },
  "nbformat": 4,
  "nbformat_minor": 5
}