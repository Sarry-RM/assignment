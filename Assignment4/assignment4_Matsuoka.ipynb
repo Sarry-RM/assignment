{
  "cells": [
    {
      "cell_type": "markdown",
      "id": "2c5a3c7c",
      "metadata": {
        "id": "2c5a3c7c"
      },
      "source": [
        "## 課題1\n",
        "以下の指示に従って、```Sphere```というクラスを作成しなさい。\n",
        "\n",
        "- インスタンス化時に```radius```という値を受け取る\n",
        "- ```surface_area```というメソッドで表面積を計算する\n",
        "\n",
        "$$S = 4 \\pi r^2 $$\n",
        "\n",
        "- ```volume```というメソッドで体積を計算する\n",
        "\n",
        "\n",
        "$$V = \\frac{4}{3} \\pi r^3 $$"
      ]
    },
    {
      "cell_type": "code",
      "execution_count": null,
      "id": "de6694f8",
      "metadata": {
        "id": "de6694f8"
      },
      "outputs": [],
      "source": [
        "class Sphere():\n",
        "    pass"
      ]
    },
    {
      "cell_type": "code",
      "execution_count": null,
      "id": "475ef170",
      "metadata": {
        "id": "475ef170"
      },
      "outputs": [],
      "source": [
        "# テスト用のコード\n",
        "#s = Sphere(1)\n",
        "#s.surface_area()\n",
        "#s.volume()"
      ]
    },
    {
      "cell_type": "code",
      "execution_count": 1,
      "id": "6953778f",
      "metadata": {
        "id": "6953778f"
      },
      "outputs": [],
      "source": [
        "import math"
      ]
    },
    {
      "cell_type": "code",
      "source": [
        "class Sphere():\n",
        "    def __init__(self, radius):\n",
        "        self.radius = radius\n",
        "\n",
        "    def surface_area(self):\n",
        "        # 表面積: S = 4πr^2\n",
        "        return 4 * math.pi * self.radius ** 2\n",
        "\n",
        "    def volume(self):\n",
        "        # 体積: V = 4/3πr^3\n",
        "        return (4 / 3) * math.pi * self.radius ** 3"
      ],
      "metadata": {
        "id": "FUFoHQQNTsTU"
      },
      "id": "FUFoHQQNTsTU",
      "execution_count": 2,
      "outputs": []
    },
    {
      "cell_type": "code",
      "source": [
        "s = Sphere(1)\n",
        "print(\"Surface Area:\", s.surface_area())  # 約 12.566\n",
        "print(\"Volume:\", s.volume())"
      ],
      "metadata": {
        "colab": {
          "base_uri": "https://localhost:8080/"
        },
        "id": "iQdZBtJgTvGV",
        "outputId": "efc0cbe0-eda9-4590-a848-800d5f2502db"
      },
      "id": "iQdZBtJgTvGV",
      "execution_count": 3,
      "outputs": [
        {
          "output_type": "stream",
          "name": "stdout",
          "text": [
            "Surface Area: 12.566370614359172\n",
            "Volume: 4.1887902047863905\n"
          ]
        }
      ]
    }
  ],
  "metadata": {
    "kernelspec": {
      "display_name": "base",
      "language": "python",
      "name": "python3"
    },
    "language_info": {
      "codemirror_mode": {
        "name": "ipython",
        "version": 3
      },
      "file_extension": ".py",
      "mimetype": "text/x-python",
      "name": "python",
      "nbconvert_exporter": "python",
      "pygments_lexer": "ipython3",
      "version": "3.11.5"
    },
    "colab": {
      "provenance": []
    }
  },
  "nbformat": 4,
  "nbformat_minor": 5
}