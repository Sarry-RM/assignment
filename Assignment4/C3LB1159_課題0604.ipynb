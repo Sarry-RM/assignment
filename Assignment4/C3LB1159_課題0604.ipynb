{
  "cells": [
    {
      "cell_type": "markdown",
      "id": "2c5a3c7c",
      "metadata": {
        "id": "2c5a3c7c"
      },
      "source": [
        "## 課題1\n",
        "以下の指示に従って、```Sphere```というクラスを作成しなさい。\n",
        "\n",
        "- インスタンス化時に```radius```という値を受け取る\n",
        "- ```surface_area```というメソッドで表面積を計算する\n",
        "\n",
        "$$S = 4 \\pi r^2 $$\n",
        "\n",
        "- ```volume```というメソッドで体積を計算する\n",
        "\n",
        "\n",
        "$$V = \\frac{4}{3} \\pi r^3 $$"
      ]
    },
    {
      "cell_type": "code",
      "source": [
        "import math"
      ],
      "metadata": {
        "id": "HdF6OW1MNl2K"
      },
      "id": "HdF6OW1MNl2K",
      "execution_count": null,
      "outputs": []
    },
    {
      "cell_type": "code",
      "execution_count": null,
      "id": "de6694f8",
      "metadata": {
        "id": "de6694f8"
      },
      "outputs": [],
      "source": [
        "class Sphere:\n",
        "    def __init__(self, radius):\n",
        "        self.radius = radius\n",
        "\n",
        "    def surface_area(self): #球の表面積を計算するメソッド\n",
        "        return math.pi *(self.radius ** 2) *4\n",
        "\n",
        "    def volume(self): #球の体積を計算するためのメソッド\n",
        "        return (4 / 3) *math.pi *(self.radius ** 3)"
      ]
    },
    {
      "cell_type": "code",
      "execution_count": null,
      "id": "475ef170",
      "metadata": {
        "id": "475ef170"
      },
      "outputs": [],
      "source": [
        "# test\n",
        "s = Sphere(10)"
      ]
    },
    {
      "cell_type": "code",
      "execution_count": null,
      "id": "6953778f",
      "metadata": {
        "id": "6953778f",
        "colab": {
          "base_uri": "https://localhost:8080/"
        },
        "outputId": "026cbe55-253f-4fd7-b371-9c4df3df0fd9"
      },
      "outputs": [
        {
          "output_type": "stream",
          "name": "stdout",
          "text": [
            "surface area: 1256.6370614359173\n",
            "volume: 4188.790204786391\n"
          ]
        }
      ],
      "source": [
        "print(f\"surface area: {s.surface_area()}\")\n",
        "print(f\"volume: {s.volume()}\")"
      ]
    }
  ],
  "metadata": {
    "kernelspec": {
      "display_name": "base",
      "language": "python",
      "name": "python3"
    },
    "language_info": {
      "codemirror_mode": {
        "name": "ipython",
        "version": 3
      },
      "file_extension": ".py",
      "mimetype": "text/x-python",
      "name": "python",
      "nbconvert_exporter": "python",
      "pygments_lexer": "ipython3",
      "version": "3.11.5"
    },
    "colab": {
      "provenance": []
    }
  },
  "nbformat": 4,
  "nbformat_minor": 5
}