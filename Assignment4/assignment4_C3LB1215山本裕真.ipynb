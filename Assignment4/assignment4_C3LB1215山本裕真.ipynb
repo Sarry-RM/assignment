{
  "cells": [
    {
      "cell_type": "markdown",
      "id": "2c5a3c7c",
      "metadata": {
        "id": "2c5a3c7c"
      },
      "source": [
        "## 課題1\n",
        "以下の指示に従って、```Sphere```というクラスを作成しなさい。\n",
        "\n",
        "- インスタンス化時に```radius```という値を受け取る\n",
        "- ```surface_area```というメソッドで表面積を計算する\n",
        "\n",
        "$$S = 4 \\pi r^2 $$\n",
        "\n",
        "- ```volume```というメソッドで体積を計算する\n",
        "\n",
        "\n",
        "$$V = \\frac{4}{3} \\pi r^3 $$"
      ]
    },
    {
      "cell_type": "code",
      "source": [
        "import math\n",
        "# 円周率 = 3.141592...を参照する\n",
        "print(math.pi)"
      ],
      "metadata": {
        "colab": {
          "base_uri": "https://localhost:8080/"
        },
        "id": "5Z5KliGlnMo_",
        "outputId": "79a60b32-8e2c-484c-b2b2-2d77f1cf8077"
      },
      "id": "5Z5KliGlnMo_",
      "execution_count": 2,
      "outputs": [
        {
          "output_type": "stream",
          "name": "stdout",
          "text": [
            "3.141592653589793\n"
          ]
        }
      ]
    },
    {
      "cell_type": "code",
      "execution_count": 4,
      "id": "de6694f8",
      "metadata": {
        "id": "de6694f8"
      },
      "outputs": [],
      "source": [
        "class Sphere():\n",
        "    def __init__(self, radius):\n",
        "        self.radius = radius\n",
        "\n",
        "    def surface_area(self):\n",
        "        return 4 * math.pi * math.sqrt(self.radius)\n",
        "\n",
        "    def volume(self):\n",
        "        return 4 / 3 * math.pi * math.pow(self.radius, 3)"
      ]
    },
    {
      "cell_type": "code",
      "execution_count": 6,
      "id": "475ef170",
      "metadata": {
        "id": "475ef170",
        "colab": {
          "base_uri": "https://localhost:8080/"
        },
        "outputId": "93a02da9-5d43-4cdc-a993-213c28d03157"
      },
      "outputs": [
        {
          "output_type": "stream",
          "name": "stdout",
          "text": [
            "12.566370614359172\n",
            "4.1887902047863905\n"
          ]
        }
      ],
      "source": [
        "# テスト用のコード\n",
        "s = Sphere(1)\n",
        "print(s.surface_area())\n",
        "print(s.volume())"
      ]
    }
  ],
  "metadata": {
    "kernelspec": {
      "display_name": "base",
      "language": "python",
      "name": "python3"
    },
    "language_info": {
      "codemirror_mode": {
        "name": "ipython",
        "version": 3
      },
      "file_extension": ".py",
      "mimetype": "text/x-python",
      "name": "python",
      "nbconvert_exporter": "python",
      "pygments_lexer": "ipython3",
      "version": "3.11.5"
    },
    "colab": {
      "provenance": []
    }
  },
  "nbformat": 4,
  "nbformat_minor": 5
}