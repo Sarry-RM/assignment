{
  "cells": [
    {
      "cell_type": "markdown",
      "id": "2c5a3c7c",
      "metadata": {
        "id": "2c5a3c7c"
      },
      "source": [
        "## 課題1\n",
        "以下の指示に従って、```Sphere```というクラスを作成しなさい。\n",
        "\n",
        "- インスタンス化時に```radius```という値を受け取る\n",
        "- ```surface_area```というメソッドで表面積を計算する\n",
        "\n",
        "$$S = 4 \\pi r^2 $$\n",
        "\n",
        "- ```volume```というメソッドで体積を計算する\n",
        "\n",
        "\n",
        "$$V = \\frac{4}{3} \\pi r^3 $$"
      ]
    },
    {
      "cell_type": "code",
      "execution_count": 18,
      "id": "de6694f8",
      "metadata": {
        "id": "de6694f8"
      },
      "outputs": [],
      "source": [
        "import math\n",
        "class Sphere:\n",
        "  def __init__(self,radius):\n",
        "    self.radius=radius\n",
        "  def surface_area(self):\n",
        "    print(\"surface_are is\",4*math.pi*self.radius**2)\n",
        "  def volume(self):\n",
        "    print(\"volume is\",4/3*math.pi*self.radius**3)"
      ]
    },
    {
      "cell_type": "code",
      "execution_count": 19,
      "id": "475ef170",
      "metadata": {
        "id": "475ef170",
        "colab": {
          "base_uri": "https://localhost:8080/"
        },
        "outputId": "69c1258e-9b16-40b9-cb26-dcdd10e0b803"
      },
      "outputs": [
        {
          "output_type": "stream",
          "name": "stdout",
          "text": [
            "surface_are is 12.566370614359172\n",
            "volume is 4.1887902047863905\n"
          ]
        }
      ],
      "source": [
        "# テスト用のコード\n",
        "s = Sphere(1)\n",
        "s.surface_area()\n",
        "s.volume()"
      ]
    },
    {
      "cell_type": "code",
      "execution_count": null,
      "id": "6953778f",
      "metadata": {
        "id": "6953778f"
      },
      "outputs": [],
      "source": []
    }
  ],
  "metadata": {
    "kernelspec": {
      "display_name": "base",
      "language": "python",
      "name": "python3"
    },
    "language_info": {
      "codemirror_mode": {
        "name": "ipython",
        "version": 3
      },
      "file_extension": ".py",
      "mimetype": "text/x-python",
      "name": "python",
      "nbconvert_exporter": "python",
      "pygments_lexer": "ipython3",
      "version": "3.11.5"
    },
    "colab": {
      "provenance": []
    }
  },
  "nbformat": 4,
  "nbformat_minor": 5
}