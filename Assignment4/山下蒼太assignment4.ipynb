{
 "cells": [
  {
   "cell_type": "markdown",
   "id": "2c5a3c7c",
   "metadata": {},
   "source": [
    "## 課題1\n",
    "以下の指示に従って、```Sphere```というクラスを作成しなさい。\n",
    "\n",
    "- インスタンス化時に```radius```という値を受け取る\n",
    "- ```surface_area```というメソッドで表面積を計算する\n",
    "\n",
    "$$S = 4 \\pi r^2 $$\n",
    "\n",
    "- ```volume```というメソッドで体積を計算する\n",
    "\n",
    "\n",
    "$$V = \\frac{4}{3} \\pi r^3 $$"
   ]
  },
  {
   "cell_type": "code",
   "execution_count": 8,
   "id": "de6694f8",
   "metadata": {},
   "outputs": [],
   "source": [
    "import math\n",
    "#πの値が設定されていなかったので、mathモジュールをインポートしました\n",
    "class Sphere():\n",
    "    def __init__(self, radius):\n",
    "        self.radius = radius\n",
    "    \n",
    "    def surface_area(self):\n",
    "        return 4 * math.pi * (self.radius ** 2)\n",
    "    \n",
    "    def volume(self):\n",
    "        return (4/3) * math.pi * (self.radius ** 3)"
   ]
  },
  {
   "cell_type": "code",
   "execution_count": 2,
   "id": "475ef170",
   "metadata": {},
   "outputs": [],
   "source": [
    "# テスト用のコード\n",
    "#s = Sphere(1)\n",
    "#s.surface_area()\n",
    "#s.volume()"
   ]
  },
  {
   "cell_type": "code",
   "execution_count": 9,
   "id": "6953778f",
   "metadata": {},
   "outputs": [
    {
     "name": "stdout",
     "output_type": "stream",
     "text": [
      "表面積: 12.566370614359172\n",
      "体積: 4.1887902047863905\n"
     ]
    }
   ],
   "source": [
    "s = Sphere(1)\n",
    "print(\"表面積:\", s.surface_area())\n",
    "print(\"体積:\", s.volume())\n"
   ]
  }
 ],
 "metadata": {
  "kernelspec": {
   "display_name": "chss",
   "language": "python",
   "name": "python3"
  },
  "language_info": {
   "codemirror_mode": {
    "name": "ipython",
    "version": 3
   },
   "file_extension": ".py",
   "mimetype": "text/x-python",
   "name": "python",
   "nbconvert_exporter": "python",
   "pygments_lexer": "ipython3",
   "version": "3.10.16"
  }
 },
 "nbformat": 4,
 "nbformat_minor": 5
}
