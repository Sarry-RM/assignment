{
 "cells": [
  {
   "cell_type": "markdown",
   "id": "2c5a3c7c",
   "metadata": {},
   "source": [
    "## 課題1\n",
    "以下の指示に従って、```Sphere```というクラスを作成しなさい。\n",
    "\n",
    "- インスタンス化時に```radius```という値を受け取る\n",
    "- ```surface_area```というメソッドで表面積を計算する\n",
    "\n",
    "$$S = 4 \\pi r^2 $$\n",
    "\n",
    "- ```volume```というメソッドで体積を計算する\n",
    "\n",
    "\n",
    "$$V = \\frac{4}{3} \\pi r^3 $$"
   ]
  },
  {
   "cell_type": "code",
   "execution_count": 1,
   "id": "de6694f8",
   "metadata": {},
   "outputs": [],
   "source": [
    "import math\n",
    "\n",
    "class Sphere():\n",
    "    def __init__(self, radius):\n",
    "        self.radius = radius\n",
    "\n",
    "    def surface_area(self):\n",
    "        return 4 * math.pi * self.radius ** 2\n",
    "\n",
    "    def volume(self):\n",
    "        return (4/3) * math.pi * self.radius ** 3"
   ]
  },
  {
   "cell_type": "code",
   "execution_count": 2,
   "id": "475ef170",
   "metadata": {},
   "outputs": [],
   "source": [
    "# テスト用のコード\n",
    "s = Sphere(1)"
   ]
  },
  {
   "cell_type": "code",
   "execution_count": 3,
   "id": "6953778f",
   "metadata": {},
   "outputs": [
    {
     "data": {
      "text/plain": [
       "12.566370614359172"
      ]
     },
     "execution_count": 3,
     "metadata": {},
     "output_type": "execute_result"
    }
   ],
   "source": [
    "s.surface_area()"
   ]
  },
  {
   "cell_type": "code",
   "execution_count": 4,
   "id": "77f4ee6f",
   "metadata": {},
   "outputs": [
    {
     "data": {
      "text/plain": [
       "4.1887902047863905"
      ]
     },
     "execution_count": 4,
     "metadata": {},
     "output_type": "execute_result"
    }
   ],
   "source": [
    "s.volume()"
   ]
  },
  {
   "cell_type": "code",
   "execution_count": null,
   "id": "1f67dbb2",
   "metadata": {},
   "outputs": [],
   "source": []
  }
 ],
 "metadata": {
  "kernelspec": {
   "display_name": "base",
   "language": "python",
   "name": "python3"
  },
  "language_info": {
   "codemirror_mode": {
    "name": "ipython",
    "version": 3
   },
   "file_extension": ".py",
   "mimetype": "text/x-python",
   "name": "python",
   "nbconvert_exporter": "python",
   "pygments_lexer": "ipython3",
   "version": "3.11.5"
  }
 },
 "nbformat": 4,
 "nbformat_minor": 5
}
