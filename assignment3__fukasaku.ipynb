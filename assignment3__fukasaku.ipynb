{
  "cells": [
    {
      "cell_type": "markdown",
      "metadata": {
        "id": "view-in-github",
        "colab_type": "text"
      },
      "source": [
        "<a href=\"https://colab.research.google.com/github/FukasakuRino/chss_2025_assignment/blob/rino/assignment3__fukasaku.ipynb\" target=\"_parent\"><img src=\"https://colab.research.google.com/assets/colab-badge.svg\" alt=\"Open In Colab\"/></a>"
      ]
    },
    {
      "cell_type": "markdown",
      "id": "3664cc3a",
      "metadata": {
        "id": "3664cc3a"
      },
      "source": [
        " ## 課題1\n",
        "\n",
        " 任意の二つの数の間に偶数の和を計算する関数を実装しなさい。\n"
      ]
    },
    {
      "cell_type": "code",
      "execution_count": null,
      "id": "d90441d1",
      "metadata": {
        "id": "d90441d1"
      },
      "outputs": [],
      "source": [
        "def evensum(x,y):\n",
        "  result = x + y\n",
        "  return result"
      ]
    },
    {
      "cell_type": "code",
      "source": [
        "evensum(6,7)"
      ],
      "metadata": {
        "id": "hmKf0qaJ6cTK",
        "outputId": "1ce88f98-ed61-49e4-d2ca-de7a2fc9d047",
        "colab": {
          "base_uri": "https://localhost:8080/"
        }
      },
      "id": "hmKf0qaJ6cTK",
      "execution_count": null,
      "outputs": [
        {
          "output_type": "execute_result",
          "data": {
            "text/plain": [
              "13"
            ]
          },
          "metadata": {},
          "execution_count": 4
        }
      ]
    },
    {
      "cell_type": "markdown",
      "id": "252627d0",
      "metadata": {
        "id": "252627d0"
      },
      "source": [
        " ## 課題２\n",
        "\n",
        "ユークリッドの互除法の関数を作成してください。\n",
        "\n",
        "ユークリッドの互除法とは、2つの整数、aとbの最大公約数を求めるアルゴリズムです。例えば、2485と1162の最大公約数を求めたい場合\n",
        "\n",
        "$2485 \\div 1162 = 2 余り 161$\n",
        "\n",
        "$1162 \\div 161 = 7 余り 35$\n",
        "\n",
        "$161 \\div 35 = 4 余り 21$\n",
        "\n",
        "$35 \\div 21 = 1 余り 14$\n",
        "\n",
        "$21 \\div 14 = 1 余り 7$\n",
        "\n",
        "$14 \\div 7 = 2 余り 0$\n",
        "\n",
        "割る数と余りを次回の割られる数と割る数にして、次々と計算し、最後に割り切れたら終わりで、最後の割る数が最大公約数です。\n",
        "\n",
        "\n",
        "- 除数が$0$によるエラーを制御してください。\n",
        "- 引数に渡す値の大小関係を考慮してください。除数が被除数より大きい場合は、自動的に値を入れ替えるように実装しなさい。"
      ]
    },
    {
      "cell_type": "code",
      "source": [
        "def euclid(a,b):\n",
        "  if a < b:\n",
        "    a, b = b, a\n",
        "  if b == 0:\n",
        "    print(\"求められません\")\n",
        "    return None\n",
        "  while a % b != 0:\n",
        "    a, b = b, a % b\n",
        "  print(\"最大公約数は, \", b)"
      ],
      "metadata": {
        "id": "Xqa_Tc0V-QU_"
      },
      "id": "Xqa_Tc0V-QU_",
      "execution_count": 1,
      "outputs": []
    },
    {
      "cell_type": "code",
      "execution_count": 2,
      "id": "beb95e1d",
      "metadata": {
        "id": "beb95e1d",
        "colab": {
          "base_uri": "https://localhost:8080/"
        },
        "outputId": "f1fc1675-32b4-4951-9d60-b4b568198b96"
      },
      "outputs": [
        {
          "output_type": "stream",
          "name": "stdout",
          "text": [
            "最大公約数は,  7\n"
          ]
        }
      ],
      "source": [
        "#テスト用データ\n",
        "a = 2485\n",
        "b = 1162\n",
        "euclid(a,b)"
      ]
    },
    {
      "cell_type": "code",
      "execution_count": 3,
      "id": "b6edd7c9",
      "metadata": {
        "id": "b6edd7c9",
        "colab": {
          "base_uri": "https://localhost:8080/"
        },
        "outputId": "03263abb-3ecd-40fd-f33a-c43db0ef0d92"
      },
      "outputs": [
        {
          "output_type": "stream",
          "name": "stdout",
          "text": [
            "求められません\n"
          ]
        }
      ],
      "source": [
        "#テスト用データ\n",
        "a = 2485\n",
        "b = 0\n",
        "euclid(a,b)"
      ]
    },
    {
      "cell_type": "code",
      "execution_count": 4,
      "id": "a9f01a4e",
      "metadata": {
        "id": "a9f01a4e",
        "colab": {
          "base_uri": "https://localhost:8080/"
        },
        "outputId": "382278e8-a8bc-4263-dd7d-43fcafe9321b"
      },
      "outputs": [
        {
          "output_type": "stream",
          "name": "stdout",
          "text": [
            "最大公約数は,  7\n"
          ]
        }
      ],
      "source": [
        "#テスト用データ\n",
        "a = 1162\n",
        "b = 2485\n",
        "euclid(a,b)"
      ]
    },
    {
      "cell_type": "markdown",
      "id": "fd0f21e2",
      "metadata": {
        "id": "fd0f21e2"
      },
      "source": []
    }
  ],
  "metadata": {
    "kernelspec": {
      "display_name": "base",
      "language": "python",
      "name": "python3"
    },
    "language_info": {
      "name": "python",
      "version": "3.11.5"
    },
    "colab": {
      "provenance": [],
      "include_colab_link": true
    }
  },
  "nbformat": 4,
  "nbformat_minor": 5
}