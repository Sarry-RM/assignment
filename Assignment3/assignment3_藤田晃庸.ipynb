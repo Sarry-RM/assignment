{
  "cells": [
    {
      "cell_type": "markdown",
      "source": [
        "C3LB1178　藤田晃庸\n"
      ],
      "metadata": {
        "id": "uytewl0YAZEu"
      },
      "id": "uytewl0YAZEu"
    },
    {
      "cell_type": "markdown",
      "id": "3664cc3a",
      "metadata": {
        "id": "3664cc3a"
      },
      "source": [
        " ## 課題1\n",
        "\n",
        " 任意の二つの数の間に偶数の和を計算する関数を実装しなさい。\n"
      ]
    },
    {
      "cell_type": "code",
      "execution_count": null,
      "id": "d90441d1",
      "metadata": {
        "id": "d90441d1"
      },
      "outputs": [],
      "source": [
        "def sum_between(a,b):\n",
        "  start=min(a,b)\n",
        "  end=max(a,b)\n",
        "\n",
        "  total=0\n",
        "  for num in range(start,end + 1):\n",
        "    if num % 2 ==0:\n",
        "      total += num\n",
        "  return total\n"
      ]
    },
    {
      "cell_type": "code",
      "source": [
        "print(sum_between(100,200))\n"
      ],
      "metadata": {
        "colab": {
          "base_uri": "https://localhost:8080/"
        },
        "id": "bTq0Qc0PRAWD",
        "outputId": "da38714a-47bf-4479-a8cb-a29fd570b677"
      },
      "id": "bTq0Qc0PRAWD",
      "execution_count": null,
      "outputs": [
        {
          "output_type": "stream",
          "name": "stdout",
          "text": [
            "7650\n"
          ]
        }
      ]
    },
    {
      "cell_type": "markdown",
      "id": "252627d0",
      "metadata": {
        "id": "252627d0"
      },
      "source": [
        " ## 課題２\n",
        "\n",
        "ユークリッドの互除法の関数を作成してください。\n",
        "\n",
        "ユークリッドの互除法とは、2つの整数、aとbの最大公約数を求めるアルゴリズムです。例えば、2485と1162の最大公約数を求めたい場合\n",
        "\n",
        "$2485 \\div 1162 = 2 余り 161$\n",
        "\n",
        "$1162 \\div 161 = 7 余り 35$\n",
        "\n",
        "$161 \\div 35 = 4 余り 21$\n",
        "\n",
        "$35 \\div 21 = 1 余り 14$\n",
        "\n",
        "$21 \\div 14 = 1 余り 7$\n",
        "\n",
        "$14 \\div 7 = 2 余り 0$\n",
        "\n",
        "割る数と余りを次回の割られる数と割る数にして、次々と計算し、最後に割り切れたら終わりで、最後の割る数が最大公約数です。\n",
        "\n",
        "\n",
        "- 除数が$0$によるエラーを制御してください。\n",
        "- 引数に渡す値の大小関係を考慮してください。除数が被除数より大きい場合は、自動的に値を入れ替えるように実装しなさい。"
      ]
    },
    {
      "cell_type": "code",
      "execution_count": null,
      "id": "1323bb35",
      "metadata": {
        "id": "1323bb35"
      },
      "outputs": [],
      "source": [
        "def euclid(a, b):\n",
        "  try:\n",
        "    if a<b:\n",
        "      a,b=b,a\n",
        "    while b !=0:\n",
        "      q=a//b\n",
        "      r=a % b\n",
        "      print(f'{a}÷{b}={q}余り{b}')\n",
        "      a,b = b, r\n",
        "\n",
        "    print(f'最大公約数:{a}')\n",
        "\n",
        "\n",
        "  except ZeroDivisionError:\n",
        "    print('エラー')\n",
        "\n"
      ]
    },
    {
      "cell_type": "code",
      "execution_count": null,
      "id": "beb95e1d",
      "metadata": {
        "id": "beb95e1d",
        "colab": {
          "base_uri": "https://localhost:8080/"
        },
        "outputId": "ae41069f-6265-4e0d-8fa0-dfc8685d6608"
      },
      "outputs": [
        {
          "output_type": "stream",
          "name": "stdout",
          "text": [
            "2485÷1162=2余り1162\n",
            "1162÷161=7余り161\n",
            "161÷35=4余り35\n",
            "35÷21=1余り21\n",
            "21÷14=1余り14\n",
            "14÷7=2余り7\n",
            "最大公約数:7\n"
          ]
        }
      ],
      "source": [
        "#テスト用データ\n",
        "a = 2485\n",
        "b = 1162\n",
        "euclid(a,b)"
      ]
    },
    {
      "cell_type": "code",
      "execution_count": null,
      "id": "b6edd7c9",
      "metadata": {
        "id": "b6edd7c9",
        "colab": {
          "base_uri": "https://localhost:8080/"
        },
        "outputId": "1b21ab62-487e-4a2c-dad2-2f1ab5d2a3bb"
      },
      "outputs": [
        {
          "output_type": "stream",
          "name": "stdout",
          "text": [
            "最大公約数:2485\n"
          ]
        }
      ],
      "source": [
        "#テスト用データ\n",
        "a = 2485\n",
        "b = 0\n",
        "euclid(a,b)"
      ]
    },
    {
      "cell_type": "code",
      "execution_count": null,
      "id": "a9f01a4e",
      "metadata": {
        "id": "a9f01a4e",
        "colab": {
          "base_uri": "https://localhost:8080/"
        },
        "outputId": "b5faac14-25d7-4a37-e9e8-e80262dc3127"
      },
      "outputs": [
        {
          "output_type": "stream",
          "name": "stdout",
          "text": [
            "2485÷1162=2余り1162\n",
            "1162÷161=7余り161\n",
            "161÷35=4余り35\n",
            "35÷21=1余り21\n",
            "21÷14=1余り14\n",
            "14÷7=2余り7\n",
            "最大公約数:7\n"
          ]
        }
      ],
      "source": [
        "#テスト用データ\n",
        "a = 1162\n",
        "b = 2485\n",
        "euclid(a,b)"
      ]
    },
    {
      "cell_type": "markdown",
      "id": "fd0f21e2",
      "metadata": {
        "id": "fd0f21e2"
      },
      "source": []
    }
  ],
  "metadata": {
    "kernelspec": {
      "display_name": "base",
      "language": "python",
      "name": "python3"
    },
    "language_info": {
      "name": "python",
      "version": "3.11.5"
    },
    "colab": {
      "provenance": []
    }
  },
  "nbformat": 4,
  "nbformat_minor": 5
}