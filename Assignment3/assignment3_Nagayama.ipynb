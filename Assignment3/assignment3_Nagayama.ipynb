{
  "cells": [
    {
      "cell_type": "markdown",
      "id": "3664cc3a",
      "metadata": {
        "id": "3664cc3a"
      },
      "source": [
        " ## 課題1\n",
        "\n",
        " 任意の二つの数の間に偶数の和を計算する関数を実装しなさい。\n"
      ]
    },
    {
      "cell_type": "code",
      "execution_count": null,
      "id": "d90441d1",
      "metadata": {
        "id": "d90441d1"
      },
      "outputs": [],
      "source": [
        "def between_sum(x, y):\n",
        "  total = 0\n",
        "  x, y = min(x, y), max(x, y)\n",
        "  if x%2 == 0:\n",
        "    for i in range(x, y+1, 2):\n",
        "      total += i\n",
        "  else:\n",
        "    for i in range(x+1, y+1, 2):\n",
        "      total += i\n",
        "  return total"
      ]
    },
    {
      "cell_type": "code",
      "source": [
        "between_sum(2,10)"
      ],
      "metadata": {
        "colab": {
          "base_uri": "https://localhost:8080/"
        },
        "id": "AYQqPAPFRWhQ",
        "outputId": "7794e489-b775-4b1d-84a1-664f42fab8fd"
      },
      "id": "AYQqPAPFRWhQ",
      "execution_count": null,
      "outputs": [
        {
          "output_type": "execute_result",
          "data": {
            "text/plain": [
              "30"
            ]
          },
          "metadata": {},
          "execution_count": 32
        }
      ]
    },
    {
      "cell_type": "code",
      "source": [
        "between_sum(9, 3)"
      ],
      "metadata": {
        "colab": {
          "base_uri": "https://localhost:8080/"
        },
        "id": "iglvD2g0Re0g",
        "outputId": "173f215c-2890-4bf3-d879-3260605c42df"
      },
      "id": "iglvD2g0Re0g",
      "execution_count": null,
      "outputs": [
        {
          "output_type": "execute_result",
          "data": {
            "text/plain": [
              "18"
            ]
          },
          "metadata": {},
          "execution_count": 33
        }
      ]
    },
    {
      "cell_type": "markdown",
      "id": "252627d0",
      "metadata": {
        "id": "252627d0"
      },
      "source": [
        " ## 課題２\n",
        "\n",
        "ユークリッドの互除法の関数を作成してください。\n",
        "\n",
        "ユークリッドの互除法とは、2つの整数、aとbの最大公約数を求めるアルゴリズムです。例えば、2485と1162の最大公約数を求めたい場合\n",
        "\n",
        "$2485 \\div 1162 = 2 余り 161$\n",
        "\n",
        "$1162 \\div 161 = 7 余り 35$\n",
        "\n",
        "$161 \\div 35 = 4 余り 21$\n",
        "\n",
        "$35 \\div 21 = 1 余り 14$\n",
        "\n",
        "$21 \\div 14 = 1 余り 7$\n",
        "\n",
        "$14 \\div 7 = 2 余り 0$\n",
        "\n",
        "割る数と余りを次回の割られる数と割る数にして、次々と計算し、最後に割り切れたら終わりで、最後の割る数が最大公約数です。\n",
        "\n",
        "\n",
        "- 除数が$0$によるエラーを制御してください。\n",
        "- 引数に渡す値の大小関係を考慮してください。除数が被除数より大きい場合は、自動的に値を入れ替えるように実装しなさい。"
      ]
    },
    {
      "cell_type": "code",
      "execution_count": null,
      "metadata": {
        "id": "GU7KnnzSL33J"
      },
      "outputs": [],
      "source": [
        "def euclid(a, b):\n",
        "  if a == 0 or b == 0:\n",
        "    result = max(a,b)\n",
        "  elif a > b:\n",
        "    while b != 0:\n",
        "      remainder = a%b\n",
        "      a = b\n",
        "      b = remainder\n",
        "      result = a\n",
        "  elif a < b:\n",
        "    while a != 0:\n",
        "      remainder = b%a\n",
        "      b = a\n",
        "      a = remainder\n",
        "      result = b\n",
        "  return result\n"
      ],
      "id": "GU7KnnzSL33J"
    },
    {
      "cell_type": "code",
      "execution_count": null,
      "id": "1323bb35",
      "metadata": {
        "id": "1323bb35"
      },
      "outputs": [],
      "source": [
        "def euclid(a, b):\n",
        "  if a == 0 or b == 0:\n",
        "    return max(a,b)\n",
        "  a, b = max(a, b), min(a, b)\n",
        "  while b != 0:\n",
        "    a, b =b, a%b\n",
        "  return a"
      ]
    },
    {
      "cell_type": "code",
      "execution_count": null,
      "id": "beb95e1d",
      "metadata": {
        "id": "beb95e1d",
        "colab": {
          "base_uri": "https://localhost:8080/"
        },
        "outputId": "1827b9f3-50a2-4d11-dda2-fa9e6fd40d8c"
      },
      "outputs": [
        {
          "output_type": "execute_result",
          "data": {
            "text/plain": [
              "7"
            ]
          },
          "metadata": {},
          "execution_count": 29
        }
      ],
      "source": [
        "#テスト用データ\n",
        "a = 2485\n",
        "b = 1162\n",
        "euclid(a,b)"
      ]
    },
    {
      "cell_type": "code",
      "execution_count": null,
      "id": "b6edd7c9",
      "metadata": {
        "id": "b6edd7c9",
        "colab": {
          "base_uri": "https://localhost:8080/"
        },
        "outputId": "88830e6f-d873-4db9-a075-c031b49b53be"
      },
      "outputs": [
        {
          "output_type": "execute_result",
          "data": {
            "text/plain": [
              "2485"
            ]
          },
          "metadata": {},
          "execution_count": 30
        }
      ],
      "source": [
        "#テスト用データ\n",
        "a = 2485\n",
        "b = 0\n",
        "euclid(a,b)"
      ]
    },
    {
      "cell_type": "code",
      "execution_count": null,
      "id": "a9f01a4e",
      "metadata": {
        "id": "a9f01a4e",
        "colab": {
          "base_uri": "https://localhost:8080/"
        },
        "outputId": "b40af8c5-5600-428b-b830-8f28909ee09f"
      },
      "outputs": [
        {
          "output_type": "execute_result",
          "data": {
            "text/plain": [
              "7"
            ]
          },
          "metadata": {},
          "execution_count": 21
        }
      ],
      "source": [
        "#テスト用データ\n",
        "a = 1162\n",
        "b = 2485\n",
        "euclid(a,b)"
      ]
    },
    {
      "cell_type": "markdown",
      "id": "fd0f21e2",
      "metadata": {
        "id": "fd0f21e2"
      },
      "source": []
    }
  ],
  "metadata": {
    "kernelspec": {
      "display_name": "base",
      "language": "python",
      "name": "python3"
    },
    "language_info": {
      "name": "python",
      "version": "3.11.5"
    },
    "colab": {
      "provenance": []
    }
  },
  "nbformat": 4,
  "nbformat_minor": 5
}