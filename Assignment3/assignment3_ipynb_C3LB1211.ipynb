{
  "cells": [
    {
      "cell_type": "markdown",
      "id": "3664cc3a",
      "metadata": {
        "id": "3664cc3a"
      },
      "source": [
        " ## 課題1\n",
        "\n",
        " 任意の二つの数の間に偶数の和を計算する関数を実装しなさい。\n"
      ]
    },
    {
      "cell_type": "code",
      "execution_count": 9,
      "id": "d90441d1",
      "metadata": {
        "id": "d90441d1"
      },
      "outputs": [],
      "source": [
        "def between(a,b):\n",
        " start = min(a,b)\n",
        " end   = max(a,b)\n",
        "\n",
        " result = sum(i for i in range(start, end + 1) if i % 2 == 0)\n",
        " return result"
      ]
    },
    {
      "cell_type": "code",
      "execution_count": 14,
      "id": "f114eb06",
      "metadata": {},
      "outputs": [
        {
          "name": "stdout",
          "output_type": "stream",
          "text": [
            "12\n"
          ]
        }
      ],
      "source": [
        "print(between(2,6))"
      ]
    },
    {
      "cell_type": "markdown",
      "id": "252627d0",
      "metadata": {
        "id": "252627d0"
      },
      "source": [
        " ## 課題２\n",
        "\n",
        "ユークリッドの互除法の関数を作成してください。\n",
        "\n",
        "ユークリッドの互除法とは、2つの整数、aとbの最大公約数を求めるアルゴリズムです。例えば、2485と1162の最大公約数を求めたい場合\n",
        "\n",
        "$2485 \\div 1162 = 2 余り 161$\n",
        "\n",
        "$1162 \\div 161 = 7 余り 35$\n",
        "\n",
        "$161 \\div 35 = 4 余り 21$\n",
        "\n",
        "$35 \\div 21 = 1 余り 14$\n",
        "\n",
        "$21 \\div 14 = 1 余り 7$\n",
        "\n",
        "$14 \\div 7 = 2 余り 0$\n",
        "\n",
        "割る数と余りを次回の割られる数と割る数にして、次々と計算し、最後に割り切れたら終わりで、最後の割る数が最大公約数です。\n",
        "\n",
        "\n",
        "- 除数が$0$によるエラーを制御してください。\n",
        "- 引数に渡す値の大小関係を考慮してください。除数が被除数より大きい場合は、自動的に値を入れ替えるように実装しなさい。"
      ]
    },
    {
      "cell_type": "code",
      "execution_count": 10,
      "id": "1323bb35",
      "metadata": {
        "id": "1323bb35"
      },
      "outputs": [],
      "source": [
        "def euclid(a, b):\n",
        "    a = abs(a)\n",
        "    b = abs(b)\n",
        "\n",
        "    if a == 0:\n",
        "        return b\n",
        "    if b == 0:\n",
        "        return a\n",
        "\n",
        "    if a < b:\n",
        "        a, b = b, a\n",
        "\n",
        "    while b != 0:\n",
        "        a, b = b, a % b\n",
        "\n",
        "    pass  \n",
        "\n",
        "    return a\n",
        "    \n"
      ]
    },
    {
      "cell_type": "code",
      "execution_count": 11,
      "id": "beb95e1d",
      "metadata": {
        "id": "beb95e1d"
      },
      "outputs": [
        {
          "data": {
            "text/plain": [
              "7"
            ]
          },
          "execution_count": 11,
          "metadata": {},
          "output_type": "execute_result"
        }
      ],
      "source": [
        "#テスト用データ\n",
        "a = 2485\n",
        "b = 1162\n",
        "euclid(a,b)"
      ]
    },
    {
      "cell_type": "code",
      "execution_count": 12,
      "id": "b6edd7c9",
      "metadata": {
        "id": "b6edd7c9"
      },
      "outputs": [
        {
          "data": {
            "text/plain": [
              "2485"
            ]
          },
          "execution_count": 12,
          "metadata": {},
          "output_type": "execute_result"
        }
      ],
      "source": [
        "#テスト用データ\n",
        "a = 2485\n",
        "b = 0\n",
        "euclid(a,b)"
      ]
    },
    {
      "cell_type": "code",
      "execution_count": 13,
      "id": "a9f01a4e",
      "metadata": {
        "id": "a9f01a4e"
      },
      "outputs": [
        {
          "data": {
            "text/plain": [
              "7"
            ]
          },
          "execution_count": 13,
          "metadata": {},
          "output_type": "execute_result"
        }
      ],
      "source": [
        "#テスト用データ\n",
        "a = 1162\n",
        "b = 2485\n",
        "euclid(a,b)"
      ]
    },
    {
      "cell_type": "markdown",
      "id": "fd0f21e2",
      "metadata": {
        "id": "fd0f21e2"
      },
      "source": []
    }
  ],
  "metadata": {
    "colab": {
      "provenance": []
    },
    "kernelspec": {
      "display_name": "chss",
      "language": "python",
      "name": "python3"
    },
    "language_info": {
      "codemirror_mode": {
        "name": "ipython",
        "version": 3
      },
      "file_extension": ".py",
      "mimetype": "text/x-python",
      "name": "python",
      "nbconvert_exporter": "python",
      "pygments_lexer": "ipython3",
      "version": "3.10.16"
    }
  },
  "nbformat": 4,
  "nbformat_minor": 5
}
