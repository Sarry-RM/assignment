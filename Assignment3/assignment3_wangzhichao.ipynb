{
 "cells": [
  {
   "cell_type": "markdown",
   "id": "3664cc3a",
   "metadata": {},
   "source": [
    " ## 課題1\n",
    "\n",
    " 任意の二つの数の間に偶数の和を計算する関数を実装しなさい。\n"
   ]
  },
  {
   "cell_type": "code",
   "execution_count": 6,
   "id": "d90441d1",
   "metadata": {},
   "outputs": [
    {
     "data": {
      "text/plain": [
       "2450"
      ]
     },
     "execution_count": 6,
     "metadata": {},
     "output_type": "execute_result"
    }
   ],
   "source": [
    "def method_1(a,b):\n",
    "    if a > b:\n",
    "        a,b = b,a\n",
    "    if a % 2 == 0:\n",
    "        return sum(range(a,b+1,2))\n",
    "    else:   \n",
    "        return sum(range(a+1,b+1,2))\n",
    "\n",
    "method_1(1,99)\n"
   ]
  },
  {
   "cell_type": "markdown",
   "id": "252627d0",
   "metadata": {},
   "source": [
    " ## 課題２\n",
    "\n",
    "ユークリッドの互除法の関数を作成してください。\n",
    "\n",
    "ユークリッドの互除法とは、2つの整数、aとbの最大公約数を求めるアルゴリズムです。例えば、2485と1162の最大公約数を求めたい場合\n",
    "\n",
    "$2485 \\div 1162 = 2 余り 161$ \n",
    "\n",
    "$1162 \\div 161 = 7 余り 35$ \n",
    "\n",
    "$161 \\div 35 = 4 余り 21$ \n",
    "\n",
    "$35 \\div 21 = 1 余り 14$\n",
    "\n",
    "$21 \\div 14 = 1 余り 7$\n",
    "\n",
    "$14 \\div 7 = 2 余り 0$\n",
    "\n",
    "割る数と余りを次回の割られる数と割る数にして、次々と計算し、最後に割り切れたら終わりで、最後の割る数が最大公約数です。\n",
    "\n",
    "\n",
    "- 除数が$0$によるエラーを制御してください。\n",
    "- 引数に渡す値の大小関係を考慮してください。除数が被除数より大きい場合は、自動的に値を入れ替えるように実装しなさい。"
   ]
  },
  {
   "cell_type": "code",
   "execution_count": 8,
   "id": "1323bb35",
   "metadata": {},
   "outputs": [],
   "source": [
    "\n",
    "\n",
    "def euclid(a, b):\n",
    "    if a == 0 and b == 0:\n",
    "        raise ValueError(\"Input values cannot both be zero\")\n",
    "\n",
    "    original_a, original_b = a, b\n",
    "    a, b = abs(a), abs(b)\n",
    "\n",
    "    if a < b:\n",
    "        a, b = b, a\n",
    "\n",
    "    while b != 0:\n",
    "        remainder = a % b\n",
    "        print(f\"{a} ÷ {b} = {a // b} remainder {remainder}\")\n",
    "        a, b = b, remainder\n",
    "\n",
    "    print(f\"The GCD of {abs(original_a)} and {abs(original_b)} is {a}\")\n",
    "    return a\n"
   ]
  },
  {
   "cell_type": "code",
   "execution_count": 9,
   "id": "beb95e1d",
   "metadata": {},
   "outputs": [
    {
     "name": "stdout",
     "output_type": "stream",
     "text": [
      "2485 ÷ 1162 = 2 remainder 161\n",
      "1162 ÷ 161 = 7 remainder 35\n",
      "161 ÷ 35 = 4 remainder 21\n",
      "35 ÷ 21 = 1 remainder 14\n",
      "21 ÷ 14 = 1 remainder 7\n",
      "14 ÷ 7 = 2 remainder 0\n",
      "The GCD of 2485 and 1162 is 7\n"
     ]
    },
    {
     "data": {
      "text/plain": [
       "7"
      ]
     },
     "execution_count": 9,
     "metadata": {},
     "output_type": "execute_result"
    }
   ],
   "source": [
    "#テスト用データ\n",
    "a = 2485\n",
    "b = 1162\n",
    "euclid(a,b)"
   ]
  },
  {
   "cell_type": "code",
   "execution_count": 10,
   "id": "b6edd7c9",
   "metadata": {},
   "outputs": [
    {
     "name": "stdout",
     "output_type": "stream",
     "text": [
      "The GCD of 2485 and 0 is 2485\n"
     ]
    },
    {
     "data": {
      "text/plain": [
       "2485"
      ]
     },
     "execution_count": 10,
     "metadata": {},
     "output_type": "execute_result"
    }
   ],
   "source": [
    "#テスト用データ\n",
    "a = 2485\n",
    "b = 0\n",
    "euclid(a,b)"
   ]
  },
  {
   "cell_type": "code",
   "execution_count": 11,
   "id": "a9f01a4e",
   "metadata": {},
   "outputs": [
    {
     "name": "stdout",
     "output_type": "stream",
     "text": [
      "2485 ÷ 1162 = 2 remainder 161\n",
      "1162 ÷ 161 = 7 remainder 35\n",
      "161 ÷ 35 = 4 remainder 21\n",
      "35 ÷ 21 = 1 remainder 14\n",
      "21 ÷ 14 = 1 remainder 7\n",
      "14 ÷ 7 = 2 remainder 0\n",
      "The GCD of 1162 and 2485 is 7\n"
     ]
    },
    {
     "data": {
      "text/plain": [
       "7"
      ]
     },
     "execution_count": 11,
     "metadata": {},
     "output_type": "execute_result"
    }
   ],
   "source": [
    "#テスト用データ\n",
    "a = 1162\n",
    "b = 2485\n",
    "euclid(a,b)"
   ]
  },
  {
   "cell_type": "markdown",
   "id": "fd0f21e2",
   "metadata": {},
   "source": []
  }
 ],
 "metadata": {
  "kernelspec": {
   "display_name": "base",
   "language": "python",
   "name": "python3"
  },
  "language_info": {
   "codemirror_mode": {
    "name": "ipython",
    "version": 3
   },
   "file_extension": ".py",
   "mimetype": "text/x-python",
   "name": "python",
   "nbconvert_exporter": "python",
   "pygments_lexer": "ipython3",
   "version": "3.12.4"
  }
 },
 "nbformat": 4,
 "nbformat_minor": 5
}
