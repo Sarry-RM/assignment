{
  "cells": [
    {
      "cell_type": "markdown",
      "id": "3664cc3a",
      "metadata": {
        "id": "3664cc3a"
      },
      "source": [
        " ## 課題1\n",
        "\n",
        " 任意の二つの数の間に偶数の和を計算する関数を実装しなさい。\n"
      ]
    },
    {
      "cell_type": "code",
      "execution_count": 5,
      "id": "d90441d1",
      "metadata": {
        "id": "d90441d1"
      },
      "outputs": [],
      "source": [
        "def cal_01(a, b):\n",
        "    # a~b(両端を含める)の間にある偶数すべての総和を計算する\n",
        "    sum = 0\n",
        "    for i in range(min(a, b), max(a, b) + 1): # a, bの大小関係も考慮する\n",
        "        if i % 2 == 0: # iが偶数の時のみ、sumに加えていく\n",
        "            sum += i\n",
        "    return(sum)\n"
      ]
    },
    {
      "cell_type": "code",
      "source": [
        "print(cal_01(3, 10))\n",
        "print(cal_01(100, 0))"
      ],
      "metadata": {
        "id": "cntFPeHa3eJi",
        "outputId": "cb004649-d4cf-48be-b3e5-286bd7099b36",
        "colab": {
          "base_uri": "https://localhost:8080/"
        }
      },
      "id": "cntFPeHa3eJi",
      "execution_count": 6,
      "outputs": [
        {
          "output_type": "stream",
          "name": "stdout",
          "text": [
            "28\n",
            "2550\n"
          ]
        }
      ]
    },
    {
      "cell_type": "markdown",
      "id": "252627d0",
      "metadata": {
        "id": "252627d0"
      },
      "source": [
        " ## 課題２\n",
        "\n",
        "ユークリッドの互除法の関数を作成してください。\n",
        "\n",
        "ユークリッドの互除法とは、2つの整数、aとbの最大公約数を求めるアルゴリズムです。例えば、2485と1162の最大公約数を求めたい場合\n",
        "\n",
        "$2485 \\div 1162 = 2 余り 161$\n",
        "\n",
        "$1162 \\div 161 = 7 余り 35$\n",
        "\n",
        "$161 \\div 35 = 4 余り 21$\n",
        "\n",
        "$35 \\div 21 = 1 余り 14$\n",
        "\n",
        "$21 \\div 14 = 1 余り 7$\n",
        "\n",
        "$14 \\div 7 = 2 余り 0$\n",
        "\n",
        "割る数と余りを次回の割られる数と割る数にして、次々と計算し、最後に割り切れたら終わりで、最後の割る数が最大公約数です。\n",
        "\n",
        "\n",
        "- 除数が$0$によるエラーを制御してください。\n",
        "- 引数に渡す値の大小関係を考慮してください。除数が被除数より大きい場合は、自動的に値を入れ替えるように実装しなさい。"
      ]
    },
    {
      "cell_type": "code",
      "execution_count": 7,
      "id": "1323bb35",
      "metadata": {
        "id": "1323bb35"
      },
      "outputs": [],
      "source": [
        "def euclid(a, b):\n",
        "    x, y = max(a, b), min(a, b) # 大小を揃える\n",
        "    while True:\n",
        "        try:\n",
        "            if x % y == 0: # 余りが0のときはループを抜け、その時のyをgcdとする\n",
        "                break\n",
        "            else:\n",
        "                x, y = x//y, x%y # 余りが0にならないときは、xとyを置き換えて再びループする\n",
        "        except ZeroDivisionError: # 0除算が起こったとき、メッセージを表示してNoneを返す\n",
        "            print(\"you cannot divide by zero\")\n",
        "            return None\n",
        "    gcd = y\n",
        "    print(f\"gcd = {gcd}\")"
      ]
    },
    {
      "cell_type": "code",
      "execution_count": 8,
      "id": "beb95e1d",
      "metadata": {
        "id": "beb95e1d",
        "outputId": "297dd932-5ebb-4c93-c61d-aaf2ff66b46b",
        "colab": {
          "base_uri": "https://localhost:8080/"
        }
      },
      "outputs": [
        {
          "output_type": "stream",
          "name": "stdout",
          "text": [
            "gcd = 2\n"
          ]
        }
      ],
      "source": [
        "#テスト用データ\n",
        "a = 2485\n",
        "b = 1162\n",
        "euclid(a,b)"
      ]
    },
    {
      "cell_type": "code",
      "execution_count": 9,
      "id": "b6edd7c9",
      "metadata": {
        "id": "b6edd7c9",
        "outputId": "de9643e9-cb4f-4da6-d3df-eb67f0557ca1",
        "colab": {
          "base_uri": "https://localhost:8080/"
        }
      },
      "outputs": [
        {
          "output_type": "stream",
          "name": "stdout",
          "text": [
            "you cannot divide by zero\n"
          ]
        }
      ],
      "source": [
        "#テスト用データ\n",
        "a = 2485\n",
        "b = 0\n",
        "euclid(a,b)"
      ]
    },
    {
      "cell_type": "code",
      "execution_count": 10,
      "id": "a9f01a4e",
      "metadata": {
        "id": "a9f01a4e",
        "outputId": "c84bd3d5-ab0a-4223-b6d6-7426c7c2c82a",
        "colab": {
          "base_uri": "https://localhost:8080/"
        }
      },
      "outputs": [
        {
          "output_type": "stream",
          "name": "stdout",
          "text": [
            "gcd = 2\n"
          ]
        }
      ],
      "source": [
        "#テスト用データ\n",
        "a = 1162\n",
        "b = 2485\n",
        "euclid(a,b)"
      ]
    },
    {
      "cell_type": "code",
      "source": [],
      "metadata": {
        "id": "ih7ucEimNuqR"
      },
      "id": "ih7ucEimNuqR",
      "execution_count": 10,
      "outputs": []
    }
  ],
  "metadata": {
    "kernelspec": {
      "display_name": "base",
      "language": "python",
      "name": "python3"
    },
    "language_info": {
      "name": "python",
      "version": "3.11.5"
    },
    "colab": {
      "provenance": []
    }
  },
  "nbformat": 4,
  "nbformat_minor": 5
}