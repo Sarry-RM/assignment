{
 "cells": [
  {
   "cell_type": "markdown",
   "id": "b8a77e5c",
   "metadata": {},
   "source": [
    " ## 課題1\n",
    "\n",
    " 任意の二つの数の間に偶数の和を計算する関数を実装しなさい。"
   ]
  },
  {
   "cell_type": "code",
   "execution_count": 3,
   "id": "a2a7f883",
   "metadata": {},
   "outputs": [],
   "source": [
    "def sum_even_numbers_between(a, b):\n",
    "    # 小さい方を start、大きい方を end に設定\n",
    "    start = min(a, b)\n",
    "    end = max(a, b)\n",
    "    \n",
    "    even_sum = 0  # 偶数の合計を入れる変数\n",
    "    \n",
    "    # start から end まで 1 ずつ増やしながら繰り返す\n",
    "    for i in range(start, end + 1):\n",
    "        if i % 2 == 0:  # 偶数なら\n",
    "            even_sum += i  # 合計に加える\n",
    "    \n",
    "    return even_sum"
   ]
  },
  {
   "cell_type": "code",
   "execution_count": 4,
   "id": "6706e933",
   "metadata": {},
   "outputs": [],
   "source": [
    "# もっと簡潔な書き方\n",
    "def sum_even_numbers_between(a, b):\n",
    "    # 小さい方を start、大きい方を end に設定\n",
    "    start = min(a, b)\n",
    "    end = max(a, b)\n",
    "    \n",
    "    # 偶数の合計を計算\n",
    "    even_sum = sum(i for i in range(start, end + 1) if i % 2 == 0)\n",
    "    \n",
    "    return even_sum"
   ]
  },
  {
   "cell_type": "code",
   "execution_count": 5,
   "id": "a7a96985",
   "metadata": {},
   "outputs": [
    {
     "name": "stdout",
     "output_type": "stream",
     "text": [
      "2550\n"
     ]
    }
   ],
   "source": [
    "result = sum_even_numbers_between(0,100)\n",
    "print(result)"
   ]
  },
  {
   "cell_type": "markdown",
   "id": "b4ed9d2f",
   "metadata": {},
   "source": [
    " ## 課題２\n",
    "\n",
    "ユークリッドの互除法の関数を作成してください。\n",
    "\n",
    "ユークリッドの互除法とは、2つの整数、aとbの最大公約数を求めるアルゴリズムです。例えば、2485と1162の最大公約数を求めたい場合\n",
    "\n",
    "$2485 \\div 1162 = 2 余り 161$ \n",
    "\n",
    "$1162 \\div 161 = 7 余り 35$ \n",
    "\n",
    "$161 \\div 35 = 4 余り 21$ \n",
    "\n",
    "$35 \\div 21 = 1 余り 14$\n",
    "\n",
    "$21 \\div 14 = 1 余り 7$\n",
    "\n",
    "$14 \\div 7 = 2 余り 0$\n",
    "\n",
    "割る数と余りを次回の割られる数と割る数にして、次々と計算し、最後に割り切れたら終わりで、最後の割る数が最大公約数です。\n",
    "\n",
    "\n",
    "- 除数が$0$によるエラーを制御してください。\n",
    "- 引数に渡す値の大小関係を考慮してください。除数が被除数より大きい場合は、自動的に値を入れ替えるように実装しなさい。"
   ]
  },
  {
   "cell_type": "code",
   "execution_count": null,
   "id": "a24c13fd",
   "metadata": {},
   "outputs": [
    {
     "name": "stdout",
     "output_type": "stream",
     "text": [
      "2485 ÷ 1162 = 2 余り 161\n",
      "1162 ÷ 161 = 7 余り 35\n",
      "161 ÷ 35 = 4 余り 21\n",
      "35 ÷ 21 = 1 余り 14\n",
      "21 ÷ 14 = 1 余り 7\n",
      "14 ÷ 7 = 2 余り 0\n",
      "最大公約数は 7 です。\n"
     ]
    }
   ],
   "source": [
    "# 実装方法（再掲）\n",
    "a = 2485\n",
    "b = 1162\n",
    "\n",
    "while b != 0:\n",
    "    print(f\"{a} ÷ {b} = {a // b} 余り {a % b}\")\n",
    "    remainder = a % b\n",
    "    a = b\n",
    "    b = remainder\n",
    "\n",
    "print(f\"最大公約数は {a} です。\")"
   ]
  },
  {
   "cell_type": "markdown",
   "id": "a10c5561",
   "metadata": {},
   "source": []
  },
  {
   "cell_type": "code",
   "execution_count": 7,
   "id": "bb118b3e",
   "metadata": {},
   "outputs": [],
   "source": [
    "def gcd_euclidean(a, b):\n",
    "    # 0が含まれる場合のエラーチェック\n",
    "    if a == 0 and b == 0:\n",
    "        print(\"0と0の最大公約数は定義されていません。\")\n",
    "        return None\n",
    "\n",
    "    # 絶対値をとる（負の数にも対応）\n",
    "    a = abs(a)\n",
    "    b = abs(b)\n",
    "\n",
    "    # aがbより小さい場合は入れ替える\n",
    "    if a < b:\n",
    "        a, b = b, a\n",
    "\n",
    "    # ユークリッドの互除法\n",
    "    while b != 0:\n",
    "        print(f\"{a} ÷ {b} = {a // b} 余り {a % b}\")\n",
    "        a, b = b, a % b\n",
    "\n",
    "    print(f\"最大公約数は {a} です。\")\n",
    "    return a"
   ]
  },
  {
   "cell_type": "code",
   "execution_count": 9,
   "id": "0cfdb16d",
   "metadata": {},
   "outputs": [
    {
     "name": "stdout",
     "output_type": "stream",
     "text": [
      "2485 ÷ 1162 = 2 余り 161\n",
      "1162 ÷ 161 = 7 余り 35\n",
      "161 ÷ 35 = 4 余り 21\n",
      "35 ÷ 21 = 1 余り 14\n",
      "21 ÷ 14 = 1 余り 7\n",
      "14 ÷ 7 = 2 余り 0\n",
      "最大公約数は 7 です。\n"
     ]
    }
   ],
   "source": [
    "gcd = gcd_euclidean(2485, 1162)"
   ]
  },
  {
   "cell_type": "code",
   "execution_count": 10,
   "id": "3c1a69d1",
   "metadata": {},
   "outputs": [
    {
     "name": "stdout",
     "output_type": "stream",
     "text": [
      "2485 ÷ 1162 = 2 余り 161\n",
      "1162 ÷ 161 = 7 余り 35\n",
      "161 ÷ 35 = 4 余り 21\n",
      "35 ÷ 21 = 1 余り 14\n",
      "21 ÷ 14 = 1 余り 7\n",
      "14 ÷ 7 = 2 余り 0\n",
      "最大公約数は 7 です。\n"
     ]
    }
   ],
   "source": [
    "gcd = gcd_euclidean(1162,2485)"
   ]
  },
  {
   "cell_type": "code",
   "execution_count": null,
   "id": "c0a872c8",
   "metadata": {},
   "outputs": [],
   "source": []
  }
 ],
 "metadata": {
  "kernelspec": {
   "display_name": "base",
   "language": "python",
   "name": "python3"
  },
  "language_info": {
   "codemirror_mode": {
    "name": "ipython",
    "version": 3
   },
   "file_extension": ".py",
   "mimetype": "text/x-python",
   "name": "python",
   "nbconvert_exporter": "python",
   "pygments_lexer": "ipython3",
   "version": "3.9.7"
  }
 },
 "nbformat": 4,
 "nbformat_minor": 5
}
