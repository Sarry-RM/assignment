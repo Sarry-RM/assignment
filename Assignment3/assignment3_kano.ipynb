{
  "cells": [
    {
      "cell_type": "markdown",
      "id": "3664cc3a",
      "metadata": {
        "id": "3664cc3a"
      },
      "source": [
        " ## 課題1\n",
        "\n",
        " 任意の二つの数の間に偶数の和を計算する関数を実装しなさい。\n"
      ]
    },
    {
      "cell_type": "code",
      "execution_count": null,
      "id": "d90441d1",
      "metadata": {
        "id": "d90441d1",
        "colab": {
          "base_uri": "https://localhost:8080/"
        },
        "outputId": "4051bcbe-b038-4c13-d31c-2fc1df0cc2c4"
      },
      "outputs": [
        {
          "output_type": "stream",
          "name": "stdout",
          "text": [
            "30\n",
            "30\n",
            "4\n",
            "0\n"
          ]
        }
      ],
      "source": [
        "def numbers(a, b):\n",
        "    # 小さい方と大きい方を求める\n",
        "    start = min(a, b)\n",
        "    end = max(a, b)\n",
        "\n",
        "    # 偶数の和を計算\n",
        "    total = 0\n",
        "    for i in range(start, end + 1):\n",
        "        if i % 2 == 0:\n",
        "            total += i\n",
        "    return total\n",
        "\n",
        "\n",
        "print(numbers(1, 10))   # 2 + 4 + 6 + 8 + 10 = 30\n",
        "print(numbers(10, 1))   # 入れ替わっていてもOK → 30\n",
        "print(numbers(4, 4))    # 偶数1つ → 4\n",
        "print(numbers(3, 3))    # 奇数1つ → 0\n"
      ]
    },
    {
      "cell_type": "markdown",
      "id": "252627d0",
      "metadata": {
        "id": "252627d0"
      },
      "source": [
        " ## 課題２\n",
        "\n",
        "ユークリッドの互除法の関数を作成してください。\n",
        "\n",
        "ユークリッドの互除法とは、2つの整数、aとbの最大公約数を求めるアルゴリズムです。例えば、2485と1162の最大公約数を求めたい場合\n",
        "\n",
        "$2485 \\div 1162 = 2 余り 161$\n",
        "\n",
        "$1162 \\div 161 = 7 余り 35$\n",
        "\n",
        "$161 \\div 35 = 4 余り 21$\n",
        "\n",
        "$35 \\div 21 = 1 余り 14$\n",
        "\n",
        "$21 \\div 14 = 1 余り 7$\n",
        "\n",
        "$14 \\div 7 = 2 余り 0$\n",
        "\n",
        "割る数と余りを次回の割られる数と割る数にして、次々と計算し、最後に割り切れたら終わりで、最後の割る数が最大公約数です。\n",
        "\n",
        "\n",
        "- 除数が$0$によるエラーを制御してください。\n",
        "- 引数に渡す値の大小関係を考慮してください。除数が被除数より大きい場合は、自動的に値を入れ替えるように実装しなさい。"
      ]
    },
    {
      "cell_type": "code",
      "execution_count": null,
      "id": "1323bb35",
      "metadata": {
        "id": "1323bb35"
      },
      "outputs": [],
      "source": [
        "def euclid(a, b):\n",
        "    # 除数が0の場合のエラー処理\n",
        "    if b == 0 and a == 0:\n",
        "        raise ValueError(\"aとbの両方が0の場合、最大公約数は定義されない。\")\n",
        "\n",
        "    # 絶対値をとって、負の数も扱えるようにする\n",
        "    a = abs(a)\n",
        "    b = abs(b)\n",
        "\n",
        "    # 必要に応じてa, bを入れ替える（a >= b にする）\n",
        "    if b > a:\n",
        "        a, b = b, a\n",
        "\n",
        "    # ユークリッドの互除法\n",
        "    while b != 0:\n",
        "        a, b = b, a % b\n",
        "\n",
        "    return a\n"
      ]
    },
    {
      "cell_type": "code",
      "execution_count": null,
      "id": "beb95e1d",
      "metadata": {
        "id": "beb95e1d",
        "colab": {
          "base_uri": "https://localhost:8080/"
        },
        "outputId": "2ec33b64-23a1-47de-9335-dfb4b3a74014"
      },
      "outputs": [
        {
          "output_type": "execute_result",
          "data": {
            "text/plain": [
              "7"
            ]
          },
          "metadata": {},
          "execution_count": 4
        }
      ],
      "source": [
        "#テスト用データ\n",
        "a = 2485\n",
        "b = 1162\n",
        "euclid(a,b)"
      ]
    },
    {
      "cell_type": "code",
      "execution_count": null,
      "id": "b6edd7c9",
      "metadata": {
        "id": "b6edd7c9",
        "colab": {
          "base_uri": "https://localhost:8080/"
        },
        "outputId": "ac04dec6-cd54-4ec4-d838-3c69ffb813eb"
      },
      "outputs": [
        {
          "output_type": "execute_result",
          "data": {
            "text/plain": [
              "2485"
            ]
          },
          "metadata": {},
          "execution_count": 5
        }
      ],
      "source": [
        "#テスト用データ\n",
        "a = 2485\n",
        "b = 0\n",
        "euclid(a,b)"
      ]
    },
    {
      "cell_type": "code",
      "execution_count": null,
      "id": "a9f01a4e",
      "metadata": {
        "id": "a9f01a4e",
        "colab": {
          "base_uri": "https://localhost:8080/"
        },
        "outputId": "33e2c795-6f2e-465c-80a6-d6b74ca52b0a"
      },
      "outputs": [
        {
          "output_type": "execute_result",
          "data": {
            "text/plain": [
              "7"
            ]
          },
          "metadata": {},
          "execution_count": 6
        }
      ],
      "source": [
        "#テスト用データ\n",
        "a = 1162\n",
        "b = 2485\n",
        "euclid(a,b)"
      ]
    },
    {
      "cell_type": "markdown",
      "id": "fd0f21e2",
      "metadata": {
        "id": "fd0f21e2"
      },
      "source": []
    }
  ],
  "metadata": {
    "kernelspec": {
      "display_name": "base",
      "language": "python",
      "name": "python3"
    },
    "language_info": {
      "name": "python",
      "version": "3.11.5"
    },
    "colab": {
      "provenance": []
    }
  },
  "nbformat": 4,
  "nbformat_minor": 5
}