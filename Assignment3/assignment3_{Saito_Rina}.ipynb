{
  "cells": [
    {
      "cell_type": "markdown",
      "id": "3664cc3a",
      "metadata": {
        "id": "3664cc3a"
      },
      "source": [
        " ## 課題1\n",
        "\n",
        " 任意の二つの数の間に偶数の和を計算する関数を実装しなさい。\n"
      ]
    },
    {
      "cell_type": "code",
      "execution_count": 13,
      "id": "d90441d1",
      "metadata": {
        "id": "d90441d1"
      },
      "outputs": [],
      "source": [
        "def sum_even_between(a,b):\n",
        "  start=min(a,b)\n",
        "  end=max(a,b)\n",
        "\n",
        "\n",
        "  total=0\n",
        "\n",
        "  for num in range(start+1,end):\n",
        "\n",
        "    if num %2==0:\n",
        "\n",
        "      total +=num\n",
        "\n",
        "  return total\n"
      ]
    },
    {
      "cell_type": "markdown",
      "id": "252627d0",
      "metadata": {
        "id": "252627d0"
      },
      "source": [
        " ## 課題２\n",
        "\n",
        "ユークリッドの互除法の関数を作成してください。\n",
        "\n",
        "ユークリッドの互除法とは、2つの整数、aとbの最大公約数を求めるアルゴリズムです。例えば、2485と1162の最大公約数を求めたい場合\n",
        "\n",
        "$2485 \\div 1162 = 2 余り 161$\n",
        "\n",
        "$1162 \\div 161 = 7 余り 35$\n",
        "\n",
        "$161 \\div 35 = 4 余り 21$\n",
        "\n",
        "$35 \\div 21 = 1 余り 14$\n",
        "\n",
        "$21 \\div 14 = 1 余り 7$\n",
        "\n",
        "$14 \\div 7 = 2 余り 0$\n",
        "\n",
        "割る数と余りを次回の割られる数と割る数にして、次々と計算し、最後に割り切れたら終わりで、最後の割る数が最大公約数です。\n",
        "\n",
        "\n",
        "- 除数が$0$によるエラーを制御してください。\n",
        "- 引数に渡す値の大小関係を考慮してください。除数が被除数より大きい場合は、自動的に値を入れ替えるように実装しなさい。"
      ]
    },
    {
      "cell_type": "code",
      "source": [
        "def gcd(a,b):\n",
        "  a=abs(a)\n",
        "  b=abs(b)\n",
        "\n",
        "  if a ==0 and b==0:\n",
        "    return\"最大公約数は定義されません\"\n",
        "\n",
        "  if b > a:\n",
        "    a,b=b,a\n",
        "  while b !=0:\n",
        "    a,b=b,a%b\n",
        "  return a\n",
        "\n",
        "\n",
        "print(gcd(1162,2485))"
      ],
      "metadata": {
        "colab": {
          "base_uri": "https://localhost:8080/"
        },
        "id": "AB8loDFg8_53",
        "outputId": "61269100-8cb7-468d-badd-431635a9030a"
      },
      "id": "AB8loDFg8_53",
      "execution_count": 19,
      "outputs": [
        {
          "output_type": "stream",
          "name": "stdout",
          "text": [
            "7\n"
          ]
        }
      ]
    },
    {
      "cell_type": "code",
      "execution_count": null,
      "id": "1323bb35",
      "metadata": {
        "id": "1323bb35"
      },
      "outputs": [],
      "source": [
        "def euclid(a, b):\n",
        "    pass\n"
      ]
    },
    {
      "cell_type": "code",
      "execution_count": 16,
      "id": "b6edd7c9",
      "metadata": {
        "colab": {
          "base_uri": "https://localhost:8080/",
          "height": 181
        },
        "id": "b6edd7c9",
        "outputId": "14e083b3-4609-4228-ecb9-069ec1cb7d85"
      },
      "outputs": [
        {
          "output_type": "error",
          "ename": "NameError",
          "evalue": "name 'euclid' is not defined",
          "traceback": [
            "\u001b[0;31m---------------------------------------------------------------------------\u001b[0m",
            "\u001b[0;31mNameError\u001b[0m                                 Traceback (most recent call last)",
            "\u001b[0;32m<ipython-input-16-56501191d519>\u001b[0m in \u001b[0;36m<cell line: 0>\u001b[0;34m()\u001b[0m\n\u001b[1;32m      2\u001b[0m \u001b[0ma\u001b[0m \u001b[0;34m=\u001b[0m \u001b[0;36m2485\u001b[0m\u001b[0;34m\u001b[0m\u001b[0;34m\u001b[0m\u001b[0m\n\u001b[1;32m      3\u001b[0m \u001b[0mb\u001b[0m \u001b[0;34m=\u001b[0m \u001b[0;36m0\u001b[0m\u001b[0;34m\u001b[0m\u001b[0;34m\u001b[0m\u001b[0m\n\u001b[0;32m----> 4\u001b[0;31m \u001b[0meuclid\u001b[0m\u001b[0;34m(\u001b[0m\u001b[0ma\u001b[0m\u001b[0;34m,\u001b[0m\u001b[0mb\u001b[0m\u001b[0;34m)\u001b[0m\u001b[0;34m\u001b[0m\u001b[0;34m\u001b[0m\u001b[0m\n\u001b[0m",
            "\u001b[0;31mNameError\u001b[0m: name 'euclid' is not defined"
          ]
        }
      ],
      "source": [
        "#テスト用データ\n",
        "a = 2485\n",
        "b = 0\n",
        "euclid(a,b)"
      ]
    },
    {
      "cell_type": "code",
      "execution_count": null,
      "id": "a9f01a4e",
      "metadata": {
        "id": "a9f01a4e"
      },
      "outputs": [],
      "source": [
        "#テスト用データ\n",
        "a = 1162\n",
        "b = 2485\n",
        "euclid(a,b)"
      ]
    },
    {
      "cell_type": "markdown",
      "id": "fd0f21e2",
      "metadata": {
        "id": "fd0f21e2"
      },
      "source": []
    }
  ],
  "metadata": {
    "kernelspec": {
      "display_name": "base",
      "language": "python",
      "name": "python3"
    },
    "language_info": {
      "name": "python",
      "version": "3.11.5"
    },
    "colab": {
      "provenance": []
    }
  },
  "nbformat": 4,
  "nbformat_minor": 5
}