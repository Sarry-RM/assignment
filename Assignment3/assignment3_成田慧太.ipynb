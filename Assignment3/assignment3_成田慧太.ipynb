{
  "cells": [
    {
      "cell_type": "markdown",
      "id": "DaECs5SJOAFO",
      "metadata": {
        "id": "DaECs5SJOAFO"
      },
      "source": [
        "##C3LB1159 成田慧太##"
      ]
    },
    {
      "cell_type": "markdown",
      "id": "3664cc3a",
      "metadata": {
        "id": "3664cc3a"
      },
      "source": [
        " ## 課題1\n",
        "\n",
        " 任意の二つの数の間に偶数の和を計算する関数を実装しなさい。\n"
      ]
    },
    {
      "cell_type": "code",
      "execution_count": null,
      "id": "d90441d1",
      "metadata": {
        "id": "d90441d1"
      },
      "outputs": [],
      "source": [
        "def sum_even(a, b):\n",
        "    return sum(i for i in range(min(a, b), max(a, b) + 1) if i % 2 == 0) #(a, b)中で1つずつ偶数かどうか判定し（ループ処理）、偶数だけを抜き出す。最後に、偶数だけ足し合わせる。"
      ]
    },
    {
      "cell_type": "code",
      "execution_count": null,
      "id": "7210dcb3",
      "metadata": {},
      "outputs": [],
      "source": [
        "a = 1\n",
        "b = 10\n",
        "\n",
        "print(sum_even(a, b))"
      ]
    },
    {
      "cell_type": "markdown",
      "id": "252627d0",
      "metadata": {
        "id": "252627d0"
      },
      "source": [
        " ## 課題２\n",
        "\n",
        "ユークリッドの互除法の関数を作成してください。\n",
        "\n",
        "ユークリッドの互除法とは、2つの整数、aとbの最大公約数を求めるアルゴリズムです。例えば、2485と1162の最大公約数を求めたい場合\n",
        "\n",
        "$2485 \\div 1162 = 2 余り 161$\n",
        "\n",
        "$1162 \\div 161 = 7 余り 35$\n",
        "\n",
        "$161 \\div 35 = 4 余り 21$\n",
        "\n",
        "$35 \\div 21 = 1 余り 14$\n",
        "\n",
        "$21 \\div 14 = 1 余り 7$\n",
        "\n",
        "$14 \\div 7 = 2 余り 0$\n",
        "\n",
        "割る数と余りを次回の割られる数と割る数にして、次々と計算し、最後に割り切れたら終わりで、最後の割る数が最大公約数です。\n",
        "\n",
        "\n",
        "- 除数が$0$によるエラーを制御してください。\n",
        "- 引数に渡す値の大小関係を考慮してください。除数が被除数より大きい場合は、自動的に値を入れ替えるように実装しなさい。"
      ]
    },
    {
      "cell_type": "code",
      "execution_count": null,
      "id": "1323bb35",
      "metadata": {
        "id": "1323bb35"
      },
      "outputs": [],
      "source": [
        "def euclid(a, b):  #a, bの最大公約数を求める関数\n",
        "    try: #例外処理\n",
        "        if a == 0 and b == 0:\n",
        "            raise ValueError(\"not defined\") #(0, 0)の最大公約数は定義できない\n",
        "\n",
        "        a, b = abs(a), abs(b)\n",
        "\n",
        "        while b != 0:\n",
        "            a, b = b, a % b\n",
        "\n",
        "        return a\n",
        "\n",
        "    except:\n",
        "        print(\"error\")\n",
        "        return None"
      ]
    },
    {
      "cell_type": "code",
      "execution_count": null,
      "id": "beb95e1d",
      "metadata": {
        "colab": {
          "base_uri": "https://localhost:8080/"
        },
        "id": "beb95e1d",
        "outputId": "294ee289-0640-4e38-bebb-7771079e9077"
      },
      "outputs": [
        {
          "data": {
            "text/plain": [
              "7"
            ]
          },
          "execution_count": 13,
          "metadata": {},
          "output_type": "execute_result"
        }
      ],
      "source": [
        "#テスト用データ\n",
        "a = 2485\n",
        "b = 1162\n",
        "euclid(a,b)"
      ]
    },
    {
      "cell_type": "code",
      "execution_count": null,
      "id": "b6edd7c9",
      "metadata": {
        "colab": {
          "base_uri": "https://localhost:8080/"
        },
        "id": "b6edd7c9",
        "outputId": "85655ac8-6a32-4f63-e510-6a9c62b2c83d"
      },
      "outputs": [
        {
          "data": {
            "text/plain": [
              "2485"
            ]
          },
          "execution_count": 14,
          "metadata": {},
          "output_type": "execute_result"
        }
      ],
      "source": [
        "#テスト用データ\n",
        "a = 2485\n",
        "b = 0\n",
        "euclid(a,b)"
      ]
    },
    {
      "cell_type": "code",
      "execution_count": null,
      "id": "a9f01a4e",
      "metadata": {
        "colab": {
          "base_uri": "https://localhost:8080/"
        },
        "id": "a9f01a4e",
        "outputId": "dd36f71a-db34-4086-da8e-cbc47c2491ba"
      },
      "outputs": [
        {
          "data": {
            "text/plain": [
              "7"
            ]
          },
          "execution_count": 15,
          "metadata": {},
          "output_type": "execute_result"
        }
      ],
      "source": [
        "#テスト用データ\n",
        "a = 1162\n",
        "b = 2485\n",
        "euclid(a,b)"
      ]
    },
    {
      "cell_type": "markdown",
      "id": "fd0f21e2",
      "metadata": {
        "id": "fd0f21e2"
      },
      "source": []
    }
  ],
  "metadata": {
    "colab": {
      "provenance": []
    },
    "kernelspec": {
      "display_name": "base",
      "language": "python",
      "name": "python3"
    },
    "language_info": {
      "name": "python",
      "version": "3.11.5"
    }
  },
  "nbformat": 4,
  "nbformat_minor": 5
}
